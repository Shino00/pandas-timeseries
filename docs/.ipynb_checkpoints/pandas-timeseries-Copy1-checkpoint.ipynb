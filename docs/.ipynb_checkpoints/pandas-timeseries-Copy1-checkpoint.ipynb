{
 "cells": [
  {
   "cell_type": "markdown",
   "metadata": {},
   "source": [
    "# Pandas for Financial Time Series Data"
   ]
  },
  {
   "cell_type": "markdown",
   "metadata": {},
   "source": [
    "## Pandas Data Structures\n",
    "\n",
    "Pandas has three main data structures\n",
    "- Series\n",
    "- Dataframes\n",
    "- Panels\n",
    "\n",
    "In this course, we're going to study mainly series and dataframes. \n",
    "A series is the equivalent of a column in an Excel spreadsheet\n",
    "A dataframe is the equivalent of a sheet in Excel.\n",
    "A panel would be a data structure that contains multiple dataframes. "
   ]
  },
  {
   "cell_type": "markdown",
   "metadata": {},
   "source": [
    "Here we'll do just a quick example to show how easy it is to use Python to visualize data. \n",
    "To start out, we need to import the proper libraries.  In this case, we want the pandas library, the numpy library, and some plotting libraries. \n",
    "Matplotlib inline is simply a directive to the notebook to tell it to display the plots inside the notebook rather than from a separate window. "
   ]
  },
  {
   "cell_type": "code",
   "execution_count": 8,
   "metadata": {},
   "outputs": [
    {
     "data": {
      "text/plain": [
       "[<matplotlib.lines.Line2D at 0x7f34450b32b0>]"
      ]
     },
     "execution_count": 8,
     "metadata": {},
     "output_type": "execute_result"
    },
    {
     "data": {
      "image/png": "[encoded data removed]",
      "text/plain": [
       "<Figure size 432x288 with 1 Axes>"
      ]
     },
     "metadata": {},
     "output_type": "display_data"
    }
   ],
   "source": [
    "%matplotlib inline\n",
    "import pandas as pd\n",
    "import numpy as np\n",
    "import matplotlib.pyplot as plt\n",
    "\n",
    "# Create a random array of 1000 values and do a cumulative sum over the array, then plot it. \n",
    "plt.plot(np.random.randn(1000).cumsum())\n"
   ]
  },
  {
   "cell_type": "markdown",
   "metadata": {},
   "source": [
    "### Pandas Series\n",
    "\n",
    "The first Pandas data structure we're going to look at is the Series.  Series are simple one dimensional vectors of data that we can manipulate. \n",
    "\n",
    "For example. \n"
   ]
  },
  {
   "cell_type": "code",
   "execution_count": 9,
   "metadata": {},
   "outputs": [
    {
     "data": {
      "text/plain": [
       "First     0\n",
       "Second    1\n",
       "Third     2\n",
       "Fourth    3\n",
       "dtype: int64"
      ]
     },
     "execution_count": 9,
     "metadata": {},
     "output_type": "execute_result"
    }
   ],
   "source": [
    "index = ['First','Second','Third','Fourth']\n",
    "\n",
    "s = pd.Series(np.arange(4), index=index)\n",
    "s"
   ]
  },
  {
   "cell_type": "markdown",
   "metadata": {},
   "source": [
    "Note that in the above Series, we've got an index for each row in the column that we've defined ourself.  Also note that the output shows that the data type for each row of data is a 64 bit integer. \n",
    "(dtype)"
   ]
  },
  {
   "cell_type": "code",
   "execution_count": 10,
   "metadata": {},
   "outputs": [
    {
     "data": {
      "text/plain": [
       "array([0, 1, 2, 3])"
      ]
     },
     "execution_count": 10,
     "metadata": {},
     "output_type": "execute_result"
    }
   ],
   "source": [
    "s.values"
   ]
  },
  {
   "cell_type": "code",
   "execution_count": 11,
   "metadata": {},
   "outputs": [
    {
     "data": {
      "text/plain": [
       "Index(['First', 'Second', 'Third', 'Fourth'], dtype='object')"
      ]
     },
     "execution_count": 11,
     "metadata": {},
     "output_type": "execute_result"
    }
   ],
   "source": [
    "s.index"
   ]
  },
  {
   "cell_type": "markdown",
   "metadata": {},
   "source": [
    "Note that we can access each of the parts of the Series, such as the data and the index by using the '.' operator and the name of the attribute.  "
   ]
  },
  {
   "cell_type": "markdown",
   "metadata": {},
   "source": [
    "We can also do math along the entire Series vector.   "
   ]
  },
  {
   "cell_type": "code",
   "execution_count": 12,
   "metadata": {},
   "outputs": [
    {
     "data": {
      "text/plain": [
       "First     0\n",
       "Second    1\n",
       "Third     4\n",
       "Fourth    9\n",
       "dtype: int64"
      ]
     },
     "execution_count": 12,
     "metadata": {},
     "output_type": "execute_result"
    }
   ],
   "source": [
    "s * s"
   ]
  },
  {
   "cell_type": "code",
   "execution_count": 13,
   "metadata": {},
   "outputs": [
    {
     "data": {
      "text/plain": [
       "First     1\n",
       "Second    2\n",
       "Third     3\n",
       "Fourth    4\n",
       "dtype: int64"
      ]
     },
     "execution_count": 13,
     "metadata": {},
     "output_type": "execute_result"
    }
   ],
   "source": [
    "s += 1\n",
    "s"
   ]
  },
  {
   "cell_type": "markdown",
   "metadata": {},
   "source": [
    "Often, we'd like to only use or access a portion of the series (called a *slice*)\n",
    "To do this, we use the [ ] operator.  There are three arguments that you pass to this operator, separated by a ':'.  The *start* of the slice, the *end* of the slice, and the *step* operator. \n",
    "In both Python and Pandas, the end is subtracted by one. For example. \n"
   ]
  },
  {
   "cell_type": "code",
   "execution_count": 14,
   "metadata": {},
   "outputs": [
    {
     "name": "stdout",
     "output_type": "stream",
     "text": [
      "['a', 'b', 'c', 'd']\n",
      "0    a\n",
      "1    b\n",
      "2    c\n",
      "3    d\n",
      "dtype: object\n"
     ]
    }
   ],
   "source": [
    "list1 = ['a','b','c','d','e']\n",
    "print (list1[0:4])\n",
    "s = pd.Series(list1)\n",
    "print (s[0:4])"
   ]
  },
  {
   "cell_type": "markdown",
   "metadata": {},
   "source": [
    "If we don't specify an index for our Series, by default Pandas uses the whole number set increasing by one. "
   ]
  },
  {
   "cell_type": "markdown",
   "metadata": {},
   "source": [
    "We can skip any or all of the parameters to the [ ] operator. For example:"
   ]
  },
  {
   "cell_type": "code",
   "execution_count": 15,
   "metadata": {},
   "outputs": [
    {
     "name": "stdout",
     "output_type": "stream",
     "text": [
      "['a', 'b', 'c', 'd']\n"
     ]
    },
    {
     "data": {
      "text/plain": [
       "0    a\n",
       "1    b\n",
       "2    c\n",
       "3    d\n",
       "dtype: object"
      ]
     },
     "execution_count": 15,
     "metadata": {},
     "output_type": "execute_result"
    }
   ],
   "source": [
    "print (list1[:4])\n",
    "s[:4]"
   ]
  },
  {
   "cell_type": "markdown",
   "metadata": {},
   "source": [
    "If you don't specify the first number, Python assumes the first element of the data structure. \n",
    "If you don't specify the last number, Python assumes the last element of the data structure. \n"
   ]
  },
  {
   "cell_type": "code",
   "execution_count": 16,
   "metadata": {},
   "outputs": [
    {
     "name": "stdout",
     "output_type": "stream",
     "text": [
      "['e', 'd', 'c', 'b', 'a']\n"
     ]
    },
    {
     "data": {
      "text/plain": [
       "4    e\n",
       "3    d\n",
       "2    c\n",
       "1    b\n",
       "0    a\n",
       "dtype: object"
      ]
     },
     "execution_count": 16,
     "metadata": {},
     "output_type": "execute_result"
    }
   ],
   "source": [
    "print (list1[::-1])\n",
    "s[::-1]"
   ]
  },
  {
   "cell_type": "markdown",
   "metadata": {},
   "source": [
    "We can also access elements of our Series by putting in the index value like so:"
   ]
  },
  {
   "cell_type": "code",
   "execution_count": 65,
   "metadata": {},
   "outputs": [
    {
     "name": "stdout",
     "output_type": "stream",
     "text": [
      "e\n"
     ]
    }
   ],
   "source": [
    "s.index = ['fee','fi','fo','fum','foo']\n",
    "print (s['foo'])\n"
   ]
  },
  {
   "cell_type": "code",
   "execution_count": 67,
   "metadata": {},
   "outputs": [
    {
     "data": {
      "text/plain": [
       "'e'"
      ]
     },
     "execution_count": 67,
     "metadata": {},
     "output_type": "execute_result"
    }
   ],
   "source": [
    "s.foo"
   ]
  },
  {
   "cell_type": "markdown",
   "metadata": {},
   "source": [
    "We can also slice by index value. "
   ]
  },
  {
   "cell_type": "code",
   "execution_count": 19,
   "metadata": {},
   "outputs": [
    {
     "name": "stdout",
     "output_type": "stream",
     "text": [
      "fi     b\n",
      "fo     c\n",
      "fum    d\n",
      "foo    e\n",
      "dtype: object\n"
     ]
    }
   ],
   "source": [
    "print (s['fi':])"
   ]
  },
  {
   "cell_type": "markdown",
   "metadata": {},
   "source": [
    "### Pandas and datetime\n",
    "\n",
    "The datetime stamp is one of the common fields in time series data.  Let's look at how this works. \n",
    "First, we'll show how to create a range of dates using the date_range method from Pandas. \n"
   ]
  },
  {
   "cell_type": "code",
   "execution_count": 20,
   "metadata": {},
   "outputs": [
    {
     "data": {
      "text/plain": [
       "DatetimeIndex(['2018-11-26', '2018-11-27', '2018-11-28', '2018-11-29',\n",
       "               '2018-11-30', '2018-12-01'],\n",
       "              dtype='datetime64[ns]', freq='D')"
      ]
     },
     "execution_count": 20,
     "metadata": {},
     "output_type": "execute_result"
    }
   ],
   "source": [
    "dates  = pd.date_range('2018-11-26','2018-07-07',dayfirst = False)\n",
    "dates"
   ]
  },
  {
   "cell_type": "markdown",
   "metadata": {},
   "source": [
    "Now, let's create some sample data, in this case, a series of Open, High, Low and Close data in our dataframe using the date time index.  Note that these values are just made up, and don't reflect real asset prices for the dates."
   ]
  },
  {
   "cell_type": "code",
   "execution_count": 21,
   "metadata": {},
   "outputs": [
    {
     "data": {
      "text/plain": [
       "2018-11-26     998.02\n",
       "2018-11-27    1001.56\n",
       "2018-11-28     994.51\n",
       "2018-11-29    1001.22\n",
       "2018-11-30    1002.25\n",
       "2018-12-01    1003.61\n",
       "Freq: D, dtype: float64"
      ]
     },
     "execution_count": 21,
     "metadata": {},
     "output_type": "execute_result"
    }
   ],
   "source": [
    "goog_prices = [998.02, 1001.56,994.51, 1001.22, 1002.25, 1003.61]\n",
    "goog_stock_series = pd.Series(goog_prices, index=dates)\n",
    "goog_stock_series"
   ]
  },
  {
   "cell_type": "markdown",
   "metadata": {},
   "source": [
    "Note that we now have a datetime index rather than using a sequence of numbers or letters. \n",
    "Let's do a second stock."
   ]
  },
  {
   "cell_type": "code",
   "execution_count": 22,
   "metadata": {},
   "outputs": [
    {
     "data": {
      "text/plain": [
       "2018-11-26    157.02\n",
       "2018-11-27    158.56\n",
       "2018-11-28    159.51\n",
       "2018-11-29    155.22\n",
       "2018-11-30    152.25\n",
       "2018-12-01    154.61\n",
       "Freq: D, dtype: float64"
      ]
     },
     "execution_count": 22,
     "metadata": {},
     "output_type": "execute_result"
    }
   ],
   "source": [
    "aapl_prices = [157.02, 158.56,159.51, 155.22, 152.25, 154.61]\n",
    "aapl_stock_series = pd.Series(aapl_prices, index=dates)\n",
    "aapl_stock_series"
   ]
  },
  {
   "cell_type": "markdown",
   "metadata": {},
   "source": [
    "Note that we can combine these two series into a dataframe. "
   ]
  },
  {
   "cell_type": "code",
   "execution_count": 23,
   "metadata": {},
   "outputs": [
    {
     "data": {
      "text/html": [
       "<div>\n",
       "<style scoped>\n",
       "    .dataframe tbody tr th:only-of-type {\n",
       "        vertical-align: middle;\n",
       "    }\n",
       "\n",
       "    .dataframe tbody tr th {\n",
       "        vertical-align: top;\n",
       "    }\n",
       "\n",
       "    .dataframe thead th {\n",
       "        text-align: right;\n",
       "    }\n",
       "</style>\n",
       "<table border=\"1\" class=\"dataframe\">\n",
       "  <thead>\n",
       "    <tr style=\"text-align: right;\">\n",
       "      <th></th>\n",
       "      <th>AAPL</th>\n",
       "      <th>GOOG</th>\n",
       "    </tr>\n",
       "  </thead>\n",
       "  <tbody>\n",
       "    <tr>\n",
       "      <th>2018-11-26</th>\n",
       "      <td>157.02</td>\n",
       "      <td>998.02</td>\n",
       "    </tr>\n",
       "    <tr>\n",
       "      <th>2018-11-27</th>\n",
       "      <td>158.56</td>\n",
       "      <td>1001.56</td>\n",
       "    </tr>\n",
       "    <tr>\n",
       "      <th>2018-11-28</th>\n",
       "      <td>159.51</td>\n",
       "      <td>994.51</td>\n",
       "    </tr>\n",
       "    <tr>\n",
       "      <th>2018-11-29</th>\n",
       "      <td>155.22</td>\n",
       "      <td>1001.22</td>\n",
       "    </tr>\n",
       "    <tr>\n",
       "      <th>2018-11-30</th>\n",
       "      <td>152.25</td>\n",
       "      <td>1002.25</td>\n",
       "    </tr>\n",
       "    <tr>\n",
       "      <th>2018-12-01</th>\n",
       "      <td>154.61</td>\n",
       "      <td>1003.61</td>\n",
       "    </tr>\n",
       "  </tbody>\n",
       "</table>\n",
       "</div>"
      ],
      "text/plain": [
       "              AAPL     GOOG\n",
       "2018-11-26  157.02   998.02\n",
       "2018-11-27  158.56  1001.56\n",
       "2018-11-28  159.51   994.51\n",
       "2018-11-29  155.22  1001.22\n",
       "2018-11-30  152.25  1002.25\n",
       "2018-12-01  154.61  1003.61"
      ]
     },
     "execution_count": 23,
     "metadata": {},
     "output_type": "execute_result"
    }
   ],
   "source": [
    "stock_df = pd.DataFrame({'GOOG': goog_stock_series, 'AAPL':aapl_stock_series})\n",
    "stock_df"
   ]
  },
  {
   "cell_type": "markdown",
   "metadata": {},
   "source": [
    "Note that in the above code, we created a datetime index, and created column headers by using a dictionary of key value pairs to do so.  Note that the dataframe also has a row index, just like the series. and also a column index. "
   ]
  },
  {
   "cell_type": "code",
   "execution_count": 24,
   "metadata": {},
   "outputs": [
    {
     "data": {
      "text/plain": [
       "DatetimeIndex(['2018-11-26', '2018-11-27', '2018-11-28', '2018-11-29',\n",
       "               '2018-11-30', '2018-12-01'],\n",
       "              dtype='datetime64[ns]', freq='D')"
      ]
     },
     "execution_count": 24,
     "metadata": {},
     "output_type": "execute_result"
    }
   ],
   "source": [
    "stock_df.index"
   ]
  },
  {
   "cell_type": "code",
   "execution_count": 25,
   "metadata": {},
   "outputs": [
    {
     "data": {
      "text/plain": [
       "Index(['AAPL', 'GOOG'], dtype='object')"
      ]
     },
     "execution_count": 25,
     "metadata": {},
     "output_type": "execute_result"
    }
   ],
   "source": [
    "stock_df.columns"
   ]
  },
  {
   "cell_type": "markdown",
   "metadata": {},
   "source": [
    "We can also retrieve data from the dataframe by column index. "
   ]
  },
  {
   "cell_type": "code",
   "execution_count": 26,
   "metadata": {},
   "outputs": [
    {
     "data": {
      "text/plain": [
       "2018-11-26     998.02\n",
       "2018-11-27    1001.56\n",
       "2018-11-28     994.51\n",
       "2018-11-29    1001.22\n",
       "2018-11-30    1002.25\n",
       "2018-12-01    1003.61\n",
       "Freq: D, Name: GOOG, dtype: float64"
      ]
     },
     "execution_count": 26,
     "metadata": {},
     "output_type": "execute_result"
    }
   ],
   "source": [
    "stock_df['GOOG']"
   ]
  },
  {
   "cell_type": "markdown",
   "metadata": {},
   "source": [
    "    We can also retrieve colums by using the '.' operator rather than the [ ] operator.  For example"
   ]
  },
  {
   "cell_type": "code",
   "execution_count": 27,
   "metadata": {},
   "outputs": [
    {
     "data": {
      "text/plain": [
       "2018-11-26    157.02\n",
       "2018-11-27    158.56\n",
       "2018-11-28    159.51\n",
       "2018-11-29    155.22\n",
       "2018-11-30    152.25\n",
       "2018-12-01    154.61\n",
       "Freq: D, Name: AAPL, dtype: float64"
      ]
     },
     "execution_count": 27,
     "metadata": {},
     "output_type": "execute_result"
    }
   ],
   "source": [
    "stock_df.AAPL"
   ]
  },
  {
   "cell_type": "markdown",
   "metadata": {},
   "source": [
    "Let's go a bit further.  Say that we now have both open and close data for each stock.  Let's create a dataframe that contains both."
   ]
  },
  {
   "cell_type": "code",
   "execution_count": 28,
   "metadata": {},
   "outputs": [
    {
     "data": {
      "text/plain": [
       "[999.1828174182875,\n",
       " 1001.6061391961098,\n",
       " 999.7770183990431,\n",
       " 1001.3073820060172,\n",
       " 1000.3231610549718,\n",
       " 999.7857633634923,\n",
       " 1000.5441674525557,\n",
       " 1001.1556440111822,\n",
       " 1001.2747887636201,\n",
       " 1001.5344934365706,\n",
       " 1000.0269493624928,\n",
       " 999.6691886791882,\n",
       " 1000.1917289237728,\n",
       " 999.878778500388,\n",
       " 1001.7818645407351,\n",
       " 1001.7026921414638,\n",
       " 999.4013481554075,\n",
       " 999.3019269719543,\n",
       " 1000.0954207650396,\n",
       " 1000.596281119124,\n",
       " 1001.5123748596761,\n",
       " 1001.5774641980454,\n",
       " 1001.617593536975,\n",
       " 1001.9090338083919,\n",
       " 1000.4671938983163,\n",
       " 1001.1254878310234,\n",
       " 1001.3036439395688,\n",
       " 1000.7360015491247,\n",
       " 999.9701410505181,\n",
       " 999.7932440902556]"
      ]
     },
     "execution_count": 28,
     "metadata": {},
     "output_type": "execute_result"
    }
   ],
   "source": [
    "import random\n",
    "# Create 30 days of stock prices for GOOG and AAPL. \n",
    "goog_open_prices = [ goog_prices [0] + random.uniform(1,4) for _ in range(30) ]\n",
    "aapl_open_prices = [ aapl_prices [0] + random.uniform (1,2) for _ in range(30) ]\n",
    "# Add a random shift to the open price to mock a close price.  Values are random numbers between\n",
    "# -2 and 2.\n",
    "goog_close_prices = [ round(price + random.uniform(1,4),2) for price in goog_open_prices ]\n",
    "aapl_close_prices = [ round(price +random.uniform(1,2),2) for price in aapl_open_prices]\n",
    "goog_open_prices"
   ]
  },
  {
   "cell_type": "code",
   "execution_count": 29,
   "metadata": {},
   "outputs": [
    {
     "data": {
      "text/plain": [
       "[1001.98,\n",
       " 1003.37,\n",
       " 1002.45,\n",
       " 1002.42,\n",
       " 1003.33,\n",
       " 1003.41,\n",
       " 1001.76,\n",
       " 1003.5,\n",
       " 1003.65,\n",
       " 1004.04,\n",
       " 1004.0,\n",
       " 1002.49,\n",
       " 1002.38,\n",
       " 1002.45,\n",
       " 1004.65,\n",
       " 1003.95,\n",
       " 1000.63,\n",
       " 1003.01,\n",
       " 1001.88,\n",
       " 1004.32,\n",
       " 1003.09,\n",
       " 1003.11,\n",
       " 1005.05,\n",
       " 1005.03,\n",
       " 1002.61,\n",
       " 1003.13,\n",
       " 1004.8,\n",
       " 1003.15,\n",
       " 1003.07,\n",
       " 1001.45]"
      ]
     },
     "execution_count": 29,
     "metadata": {},
     "output_type": "execute_result"
    }
   ],
   "source": [
    "goog_close_prices"
   ]
  },
  {
   "cell_type": "code",
   "execution_count": 30,
   "metadata": {},
   "outputs": [
    {
     "data": {
      "text/plain": [
       "[159.28,\n",
       " 160.31,\n",
       " 160.23,\n",
       " 160.37,\n",
       " 160.0,\n",
       " 160.8,\n",
       " 160.31,\n",
       " 160.0,\n",
       " 159.91,\n",
       " 160.38,\n",
       " 159.6,\n",
       " 159.76,\n",
       " 159.9,\n",
       " 159.77,\n",
       " 160.04,\n",
       " 159.48,\n",
       " 160.63,\n",
       " 160.49,\n",
       " 160.18,\n",
       " 159.91,\n",
       " 160.3,\n",
       " 160.26,\n",
       " 160.32,\n",
       " 159.79,\n",
       " 160.21,\n",
       " 160.13,\n",
       " 160.36,\n",
       " 159.91,\n",
       " 160.45,\n",
       " 160.2]"
      ]
     },
     "execution_count": 30,
     "metadata": {},
     "output_type": "execute_result"
    }
   ],
   "source": [
    "aapl_close_prices"
   ]
  },
  {
   "cell_type": "code",
   "execution_count": 31,
   "metadata": {},
   "outputs": [
    {
     "data": {
      "text/html": [
       "<div>\n",
       "<style scoped>\n",
       "    .dataframe tbody tr th:only-of-type {\n",
       "        vertical-align: middle;\n",
       "    }\n",
       "\n",
       "    .dataframe tbody tr th {\n",
       "        vertical-align: top;\n",
       "    }\n",
       "\n",
       "    .dataframe thead th {\n",
       "        text-align: right;\n",
       "    }\n",
       "</style>\n",
       "<table border=\"1\" class=\"dataframe\">\n",
       "  <thead>\n",
       "    <tr style=\"text-align: right;\">\n",
       "      <th></th>\n",
       "      <th>AAPL Open</th>\n",
       "      <th>AAPL Close</th>\n",
       "      <th>GOOG Open</th>\n",
       "      <th>GOOG Close</th>\n",
       "    </tr>\n",
       "  </thead>\n",
       "  <tbody>\n",
       "    <tr>\n",
       "      <th>2018-11-25</th>\n",
       "      <td>158.103088</td>\n",
       "      <td>159.28</td>\n",
       "      <td>999.182817</td>\n",
       "      <td>1001.98</td>\n",
       "    </tr>\n",
       "    <tr>\n",
       "      <th>2018-11-26</th>\n",
       "      <td>158.490811</td>\n",
       "      <td>160.31</td>\n",
       "      <td>1001.606139</td>\n",
       "      <td>1003.37</td>\n",
       "    </tr>\n",
       "    <tr>\n",
       "      <th>2018-11-27</th>\n",
       "      <td>158.842652</td>\n",
       "      <td>160.23</td>\n",
       "      <td>999.777018</td>\n",
       "      <td>1002.45</td>\n",
       "    </tr>\n",
       "    <tr>\n",
       "      <th>2018-11-28</th>\n",
       "      <td>158.393289</td>\n",
       "      <td>160.37</td>\n",
       "      <td>1001.307382</td>\n",
       "      <td>1002.42</td>\n",
       "    </tr>\n",
       "    <tr>\n",
       "      <th>2018-11-29</th>\n",
       "      <td>158.286620</td>\n",
       "      <td>160.00</td>\n",
       "      <td>1000.323161</td>\n",
       "      <td>1003.33</td>\n",
       "    </tr>\n",
       "    <tr>\n",
       "      <th>2018-11-30</th>\n",
       "      <td>158.870389</td>\n",
       "      <td>160.80</td>\n",
       "      <td>999.785763</td>\n",
       "      <td>1003.41</td>\n",
       "    </tr>\n",
       "    <tr>\n",
       "      <th>2018-12-01</th>\n",
       "      <td>158.807291</td>\n",
       "      <td>160.31</td>\n",
       "      <td>1000.544167</td>\n",
       "      <td>1001.76</td>\n",
       "    </tr>\n",
       "    <tr>\n",
       "      <th>2018-12-02</th>\n",
       "      <td>158.667403</td>\n",
       "      <td>160.00</td>\n",
       "      <td>1001.155644</td>\n",
       "      <td>1003.50</td>\n",
       "    </tr>\n",
       "    <tr>\n",
       "      <th>2018-12-03</th>\n",
       "      <td>158.166202</td>\n",
       "      <td>159.91</td>\n",
       "      <td>1001.274789</td>\n",
       "      <td>1003.65</td>\n",
       "    </tr>\n",
       "    <tr>\n",
       "      <th>2018-12-04</th>\n",
       "      <td>158.417808</td>\n",
       "      <td>160.38</td>\n",
       "      <td>1001.534493</td>\n",
       "      <td>1004.04</td>\n",
       "    </tr>\n",
       "    <tr>\n",
       "      <th>2018-12-05</th>\n",
       "      <td>158.079338</td>\n",
       "      <td>159.60</td>\n",
       "      <td>1000.026949</td>\n",
       "      <td>1004.00</td>\n",
       "    </tr>\n",
       "    <tr>\n",
       "      <th>2018-12-06</th>\n",
       "      <td>158.317139</td>\n",
       "      <td>159.76</td>\n",
       "      <td>999.669189</td>\n",
       "      <td>1002.49</td>\n",
       "    </tr>\n",
       "    <tr>\n",
       "      <th>2018-12-07</th>\n",
       "      <td>158.777533</td>\n",
       "      <td>159.90</td>\n",
       "      <td>1000.191729</td>\n",
       "      <td>1002.38</td>\n",
       "    </tr>\n",
       "    <tr>\n",
       "      <th>2018-12-08</th>\n",
       "      <td>158.478060</td>\n",
       "      <td>159.77</td>\n",
       "      <td>999.878779</td>\n",
       "      <td>1002.45</td>\n",
       "    </tr>\n",
       "    <tr>\n",
       "      <th>2018-12-09</th>\n",
       "      <td>158.176645</td>\n",
       "      <td>160.04</td>\n",
       "      <td>1001.781865</td>\n",
       "      <td>1004.65</td>\n",
       "    </tr>\n",
       "    <tr>\n",
       "      <th>2018-12-10</th>\n",
       "      <td>158.110942</td>\n",
       "      <td>159.48</td>\n",
       "      <td>1001.702692</td>\n",
       "      <td>1003.95</td>\n",
       "    </tr>\n",
       "    <tr>\n",
       "      <th>2018-12-11</th>\n",
       "      <td>158.795143</td>\n",
       "      <td>160.63</td>\n",
       "      <td>999.401348</td>\n",
       "      <td>1000.63</td>\n",
       "    </tr>\n",
       "    <tr>\n",
       "      <th>2018-12-12</th>\n",
       "      <td>158.956179</td>\n",
       "      <td>160.49</td>\n",
       "      <td>999.301927</td>\n",
       "      <td>1003.01</td>\n",
       "    </tr>\n",
       "    <tr>\n",
       "      <th>2018-12-13</th>\n",
       "      <td>158.314993</td>\n",
       "      <td>160.18</td>\n",
       "      <td>1000.095421</td>\n",
       "      <td>1001.88</td>\n",
       "    </tr>\n",
       "    <tr>\n",
       "      <th>2018-12-14</th>\n",
       "      <td>158.631519</td>\n",
       "      <td>159.91</td>\n",
       "      <td>1000.596281</td>\n",
       "      <td>1004.32</td>\n",
       "    </tr>\n",
       "    <tr>\n",
       "      <th>2018-12-15</th>\n",
       "      <td>158.924585</td>\n",
       "      <td>160.30</td>\n",
       "      <td>1001.512375</td>\n",
       "      <td>1003.09</td>\n",
       "    </tr>\n",
       "    <tr>\n",
       "      <th>2018-12-16</th>\n",
       "      <td>158.635857</td>\n",
       "      <td>160.26</td>\n",
       "      <td>1001.577464</td>\n",
       "      <td>1003.11</td>\n",
       "    </tr>\n",
       "    <tr>\n",
       "      <th>2018-12-17</th>\n",
       "      <td>158.895232</td>\n",
       "      <td>160.32</td>\n",
       "      <td>1001.617594</td>\n",
       "      <td>1005.05</td>\n",
       "    </tr>\n",
       "    <tr>\n",
       "      <th>2018-12-18</th>\n",
       "      <td>158.681913</td>\n",
       "      <td>159.79</td>\n",
       "      <td>1001.909034</td>\n",
       "      <td>1005.03</td>\n",
       "    </tr>\n",
       "    <tr>\n",
       "      <th>2018-12-19</th>\n",
       "      <td>158.377028</td>\n",
       "      <td>160.21</td>\n",
       "      <td>1000.467194</td>\n",
       "      <td>1002.61</td>\n",
       "    </tr>\n",
       "    <tr>\n",
       "      <th>2018-12-20</th>\n",
       "      <td>158.846996</td>\n",
       "      <td>160.13</td>\n",
       "      <td>1001.125488</td>\n",
       "      <td>1003.13</td>\n",
       "    </tr>\n",
       "    <tr>\n",
       "      <th>2018-12-21</th>\n",
       "      <td>159.015443</td>\n",
       "      <td>160.36</td>\n",
       "      <td>1001.303644</td>\n",
       "      <td>1004.80</td>\n",
       "    </tr>\n",
       "    <tr>\n",
       "      <th>2018-12-22</th>\n",
       "      <td>158.374911</td>\n",
       "      <td>159.91</td>\n",
       "      <td>1000.736002</td>\n",
       "      <td>1003.15</td>\n",
       "    </tr>\n",
       "    <tr>\n",
       "      <th>2018-12-23</th>\n",
       "      <td>158.679285</td>\n",
       "      <td>160.45</td>\n",
       "      <td>999.970141</td>\n",
       "      <td>1003.07</td>\n",
       "    </tr>\n",
       "    <tr>\n",
       "      <th>2018-12-24</th>\n",
       "      <td>158.842905</td>\n",
       "      <td>160.20</td>\n",
       "      <td>999.793244</td>\n",
       "      <td>1001.45</td>\n",
       "    </tr>\n",
       "  </tbody>\n",
       "</table>\n",
       "</div>"
      ],
      "text/plain": [
       "             AAPL Open  AAPL Close    GOOG Open  GOOG Close\n",
       "2018-11-25  158.103088      159.28   999.182817     1001.98\n",
       "2018-11-26  158.490811      160.31  1001.606139     1003.37\n",
       "2018-11-27  158.842652      160.23   999.777018     1002.45\n",
       "2018-11-28  158.393289      160.37  1001.307382     1002.42\n",
       "2018-11-29  158.286620      160.00  1000.323161     1003.33\n",
       "2018-11-30  158.870389      160.80   999.785763     1003.41\n",
       "2018-12-01  158.807291      160.31  1000.544167     1001.76\n",
       "2018-12-02  158.667403      160.00  1001.155644     1003.50\n",
       "2018-12-03  158.166202      159.91  1001.274789     1003.65\n",
       "2018-12-04  158.417808      160.38  1001.534493     1004.04\n",
       "2018-12-05  158.079338      159.60  1000.026949     1004.00\n",
       "2018-12-06  158.317139      159.76   999.669189     1002.49\n",
       "2018-12-07  158.777533      159.90  1000.191729     1002.38\n",
       "2018-12-08  158.478060      159.77   999.878779     1002.45\n",
       "2018-12-09  158.176645      160.04  1001.781865     1004.65\n",
       "2018-12-10  158.110942      159.48  1001.702692     1003.95\n",
       "2018-12-11  158.795143      160.63   999.401348     1000.63\n",
       "2018-12-12  158.956179      160.49   999.301927     1003.01\n",
       "2018-12-13  158.314993      160.18  1000.095421     1001.88\n",
       "2018-12-14  158.631519      159.91  1000.596281     1004.32\n",
       "2018-12-15  158.924585      160.30  1001.512375     1003.09\n",
       "2018-12-16  158.635857      160.26  1001.577464     1003.11\n",
       "2018-12-17  158.895232      160.32  1001.617594     1005.05\n",
       "2018-12-18  158.681913      159.79  1001.909034     1005.03\n",
       "2018-12-19  158.377028      160.21  1000.467194     1002.61\n",
       "2018-12-20  158.846996      160.13  1001.125488     1003.13\n",
       "2018-12-21  159.015443      160.36  1001.303644     1004.80\n",
       "2018-12-22  158.374911      159.91  1000.736002     1003.15\n",
       "2018-12-23  158.679285      160.45   999.970141     1003.07\n",
       "2018-12-24  158.842905      160.20   999.793244     1001.45"
      ]
     },
     "execution_count": 31,
     "metadata": {},
     "output_type": "execute_result"
    }
   ],
   "source": [
    "dates  = pd.date_range('2018-11-25','2018-12-24')\n",
    "stock_df_columns = ['AAPL Open', 'AAPL Close', 'GOOG Open', 'GOOG Close']\n",
    "stock_df = pd.DataFrame({'AAPL Open':aapl_open_prices,'AAPL Close':aapl_close_prices,\n",
    "                                    'GOOG Open': goog_open_prices, 'GOOG Close': goog_close_prices},\n",
    "                                     index=dates,columns = stock_df_columns)\n",
    "stock_df"
   ]
  },
  {
   "cell_type": "markdown",
   "metadata": {},
   "source": [
    "Now let's compute the difference between the open and close price for both Apple and Google and add these value as a new columns in our stock_df datframe\n"
   ]
  },
  {
   "cell_type": "code",
   "execution_count": 32,
   "metadata": {},
   "outputs": [
    {
     "data": {
      "text/html": [
       "<div>\n",
       "<style scoped>\n",
       "    .dataframe tbody tr th:only-of-type {\n",
       "        vertical-align: middle;\n",
       "    }\n",
       "\n",
       "    .dataframe tbody tr th {\n",
       "        vertical-align: top;\n",
       "    }\n",
       "\n",
       "    .dataframe thead th {\n",
       "        text-align: right;\n",
       "    }\n",
       "</style>\n",
       "<table border=\"1\" class=\"dataframe\">\n",
       "  <thead>\n",
       "    <tr style=\"text-align: right;\">\n",
       "      <th></th>\n",
       "      <th>AAPL Open</th>\n",
       "      <th>AAPL Close</th>\n",
       "      <th>GOOG Open</th>\n",
       "      <th>GOOG Close</th>\n",
       "      <th>GOOG Diff</th>\n",
       "      <th>AAPL Diff</th>\n",
       "    </tr>\n",
       "  </thead>\n",
       "  <tbody>\n",
       "    <tr>\n",
       "      <th>2018-11-25</th>\n",
       "      <td>158.103088</td>\n",
       "      <td>159.28</td>\n",
       "      <td>999.182817</td>\n",
       "      <td>1001.98</td>\n",
       "      <td>2.797183</td>\n",
       "      <td>1.176912</td>\n",
       "    </tr>\n",
       "    <tr>\n",
       "      <th>2018-11-26</th>\n",
       "      <td>158.490811</td>\n",
       "      <td>160.31</td>\n",
       "      <td>1001.606139</td>\n",
       "      <td>1003.37</td>\n",
       "      <td>1.763861</td>\n",
       "      <td>1.819189</td>\n",
       "    </tr>\n",
       "    <tr>\n",
       "      <th>2018-11-27</th>\n",
       "      <td>158.842652</td>\n",
       "      <td>160.23</td>\n",
       "      <td>999.777018</td>\n",
       "      <td>1002.45</td>\n",
       "      <td>2.672982</td>\n",
       "      <td>1.387348</td>\n",
       "    </tr>\n",
       "    <tr>\n",
       "      <th>2018-11-28</th>\n",
       "      <td>158.393289</td>\n",
       "      <td>160.37</td>\n",
       "      <td>1001.307382</td>\n",
       "      <td>1002.42</td>\n",
       "      <td>1.112618</td>\n",
       "      <td>1.976711</td>\n",
       "    </tr>\n",
       "    <tr>\n",
       "      <th>2018-11-29</th>\n",
       "      <td>158.286620</td>\n",
       "      <td>160.00</td>\n",
       "      <td>1000.323161</td>\n",
       "      <td>1003.33</td>\n",
       "      <td>3.006839</td>\n",
       "      <td>1.713380</td>\n",
       "    </tr>\n",
       "    <tr>\n",
       "      <th>2018-11-30</th>\n",
       "      <td>158.870389</td>\n",
       "      <td>160.80</td>\n",
       "      <td>999.785763</td>\n",
       "      <td>1003.41</td>\n",
       "      <td>3.624237</td>\n",
       "      <td>1.929611</td>\n",
       "    </tr>\n",
       "    <tr>\n",
       "      <th>2018-12-01</th>\n",
       "      <td>158.807291</td>\n",
       "      <td>160.31</td>\n",
       "      <td>1000.544167</td>\n",
       "      <td>1001.76</td>\n",
       "      <td>1.215833</td>\n",
       "      <td>1.502709</td>\n",
       "    </tr>\n",
       "    <tr>\n",
       "      <th>2018-12-02</th>\n",
       "      <td>158.667403</td>\n",
       "      <td>160.00</td>\n",
       "      <td>1001.155644</td>\n",
       "      <td>1003.50</td>\n",
       "      <td>2.344356</td>\n",
       "      <td>1.332597</td>\n",
       "    </tr>\n",
       "    <tr>\n",
       "      <th>2018-12-03</th>\n",
       "      <td>158.166202</td>\n",
       "      <td>159.91</td>\n",
       "      <td>1001.274789</td>\n",
       "      <td>1003.65</td>\n",
       "      <td>2.375211</td>\n",
       "      <td>1.743798</td>\n",
       "    </tr>\n",
       "    <tr>\n",
       "      <th>2018-12-04</th>\n",
       "      <td>158.417808</td>\n",
       "      <td>160.38</td>\n",
       "      <td>1001.534493</td>\n",
       "      <td>1004.04</td>\n",
       "      <td>2.505507</td>\n",
       "      <td>1.962192</td>\n",
       "    </tr>\n",
       "    <tr>\n",
       "      <th>2018-12-05</th>\n",
       "      <td>158.079338</td>\n",
       "      <td>159.60</td>\n",
       "      <td>1000.026949</td>\n",
       "      <td>1004.00</td>\n",
       "      <td>3.973051</td>\n",
       "      <td>1.520662</td>\n",
       "    </tr>\n",
       "    <tr>\n",
       "      <th>2018-12-06</th>\n",
       "      <td>158.317139</td>\n",
       "      <td>159.76</td>\n",
       "      <td>999.669189</td>\n",
       "      <td>1002.49</td>\n",
       "      <td>2.820811</td>\n",
       "      <td>1.442861</td>\n",
       "    </tr>\n",
       "    <tr>\n",
       "      <th>2018-12-07</th>\n",
       "      <td>158.777533</td>\n",
       "      <td>159.90</td>\n",
       "      <td>1000.191729</td>\n",
       "      <td>1002.38</td>\n",
       "      <td>2.188271</td>\n",
       "      <td>1.122467</td>\n",
       "    </tr>\n",
       "    <tr>\n",
       "      <th>2018-12-08</th>\n",
       "      <td>158.478060</td>\n",
       "      <td>159.77</td>\n",
       "      <td>999.878779</td>\n",
       "      <td>1002.45</td>\n",
       "      <td>2.571221</td>\n",
       "      <td>1.291940</td>\n",
       "    </tr>\n",
       "    <tr>\n",
       "      <th>2018-12-09</th>\n",
       "      <td>158.176645</td>\n",
       "      <td>160.04</td>\n",
       "      <td>1001.781865</td>\n",
       "      <td>1004.65</td>\n",
       "      <td>2.868135</td>\n",
       "      <td>1.863355</td>\n",
       "    </tr>\n",
       "    <tr>\n",
       "      <th>2018-12-10</th>\n",
       "      <td>158.110942</td>\n",
       "      <td>159.48</td>\n",
       "      <td>1001.702692</td>\n",
       "      <td>1003.95</td>\n",
       "      <td>2.247308</td>\n",
       "      <td>1.369058</td>\n",
       "    </tr>\n",
       "    <tr>\n",
       "      <th>2018-12-11</th>\n",
       "      <td>158.795143</td>\n",
       "      <td>160.63</td>\n",
       "      <td>999.401348</td>\n",
       "      <td>1000.63</td>\n",
       "      <td>1.228652</td>\n",
       "      <td>1.834857</td>\n",
       "    </tr>\n",
       "    <tr>\n",
       "      <th>2018-12-12</th>\n",
       "      <td>158.956179</td>\n",
       "      <td>160.49</td>\n",
       "      <td>999.301927</td>\n",
       "      <td>1003.01</td>\n",
       "      <td>3.708073</td>\n",
       "      <td>1.533821</td>\n",
       "    </tr>\n",
       "    <tr>\n",
       "      <th>2018-12-13</th>\n",
       "      <td>158.314993</td>\n",
       "      <td>160.18</td>\n",
       "      <td>1000.095421</td>\n",
       "      <td>1001.88</td>\n",
       "      <td>1.784579</td>\n",
       "      <td>1.865007</td>\n",
       "    </tr>\n",
       "    <tr>\n",
       "      <th>2018-12-14</th>\n",
       "      <td>158.631519</td>\n",
       "      <td>159.91</td>\n",
       "      <td>1000.596281</td>\n",
       "      <td>1004.32</td>\n",
       "      <td>3.723719</td>\n",
       "      <td>1.278481</td>\n",
       "    </tr>\n",
       "    <tr>\n",
       "      <th>2018-12-15</th>\n",
       "      <td>158.924585</td>\n",
       "      <td>160.30</td>\n",
       "      <td>1001.512375</td>\n",
       "      <td>1003.09</td>\n",
       "      <td>1.577625</td>\n",
       "      <td>1.375415</td>\n",
       "    </tr>\n",
       "    <tr>\n",
       "      <th>2018-12-16</th>\n",
       "      <td>158.635857</td>\n",
       "      <td>160.26</td>\n",
       "      <td>1001.577464</td>\n",
       "      <td>1003.11</td>\n",
       "      <td>1.532536</td>\n",
       "      <td>1.624143</td>\n",
       "    </tr>\n",
       "    <tr>\n",
       "      <th>2018-12-17</th>\n",
       "      <td>158.895232</td>\n",
       "      <td>160.32</td>\n",
       "      <td>1001.617594</td>\n",
       "      <td>1005.05</td>\n",
       "      <td>3.432406</td>\n",
       "      <td>1.424768</td>\n",
       "    </tr>\n",
       "    <tr>\n",
       "      <th>2018-12-18</th>\n",
       "      <td>158.681913</td>\n",
       "      <td>159.79</td>\n",
       "      <td>1001.909034</td>\n",
       "      <td>1005.03</td>\n",
       "      <td>3.120966</td>\n",
       "      <td>1.108087</td>\n",
       "    </tr>\n",
       "    <tr>\n",
       "      <th>2018-12-19</th>\n",
       "      <td>158.377028</td>\n",
       "      <td>160.21</td>\n",
       "      <td>1000.467194</td>\n",
       "      <td>1002.61</td>\n",
       "      <td>2.142806</td>\n",
       "      <td>1.832972</td>\n",
       "    </tr>\n",
       "    <tr>\n",
       "      <th>2018-12-20</th>\n",
       "      <td>158.846996</td>\n",
       "      <td>160.13</td>\n",
       "      <td>1001.125488</td>\n",
       "      <td>1003.13</td>\n",
       "      <td>2.004512</td>\n",
       "      <td>1.283004</td>\n",
       "    </tr>\n",
       "    <tr>\n",
       "      <th>2018-12-21</th>\n",
       "      <td>159.015443</td>\n",
       "      <td>160.36</td>\n",
       "      <td>1001.303644</td>\n",
       "      <td>1004.80</td>\n",
       "      <td>3.496356</td>\n",
       "      <td>1.344557</td>\n",
       "    </tr>\n",
       "    <tr>\n",
       "      <th>2018-12-22</th>\n",
       "      <td>158.374911</td>\n",
       "      <td>159.91</td>\n",
       "      <td>1000.736002</td>\n",
       "      <td>1003.15</td>\n",
       "      <td>2.413998</td>\n",
       "      <td>1.535089</td>\n",
       "    </tr>\n",
       "    <tr>\n",
       "      <th>2018-12-23</th>\n",
       "      <td>158.679285</td>\n",
       "      <td>160.45</td>\n",
       "      <td>999.970141</td>\n",
       "      <td>1003.07</td>\n",
       "      <td>3.099859</td>\n",
       "      <td>1.770715</td>\n",
       "    </tr>\n",
       "    <tr>\n",
       "      <th>2018-12-24</th>\n",
       "      <td>158.842905</td>\n",
       "      <td>160.20</td>\n",
       "      <td>999.793244</td>\n",
       "      <td>1001.45</td>\n",
       "      <td>1.656756</td>\n",
       "      <td>1.357095</td>\n",
       "    </tr>\n",
       "  </tbody>\n",
       "</table>\n",
       "</div>"
      ],
      "text/plain": [
       "             AAPL Open  AAPL Close    GOOG Open  GOOG Close  GOOG Diff  \\\n",
       "2018-11-25  158.103088      159.28   999.182817     1001.98   2.797183   \n",
       "2018-11-26  158.490811      160.31  1001.606139     1003.37   1.763861   \n",
       "2018-11-27  158.842652      160.23   999.777018     1002.45   2.672982   \n",
       "2018-11-28  158.393289      160.37  1001.307382     1002.42   1.112618   \n",
       "2018-11-29  158.286620      160.00  1000.323161     1003.33   3.006839   \n",
       "2018-11-30  158.870389      160.80   999.785763     1003.41   3.624237   \n",
       "2018-12-01  158.807291      160.31  1000.544167     1001.76   1.215833   \n",
       "2018-12-02  158.667403      160.00  1001.155644     1003.50   2.344356   \n",
       "2018-12-03  158.166202      159.91  1001.274789     1003.65   2.375211   \n",
       "2018-12-04  158.417808      160.38  1001.534493     1004.04   2.505507   \n",
       "2018-12-05  158.079338      159.60  1000.026949     1004.00   3.973051   \n",
       "2018-12-06  158.317139      159.76   999.669189     1002.49   2.820811   \n",
       "2018-12-07  158.777533      159.90  1000.191729     1002.38   2.188271   \n",
       "2018-12-08  158.478060      159.77   999.878779     1002.45   2.571221   \n",
       "2018-12-09  158.176645      160.04  1001.781865     1004.65   2.868135   \n",
       "2018-12-10  158.110942      159.48  1001.702692     1003.95   2.247308   \n",
       "2018-12-11  158.795143      160.63   999.401348     1000.63   1.228652   \n",
       "2018-12-12  158.956179      160.49   999.301927     1003.01   3.708073   \n",
       "2018-12-13  158.314993      160.18  1000.095421     1001.88   1.784579   \n",
       "2018-12-14  158.631519      159.91  1000.596281     1004.32   3.723719   \n",
       "2018-12-15  158.924585      160.30  1001.512375     1003.09   1.577625   \n",
       "2018-12-16  158.635857      160.26  1001.577464     1003.11   1.532536   \n",
       "2018-12-17  158.895232      160.32  1001.617594     1005.05   3.432406   \n",
       "2018-12-18  158.681913      159.79  1001.909034     1005.03   3.120966   \n",
       "2018-12-19  158.377028      160.21  1000.467194     1002.61   2.142806   \n",
       "2018-12-20  158.846996      160.13  1001.125488     1003.13   2.004512   \n",
       "2018-12-21  159.015443      160.36  1001.303644     1004.80   3.496356   \n",
       "2018-12-22  158.374911      159.91  1000.736002     1003.15   2.413998   \n",
       "2018-12-23  158.679285      160.45   999.970141     1003.07   3.099859   \n",
       "2018-12-24  158.842905      160.20   999.793244     1001.45   1.656756   \n",
       "\n",
       "            AAPL Diff  \n",
       "2018-11-25   1.176912  \n",
       "2018-11-26   1.819189  \n",
       "2018-11-27   1.387348  \n",
       "2018-11-28   1.976711  \n",
       "2018-11-29   1.713380  \n",
       "2018-11-30   1.929611  \n",
       "2018-12-01   1.502709  \n",
       "2018-12-02   1.332597  \n",
       "2018-12-03   1.743798  \n",
       "2018-12-04   1.962192  \n",
       "2018-12-05   1.520662  \n",
       "2018-12-06   1.442861  \n",
       "2018-12-07   1.122467  \n",
       "2018-12-08   1.291940  \n",
       "2018-12-09   1.863355  \n",
       "2018-12-10   1.369058  \n",
       "2018-12-11   1.834857  \n",
       "2018-12-12   1.533821  \n",
       "2018-12-13   1.865007  \n",
       "2018-12-14   1.278481  \n",
       "2018-12-15   1.375415  \n",
       "2018-12-16   1.624143  \n",
       "2018-12-17   1.424768  \n",
       "2018-12-18   1.108087  \n",
       "2018-12-19   1.832972  \n",
       "2018-12-20   1.283004  \n",
       "2018-12-21   1.344557  \n",
       "2018-12-22   1.535089  \n",
       "2018-12-23   1.770715  \n",
       "2018-12-24   1.357095  "
      ]
     },
     "execution_count": 32,
     "metadata": {},
     "output_type": "execute_result"
    }
   ],
   "source": [
    "stock_df['GOOG Diff'] = stock_df['GOOG Close'] - stock_df['GOOG Open']\n",
    "stock_df['AAPL Diff'] = stock_df['AAPL Close'] - stock_df['AAPL Open']\n",
    "stock_df"
   ]
  },
  {
   "cell_type": "markdown",
   "metadata": {},
   "source": [
    "Let's do a couple of visualizations.  Let's plot  line graph for both Google and Apple showing both the open and close lines. "
   ]
  },
  {
   "cell_type": "code",
   "execution_count": 33,
   "metadata": {},
   "outputs": [
    {
     "data": {
      "text/plain": [
       "<matplotlib.legend.Legend at 0x7f3444fde908>"
      ]
     },
     "execution_count": 33,
     "metadata": {},
     "output_type": "execute_result"
    },
    {
     "data": {
      "image/png": "[encoded data removed]",
      "text/plain": [
       "<Figure size 1152x576 with 1 Axes>"
      ]
     },
     "metadata": {},
     "output_type": "display_data"
    }
   ],
   "source": [
    "fig = plt.figure(figsize=(16,8))\n",
    "plt.plot(stock_df['AAPL Open'], label = 'AAPL Open')\n",
    "plt.plot(stock_df['AAPL Close'], label = 'AAPL Close')\n",
    "plt.title('Apple Stock Price')\n",
    "plt.xlabel('Date')\n",
    "plt.ylabel('Price') \n",
    "plt.legend()"
   ]
  },
  {
   "cell_type": "code",
   "execution_count": 34,
   "metadata": {},
   "outputs": [
    {
     "data": {
      "text/plain": [
       "<matplotlib.legend.Legend at 0x7f3444f459b0>"
      ]
     },
     "execution_count": 34,
     "metadata": {},
     "output_type": "execute_result"
    },
    {
     "data": {
      "image/png": "[encoded data removed]",
      "text/plain": [
       "<Figure size 1152x576 with 1 Axes>"
      ]
     },
     "metadata": {},
     "output_type": "display_data"
    }
   ],
   "source": [
    "fig = plt.figure(figsize=(16,8))\n",
    "plt.plot(stock_df['GOOG Open'], label = 'GOOG Open')\n",
    "plt.plot(stock_df['GOOG Close'], label = 'GOOG Close')\n",
    "plt.title('Google Stock Price')\n",
    "plt.xlabel('Date')\n",
    "plt.ylabel('Price') \n",
    "plt.legend()"
   ]
  },
  {
   "cell_type": "markdown",
   "metadata": {},
   "source": [
    "We can also use Pandas to immediately calculate some common statistical functions.  For example"
   ]
  },
  {
   "cell_type": "code",
   "execution_count": 35,
   "metadata": {},
   "outputs": [
    {
     "data": {
      "text/plain": [
       "1000.6383244341104"
      ]
     },
     "execution_count": 35,
     "metadata": {},
     "output_type": "execute_result"
    }
   ],
   "source": [
    "stock_df['GOOG Open'].mean()"
   ]
  },
  {
   "cell_type": "code",
   "execution_count": 36,
   "metadata": {},
   "outputs": [
    {
     "data": {
      "text/plain": [
       "160.19"
      ]
     },
     "execution_count": 36,
     "metadata": {},
     "output_type": "execute_result"
    }
   ],
   "source": [
    "stock_df['AAPL Close'].median()"
   ]
  },
  {
   "cell_type": "code",
   "execution_count": 37,
   "metadata": {},
   "outputs": [
    {
     "data": {
      "text/plain": [
       "0    1002.45\n",
       "dtype: float64"
      ]
     },
     "execution_count": 37,
     "metadata": {},
     "output_type": "execute_result"
    }
   ],
   "source": [
    "stock_df['GOOG Close'].mode()"
   ]
  },
  {
   "cell_type": "markdown",
   "metadata": {},
   "source": [
    "In numpy, mean(), median() and mode() all take as a parameter a number that defines whether we want to perform the operation over the columns or over the rows.  "
   ]
  },
  {
   "cell_type": "code",
   "execution_count": 38,
   "metadata": {},
   "outputs": [
    {
     "name": "stdout",
     "output_type": "stream",
     "text": [
      "Mean value for entire array  0.02513118586328776\n",
      "Row mean values  [-0.04335388  0.31783294 -0.11337308  0.23567845 -0.2711285 ]\n",
      "Column mean values [-0.50417384 -0.05699276  0.16879329 -0.04740269  0.56543193]\n"
     ]
    }
   ],
   "source": [
    "# 5 x 5 array of random numbers. \n",
    "test_array = np.random.randn(5,5)\n",
    "print ('Mean value for entire array ',test_array.mean())\n",
    "print ('Row mean values ', test_array.mean(0))\n",
    "print ('Column mean values',test_array.mean(1))"
   ]
  },
  {
   "cell_type": "markdown",
   "metadata": {},
   "source": [
    "In a Pandas dataframe, the default behavior (i.e. no parameter specified) is to compute the mean over the columns. Supplying a 1 computes the row means. "
   ]
  },
  {
   "cell_type": "markdown",
   "metadata": {},
   "source": [
    "In our previous stock data, if we subtract the daily price from the mean, we'll get the deviations from the mean for each timestamp. "
   ]
  },
  {
   "cell_type": "code",
   "execution_count": 39,
   "metadata": {},
   "outputs": [
    {
     "data": {
      "text/html": [
       "<div>\n",
       "<style scoped>\n",
       "    .dataframe tbody tr th:only-of-type {\n",
       "        vertical-align: middle;\n",
       "    }\n",
       "\n",
       "    .dataframe tbody tr th {\n",
       "        vertical-align: top;\n",
       "    }\n",
       "\n",
       "    .dataframe thead th {\n",
       "        text-align: right;\n",
       "    }\n",
       "</style>\n",
       "<table border=\"1\" class=\"dataframe\">\n",
       "  <thead>\n",
       "    <tr style=\"text-align: right;\">\n",
       "      <th></th>\n",
       "      <th>AAPL Open</th>\n",
       "      <th>AAPL Close</th>\n",
       "      <th>GOOG Open</th>\n",
       "      <th>GOOG Close</th>\n",
       "      <th>GOOG Diff</th>\n",
       "      <th>AAPL Diff</th>\n",
       "    </tr>\n",
       "  </thead>\n",
       "  <tbody>\n",
       "    <tr>\n",
       "      <th>2018-11-25</th>\n",
       "      <td>-0.462152</td>\n",
       "      <td>-0.829333</td>\n",
       "      <td>-1.455507</td>\n",
       "      <td>-1.158667</td>\n",
       "      <td>0.296840</td>\n",
       "      <td>-0.367182</td>\n",
       "    </tr>\n",
       "    <tr>\n",
       "      <th>2018-11-26</th>\n",
       "      <td>-0.074429</td>\n",
       "      <td>0.200667</td>\n",
       "      <td>0.967815</td>\n",
       "      <td>0.231333</td>\n",
       "      <td>-0.736481</td>\n",
       "      <td>0.275095</td>\n",
       "    </tr>\n",
       "    <tr>\n",
       "      <th>2018-11-27</th>\n",
       "      <td>0.277412</td>\n",
       "      <td>0.120667</td>\n",
       "      <td>-0.861306</td>\n",
       "      <td>-0.688667</td>\n",
       "      <td>0.172639</td>\n",
       "      <td>-0.156746</td>\n",
       "    </tr>\n",
       "    <tr>\n",
       "      <th>2018-11-28</th>\n",
       "      <td>-0.171951</td>\n",
       "      <td>0.260667</td>\n",
       "      <td>0.669058</td>\n",
       "      <td>-0.718667</td>\n",
       "      <td>-1.387724</td>\n",
       "      <td>0.432618</td>\n",
       "    </tr>\n",
       "    <tr>\n",
       "      <th>2018-11-29</th>\n",
       "      <td>-0.278620</td>\n",
       "      <td>-0.109333</td>\n",
       "      <td>-0.315163</td>\n",
       "      <td>0.191333</td>\n",
       "      <td>0.506497</td>\n",
       "      <td>0.169286</td>\n",
       "    </tr>\n",
       "    <tr>\n",
       "      <th>2018-11-30</th>\n",
       "      <td>0.305149</td>\n",
       "      <td>0.690667</td>\n",
       "      <td>-0.852561</td>\n",
       "      <td>0.271333</td>\n",
       "      <td>1.123894</td>\n",
       "      <td>0.385517</td>\n",
       "    </tr>\n",
       "    <tr>\n",
       "      <th>2018-12-01</th>\n",
       "      <td>0.242051</td>\n",
       "      <td>0.200667</td>\n",
       "      <td>-0.094157</td>\n",
       "      <td>-1.378667</td>\n",
       "      <td>-1.284510</td>\n",
       "      <td>-0.041384</td>\n",
       "    </tr>\n",
       "    <tr>\n",
       "      <th>2018-12-02</th>\n",
       "      <td>0.102163</td>\n",
       "      <td>-0.109333</td>\n",
       "      <td>0.517320</td>\n",
       "      <td>0.361333</td>\n",
       "      <td>-0.155986</td>\n",
       "      <td>-0.211496</td>\n",
       "    </tr>\n",
       "    <tr>\n",
       "      <th>2018-12-03</th>\n",
       "      <td>-0.399038</td>\n",
       "      <td>-0.199333</td>\n",
       "      <td>0.636464</td>\n",
       "      <td>0.511333</td>\n",
       "      <td>-0.125131</td>\n",
       "      <td>0.199705</td>\n",
       "    </tr>\n",
       "    <tr>\n",
       "      <th>2018-12-04</th>\n",
       "      <td>-0.147432</td>\n",
       "      <td>0.270667</td>\n",
       "      <td>0.896169</td>\n",
       "      <td>0.901333</td>\n",
       "      <td>0.005164</td>\n",
       "      <td>0.418099</td>\n",
       "    </tr>\n",
       "    <tr>\n",
       "      <th>2018-12-05</th>\n",
       "      <td>-0.485902</td>\n",
       "      <td>-0.509333</td>\n",
       "      <td>-0.611375</td>\n",
       "      <td>0.861333</td>\n",
       "      <td>1.472708</td>\n",
       "      <td>-0.023431</td>\n",
       "    </tr>\n",
       "    <tr>\n",
       "      <th>2018-12-06</th>\n",
       "      <td>-0.248101</td>\n",
       "      <td>-0.349333</td>\n",
       "      <td>-0.969136</td>\n",
       "      <td>-0.648667</td>\n",
       "      <td>0.320469</td>\n",
       "      <td>-0.101232</td>\n",
       "    </tr>\n",
       "    <tr>\n",
       "      <th>2018-12-07</th>\n",
       "      <td>0.212293</td>\n",
       "      <td>-0.209333</td>\n",
       "      <td>-0.446596</td>\n",
       "      <td>-0.758667</td>\n",
       "      <td>-0.312071</td>\n",
       "      <td>-0.421627</td>\n",
       "    </tr>\n",
       "    <tr>\n",
       "      <th>2018-12-08</th>\n",
       "      <td>-0.087180</td>\n",
       "      <td>-0.339333</td>\n",
       "      <td>-0.759546</td>\n",
       "      <td>-0.688667</td>\n",
       "      <td>0.070879</td>\n",
       "      <td>-0.252154</td>\n",
       "    </tr>\n",
       "    <tr>\n",
       "      <th>2018-12-09</th>\n",
       "      <td>-0.388595</td>\n",
       "      <td>-0.069333</td>\n",
       "      <td>1.143540</td>\n",
       "      <td>1.511333</td>\n",
       "      <td>0.367793</td>\n",
       "      <td>0.319262</td>\n",
       "    </tr>\n",
       "    <tr>\n",
       "      <th>2018-12-10</th>\n",
       "      <td>-0.454298</td>\n",
       "      <td>-0.629333</td>\n",
       "      <td>1.064368</td>\n",
       "      <td>0.811333</td>\n",
       "      <td>-0.253034</td>\n",
       "      <td>-0.175036</td>\n",
       "    </tr>\n",
       "    <tr>\n",
       "      <th>2018-12-11</th>\n",
       "      <td>0.229903</td>\n",
       "      <td>0.520667</td>\n",
       "      <td>-1.236976</td>\n",
       "      <td>-2.508667</td>\n",
       "      <td>-1.271690</td>\n",
       "      <td>0.290764</td>\n",
       "    </tr>\n",
       "    <tr>\n",
       "      <th>2018-12-12</th>\n",
       "      <td>0.390939</td>\n",
       "      <td>0.380667</td>\n",
       "      <td>-1.336397</td>\n",
       "      <td>-0.128667</td>\n",
       "      <td>1.207731</td>\n",
       "      <td>-0.010272</td>\n",
       "    </tr>\n",
       "    <tr>\n",
       "      <th>2018-12-13</th>\n",
       "      <td>-0.250247</td>\n",
       "      <td>0.070667</td>\n",
       "      <td>-0.542904</td>\n",
       "      <td>-1.258667</td>\n",
       "      <td>-0.715763</td>\n",
       "      <td>0.320914</td>\n",
       "    </tr>\n",
       "    <tr>\n",
       "      <th>2018-12-14</th>\n",
       "      <td>0.066279</td>\n",
       "      <td>-0.199333</td>\n",
       "      <td>-0.042043</td>\n",
       "      <td>1.181333</td>\n",
       "      <td>1.223377</td>\n",
       "      <td>-0.265612</td>\n",
       "    </tr>\n",
       "    <tr>\n",
       "      <th>2018-12-15</th>\n",
       "      <td>0.359345</td>\n",
       "      <td>0.190667</td>\n",
       "      <td>0.874050</td>\n",
       "      <td>-0.048667</td>\n",
       "      <td>-0.922717</td>\n",
       "      <td>-0.168679</td>\n",
       "    </tr>\n",
       "    <tr>\n",
       "      <th>2018-12-16</th>\n",
       "      <td>0.070617</td>\n",
       "      <td>0.150667</td>\n",
       "      <td>0.939140</td>\n",
       "      <td>-0.028667</td>\n",
       "      <td>-0.967806</td>\n",
       "      <td>0.080050</td>\n",
       "    </tr>\n",
       "    <tr>\n",
       "      <th>2018-12-17</th>\n",
       "      <td>0.329992</td>\n",
       "      <td>0.210667</td>\n",
       "      <td>0.979269</td>\n",
       "      <td>1.911333</td>\n",
       "      <td>0.932064</td>\n",
       "      <td>-0.119325</td>\n",
       "    </tr>\n",
       "    <tr>\n",
       "      <th>2018-12-18</th>\n",
       "      <td>0.116673</td>\n",
       "      <td>-0.319333</td>\n",
       "      <td>1.270709</td>\n",
       "      <td>1.891333</td>\n",
       "      <td>0.620624</td>\n",
       "      <td>-0.436007</td>\n",
       "    </tr>\n",
       "    <tr>\n",
       "      <th>2018-12-19</th>\n",
       "      <td>-0.188212</td>\n",
       "      <td>0.100667</td>\n",
       "      <td>-0.171131</td>\n",
       "      <td>-0.528667</td>\n",
       "      <td>-0.357536</td>\n",
       "      <td>0.288878</td>\n",
       "    </tr>\n",
       "    <tr>\n",
       "      <th>2018-12-20</th>\n",
       "      <td>0.281756</td>\n",
       "      <td>0.020667</td>\n",
       "      <td>0.487163</td>\n",
       "      <td>-0.008667</td>\n",
       "      <td>-0.495830</td>\n",
       "      <td>-0.261089</td>\n",
       "    </tr>\n",
       "    <tr>\n",
       "      <th>2018-12-21</th>\n",
       "      <td>0.450203</td>\n",
       "      <td>0.250667</td>\n",
       "      <td>0.665320</td>\n",
       "      <td>1.661333</td>\n",
       "      <td>0.996014</td>\n",
       "      <td>-0.199537</td>\n",
       "    </tr>\n",
       "    <tr>\n",
       "      <th>2018-12-22</th>\n",
       "      <td>-0.190329</td>\n",
       "      <td>-0.199333</td>\n",
       "      <td>0.097677</td>\n",
       "      <td>0.011333</td>\n",
       "      <td>-0.086344</td>\n",
       "      <td>-0.009004</td>\n",
       "    </tr>\n",
       "    <tr>\n",
       "      <th>2018-12-23</th>\n",
       "      <td>0.114045</td>\n",
       "      <td>0.340667</td>\n",
       "      <td>-0.668183</td>\n",
       "      <td>-0.068667</td>\n",
       "      <td>0.599517</td>\n",
       "      <td>0.226622</td>\n",
       "    </tr>\n",
       "    <tr>\n",
       "      <th>2018-12-24</th>\n",
       "      <td>0.277665</td>\n",
       "      <td>0.090667</td>\n",
       "      <td>-0.845080</td>\n",
       "      <td>-1.688667</td>\n",
       "      <td>-0.843586</td>\n",
       "      <td>-0.186999</td>\n",
       "    </tr>\n",
       "  </tbody>\n",
       "</table>\n",
       "</div>"
      ],
      "text/plain": [
       "            AAPL Open  AAPL Close  GOOG Open  GOOG Close  GOOG Diff  AAPL Diff\n",
       "2018-11-25  -0.462152   -0.829333  -1.455507   -1.158667   0.296840  -0.367182\n",
       "2018-11-26  -0.074429    0.200667   0.967815    0.231333  -0.736481   0.275095\n",
       "2018-11-27   0.277412    0.120667  -0.861306   -0.688667   0.172639  -0.156746\n",
       "2018-11-28  -0.171951    0.260667   0.669058   -0.718667  -1.387724   0.432618\n",
       "2018-11-29  -0.278620   -0.109333  -0.315163    0.191333   0.506497   0.169286\n",
       "2018-11-30   0.305149    0.690667  -0.852561    0.271333   1.123894   0.385517\n",
       "2018-12-01   0.242051    0.200667  -0.094157   -1.378667  -1.284510  -0.041384\n",
       "2018-12-02   0.102163   -0.109333   0.517320    0.361333  -0.155986  -0.211496\n",
       "2018-12-03  -0.399038   -0.199333   0.636464    0.511333  -0.125131   0.199705\n",
       "2018-12-04  -0.147432    0.270667   0.896169    0.901333   0.005164   0.418099\n",
       "2018-12-05  -0.485902   -0.509333  -0.611375    0.861333   1.472708  -0.023431\n",
       "2018-12-06  -0.248101   -0.349333  -0.969136   -0.648667   0.320469  -0.101232\n",
       "2018-12-07   0.212293   -0.209333  -0.446596   -0.758667  -0.312071  -0.421627\n",
       "2018-12-08  -0.087180   -0.339333  -0.759546   -0.688667   0.070879  -0.252154\n",
       "2018-12-09  -0.388595   -0.069333   1.143540    1.511333   0.367793   0.319262\n",
       "2018-12-10  -0.454298   -0.629333   1.064368    0.811333  -0.253034  -0.175036\n",
       "2018-12-11   0.229903    0.520667  -1.236976   -2.508667  -1.271690   0.290764\n",
       "2018-12-12   0.390939    0.380667  -1.336397   -0.128667   1.207731  -0.010272\n",
       "2018-12-13  -0.250247    0.070667  -0.542904   -1.258667  -0.715763   0.320914\n",
       "2018-12-14   0.066279   -0.199333  -0.042043    1.181333   1.223377  -0.265612\n",
       "2018-12-15   0.359345    0.190667   0.874050   -0.048667  -0.922717  -0.168679\n",
       "2018-12-16   0.070617    0.150667   0.939140   -0.028667  -0.967806   0.080050\n",
       "2018-12-17   0.329992    0.210667   0.979269    1.911333   0.932064  -0.119325\n",
       "2018-12-18   0.116673   -0.319333   1.270709    1.891333   0.620624  -0.436007\n",
       "2018-12-19  -0.188212    0.100667  -0.171131   -0.528667  -0.357536   0.288878\n",
       "2018-12-20   0.281756    0.020667   0.487163   -0.008667  -0.495830  -0.261089\n",
       "2018-12-21   0.450203    0.250667   0.665320    1.661333   0.996014  -0.199537\n",
       "2018-12-22  -0.190329   -0.199333   0.097677    0.011333  -0.086344  -0.009004\n",
       "2018-12-23   0.114045    0.340667  -0.668183   -0.068667   0.599517   0.226622\n",
       "2018-12-24   0.277665    0.090667  -0.845080   -1.688667  -0.843586  -0.186999"
      ]
     },
     "execution_count": 39,
     "metadata": {},
     "output_type": "execute_result"
    }
   ],
   "source": [
    "stock_df - stock_df.mean()"
   ]
  },
  {
   "cell_type": "markdown",
   "metadata": {},
   "source": [
    "One very nice feature of Pandas is boolean selection, i.e. We can select on rows or columns according to some boolean expression.  For example, if we want to select all rows where the price of AAPL close is > 158.50 USD, we can do the following.  "
   ]
  },
  {
   "cell_type": "code",
   "execution_count": 72,
   "metadata": {
    "scrolled": true
   },
   "outputs": [
    {
     "data": {
      "text/plain": [
       "Date\n",
       "2018-11-25    159.42\n",
       "2018-11-26    159.91\n",
       "2018-11-27    160.28\n",
       "2018-11-28    160.09\n",
       "2018-11-29    159.51\n",
       "2018-11-30    160.23\n",
       "2018-12-01    159.73\n",
       "2018-12-02    159.71\n",
       "2018-12-03    159.39\n",
       "2018-12-04    159.85\n",
       "2018-12-05    160.51\n",
       "2018-12-06    159.94\n",
       "2018-12-07    159.62\n",
       "2018-12-08    160.47\n",
       "2018-12-09    159.66\n",
       "2018-12-10    159.79\n",
       "2018-12-11    160.03\n",
       "2018-12-12    159.76\n",
       "2018-12-13    160.36\n",
       "2018-12-14    160.01\n",
       "2018-12-15    159.48\n",
       "2018-12-16    159.37\n",
       "2018-12-17    160.90\n",
       "2018-12-18    159.67\n",
       "2018-12-19    160.47\n",
       "2018-12-20    160.04\n",
       "2018-12-21    160.27\n",
       "2018-12-22    160.72\n",
       "2018-12-23    160.18\n",
       "2018-12-24    159.46\n",
       "Name: AAPL Close, dtype: float64"
      ]
     },
     "execution_count": 72,
     "metadata": {},
     "output_type": "execute_result"
    }
   ],
   "source": [
    "#aapl_close = stock_df[stock_df['AAPL Close'] > 159.5]\n",
    "stock_df['AAPL Close']\n",
    "#print (aapl_close[aapl_close > 159.5])"
   ]
  },
  {
   "cell_type": "code",
   "execution_count": null,
   "metadata": {},
   "outputs": [],
   "source": []
  },
  {
   "cell_type": "code",
   "execution_count": 81,
   "metadata": {},
   "outputs": [
    {
     "ename": "TypeError",
     "evalue": "('incompatible type for a datetime/timedelta operation [__add__]', 'occurred at index Date')",
     "output_type": "error",
     "traceback": [
      "\u001b[0;31m---------------------------------------------------------------------------\u001b[0m",
      "\u001b[0;31mTypeError\u001b[0m                                 Traceback (most recent call last)",
      "\u001b[0;32m<ipython-input-81-773e57697070>\u001b[0m in \u001b[0;36m<module>\u001b[0;34m()\u001b[0m\n\u001b[1;32m      1\u001b[0m \u001b[0;31m#stock_df[[]list of columns]]\u001b[0m\u001b[0;34m\u001b[0m\u001b[0;34m\u001b[0m\u001b[0;34m\u001b[0m\u001b[0m\n\u001b[0;32m----> 2\u001b[0;31m \u001b[0mnew_series\u001b[0m \u001b[0;34m=\u001b[0m \u001b[0mstock_df\u001b[0m\u001b[0;34m[\u001b[0m\u001b[0;34m(\u001b[0m\u001b[0mstock_df\u001b[0m\u001b[0;34m[\u001b[0m\u001b[0;34m'GOOG Close'\u001b[0m\u001b[0;34m]\u001b[0m \u001b[0;34m>\u001b[0m \u001b[0;36m999.99\u001b[0m\u001b[0;34m)\u001b[0m \u001b[0;34m&\u001b[0m \u001b[0;34m(\u001b[0m\u001b[0mstock_df\u001b[0m\u001b[0;34m[\u001b[0m\u001b[0;34m'AAPL Close'\u001b[0m\u001b[0;34m]\u001b[0m \u001b[0;34m>\u001b[0m \u001b[0;36m158.50\u001b[0m\u001b[0;34m)\u001b[0m\u001b[0;34m]\u001b[0m\u001b[0;34m.\u001b[0m\u001b[0mapply\u001b[0m\u001b[0;34m(\u001b[0m\u001b[0;32mlambda\u001b[0m \u001b[0mx\u001b[0m\u001b[0;34m:\u001b[0m \u001b[0mx\u001b[0m \u001b[0;34m+\u001b[0m \u001b[0;36m1\u001b[0m\u001b[0;34m)\u001b[0m\u001b[0;34m\u001b[0m\u001b[0;34m\u001b[0m\u001b[0m\n\u001b[0m\u001b[1;32m      3\u001b[0m \u001b[0mnew_series\u001b[0m\u001b[0;34m\u001b[0m\u001b[0;34m\u001b[0m\u001b[0m\n",
      "\u001b[0;32m/usr/local/lib/python3.6/dist-packages/pandas/core/frame.py\u001b[0m in \u001b[0;36mapply\u001b[0;34m(self, func, axis, broadcast, raw, reduce, args, **kwds)\u001b[0m\n\u001b[1;32m   4875\u001b[0m                         \u001b[0mf\u001b[0m\u001b[0;34m,\u001b[0m \u001b[0maxis\u001b[0m\u001b[0;34m,\u001b[0m\u001b[0;34m\u001b[0m\u001b[0;34m\u001b[0m\u001b[0m\n\u001b[1;32m   4876\u001b[0m                         \u001b[0mreduce\u001b[0m\u001b[0;34m=\u001b[0m\u001b[0mreduce\u001b[0m\u001b[0;34m,\u001b[0m\u001b[0;34m\u001b[0m\u001b[0;34m\u001b[0m\u001b[0m\n\u001b[0;32m-> 4877\u001b[0;31m                         ignore_failures=ignore_failures)\n\u001b[0m\u001b[1;32m   4878\u001b[0m             \u001b[0;32melse\u001b[0m\u001b[0;34m:\u001b[0m\u001b[0;34m\u001b[0m\u001b[0;34m\u001b[0m\u001b[0m\n\u001b[1;32m   4879\u001b[0m                 \u001b[0;32mreturn\u001b[0m \u001b[0mself\u001b[0m\u001b[0;34m.\u001b[0m\u001b[0m_apply_broadcast\u001b[0m\u001b[0;34m(\u001b[0m\u001b[0mf\u001b[0m\u001b[0;34m,\u001b[0m \u001b[0maxis\u001b[0m\u001b[0;34m)\u001b[0m\u001b[0;34m\u001b[0m\u001b[0;34m\u001b[0m\u001b[0m\n",
      "\u001b[0;32m/usr/local/lib/python3.6/dist-packages/pandas/core/frame.py\u001b[0m in \u001b[0;36m_apply_standard\u001b[0;34m(self, func, axis, ignore_failures, reduce)\u001b[0m\n\u001b[1;32m   4971\u001b[0m             \u001b[0;32mtry\u001b[0m\u001b[0;34m:\u001b[0m\u001b[0;34m\u001b[0m\u001b[0;34m\u001b[0m\u001b[0m\n\u001b[1;32m   4972\u001b[0m                 \u001b[0;32mfor\u001b[0m \u001b[0mi\u001b[0m\u001b[0;34m,\u001b[0m \u001b[0mv\u001b[0m \u001b[0;32min\u001b[0m \u001b[0menumerate\u001b[0m\u001b[0;34m(\u001b[0m\u001b[0mseries_gen\u001b[0m\u001b[0;34m)\u001b[0m\u001b[0;34m:\u001b[0m\u001b[0;34m\u001b[0m\u001b[0;34m\u001b[0m\u001b[0m\n\u001b[0;32m-> 4973\u001b[0;31m                     \u001b[0mresults\u001b[0m\u001b[0;34m[\u001b[0m\u001b[0mi\u001b[0m\u001b[0;34m]\u001b[0m \u001b[0;34m=\u001b[0m \u001b[0mfunc\u001b[0m\u001b[0;34m(\u001b[0m\u001b[0mv\u001b[0m\u001b[0;34m)\u001b[0m\u001b[0;34m\u001b[0m\u001b[0;34m\u001b[0m\u001b[0m\n\u001b[0m\u001b[1;32m   4974\u001b[0m                     \u001b[0mkeys\u001b[0m\u001b[0;34m.\u001b[0m\u001b[0mappend\u001b[0m\u001b[0;34m(\u001b[0m\u001b[0mv\u001b[0m\u001b[0;34m.\u001b[0m\u001b[0mname\u001b[0m\u001b[0;34m)\u001b[0m\u001b[0;34m\u001b[0m\u001b[0;34m\u001b[0m\u001b[0m\n\u001b[1;32m   4975\u001b[0m             \u001b[0;32mexcept\u001b[0m \u001b[0mException\u001b[0m \u001b[0;32mas\u001b[0m \u001b[0me\u001b[0m\u001b[0;34m:\u001b[0m\u001b[0;34m\u001b[0m\u001b[0;34m\u001b[0m\u001b[0m\n",
      "\u001b[0;32m<ipython-input-81-773e57697070>\u001b[0m in \u001b[0;36m<lambda>\u001b[0;34m(x)\u001b[0m\n\u001b[1;32m      1\u001b[0m \u001b[0;31m#stock_df[[]list of columns]]\u001b[0m\u001b[0;34m\u001b[0m\u001b[0;34m\u001b[0m\u001b[0;34m\u001b[0m\u001b[0m\n\u001b[0;32m----> 2\u001b[0;31m \u001b[0mnew_series\u001b[0m \u001b[0;34m=\u001b[0m \u001b[0mstock_df\u001b[0m\u001b[0;34m[\u001b[0m\u001b[0;34m(\u001b[0m\u001b[0mstock_df\u001b[0m\u001b[0;34m[\u001b[0m\u001b[0;34m'GOOG Close'\u001b[0m\u001b[0;34m]\u001b[0m \u001b[0;34m>\u001b[0m \u001b[0;36m999.99\u001b[0m\u001b[0;34m)\u001b[0m \u001b[0;34m&\u001b[0m \u001b[0;34m(\u001b[0m\u001b[0mstock_df\u001b[0m\u001b[0;34m[\u001b[0m\u001b[0;34m'AAPL Close'\u001b[0m\u001b[0;34m]\u001b[0m \u001b[0;34m>\u001b[0m \u001b[0;36m158.50\u001b[0m\u001b[0;34m)\u001b[0m\u001b[0;34m]\u001b[0m\u001b[0;34m.\u001b[0m\u001b[0mapply\u001b[0m\u001b[0;34m(\u001b[0m\u001b[0;32mlambda\u001b[0m \u001b[0mx\u001b[0m\u001b[0;34m:\u001b[0m \u001b[0mx\u001b[0m \u001b[0;34m+\u001b[0m \u001b[0;36m1\u001b[0m\u001b[0;34m)\u001b[0m\u001b[0;34m\u001b[0m\u001b[0;34m\u001b[0m\u001b[0m\n\u001b[0m\u001b[1;32m      3\u001b[0m \u001b[0mnew_series\u001b[0m\u001b[0;34m\u001b[0m\u001b[0;34m\u001b[0m\u001b[0m\n",
      "\u001b[0;32m/usr/local/lib/python3.6/dist-packages/pandas/core/ops.py\u001b[0m in \u001b[0;36mwrapper\u001b[0;34m(left, right, name, na_op)\u001b[0m\n\u001b[1;32m    718\u001b[0m         \u001b[0mleft\u001b[0m\u001b[0;34m,\u001b[0m \u001b[0mright\u001b[0m \u001b[0;34m=\u001b[0m \u001b[0m_align_method_SERIES\u001b[0m\u001b[0;34m(\u001b[0m\u001b[0mleft\u001b[0m\u001b[0;34m,\u001b[0m \u001b[0mright\u001b[0m\u001b[0;34m)\u001b[0m\u001b[0;34m\u001b[0m\u001b[0;34m\u001b[0m\u001b[0m\n\u001b[1;32m    719\u001b[0m \u001b[0;34m\u001b[0m\u001b[0m\n\u001b[0;32m--> 720\u001b[0;31m         \u001b[0mconverted\u001b[0m \u001b[0;34m=\u001b[0m \u001b[0m_Op\u001b[0m\u001b[0;34m.\u001b[0m\u001b[0mget_op\u001b[0m\u001b[0;34m(\u001b[0m\u001b[0mleft\u001b[0m\u001b[0;34m,\u001b[0m \u001b[0mright\u001b[0m\u001b[0;34m,\u001b[0m \u001b[0mname\u001b[0m\u001b[0;34m,\u001b[0m \u001b[0mna_op\u001b[0m\u001b[0;34m)\u001b[0m\u001b[0;34m\u001b[0m\u001b[0;34m\u001b[0m\u001b[0m\n\u001b[0m\u001b[1;32m    721\u001b[0m \u001b[0;34m\u001b[0m\u001b[0m\n\u001b[1;32m    722\u001b[0m         \u001b[0mleft\u001b[0m\u001b[0;34m,\u001b[0m \u001b[0mright\u001b[0m \u001b[0;34m=\u001b[0m \u001b[0mconverted\u001b[0m\u001b[0;34m.\u001b[0m\u001b[0mleft\u001b[0m\u001b[0;34m,\u001b[0m \u001b[0mconverted\u001b[0m\u001b[0;34m.\u001b[0m\u001b[0mright\u001b[0m\u001b[0;34m\u001b[0m\u001b[0;34m\u001b[0m\u001b[0m\n",
      "\u001b[0;32m/usr/local/lib/python3.6/dist-packages/pandas/core/ops.py\u001b[0m in \u001b[0;36mget_op\u001b[0;34m(cls, left, right, name, na_op)\u001b[0m\n\u001b[1;32m    347\u001b[0m             \u001b[0;32mreturn\u001b[0m \u001b[0m_Op\u001b[0m\u001b[0;34m(\u001b[0m\u001b[0mleft\u001b[0m\u001b[0;34m,\u001b[0m \u001b[0mright\u001b[0m\u001b[0;34m,\u001b[0m \u001b[0mname\u001b[0m\u001b[0;34m,\u001b[0m \u001b[0mna_op\u001b[0m\u001b[0;34m)\u001b[0m\u001b[0;34m\u001b[0m\u001b[0;34m\u001b[0m\u001b[0m\n\u001b[1;32m    348\u001b[0m         \u001b[0;32melse\u001b[0m\u001b[0;34m:\u001b[0m\u001b[0;34m\u001b[0m\u001b[0;34m\u001b[0m\u001b[0m\n\u001b[0;32m--> 349\u001b[0;31m             \u001b[0;32mreturn\u001b[0m \u001b[0m_TimeOp\u001b[0m\u001b[0;34m(\u001b[0m\u001b[0mleft\u001b[0m\u001b[0;34m,\u001b[0m \u001b[0mright\u001b[0m\u001b[0;34m,\u001b[0m \u001b[0mname\u001b[0m\u001b[0;34m,\u001b[0m \u001b[0mna_op\u001b[0m\u001b[0;34m)\u001b[0m\u001b[0;34m\u001b[0m\u001b[0;34m\u001b[0m\u001b[0m\n\u001b[0m\u001b[1;32m    350\u001b[0m \u001b[0;34m\u001b[0m\u001b[0m\n\u001b[1;32m    351\u001b[0m \u001b[0;34m\u001b[0m\u001b[0m\n",
      "\u001b[0;32m/usr/local/lib/python3.6/dist-packages/pandas/core/ops.py\u001b[0m in \u001b[0;36m__init__\u001b[0;34m(self, left, right, name, na_op)\u001b[0m\n\u001b[1;32m    361\u001b[0m \u001b[0;34m\u001b[0m\u001b[0m\n\u001b[1;32m    362\u001b[0m         \u001b[0mlvalues\u001b[0m \u001b[0;34m=\u001b[0m \u001b[0mself\u001b[0m\u001b[0;34m.\u001b[0m\u001b[0m_convert_to_array\u001b[0m\u001b[0;34m(\u001b[0m\u001b[0mleft\u001b[0m\u001b[0;34m,\u001b[0m \u001b[0mname\u001b[0m\u001b[0;34m=\u001b[0m\u001b[0mname\u001b[0m\u001b[0;34m)\u001b[0m\u001b[0;34m\u001b[0m\u001b[0;34m\u001b[0m\u001b[0m\n\u001b[0;32m--> 363\u001b[0;31m         \u001b[0mrvalues\u001b[0m \u001b[0;34m=\u001b[0m \u001b[0mself\u001b[0m\u001b[0;34m.\u001b[0m\u001b[0m_convert_to_array\u001b[0m\u001b[0;34m(\u001b[0m\u001b[0mright\u001b[0m\u001b[0;34m,\u001b[0m \u001b[0mname\u001b[0m\u001b[0;34m=\u001b[0m\u001b[0mname\u001b[0m\u001b[0;34m,\u001b[0m \u001b[0mother\u001b[0m\u001b[0;34m=\u001b[0m\u001b[0mlvalues\u001b[0m\u001b[0;34m)\u001b[0m\u001b[0;34m\u001b[0m\u001b[0;34m\u001b[0m\u001b[0m\n\u001b[0m\u001b[1;32m    364\u001b[0m \u001b[0;34m\u001b[0m\u001b[0m\n\u001b[1;32m    365\u001b[0m         \u001b[0;31m# left\u001b[0m\u001b[0;34m\u001b[0m\u001b[0;34m\u001b[0m\u001b[0;34m\u001b[0m\u001b[0m\n",
      "\u001b[0;32m/usr/local/lib/python3.6/dist-packages/pandas/core/ops.py\u001b[0m in \u001b[0;36m_convert_to_array\u001b[0;34m(self, values, name, other)\u001b[0m\n\u001b[1;32m    509\u001b[0m             \u001b[0;32melif\u001b[0m \u001b[0mname\u001b[0m \u001b[0;32mnot\u001b[0m \u001b[0;32min\u001b[0m \u001b[0;34m(\u001b[0m\u001b[0;34m'__truediv__'\u001b[0m\u001b[0;34m,\u001b[0m \u001b[0;34m'__div__'\u001b[0m\u001b[0;34m,\u001b[0m \u001b[0;34m'__mul__'\u001b[0m\u001b[0;34m,\u001b[0m \u001b[0;34m'__rmul__'\u001b[0m\u001b[0;34m)\u001b[0m\u001b[0;34m:\u001b[0m\u001b[0;34m\u001b[0m\u001b[0;34m\u001b[0m\u001b[0m\n\u001b[1;32m    510\u001b[0m                 raise TypeError(\"incompatible type for a datetime/timedelta \"\n\u001b[0;32m--> 511\u001b[0;31m                                 \"operation [{name}]\".format(name=name))\n\u001b[0m\u001b[1;32m    512\u001b[0m         \u001b[0;32melif\u001b[0m \u001b[0minferred_type\u001b[0m \u001b[0;34m==\u001b[0m \u001b[0;34m'floating'\u001b[0m\u001b[0;34m:\u001b[0m\u001b[0;34m\u001b[0m\u001b[0;34m\u001b[0m\u001b[0m\n\u001b[1;32m    513\u001b[0m             if (isna(values).all() and\n",
      "\u001b[0;31mTypeError\u001b[0m: ('incompatible type for a datetime/timedelta operation [__add__]', 'occurred at index Date')"
     ]
    }
   ],
   "source": [
    "#stock_df[[]list of columns]]\n",
    "new_series = stock_df[(stock_df['GOOG Close'] > 999.99) & (stock_df['AAPL Close'] > 158.50)].apply(lambda x: x + 1)\n",
    "new_series"
   ]
  },
  {
   "cell_type": "markdown",
   "metadata": {},
   "source": [
    "### Reading data from a csv file into a Pandas dataframe\n",
    "\n",
    "To read data from a csv file into a Pandas dataframe, we can use the 'read_csv' method.  For example, \n",
    "we've written the stock data to a file called 'stock_data.csv'.  Let's read that file from the disk into our stock_df dataframe. Note that we need to set the first column (The date column) to be our index, and then, we rename it to Date. "
   ]
  },
  {
   "cell_type": "code",
   "execution_count": 41,
   "metadata": {},
   "outputs": [
    {
     "name": "stdout",
     "output_type": "stream",
     "text": [
      ",AAPL Open,AAPL Close,GOOG Open,GOOG Close,GOOG Diff,AAPL Diff\r\n",
      "2018-11-25,158.08657785996166,159.42,1000.0689661119276,1001.14,1.0710338880724066,1.3334221400383228\r\n",
      "2018-11-26,158.8618918031294,159.91,1000.4366532412828,1002.99,2.5533467587172254,1.0481081968706008\r\n",
      "2018-11-27,158.74427611495622,160.28,999.7844244841358,1002.45,2.665575515864248,1.5357238850437795\r\n",
      "2018-11-28,158.91218528151748,160.09,1001.0963529838867,1002.64,1.5436470161132547,1.177814718482523\r\n",
      "2018-11-29,158.2514916461319,159.51,999.6809195094673,1002.67,2.989080490532615,1.2585083538680806\r\n",
      "2018-11-30,158.68925478146812,160.23,1000.2429517735522,1004.0,3.7570482264477505,1.5407452185318675\r\n",
      "2018-12-01,158.47230518134555,159.73,1000.8912346735564,1002.1,1.208765326443654,1.2576948186544428\r\n",
      "2018-12-02,158.1611581311685,159.71,1001.0799260449335,1002.66,1.5800739550664957,1.5488418688315164\r\n",
      "2018-12-03,158.14471729943773,159.39,1000.9800416446511,1003.94,2.959958355348931,1.2452827005622567\r\n",
      "2018-12-04,158.18234613028284,159.85,1000.9280383986114,1004.22,3.291961601388607,1.6676538697171566\r\n",
      "2018-12-05,158.82944369447435,160.51,1001.6807068089716,1003.56,1.879293191028296,1.6805563055256414\r\n",
      "2018-12-06,158.9195846709316,159.94,1000.3389415144005,1003.89,3.5510584855994693,1.0204153290683848\r\n",
      "2018-12-07,158.4047071027204,159.62,1001.5344421311561,1004.87,3.335557868843921,1.2152928972795962\r\n",
      "2018-12-08,158.49214703418664,160.47,999.0804912159317,1002.04,2.959508784068248,1.977852965813355\r\n",
      "2018-12-09,158.6056298055783,159.66,1000.6065723576488,1002.95,2.34342764235123,1.0543701944216934\r\n",
      "2018-12-10,158.58996209013515,159.79,999.8141160472095,1001.31,1.4958839527904502,1.2000379098648466\r\n",
      "2018-12-11,158.31340645076224,160.03,1001.7505447234429,1004.84,3.089455276557146,1.716593549237757\r\n",
      "2018-12-12,158.6352033581242,159.76,999.5383610654457,1000.72,1.1816389345543712,1.124796641875804\r\n",
      "2018-12-13,158.37367174956464,160.36,999.2413686842079,1000.4,1.1586313157920358,1.9863282504353776\r\n",
      "2018-12-14,158.13525142658438,160.01,999.0912618010981,1000.23,1.1387381989019332,1.8747485734156157\r\n",
      "2018-12-15,158.40691214393237,159.48,1000.2772301407708,1003.16,2.8827698592291426,1.073087856067616\r\n",
      "2018-12-16,158.21585769909194,159.37,999.2352087949826,1001.26,2.0247912050174364,1.1541423009080631\r\n",
      "2018-12-17,158.90268616767332,160.9,1001.5007472880278,1003.5,1.99925271197219,1.9973138323266824\r\n",
      "2018-12-18,158.42425836174718,159.67,1001.9263186275706,1003.39,1.4636813724293916,1.2457416382528095\r\n",
      "2018-12-19,158.8217006507229,160.47,1001.1191556220616,1003.96,2.8408443779384243,1.6482993492770959\r\n",
      "2018-12-20,158.28911247652667,160.04,999.1221621250984,1000.86,1.7378378749016292,1.7508875234733239\r\n",
      "2018-12-21,158.87296428838673,160.27,999.8229277561426,1003.29,3.4670722438573875,1.3970357116132845\r\n",
      "2018-12-22,158.78570525171781,160.72,999.6082416909218,1001.39,1.7817583090782136,1.9342947482821842\r\n",
      "2018-12-23,158.70786767882487,160.18,1001.4490184476861,1003.34,1.8909815523139741,1.4721323211751383\r\n",
      "2018-12-24,158.2606178896753,159.46,999.1106392166374,1002.09,2.9793607833626083,1.1993821103247058\r\n"
     ]
    }
   ],
   "source": [
    "!cat ../data/stock_data.csv"
   ]
  },
  {
   "cell_type": "code",
   "execution_count": 82,
   "metadata": {},
   "outputs": [
    {
     "data": {
      "text/html": [
       "<div>\n",
       "<style scoped>\n",
       "    .dataframe tbody tr th:only-of-type {\n",
       "        vertical-align: middle;\n",
       "    }\n",
       "\n",
       "    .dataframe tbody tr th {\n",
       "        vertical-align: top;\n",
       "    }\n",
       "\n",
       "    .dataframe thead th {\n",
       "        text-align: right;\n",
       "    }\n",
       "</style>\n",
       "<table border=\"1\" class=\"dataframe\">\n",
       "  <thead>\n",
       "    <tr style=\"text-align: right;\">\n",
       "      <th></th>\n",
       "      <th>AAPL Open</th>\n",
       "      <th>AAPL Close</th>\n",
       "      <th>GOOG Open</th>\n",
       "      <th>GOOG Close</th>\n",
       "      <th>GOOG Diff</th>\n",
       "      <th>AAPL Diff</th>\n",
       "    </tr>\n",
       "    <tr>\n",
       "      <th>Date</th>\n",
       "      <th></th>\n",
       "      <th></th>\n",
       "      <th></th>\n",
       "      <th></th>\n",
       "      <th></th>\n",
       "      <th></th>\n",
       "    </tr>\n",
       "  </thead>\n",
       "  <tbody>\n",
       "    <tr>\n",
       "      <th>2018-11-25</th>\n",
       "      <td>158.086578</td>\n",
       "      <td>159.42</td>\n",
       "      <td>1000.068966</td>\n",
       "      <td>1001.14</td>\n",
       "      <td>1.071034</td>\n",
       "      <td>1.333422</td>\n",
       "    </tr>\n",
       "    <tr>\n",
       "      <th>2018-11-26</th>\n",
       "      <td>158.861892</td>\n",
       "      <td>159.91</td>\n",
       "      <td>1000.436653</td>\n",
       "      <td>1002.99</td>\n",
       "      <td>2.553347</td>\n",
       "      <td>1.048108</td>\n",
       "    </tr>\n",
       "    <tr>\n",
       "      <th>2018-11-27</th>\n",
       "      <td>158.744276</td>\n",
       "      <td>160.28</td>\n",
       "      <td>999.784424</td>\n",
       "      <td>1002.45</td>\n",
       "      <td>2.665576</td>\n",
       "      <td>1.535724</td>\n",
       "    </tr>\n",
       "    <tr>\n",
       "      <th>2018-11-28</th>\n",
       "      <td>158.912185</td>\n",
       "      <td>160.09</td>\n",
       "      <td>1001.096353</td>\n",
       "      <td>1002.64</td>\n",
       "      <td>1.543647</td>\n",
       "      <td>1.177815</td>\n",
       "    </tr>\n",
       "    <tr>\n",
       "      <th>2018-11-29</th>\n",
       "      <td>158.251492</td>\n",
       "      <td>159.51</td>\n",
       "      <td>999.680920</td>\n",
       "      <td>1002.67</td>\n",
       "      <td>2.989080</td>\n",
       "      <td>1.258508</td>\n",
       "    </tr>\n",
       "    <tr>\n",
       "      <th>2018-11-30</th>\n",
       "      <td>158.689255</td>\n",
       "      <td>160.23</td>\n",
       "      <td>1000.242952</td>\n",
       "      <td>1004.00</td>\n",
       "      <td>3.757048</td>\n",
       "      <td>1.540745</td>\n",
       "    </tr>\n",
       "    <tr>\n",
       "      <th>2018-12-01</th>\n",
       "      <td>158.472305</td>\n",
       "      <td>159.73</td>\n",
       "      <td>1000.891235</td>\n",
       "      <td>1002.10</td>\n",
       "      <td>1.208765</td>\n",
       "      <td>1.257695</td>\n",
       "    </tr>\n",
       "    <tr>\n",
       "      <th>2018-12-02</th>\n",
       "      <td>158.161158</td>\n",
       "      <td>159.71</td>\n",
       "      <td>1001.079926</td>\n",
       "      <td>1002.66</td>\n",
       "      <td>1.580074</td>\n",
       "      <td>1.548842</td>\n",
       "    </tr>\n",
       "    <tr>\n",
       "      <th>2018-12-03</th>\n",
       "      <td>158.144717</td>\n",
       "      <td>159.39</td>\n",
       "      <td>1000.980042</td>\n",
       "      <td>1003.94</td>\n",
       "      <td>2.959958</td>\n",
       "      <td>1.245283</td>\n",
       "    </tr>\n",
       "    <tr>\n",
       "      <th>2018-12-04</th>\n",
       "      <td>158.182346</td>\n",
       "      <td>159.85</td>\n",
       "      <td>1000.928038</td>\n",
       "      <td>1004.22</td>\n",
       "      <td>3.291962</td>\n",
       "      <td>1.667654</td>\n",
       "    </tr>\n",
       "    <tr>\n",
       "      <th>2018-12-05</th>\n",
       "      <td>158.829444</td>\n",
       "      <td>160.51</td>\n",
       "      <td>1001.680707</td>\n",
       "      <td>1003.56</td>\n",
       "      <td>1.879293</td>\n",
       "      <td>1.680556</td>\n",
       "    </tr>\n",
       "    <tr>\n",
       "      <th>2018-12-06</th>\n",
       "      <td>158.919585</td>\n",
       "      <td>159.94</td>\n",
       "      <td>1000.338942</td>\n",
       "      <td>1003.89</td>\n",
       "      <td>3.551058</td>\n",
       "      <td>1.020415</td>\n",
       "    </tr>\n",
       "    <tr>\n",
       "      <th>2018-12-07</th>\n",
       "      <td>158.404707</td>\n",
       "      <td>159.62</td>\n",
       "      <td>1001.534442</td>\n",
       "      <td>1004.87</td>\n",
       "      <td>3.335558</td>\n",
       "      <td>1.215293</td>\n",
       "    </tr>\n",
       "    <tr>\n",
       "      <th>2018-12-08</th>\n",
       "      <td>158.492147</td>\n",
       "      <td>160.47</td>\n",
       "      <td>999.080491</td>\n",
       "      <td>1002.04</td>\n",
       "      <td>2.959509</td>\n",
       "      <td>1.977853</td>\n",
       "    </tr>\n",
       "    <tr>\n",
       "      <th>2018-12-09</th>\n",
       "      <td>158.605630</td>\n",
       "      <td>159.66</td>\n",
       "      <td>1000.606572</td>\n",
       "      <td>1002.95</td>\n",
       "      <td>2.343428</td>\n",
       "      <td>1.054370</td>\n",
       "    </tr>\n",
       "    <tr>\n",
       "      <th>2018-12-10</th>\n",
       "      <td>158.589962</td>\n",
       "      <td>159.79</td>\n",
       "      <td>999.814116</td>\n",
       "      <td>1001.31</td>\n",
       "      <td>1.495884</td>\n",
       "      <td>1.200038</td>\n",
       "    </tr>\n",
       "    <tr>\n",
       "      <th>2018-12-11</th>\n",
       "      <td>158.313406</td>\n",
       "      <td>160.03</td>\n",
       "      <td>1001.750545</td>\n",
       "      <td>1004.84</td>\n",
       "      <td>3.089455</td>\n",
       "      <td>1.716594</td>\n",
       "    </tr>\n",
       "    <tr>\n",
       "      <th>2018-12-12</th>\n",
       "      <td>158.635203</td>\n",
       "      <td>159.76</td>\n",
       "      <td>999.538361</td>\n",
       "      <td>1000.72</td>\n",
       "      <td>1.181639</td>\n",
       "      <td>1.124797</td>\n",
       "    </tr>\n",
       "    <tr>\n",
       "      <th>2018-12-13</th>\n",
       "      <td>158.373672</td>\n",
       "      <td>160.36</td>\n",
       "      <td>999.241369</td>\n",
       "      <td>1000.40</td>\n",
       "      <td>1.158631</td>\n",
       "      <td>1.986328</td>\n",
       "    </tr>\n",
       "    <tr>\n",
       "      <th>2018-12-14</th>\n",
       "      <td>158.135251</td>\n",
       "      <td>160.01</td>\n",
       "      <td>999.091262</td>\n",
       "      <td>1000.23</td>\n",
       "      <td>1.138738</td>\n",
       "      <td>1.874749</td>\n",
       "    </tr>\n",
       "    <tr>\n",
       "      <th>2018-12-15</th>\n",
       "      <td>158.406912</td>\n",
       "      <td>159.48</td>\n",
       "      <td>1000.277230</td>\n",
       "      <td>1003.16</td>\n",
       "      <td>2.882770</td>\n",
       "      <td>1.073088</td>\n",
       "    </tr>\n",
       "    <tr>\n",
       "      <th>2018-12-16</th>\n",
       "      <td>158.215858</td>\n",
       "      <td>159.37</td>\n",
       "      <td>999.235209</td>\n",
       "      <td>1001.26</td>\n",
       "      <td>2.024791</td>\n",
       "      <td>1.154142</td>\n",
       "    </tr>\n",
       "    <tr>\n",
       "      <th>2018-12-17</th>\n",
       "      <td>158.902686</td>\n",
       "      <td>160.90</td>\n",
       "      <td>1001.500747</td>\n",
       "      <td>1003.50</td>\n",
       "      <td>1.999253</td>\n",
       "      <td>1.997314</td>\n",
       "    </tr>\n",
       "    <tr>\n",
       "      <th>2018-12-18</th>\n",
       "      <td>158.424258</td>\n",
       "      <td>159.67</td>\n",
       "      <td>1001.926319</td>\n",
       "      <td>1003.39</td>\n",
       "      <td>1.463681</td>\n",
       "      <td>1.245742</td>\n",
       "    </tr>\n",
       "    <tr>\n",
       "      <th>2018-12-19</th>\n",
       "      <td>158.821701</td>\n",
       "      <td>160.47</td>\n",
       "      <td>1001.119156</td>\n",
       "      <td>1003.96</td>\n",
       "      <td>2.840844</td>\n",
       "      <td>1.648299</td>\n",
       "    </tr>\n",
       "    <tr>\n",
       "      <th>2018-12-20</th>\n",
       "      <td>158.289112</td>\n",
       "      <td>160.04</td>\n",
       "      <td>999.122162</td>\n",
       "      <td>1000.86</td>\n",
       "      <td>1.737838</td>\n",
       "      <td>1.750888</td>\n",
       "    </tr>\n",
       "    <tr>\n",
       "      <th>2018-12-21</th>\n",
       "      <td>158.872964</td>\n",
       "      <td>160.27</td>\n",
       "      <td>999.822928</td>\n",
       "      <td>1003.29</td>\n",
       "      <td>3.467072</td>\n",
       "      <td>1.397036</td>\n",
       "    </tr>\n",
       "    <tr>\n",
       "      <th>2018-12-22</th>\n",
       "      <td>158.785705</td>\n",
       "      <td>160.72</td>\n",
       "      <td>999.608242</td>\n",
       "      <td>1001.39</td>\n",
       "      <td>1.781758</td>\n",
       "      <td>1.934295</td>\n",
       "    </tr>\n",
       "    <tr>\n",
       "      <th>2018-12-23</th>\n",
       "      <td>158.707868</td>\n",
       "      <td>160.18</td>\n",
       "      <td>1001.449018</td>\n",
       "      <td>1003.34</td>\n",
       "      <td>1.890982</td>\n",
       "      <td>1.472132</td>\n",
       "    </tr>\n",
       "    <tr>\n",
       "      <th>2018-12-24</th>\n",
       "      <td>158.260618</td>\n",
       "      <td>159.46</td>\n",
       "      <td>999.110639</td>\n",
       "      <td>1002.09</td>\n",
       "      <td>2.979361</td>\n",
       "      <td>1.199382</td>\n",
       "    </tr>\n",
       "  </tbody>\n",
       "</table>\n",
       "</div>"
      ],
      "text/plain": [
       "             AAPL Open  AAPL Close    GOOG Open  GOOG Close  GOOG Diff  \\\n",
       "Date                                                                     \n",
       "2018-11-25  158.086578      159.42  1000.068966     1001.14   1.071034   \n",
       "2018-11-26  158.861892      159.91  1000.436653     1002.99   2.553347   \n",
       "2018-11-27  158.744276      160.28   999.784424     1002.45   2.665576   \n",
       "2018-11-28  158.912185      160.09  1001.096353     1002.64   1.543647   \n",
       "2018-11-29  158.251492      159.51   999.680920     1002.67   2.989080   \n",
       "2018-11-30  158.689255      160.23  1000.242952     1004.00   3.757048   \n",
       "2018-12-01  158.472305      159.73  1000.891235     1002.10   1.208765   \n",
       "2018-12-02  158.161158      159.71  1001.079926     1002.66   1.580074   \n",
       "2018-12-03  158.144717      159.39  1000.980042     1003.94   2.959958   \n",
       "2018-12-04  158.182346      159.85  1000.928038     1004.22   3.291962   \n",
       "2018-12-05  158.829444      160.51  1001.680707     1003.56   1.879293   \n",
       "2018-12-06  158.919585      159.94  1000.338942     1003.89   3.551058   \n",
       "2018-12-07  158.404707      159.62  1001.534442     1004.87   3.335558   \n",
       "2018-12-08  158.492147      160.47   999.080491     1002.04   2.959509   \n",
       "2018-12-09  158.605630      159.66  1000.606572     1002.95   2.343428   \n",
       "2018-12-10  158.589962      159.79   999.814116     1001.31   1.495884   \n",
       "2018-12-11  158.313406      160.03  1001.750545     1004.84   3.089455   \n",
       "2018-12-12  158.635203      159.76   999.538361     1000.72   1.181639   \n",
       "2018-12-13  158.373672      160.36   999.241369     1000.40   1.158631   \n",
       "2018-12-14  158.135251      160.01   999.091262     1000.23   1.138738   \n",
       "2018-12-15  158.406912      159.48  1000.277230     1003.16   2.882770   \n",
       "2018-12-16  158.215858      159.37   999.235209     1001.26   2.024791   \n",
       "2018-12-17  158.902686      160.90  1001.500747     1003.50   1.999253   \n",
       "2018-12-18  158.424258      159.67  1001.926319     1003.39   1.463681   \n",
       "2018-12-19  158.821701      160.47  1001.119156     1003.96   2.840844   \n",
       "2018-12-20  158.289112      160.04   999.122162     1000.86   1.737838   \n",
       "2018-12-21  158.872964      160.27   999.822928     1003.29   3.467072   \n",
       "2018-12-22  158.785705      160.72   999.608242     1001.39   1.781758   \n",
       "2018-12-23  158.707868      160.18  1001.449018     1003.34   1.890982   \n",
       "2018-12-24  158.260618      159.46   999.110639     1002.09   2.979361   \n",
       "\n",
       "            AAPL Diff  \n",
       "Date                   \n",
       "2018-11-25   1.333422  \n",
       "2018-11-26   1.048108  \n",
       "2018-11-27   1.535724  \n",
       "2018-11-28   1.177815  \n",
       "2018-11-29   1.258508  \n",
       "2018-11-30   1.540745  \n",
       "2018-12-01   1.257695  \n",
       "2018-12-02   1.548842  \n",
       "2018-12-03   1.245283  \n",
       "2018-12-04   1.667654  \n",
       "2018-12-05   1.680556  \n",
       "2018-12-06   1.020415  \n",
       "2018-12-07   1.215293  \n",
       "2018-12-08   1.977853  \n",
       "2018-12-09   1.054370  \n",
       "2018-12-10   1.200038  \n",
       "2018-12-11   1.716594  \n",
       "2018-12-12   1.124797  \n",
       "2018-12-13   1.986328  \n",
       "2018-12-14   1.874749  \n",
       "2018-12-15   1.073088  \n",
       "2018-12-16   1.154142  \n",
       "2018-12-17   1.997314  \n",
       "2018-12-18   1.245742  \n",
       "2018-12-19   1.648299  \n",
       "2018-12-20   1.750888  \n",
       "2018-12-21   1.397036  \n",
       "2018-12-22   1.934295  \n",
       "2018-12-23   1.472132  \n",
       "2018-12-24   1.199382  "
      ]
     },
     "execution_count": 82,
     "metadata": {},
     "output_type": "execute_result"
    }
   ],
   "source": [
    "stock_df = pd.read_csv('../data/stock_data.csv')\n",
    "stock_df.set_index('Unnamed: 0',inplace=True)\n",
    "stock_df.index.names = ['Date']\n",
    "stock_df"
   ]
  },
  {
   "cell_type": "markdown",
   "metadata": {},
   "source": [
    "But we have a problem.  As shown below, when I read in the csv file, the index type is a string.  If we're working with time series data, we really need to change this to a DateTime python object. "
   ]
  },
  {
   "cell_type": "code",
   "execution_count": 43,
   "metadata": {},
   "outputs": [
    {
     "data": {
      "text/plain": [
       "str"
      ]
     },
     "execution_count": 43,
     "metadata": {},
     "output_type": "execute_result"
    }
   ],
   "source": [
    "type (stock_df.index[0])"
   ]
  },
  {
   "cell_type": "code",
   "execution_count": 44,
   "metadata": {},
   "outputs": [
    {
     "data": {
      "text/plain": [
       "pandas._libs.tslib.Timestamp"
      ]
     },
     "execution_count": 44,
     "metadata": {},
     "output_type": "execute_result"
    }
   ],
   "source": [
    "stock_df.index = pd.to_datetime(stock_df.index)\n",
    "type(stock_df.index[0])"
   ]
  },
  {
   "cell_type": "code",
   "execution_count": 45,
   "metadata": {},
   "outputs": [
    {
     "data": {
      "text/html": [
       "<div>\n",
       "<style scoped>\n",
       "    .dataframe tbody tr th:only-of-type {\n",
       "        vertical-align: middle;\n",
       "    }\n",
       "\n",
       "    .dataframe tbody tr th {\n",
       "        vertical-align: top;\n",
       "    }\n",
       "\n",
       "    .dataframe thead th {\n",
       "        text-align: right;\n",
       "    }\n",
       "</style>\n",
       "<table border=\"1\" class=\"dataframe\">\n",
       "  <thead>\n",
       "    <tr style=\"text-align: right;\">\n",
       "      <th></th>\n",
       "      <th>AAPL Open</th>\n",
       "      <th>AAPL Close</th>\n",
       "      <th>GOOG Open</th>\n",
       "      <th>GOOG Close</th>\n",
       "      <th>GOOG Diff</th>\n",
       "      <th>AAPL Diff</th>\n",
       "    </tr>\n",
       "    <tr>\n",
       "      <th>Date</th>\n",
       "      <th></th>\n",
       "      <th></th>\n",
       "      <th></th>\n",
       "      <th></th>\n",
       "      <th></th>\n",
       "      <th></th>\n",
       "    </tr>\n",
       "  </thead>\n",
       "  <tbody>\n",
       "    <tr>\n",
       "      <th>2018-11-25</th>\n",
       "      <td>158.086578</td>\n",
       "      <td>159.42</td>\n",
       "      <td>1000.068966</td>\n",
       "      <td>1001.14</td>\n",
       "      <td>1.071034</td>\n",
       "      <td>1.333422</td>\n",
       "    </tr>\n",
       "    <tr>\n",
       "      <th>2018-11-26</th>\n",
       "      <td>158.861892</td>\n",
       "      <td>159.91</td>\n",
       "      <td>1000.436653</td>\n",
       "      <td>1002.99</td>\n",
       "      <td>2.553347</td>\n",
       "      <td>1.048108</td>\n",
       "    </tr>\n",
       "    <tr>\n",
       "      <th>2018-11-27</th>\n",
       "      <td>158.744276</td>\n",
       "      <td>160.28</td>\n",
       "      <td>999.784424</td>\n",
       "      <td>1002.45</td>\n",
       "      <td>2.665576</td>\n",
       "      <td>1.535724</td>\n",
       "    </tr>\n",
       "    <tr>\n",
       "      <th>2018-11-28</th>\n",
       "      <td>158.912185</td>\n",
       "      <td>160.09</td>\n",
       "      <td>1001.096353</td>\n",
       "      <td>1002.64</td>\n",
       "      <td>1.543647</td>\n",
       "      <td>1.177815</td>\n",
       "    </tr>\n",
       "    <tr>\n",
       "      <th>2018-11-29</th>\n",
       "      <td>158.251492</td>\n",
       "      <td>159.51</td>\n",
       "      <td>999.680920</td>\n",
       "      <td>1002.67</td>\n",
       "      <td>2.989080</td>\n",
       "      <td>1.258508</td>\n",
       "    </tr>\n",
       "  </tbody>\n",
       "</table>\n",
       "</div>"
      ],
      "text/plain": [
       "             AAPL Open  AAPL Close    GOOG Open  GOOG Close  GOOG Diff  \\\n",
       "Date                                                                     \n",
       "2018-11-25  158.086578      159.42  1000.068966     1001.14   1.071034   \n",
       "2018-11-26  158.861892      159.91  1000.436653     1002.99   2.553347   \n",
       "2018-11-27  158.744276      160.28   999.784424     1002.45   2.665576   \n",
       "2018-11-28  158.912185      160.09  1001.096353     1002.64   1.543647   \n",
       "2018-11-29  158.251492      159.51   999.680920     1002.67   2.989080   \n",
       "\n",
       "            AAPL Diff  \n",
       "Date                   \n",
       "2018-11-25   1.333422  \n",
       "2018-11-26   1.048108  \n",
       "2018-11-27   1.535724  \n",
       "2018-11-28   1.177815  \n",
       "2018-11-29   1.258508  "
      ]
     },
     "execution_count": 45,
     "metadata": {},
     "output_type": "execute_result"
    }
   ],
   "source": [
    "stock_df.head()"
   ]
  },
  {
   "cell_type": "markdown",
   "metadata": {},
   "source": [
    "Note that an index is not accessible as column data.  What if I want both?   The date as the index as well as a separate column?\n",
    "\n",
    "Here's the quick solution"
   ]
  },
  {
   "cell_type": "code",
   "execution_count": 46,
   "metadata": {},
   "outputs": [
    {
     "data": {
      "text/html": [
       "<div>\n",
       "<style scoped>\n",
       "    .dataframe tbody tr th:only-of-type {\n",
       "        vertical-align: middle;\n",
       "    }\n",
       "\n",
       "    .dataframe tbody tr th {\n",
       "        vertical-align: top;\n",
       "    }\n",
       "\n",
       "    .dataframe thead th {\n",
       "        text-align: right;\n",
       "    }\n",
       "</style>\n",
       "<table border=\"1\" class=\"dataframe\">\n",
       "  <thead>\n",
       "    <tr style=\"text-align: right;\">\n",
       "      <th></th>\n",
       "      <th>Date</th>\n",
       "      <th>AAPL Open</th>\n",
       "      <th>AAPL Close</th>\n",
       "      <th>GOOG Open</th>\n",
       "      <th>GOOG Close</th>\n",
       "      <th>AAPL Diff</th>\n",
       "      <th>GOOG Diff</th>\n",
       "    </tr>\n",
       "    <tr>\n",
       "      <th>Date</th>\n",
       "      <th></th>\n",
       "      <th></th>\n",
       "      <th></th>\n",
       "      <th></th>\n",
       "      <th></th>\n",
       "      <th></th>\n",
       "      <th></th>\n",
       "    </tr>\n",
       "  </thead>\n",
       "  <tbody>\n",
       "    <tr>\n",
       "      <th>2018-11-25</th>\n",
       "      <td>2018-11-25</td>\n",
       "      <td>158.086578</td>\n",
       "      <td>159.42</td>\n",
       "      <td>1000.068966</td>\n",
       "      <td>1001.14</td>\n",
       "      <td>1.071034</td>\n",
       "      <td>1.333422</td>\n",
       "    </tr>\n",
       "    <tr>\n",
       "      <th>2018-11-26</th>\n",
       "      <td>2018-11-26</td>\n",
       "      <td>158.861892</td>\n",
       "      <td>159.91</td>\n",
       "      <td>1000.436653</td>\n",
       "      <td>1002.99</td>\n",
       "      <td>2.553347</td>\n",
       "      <td>1.048108</td>\n",
       "    </tr>\n",
       "    <tr>\n",
       "      <th>2018-11-27</th>\n",
       "      <td>2018-11-27</td>\n",
       "      <td>158.744276</td>\n",
       "      <td>160.28</td>\n",
       "      <td>999.784424</td>\n",
       "      <td>1002.45</td>\n",
       "      <td>2.665576</td>\n",
       "      <td>1.535724</td>\n",
       "    </tr>\n",
       "    <tr>\n",
       "      <th>2018-11-28</th>\n",
       "      <td>2018-11-28</td>\n",
       "      <td>158.912185</td>\n",
       "      <td>160.09</td>\n",
       "      <td>1001.096353</td>\n",
       "      <td>1002.64</td>\n",
       "      <td>1.543647</td>\n",
       "      <td>1.177815</td>\n",
       "    </tr>\n",
       "    <tr>\n",
       "      <th>2018-11-29</th>\n",
       "      <td>2018-11-29</td>\n",
       "      <td>158.251492</td>\n",
       "      <td>159.51</td>\n",
       "      <td>999.680920</td>\n",
       "      <td>1002.67</td>\n",
       "      <td>2.989080</td>\n",
       "      <td>1.258508</td>\n",
       "    </tr>\n",
       "    <tr>\n",
       "      <th>2018-11-30</th>\n",
       "      <td>2018-11-30</td>\n",
       "      <td>158.689255</td>\n",
       "      <td>160.23</td>\n",
       "      <td>1000.242952</td>\n",
       "      <td>1004.00</td>\n",
       "      <td>3.757048</td>\n",
       "      <td>1.540745</td>\n",
       "    </tr>\n",
       "  </tbody>\n",
       "</table>\n",
       "</div>"
      ],
      "text/plain": [
       "                 Date   AAPL Open  AAPL Close    GOOG Open  GOOG Close  \\\n",
       "Date                                                                     \n",
       "2018-11-25 2018-11-25  158.086578      159.42  1000.068966     1001.14   \n",
       "2018-11-26 2018-11-26  158.861892      159.91  1000.436653     1002.99   \n",
       "2018-11-27 2018-11-27  158.744276      160.28   999.784424     1002.45   \n",
       "2018-11-28 2018-11-28  158.912185      160.09  1001.096353     1002.64   \n",
       "2018-11-29 2018-11-29  158.251492      159.51   999.680920     1002.67   \n",
       "2018-11-30 2018-11-30  158.689255      160.23  1000.242952     1004.00   \n",
       "\n",
       "            AAPL Diff  GOOG Diff  \n",
       "Date                              \n",
       "2018-11-25   1.071034   1.333422  \n",
       "2018-11-26   2.553347   1.048108  \n",
       "2018-11-27   2.665576   1.535724  \n",
       "2018-11-28   1.543647   1.177815  \n",
       "2018-11-29   2.989080   1.258508  \n",
       "2018-11-30   3.757048   1.540745  "
      ]
     },
     "execution_count": 46,
     "metadata": {},
     "output_type": "execute_result"
    }
   ],
   "source": [
    "stock_df = pd.read_csv('../data/stock_data.csv')\n",
    "stock_df.set_index('Unnamed: 0',inplace = True, drop = False)\n",
    "stock_df.columns = ['Date', 'AAPL Open', 'AAPL Close','GOOG Open','GOOG Close','AAPL Diff','GOOG Diff']\n",
    "stock_df.index.names = ['Date']\n",
    "stock_df.index = pd.to_datetime(stock_df.index)\n",
    "stock_df['Date'] = pd.to_datetime(stock_df['Date'])\n",
    "stock_df.head(6)"
   ]
  },
  {
   "cell_type": "markdown",
   "metadata": {},
   "source": [
    "### Date and Time stamps in Pandas\n",
    "\n",
    "In Numpy, date and time stamps are represented by an eight byte number. \n",
    "You can create them by instantiating a datetime64 object.\n",
    "\n",
    "In Pandas, Datetime stamps represent a 600 year period from 1700-2300 A.D. \n",
    "Finest granularity are nanoseconds. \n",
    "Nanoseconds are important in time series databases such as KDB and some others. \n"
   ]
  },
  {
   "cell_type": "markdown",
   "metadata": {},
   "source": [
    "In Pandas, we can create datetime indexes.  All of the scalar values from the datetime index are timestamps. \n",
    "\n",
    "Also supports duplicate timestamps. "
   ]
  },
  {
   "cell_type": "markdown",
   "metadata": {},
   "source": [
    "Pandas timestamps inherit from the datetime.datetime class in Python.\n",
    "We can create our own timestamps using Pandas.  For example:"
   ]
  },
  {
   "cell_type": "code",
   "execution_count": 47,
   "metadata": {},
   "outputs": [
    {
     "data": {
      "text/plain": [
       "Timestamp('2018-03-01 14:01:43')"
      ]
     },
     "execution_count": 47,
     "metadata": {},
     "output_type": "execute_result"
    }
   ],
   "source": [
    "import pandas as pd\n",
    "from datetime import datetime\n",
    "pd.Timestamp('03/01/2018 14:01:43')"
   ]
  },
  {
   "cell_type": "code",
   "execution_count": 48,
   "metadata": {},
   "outputs": [
    {
     "data": {
      "text/plain": [
       "1519912903000000000"
      ]
     },
     "execution_count": 48,
     "metadata": {},
     "output_type": "execute_result"
    }
   ],
   "source": [
    "stamp = pd.Timestamp('03/01/2018 14:01:43')\n",
    "stamp.value # Value in Nanoseconds. "
   ]
  },
  {
   "cell_type": "markdown",
   "metadata": {},
   "source": [
    "Here we can convert a list of dates into an index in a series. Note we use the pd.to_datetime() method to convert the strings into timestamps.  Using isinstance shows that, in fact, converted strings to datetime time stamps. "
   ]
  },
  {
   "cell_type": "code",
   "execution_count": 49,
   "metadata": {},
   "outputs": [
    {
     "data": {
      "text/plain": [
       "['2018-12-25', '2019-01-01', '2019-01-02', '2019-01-03']"
      ]
     },
     "execution_count": 49,
     "metadata": {},
     "output_type": "execute_result"
    }
   ],
   "source": [
    "dates = ['2018-12-25', '2019-01-01', '2019-01-02', '2019-01-03']\n",
    "dates"
   ]
  },
  {
   "cell_type": "code",
   "execution_count": 50,
   "metadata": {},
   "outputs": [
    {
     "data": {
      "text/plain": [
       "2018-12-25    0\n",
       "2019-01-01    1\n",
       "2019-01-02    2\n",
       "2019-01-03    3\n",
       "dtype: int64"
      ]
     },
     "execution_count": 50,
     "metadata": {},
     "output_type": "execute_result"
    }
   ],
   "source": [
    "ts = pd.Series(range(4), index=pd.to_datetime(dates))\n",
    "ts"
   ]
  },
  {
   "cell_type": "code",
   "execution_count": 51,
   "metadata": {},
   "outputs": [
    {
     "data": {
      "text/plain": [
       "True"
      ]
     },
     "execution_count": 51,
     "metadata": {},
     "output_type": "execute_result"
    }
   ],
   "source": [
    "isinstance(ts.index[0],datetime)"
   ]
  },
  {
   "cell_type": "markdown",
   "metadata": {},
   "source": [
    "### More on timeseries indexing. \n",
    "Here we'll create a range of dates."
   ]
  },
  {
   "cell_type": "code",
   "execution_count": 52,
   "metadata": {},
   "outputs": [
    {
     "data": {
      "text/plain": [
       "DatetimeIndex(['2015-01-01', '2015-01-02', '2015-01-03', '2015-01-04',\n",
       "               '2015-01-05', '2015-01-06', '2015-01-07', '2015-01-08',\n",
       "               '2015-01-09', '2015-01-10',\n",
       "               ...\n",
       "               '2017-09-17', '2017-09-18', '2017-09-19', '2017-09-20',\n",
       "               '2017-09-21', '2017-09-22', '2017-09-23', '2017-09-24',\n",
       "               '2017-09-25', '2017-09-26'],\n",
       "              dtype='datetime64[ns]', length=1000, freq='D')"
      ]
     },
     "execution_count": 52,
     "metadata": {},
     "output_type": "execute_result"
    }
   ],
   "source": [
    "date_range = pd.date_range('2015-01-01', periods=1000)\n",
    "date_range"
   ]
  },
  {
   "cell_type": "markdown",
   "metadata": {},
   "source": [
    "Note that date_range is a list of datetime objects, with a frequency of 'D', or daily. \n",
    "Now let's create a series with 1000 random numbers. "
   ]
  },
  {
   "cell_type": "code",
   "execution_count": 53,
   "metadata": {},
   "outputs": [
    {
     "data": {
      "text/plain": [
       "2015-01-01      0\n",
       "2015-01-02      1\n",
       "2015-01-03      2\n",
       "2015-01-04      3\n",
       "2015-01-05      4\n",
       "2015-01-06      5\n",
       "2015-01-07      6\n",
       "2015-01-08      7\n",
       "2015-01-09      8\n",
       "2015-01-10      9\n",
       "2015-01-11     10\n",
       "2015-01-12     11\n",
       "2015-01-13     12\n",
       "2015-01-14     13\n",
       "2015-01-15     14\n",
       "2015-01-16     15\n",
       "2015-01-17     16\n",
       "2015-01-18     17\n",
       "2015-01-19     18\n",
       "2015-01-20     19\n",
       "2015-01-21     20\n",
       "2015-01-22     21\n",
       "2015-01-23     22\n",
       "2015-01-24     23\n",
       "2015-01-25     24\n",
       "2015-01-26     25\n",
       "2015-01-27     26\n",
       "2015-01-28     27\n",
       "2015-01-29     28\n",
       "2015-01-30     29\n",
       "             ... \n",
       "2017-08-28    970\n",
       "2017-08-29    971\n",
       "2017-08-30    972\n",
       "2017-08-31    973\n",
       "2017-09-01    974\n",
       "2017-09-02    975\n",
       "2017-09-03    976\n",
       "2017-09-04    977\n",
       "2017-09-05    978\n",
       "2017-09-06    979\n",
       "2017-09-07    980\n",
       "2017-09-08    981\n",
       "2017-09-09    982\n",
       "2017-09-10    983\n",
       "2017-09-11    984\n",
       "2017-09-12    985\n",
       "2017-09-13    986\n",
       "2017-09-14    987\n",
       "2017-09-15    988\n",
       "2017-09-16    989\n",
       "2017-09-17    990\n",
       "2017-09-18    991\n",
       "2017-09-19    992\n",
       "2017-09-20    993\n",
       "2017-09-21    994\n",
       "2017-09-22    995\n",
       "2017-09-23    996\n",
       "2017-09-24    997\n",
       "2017-09-25    998\n",
       "2017-09-26    999\n",
       "Freq: D, Length: 1000, dtype: int64"
      ]
     },
     "execution_count": 53,
     "metadata": {},
     "output_type": "execute_result"
    }
   ],
   "source": [
    "import numpy as np\n",
    "ts  = pd.Series(np.arange(1000), index = date_range)\n",
    "ts"
   ]
  },
  {
   "cell_type": "markdown",
   "metadata": {},
   "source": [
    "We can now access elements of the series via the datetime index.  There are many ways to specify this.  We can specify this by passing in a datetime object. "
   ]
  },
  {
   "cell_type": "code",
   "execution_count": 54,
   "metadata": {},
   "outputs": [
    {
     "data": {
      "text/plain": [
       "643"
      ]
     },
     "execution_count": 54,
     "metadata": {},
     "output_type": "execute_result"
    }
   ],
   "source": [
    "ts[datetime(2016,10,5)]"
   ]
  },
  {
   "cell_type": "markdown",
   "metadata": {},
   "source": [
    "We can specify it by passing in the datetime as a string. "
   ]
  },
  {
   "cell_type": "code",
   "execution_count": 55,
   "metadata": {},
   "outputs": [
    {
     "data": {
      "text/plain": [
       "643"
      ]
     },
     "execution_count": 55,
     "metadata": {},
     "output_type": "execute_result"
    }
   ],
   "source": [
    "ts['2016-10-5']"
   ]
  },
  {
   "cell_type": "markdown",
   "metadata": {},
   "source": [
    "We can also pass in the colunm value related to the index. "
   ]
  },
  {
   "cell_type": "code",
   "execution_count": 56,
   "metadata": {},
   "outputs": [
    {
     "data": {
      "text/plain": [
       "643"
      ]
     },
     "execution_count": 56,
     "metadata": {},
     "output_type": "execute_result"
    }
   ],
   "source": [
    "ts[643]"
   ]
  },
  {
   "cell_type": "markdown",
   "metadata": {},
   "source": [
    "We can slice the time series by dates. "
   ]
  },
  {
   "cell_type": "code",
   "execution_count": 57,
   "metadata": {},
   "outputs": [
    {
     "data": {
      "text/plain": [
       "2016-10-05    643\n",
       "2016-10-06    644\n",
       "2016-10-07    645\n",
       "2016-10-08    646\n",
       "2016-10-09    647\n",
       "2016-10-10    648\n",
       "2016-10-11    649\n",
       "2016-10-12    650\n",
       "2016-10-13    651\n",
       "2016-10-14    652\n",
       "2016-10-15    653\n",
       "2016-10-16    654\n",
       "2016-10-17    655\n",
       "2016-10-18    656\n",
       "2016-10-19    657\n",
       "2016-10-20    658\n",
       "2016-10-21    659\n",
       "2016-10-22    660\n",
       "2016-10-23    661\n",
       "2016-10-24    662\n",
       "2016-10-25    663\n",
       "2016-10-26    664\n",
       "2016-10-27    665\n",
       "2016-10-28    666\n",
       "2016-10-29    667\n",
       "2016-10-30    668\n",
       "2016-10-31    669\n",
       "2016-11-01    670\n",
       "2016-11-02    671\n",
       "2016-11-03    672\n",
       "             ... \n",
       "2017-08-28    970\n",
       "2017-08-29    971\n",
       "2017-08-30    972\n",
       "2017-08-31    973\n",
       "2017-09-01    974\n",
       "2017-09-02    975\n",
       "2017-09-03    976\n",
       "2017-09-04    977\n",
       "2017-09-05    978\n",
       "2017-09-06    979\n",
       "2017-09-07    980\n",
       "2017-09-08    981\n",
       "2017-09-09    982\n",
       "2017-09-10    983\n",
       "2017-09-11    984\n",
       "2017-09-12    985\n",
       "2017-09-13    986\n",
       "2017-09-14    987\n",
       "2017-09-15    988\n",
       "2017-09-16    989\n",
       "2017-09-17    990\n",
       "2017-09-18    991\n",
       "2017-09-19    992\n",
       "2017-09-20    993\n",
       "2017-09-21    994\n",
       "2017-09-22    995\n",
       "2017-09-23    996\n",
       "2017-09-24    997\n",
       "2017-09-25    998\n",
       "2017-09-26    999\n",
       "Freq: D, Length: 357, dtype: int64"
      ]
     },
     "execution_count": 57,
     "metadata": {},
     "output_type": "execute_result"
    }
   ],
   "source": [
    "ts['2016-10-5':]"
   ]
  },
  {
   "cell_type": "code",
   "execution_count": 58,
   "metadata": {},
   "outputs": [
    {
     "data": {
      "text/plain": [
       "2016-10-05    643\n",
       "2016-10-06    644\n",
       "2016-10-07    645\n",
       "2016-10-08    646\n",
       "2016-10-09    647\n",
       "2016-10-10    648\n",
       "2016-10-11    649\n",
       "2016-10-12    650\n",
       "2016-10-13    651\n",
       "2016-10-14    652\n",
       "2016-10-15    653\n",
       "2016-10-16    654\n",
       "2016-10-17    655\n",
       "2016-10-18    656\n",
       "2016-10-19    657\n",
       "2016-10-20    658\n",
       "2016-10-21    659\n",
       "2016-10-22    660\n",
       "2016-10-23    661\n",
       "2016-10-24    662\n",
       "2016-10-25    663\n",
       "2016-10-26    664\n",
       "2016-10-27    665\n",
       "2016-10-28    666\n",
       "2016-10-29    667\n",
       "2016-10-30    668\n",
       "2016-10-31    669\n",
       "2016-11-01    670\n",
       "2016-11-02    671\n",
       "2016-11-03    672\n",
       "             ... \n",
       "2016-12-03    702\n",
       "2016-12-04    703\n",
       "2016-12-05    704\n",
       "2016-12-06    705\n",
       "2016-12-07    706\n",
       "2016-12-08    707\n",
       "2016-12-09    708\n",
       "2016-12-10    709\n",
       "2016-12-11    710\n",
       "2016-12-12    711\n",
       "2016-12-13    712\n",
       "2016-12-14    713\n",
       "2016-12-15    714\n",
       "2016-12-16    715\n",
       "2016-12-17    716\n",
       "2016-12-18    717\n",
       "2016-12-19    718\n",
       "2016-12-20    719\n",
       "2016-12-21    720\n",
       "2016-12-22    721\n",
       "2016-12-23    722\n",
       "2016-12-24    723\n",
       "2016-12-25    724\n",
       "2016-12-26    725\n",
       "2016-12-27    726\n",
       "2016-12-28    727\n",
       "2016-12-29    728\n",
       "2016-12-30    729\n",
       "2016-12-31    730\n",
       "2017-01-01    731\n",
       "Freq: D, Length: 89, dtype: int64"
      ]
     },
     "execution_count": 58,
     "metadata": {},
     "output_type": "execute_result"
    }
   ],
   "source": [
    "ts['2016-10-5':'2017-01-01']"
   ]
  },
  {
   "cell_type": "markdown",
   "metadata": {},
   "source": [
    "Let's shuffle the time stamps in some random fashion. "
   ]
  },
  {
   "cell_type": "code",
   "execution_count": 59,
   "metadata": {},
   "outputs": [
    {
     "data": {
      "text/plain": [
       "2016-07-07    553\n",
       "2016-02-27    422\n",
       "2017-08-28    970\n",
       "2017-08-24    966\n",
       "2015-01-22     21\n",
       "2015-07-08    188\n",
       "2016-07-15    561\n",
       "2015-10-27    299\n",
       "2017-08-04    946\n",
       "2015-01-11     10\n",
       "2015-12-28    361\n",
       "2017-05-17    867\n",
       "2016-05-15    500\n",
       "2017-04-30    850\n",
       "2015-05-01    120\n",
       "2017-07-29    940\n",
       "2016-03-22    446\n",
       "2017-08-22    964\n",
       "2015-05-09    128\n",
       "2017-04-29    849\n",
       "2017-04-14    834\n",
       "2015-12-31    364\n",
       "2017-03-14    803\n",
       "2017-04-26    846\n",
       "2017-02-08    769\n",
       "2015-08-11    222\n",
       "2016-10-29    667\n",
       "2016-08-01    578\n",
       "2016-08-19    596\n",
       "2017-09-05    978\n",
       "             ... \n",
       "2015-10-25    297\n",
       "2016-06-19    535\n",
       "2015-06-09    159\n",
       "2016-02-06    401\n",
       "2016-11-23    692\n",
       "2015-10-22    294\n",
       "2016-03-12    436\n",
       "2015-02-17     47\n",
       "2015-11-09    312\n",
       "2017-06-06    887\n",
       "2017-05-22    872\n",
       "2016-09-25    633\n",
       "2017-09-18    991\n",
       "2016-05-26    511\n",
       "2017-01-23    753\n",
       "2017-02-19    780\n",
       "2017-02-01    762\n",
       "2015-07-17    197\n",
       "2016-03-10    434\n",
       "2015-02-01     31\n",
       "2017-08-03    945\n",
       "2017-03-25    814\n",
       "2016-12-21    720\n",
       "2015-01-27     26\n",
       "2015-07-09    189\n",
       "2015-09-13    255\n",
       "2016-11-21    690\n",
       "2017-09-11    984\n",
       "2016-07-01    547\n",
       "2016-07-26    572\n",
       "Length: 1000, dtype: int64"
      ]
     },
     "execution_count": 59,
     "metadata": {},
     "output_type": "execute_result"
    }
   ],
   "source": [
    "ts2 = ts.take(np.random.permutation(len(ts)))\n",
    "ts2"
   ]
  }
 ],
 "metadata": {
  "kernelspec": {
   "display_name": "Python 3",
   "language": "python",
   "name": "python3"
  },
  "language_info": {
   "codemirror_mode": {
    "name": "ipython",
    "version": 3
   },
   "file_extension": ".py",
   "mimetype": "text/x-python",
   "name": "python",
   "nbconvert_exporter": "python",
   "pygments_lexer": "ipython3",
   "version": "3.6.7"
  },
  "toc": {
   "base_numbering": 1,
   "nav_menu": {},
   "number_sections": true,
   "sideBar": true,
   "skip_h1_title": false,
   "title_cell": "Table of Contents",
   "title_sidebar": "Contents",
   "toc_cell": false,
   "toc_position": {},
   "toc_section_display": true,
   "toc_window_display": false
  }
 },
 "nbformat": 4,
 "nbformat_minor": 2
}
