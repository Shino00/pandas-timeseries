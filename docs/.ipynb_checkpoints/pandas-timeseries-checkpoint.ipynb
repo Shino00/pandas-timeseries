{
 "cells": [
  {
   "cell_type": "markdown",
   "metadata": {},
   "source": [
    "# Pandas for Financial Time Series Data"
   ]
  },
  {
   "cell_type": "markdown",
   "metadata": {},
   "source": [
    "## Pandas Data Structures\n",
    "\n",
    "Pandas has three main data structures\n",
    "- Series\n",
    "- Dataframes\n",
    "- Panels\n",
    "\n",
    "In this course, we're going to study mainly series and dataframes. \n",
    "A series is the equivalent of a column in an Excel spreadsheet\n",
    "A dataframe is the equivalent of a sheet in Excel.\n",
    "A panel would be a data structure that contains multiple dataframes. "
   ]
  },
  {
   "cell_type": "markdown",
   "metadata": {},
   "source": [
    "Here we'll do just a quick example to show how easy it is to use Python to visualize data. \n",
    "To start out, we need to import the proper libraries.  In this case, we want the pandas library, the numpy library, and some plotting libraries. \n",
    "Matplotlib inline is simply a directive to the notebook to tell it to display the plots inside the notebook rather than from a separate window. "
   ]
  },
  {
   "cell_type": "code",
   "execution_count": 4,
   "metadata": {},
   "outputs": [
    {
     "data": {
      "text/plain": [
       "[<matplotlib.lines.Line2D at 0x7f6996e33630>]"
      ]
     },
     "execution_count": 4,
     "metadata": {},
     "output_type": "execute_result"
    },
    {
     "data": {
      "image/png": "[encoded data removed]",
      "text/plain": [
       "<Figure size 432x288 with 1 Axes>"
      ]
     },
     "metadata": {},
     "output_type": "display_data"
    }
   ],
   "source": [
    "%matplotlib inline\n",
    "import pandas as pd\n",
    "import numpy as np\n",
    "import matplotlib.pyplot as plt\n",
    "\n",
    "# Create a random array of 1000 values and do a cumulative sum over the array, then plot it. \n",
    "plt.plot(np.random.randn(1000).cumsum())\n"
   ]
  },
  {
   "cell_type": "markdown",
   "metadata": {},
   "source": [
    "### Pandas Series\n",
    "\n",
    "The first Pandas data structure we're going to look at is the Series.  Series are simple one dimensional vectors of data that we can manipulate. \n",
    "\n",
    "For example. \n"
   ]
  },
  {
   "cell_type": "code",
   "execution_count": 5,
   "metadata": {},
   "outputs": [
    {
     "data": {
      "text/plain": [
       "First     0\n",
       "Second    1\n",
       "Third     2\n",
       "Fourth    3\n",
       "dtype: int64"
      ]
     },
     "execution_count": 5,
     "metadata": {},
     "output_type": "execute_result"
    }
   ],
   "source": [
    "index = ['First','Second','Third','Fourth']\n",
    "\n",
    "s = pd.Series(np.arange(4), index=index)\n",
    "s"
   ]
  },
  {
   "cell_type": "markdown",
   "metadata": {},
   "source": [
    "Note that in the above Series, we've got an index for each row in the column that we've defined ourself.  Also note that the output shows that the data type for each row of data is a 64 bit integer. \n",
    "(dtype)"
   ]
  },
  {
   "cell_type": "code",
   "execution_count": 6,
   "metadata": {},
   "outputs": [
    {
     "data": {
      "text/plain": [
       "array([0, 1, 2, 3])"
      ]
     },
     "execution_count": 6,
     "metadata": {},
     "output_type": "execute_result"
    }
   ],
   "source": [
    "s.values"
   ]
  },
  {
   "cell_type": "code",
   "execution_count": 7,
   "metadata": {},
   "outputs": [
    {
     "data": {
      "text/plain": [
       "Index(['First', 'Second', 'Third', 'Fourth'], dtype='object')"
      ]
     },
     "execution_count": 7,
     "metadata": {},
     "output_type": "execute_result"
    }
   ],
   "source": [
    "s.index"
   ]
  },
  {
   "cell_type": "markdown",
   "metadata": {},
   "source": [
    "Note that we can access each of the parts of the Series, such as the data and the index by using the '.' operator and the name of the attribute.  "
   ]
  },
  {
   "cell_type": "markdown",
   "metadata": {},
   "source": [
    "We can also do math along the entire Series vector.   "
   ]
  },
  {
   "cell_type": "code",
   "execution_count": 8,
   "metadata": {},
   "outputs": [
    {
     "data": {
      "text/plain": [
       "First     0\n",
       "Second    1\n",
       "Third     4\n",
       "Fourth    9\n",
       "dtype: int64"
      ]
     },
     "execution_count": 8,
     "metadata": {},
     "output_type": "execute_result"
    }
   ],
   "source": [
    "s * s"
   ]
  },
  {
   "cell_type": "code",
   "execution_count": 9,
   "metadata": {},
   "outputs": [
    {
     "data": {
      "text/plain": [
       "First     1\n",
       "Second    2\n",
       "Third     3\n",
       "Fourth    4\n",
       "dtype: int64"
      ]
     },
     "execution_count": 9,
     "metadata": {},
     "output_type": "execute_result"
    }
   ],
   "source": [
    "s += 1\n",
    "s"
   ]
  },
  {
   "cell_type": "markdown",
   "metadata": {},
   "source": [
    "Often, we'd like to only use or access a portion of the series (called a *slice*)\n",
    "To do this, we use the [ ] operator.  There are three arguments that you pass to this operator, separated by a ':'.  The *start* of the slice, the *end* of the slice, and the *step* operator. \n",
    "In both Python and Pandas, the end is subtracted by one. For example. \n"
   ]
  },
  {
   "cell_type": "code",
   "execution_count": 10,
   "metadata": {},
   "outputs": [
    {
     "name": "stdout",
     "output_type": "stream",
     "text": [
      "['a', 'b', 'c', 'd']\n",
      "0    a\n",
      "1    b\n",
      "2    c\n",
      "3    d\n",
      "dtype: object\n"
     ]
    }
   ],
   "source": [
    "list1 = ['a','b','c','d','e']\n",
    "print (list1[0:4])\n",
    "s = pd.Series(list1)\n",
    "print (s[0:4])"
   ]
  },
  {
   "cell_type": "markdown",
   "metadata": {},
   "source": [
    "If we don't specify an index for our Series, by default Pandas uses the whole number set increasing by one. "
   ]
  },
  {
   "cell_type": "markdown",
   "metadata": {},
   "source": [
    "We can skip any or all of the parameters to the [ ] operator. For example:"
   ]
  },
  {
   "cell_type": "code",
   "execution_count": 11,
   "metadata": {},
   "outputs": [
    {
     "name": "stdout",
     "output_type": "stream",
     "text": [
      "['a', 'b', 'c', 'd']\n"
     ]
    },
    {
     "data": {
      "text/plain": [
       "0    a\n",
       "1    b\n",
       "2    c\n",
       "3    d\n",
       "dtype: object"
      ]
     },
     "execution_count": 11,
     "metadata": {},
     "output_type": "execute_result"
    }
   ],
   "source": [
    "print (list1[:4])\n",
    "s[:4]"
   ]
  },
  {
   "cell_type": "markdown",
   "metadata": {},
   "source": [
    "If you don't specify the first number, Python assumes the first element of the data structure. \n",
    "If you don't specify the last number, Python assumes the last element of the data structure. \n"
   ]
  },
  {
   "cell_type": "code",
   "execution_count": 12,
   "metadata": {},
   "outputs": [
    {
     "name": "stdout",
     "output_type": "stream",
     "text": [
      "['e', 'd', 'c', 'b', 'a']\n"
     ]
    },
    {
     "data": {
      "text/plain": [
       "4    e\n",
       "3    d\n",
       "2    c\n",
       "1    b\n",
       "0    a\n",
       "dtype: object"
      ]
     },
     "execution_count": 12,
     "metadata": {},
     "output_type": "execute_result"
    }
   ],
   "source": [
    "print (list1[::-1])\n",
    "s[::-1]"
   ]
  },
  {
   "cell_type": "markdown",
   "metadata": {},
   "source": [
    "We can also access elements of our Series by putting in the index value like so:"
   ]
  },
  {
   "cell_type": "code",
   "execution_count": 13,
   "metadata": {},
   "outputs": [
    {
     "name": "stdout",
     "output_type": "stream",
     "text": [
      "e\n"
     ]
    }
   ],
   "source": [
    "s.index = ['fee','fi','fo','fum','foo']\n",
    "print (s['foo'])\n"
   ]
  },
  {
   "cell_type": "code",
   "execution_count": 14,
   "metadata": {},
   "outputs": [
    {
     "data": {
      "text/plain": [
       "'e'"
      ]
     },
     "execution_count": 14,
     "metadata": {},
     "output_type": "execute_result"
    }
   ],
   "source": [
    "s.foo"
   ]
  },
  {
   "cell_type": "markdown",
   "metadata": {},
   "source": [
    "We can also slice by index value. "
   ]
  },
  {
   "cell_type": "code",
   "execution_count": 15,
   "metadata": {},
   "outputs": [
    {
     "name": "stdout",
     "output_type": "stream",
     "text": [
      "fi     b\n",
      "fo     c\n",
      "fum    d\n",
      "foo    e\n",
      "dtype: object\n"
     ]
    }
   ],
   "source": [
    "print (s['fi':])"
   ]
  },
  {
   "cell_type": "markdown",
   "metadata": {},
   "source": [
    "### Pandas and datetime\n",
    "\n",
    "The datetime stamp is one of the common fields in time series data.  Let's look at how this works. \n",
    "First, we'll show how to create a range of dates using the date_range method from Pandas. \n"
   ]
  },
  {
   "cell_type": "code",
   "execution_count": 9,
   "metadata": {},
   "outputs": [
    {
     "data": {
      "text/plain": [
       "DatetimeIndex([], dtype='datetime64[ns]', freq='D')"
      ]
     },
     "execution_count": 9,
     "metadata": {},
     "output_type": "execute_result"
    }
   ],
   "source": [
    "dates  = pd.date_range('2018-11-26','2018-07-07',dayfirst = False)\n",
    "dates"
   ]
  },
  {
   "cell_type": "markdown",
   "metadata": {},
   "source": [
    "Now, let's create some sample data, in this case, a series of Open, High, Low and Close data in our dataframe using the date time index.  Note that these values are just made up, and don't reflect real asset prices for the dates."
   ]
  },
  {
   "cell_type": "code",
   "execution_count": 10,
   "metadata": {},
   "outputs": [
    {
     "ename": "ValueError",
     "evalue": "Wrong number of items passed 6, placement implies 0",
     "output_type": "error",
     "traceback": [
      "\u001b[0;31m---------------------------------------------------------------------------\u001b[0m",
      "\u001b[0;31mValueError\u001b[0m                                Traceback (most recent call last)",
      "\u001b[0;32m<ipython-input-10-d3237e14d575>\u001b[0m in \u001b[0;36m<module>\u001b[0;34m()\u001b[0m\n\u001b[1;32m      1\u001b[0m \u001b[0mgoog_prices\u001b[0m \u001b[0;34m=\u001b[0m \u001b[0;34m[\u001b[0m\u001b[0;36m998.02\u001b[0m\u001b[0;34m,\u001b[0m \u001b[0;36m1001.56\u001b[0m\u001b[0;34m,\u001b[0m\u001b[0;36m994.51\u001b[0m\u001b[0;34m,\u001b[0m \u001b[0;36m1001.22\u001b[0m\u001b[0;34m,\u001b[0m \u001b[0;36m1002.25\u001b[0m\u001b[0;34m,\u001b[0m \u001b[0;36m1003.61\u001b[0m\u001b[0;34m]\u001b[0m\u001b[0;34m\u001b[0m\u001b[0;34m\u001b[0m\u001b[0m\n\u001b[0;32m----> 2\u001b[0;31m \u001b[0mgoog_stock_series\u001b[0m \u001b[0;34m=\u001b[0m \u001b[0mpd\u001b[0m\u001b[0;34m.\u001b[0m\u001b[0mSeries\u001b[0m\u001b[0;34m(\u001b[0m\u001b[0mgoog_prices\u001b[0m\u001b[0;34m,\u001b[0m \u001b[0mindex\u001b[0m\u001b[0;34m=\u001b[0m\u001b[0mdates\u001b[0m\u001b[0;34m)\u001b[0m\u001b[0;34m\u001b[0m\u001b[0;34m\u001b[0m\u001b[0m\n\u001b[0m\u001b[1;32m      3\u001b[0m \u001b[0mgoog_stock_series\u001b[0m\u001b[0;34m\u001b[0m\u001b[0;34m\u001b[0m\u001b[0m\n",
      "\u001b[0;32m/usr/local/lib/python3.6/dist-packages/pandas/core/series.py\u001b[0m in \u001b[0;36m__init__\u001b[0;34m(self, data, index, dtype, name, copy, fastpath)\u001b[0m\n\u001b[1;32m    264\u001b[0m                                        raise_cast_failure=True)\n\u001b[1;32m    265\u001b[0m \u001b[0;34m\u001b[0m\u001b[0m\n\u001b[0;32m--> 266\u001b[0;31m                 \u001b[0mdata\u001b[0m \u001b[0;34m=\u001b[0m \u001b[0mSingleBlockManager\u001b[0m\u001b[0;34m(\u001b[0m\u001b[0mdata\u001b[0m\u001b[0;34m,\u001b[0m \u001b[0mindex\u001b[0m\u001b[0;34m,\u001b[0m \u001b[0mfastpath\u001b[0m\u001b[0;34m=\u001b[0m\u001b[0;32mTrue\u001b[0m\u001b[0;34m)\u001b[0m\u001b[0;34m\u001b[0m\u001b[0;34m\u001b[0m\u001b[0m\n\u001b[0m\u001b[1;32m    267\u001b[0m \u001b[0;34m\u001b[0m\u001b[0m\n\u001b[1;32m    268\u001b[0m         \u001b[0mgeneric\u001b[0m\u001b[0;34m.\u001b[0m\u001b[0mNDFrame\u001b[0m\u001b[0;34m.\u001b[0m\u001b[0m__init__\u001b[0m\u001b[0;34m(\u001b[0m\u001b[0mself\u001b[0m\u001b[0;34m,\u001b[0m \u001b[0mdata\u001b[0m\u001b[0;34m,\u001b[0m \u001b[0mfastpath\u001b[0m\u001b[0;34m=\u001b[0m\u001b[0;32mTrue\u001b[0m\u001b[0;34m)\u001b[0m\u001b[0;34m\u001b[0m\u001b[0;34m\u001b[0m\u001b[0m\n",
      "\u001b[0;32m/usr/local/lib/python3.6/dist-packages/pandas/core/internals.py\u001b[0m in \u001b[0;36m__init__\u001b[0;34m(self, block, axis, do_integrity_check, fastpath)\u001b[0m\n\u001b[1;32m   4400\u001b[0m         \u001b[0;32mif\u001b[0m \u001b[0;32mnot\u001b[0m \u001b[0misinstance\u001b[0m\u001b[0;34m(\u001b[0m\u001b[0mblock\u001b[0m\u001b[0;34m,\u001b[0m \u001b[0mBlock\u001b[0m\u001b[0;34m)\u001b[0m\u001b[0;34m:\u001b[0m\u001b[0;34m\u001b[0m\u001b[0;34m\u001b[0m\u001b[0m\n\u001b[1;32m   4401\u001b[0m             block = make_block(block, placement=slice(0, len(axis)), ndim=1,\n\u001b[0;32m-> 4402\u001b[0;31m                                fastpath=True)\n\u001b[0m\u001b[1;32m   4403\u001b[0m \u001b[0;34m\u001b[0m\u001b[0m\n\u001b[1;32m   4404\u001b[0m         \u001b[0mself\u001b[0m\u001b[0;34m.\u001b[0m\u001b[0mblocks\u001b[0m \u001b[0;34m=\u001b[0m \u001b[0;34m[\u001b[0m\u001b[0mblock\u001b[0m\u001b[0;34m]\u001b[0m\u001b[0;34m\u001b[0m\u001b[0;34m\u001b[0m\u001b[0m\n",
      "\u001b[0;32m/usr/local/lib/python3.6/dist-packages/pandas/core/internals.py\u001b[0m in \u001b[0;36mmake_block\u001b[0;34m(values, placement, klass, ndim, dtype, fastpath)\u001b[0m\n\u001b[1;32m   2955\u001b[0m                      placement=placement, dtype=dtype)\n\u001b[1;32m   2956\u001b[0m \u001b[0;34m\u001b[0m\u001b[0m\n\u001b[0;32m-> 2957\u001b[0;31m     \u001b[0;32mreturn\u001b[0m \u001b[0mklass\u001b[0m\u001b[0;34m(\u001b[0m\u001b[0mvalues\u001b[0m\u001b[0;34m,\u001b[0m \u001b[0mndim\u001b[0m\u001b[0;34m=\u001b[0m\u001b[0mndim\u001b[0m\u001b[0;34m,\u001b[0m \u001b[0mfastpath\u001b[0m\u001b[0;34m=\u001b[0m\u001b[0mfastpath\u001b[0m\u001b[0;34m,\u001b[0m \u001b[0mplacement\u001b[0m\u001b[0;34m=\u001b[0m\u001b[0mplacement\u001b[0m\u001b[0;34m)\u001b[0m\u001b[0;34m\u001b[0m\u001b[0;34m\u001b[0m\u001b[0m\n\u001b[0m\u001b[1;32m   2958\u001b[0m \u001b[0;34m\u001b[0m\u001b[0m\n\u001b[1;32m   2959\u001b[0m \u001b[0;31m# TODO: flexible with index=None and/or items=None\u001b[0m\u001b[0;34m\u001b[0m\u001b[0;34m\u001b[0m\u001b[0;34m\u001b[0m\u001b[0m\n",
      "\u001b[0;32m/usr/local/lib/python3.6/dist-packages/pandas/core/internals.py\u001b[0m in \u001b[0;36m__init__\u001b[0;34m(self, values, placement, ndim, fastpath)\u001b[0m\n\u001b[1;32m    118\u001b[0m             raise ValueError('Wrong number of items passed %d, placement '\n\u001b[1;32m    119\u001b[0m                              'implies %d' % (len(self.values),\n\u001b[0;32m--> 120\u001b[0;31m                                              len(self.mgr_locs)))\n\u001b[0m\u001b[1;32m    121\u001b[0m \u001b[0;34m\u001b[0m\u001b[0m\n\u001b[1;32m    122\u001b[0m     \u001b[0;34m@\u001b[0m\u001b[0mproperty\u001b[0m\u001b[0;34m\u001b[0m\u001b[0;34m\u001b[0m\u001b[0m\n",
      "\u001b[0;31mValueError\u001b[0m: Wrong number of items passed 6, placement implies 0"
     ]
    }
   ],
   "source": [
    "goog_prices = [998.02, 1001.56,994.51, 1001.22, 1002.25, 1003.61]\n",
    "goog_stock_series = pd.Series(goog_prices, index=dates)\n",
    "goog_stock_series"
   ]
  },
  {
   "cell_type": "markdown",
   "metadata": {},
   "source": [
    "Note that we now have a datetime index rather than using a sequence of numbers or letters. \n",
    "Let's do a second stock."
   ]
  },
  {
   "cell_type": "code",
   "execution_count": null,
   "metadata": {},
   "outputs": [],
   "source": [
    "aapl_prices = [157.02, 158.56,159.51, 155.22, 152.25, 154.61]\n",
    "aapl_stock_series = pd.Series(aapl_prices, index=dates)\n",
    "aapl_stock_series"
   ]
  },
  {
   "cell_type": "markdown",
   "metadata": {},
   "source": [
    "Note that we can combine these two series into a dataframe. "
   ]
  },
  {
   "cell_type": "code",
   "execution_count": null,
   "metadata": {},
   "outputs": [],
   "source": [
    "stock_df = pd.DataFrame({'GOOG': goog_stock_series, 'AAPL':aapl_stock_series})\n",
    "stock_df"
   ]
  },
  {
   "cell_type": "markdown",
   "metadata": {},
   "source": [
    "Note that in the above code, we created a datetime index, and created column headers by using a dictionary of key value pairs to do so.  Note that the dataframe also has a row index, just like the series. and also a column index. "
   ]
  },
  {
   "cell_type": "code",
   "execution_count": null,
   "metadata": {},
   "outputs": [],
   "source": [
    "stock_df.index"
   ]
  },
  {
   "cell_type": "code",
   "execution_count": null,
   "metadata": {},
   "outputs": [],
   "source": [
    "stock_df.columns"
   ]
  },
  {
   "cell_type": "markdown",
   "metadata": {},
   "source": [
    "We can also retrieve data from the dataframe by column index. "
   ]
  },
  {
   "cell_type": "code",
   "execution_count": null,
   "metadata": {},
   "outputs": [],
   "source": [
    "stock_df['GOOG']"
   ]
  },
  {
   "cell_type": "markdown",
   "metadata": {},
   "source": [
    "    We can also retrieve colums by using the '.' operator rather than the [ ] operator.  For example"
   ]
  },
  {
   "cell_type": "code",
   "execution_count": null,
   "metadata": {},
   "outputs": [],
   "source": [
    "stock_df.AAPL"
   ]
  },
  {
   "cell_type": "markdown",
   "metadata": {},
   "source": [
    "Let's go a bit further.  Say that we now have both open and close data for each stock.  Let's create a dataframe that contains both."
   ]
  },
  {
   "cell_type": "code",
   "execution_count": null,
   "metadata": {},
   "outputs": [],
   "source": [
    "import random\n",
    "# Create 30 days of stock prices for GOOG and AAPL. \n",
    "goog_open_prices = [ goog_prices [0] + random.uniform(1,4) for _ in range(30) ]\n",
    "aapl_open_prices = [ aapl_prices [0] + random.uniform (1,2) for _ in range(30) ]\n",
    "# Add a random shift to the open price to mock a close price.  Values are random numbers between\n",
    "# -2 and 2.\n",
    "goog_close_prices = [ round(price + random.uniform(1,4),2) for price in goog_open_prices ]\n",
    "aapl_close_prices = [ round(price +random.uniform(1,2),2) for price in aapl_open_prices]\n",
    "goog_open_prices"
   ]
  },
  {
   "cell_type": "code",
   "execution_count": null,
   "metadata": {},
   "outputs": [],
   "source": [
    "goog_close_prices"
   ]
  },
  {
   "cell_type": "code",
   "execution_count": null,
   "metadata": {},
   "outputs": [],
   "source": [
    "aapl_close_prices"
   ]
  },
  {
   "cell_type": "code",
   "execution_count": null,
   "metadata": {},
   "outputs": [],
   "source": [
    "dates  = pd.date_range('2018-11-25','2018-12-24')\n",
    "stock_df_columns = ['AAPL Open', 'AAPL Close', 'GOOG Open', 'GOOG Close']\n",
    "stock_df = pd.DataFrame({'AAPL Open':aapl_open_prices,'AAPL Close':aapl_close_prices,\n",
    "                                    'GOOG Open': goog_open_prices, 'GOOG Close': goog_close_prices},\n",
    "                                     index=dates,columns = stock_df_columns)\n",
    "stock_df"
   ]
  },
  {
   "cell_type": "markdown",
   "metadata": {},
   "source": [
    "Now let's compute the difference between the open and close price for both Apple and Google and add these value as a new columns in our stock_df datframe\n"
   ]
  },
  {
   "cell_type": "code",
   "execution_count": null,
   "metadata": {},
   "outputs": [],
   "source": [
    "stock_df['GOOG Diff'] = stock_df['GOOG Close'] - stock_df['GOOG Open']\n",
    "stock_df['AAPL Diff'] = stock_df['AAPL Close'] - stock_df['AAPL Open']\n",
    "stock_df"
   ]
  },
  {
   "cell_type": "markdown",
   "metadata": {},
   "source": [
    "Let's do a couple of visualizations.  Let's plot  line graph for both Google and Apple showing both the open and close lines. "
   ]
  },
  {
   "cell_type": "code",
   "execution_count": null,
   "metadata": {},
   "outputs": [],
   "source": [
    "fig = plt.figure(figsize=(16,8))\n",
    "plt.plot(stock_df['AAPL Open'], label = 'AAPL Open')\n",
    "plt.plot(stock_df['AAPL Close'], label = 'AAPL Close')\n",
    "plt.title('Apple Stock Price')\n",
    "plt.xlabel('Date')\n",
    "plt.ylabel('Price') \n",
    "plt.legend()"
   ]
  },
  {
   "cell_type": "code",
   "execution_count": null,
   "metadata": {},
   "outputs": [],
   "source": [
    "fig = plt.figure(figsize=(16,8))\n",
    "plt.plot(stock_df['GOOG Open'], label = 'GOOG Open')\n",
    "plt.plot(stock_df['GOOG Close'], label = 'GOOG Close')\n",
    "plt.title('Google Stock Price')\n",
    "plt.xlabel('Date')\n",
    "plt.ylabel('Price') \n",
    "plt.legend()"
   ]
  },
  {
   "cell_type": "markdown",
   "metadata": {},
   "source": [
    "We can also use Pandas to immediately calculate some common statistical functions.  For example"
   ]
  },
  {
   "cell_type": "code",
   "execution_count": null,
   "metadata": {},
   "outputs": [],
   "source": [
    "stock_df['GOOG Open'].mean()"
   ]
  },
  {
   "cell_type": "code",
   "execution_count": null,
   "metadata": {},
   "outputs": [],
   "source": [
    "stock_df['AAPL Close'].median()"
   ]
  },
  {
   "cell_type": "code",
   "execution_count": null,
   "metadata": {},
   "outputs": [],
   "source": [
    "stock_df['GOOG Close'].mode()"
   ]
  },
  {
   "cell_type": "markdown",
   "metadata": {},
   "source": [
    "In numpy, mean(), median() and mode() all take as a parameter a number that defines whether we want to perform the operation over the columns or over the rows.  "
   ]
  },
  {
   "cell_type": "code",
   "execution_count": null,
   "metadata": {},
   "outputs": [],
   "source": [
    "# 5 x 5 array of random numbers. \n",
    "test_array = np.random.randn(5,5)\n",
    "print ('Mean value for entire array ',test_array.mean())\n",
    "print ('Row mean values ', test_array.mean(0))\n",
    "print ('Column mean values',test_array.mean(1))"
   ]
  },
  {
   "cell_type": "markdown",
   "metadata": {},
   "source": [
    "In a Pandas dataframe, the default behavior (i.e. no parameter specified) is to compute the mean over the columns. Supplying a 1 computes the row means. "
   ]
  },
  {
   "cell_type": "markdown",
   "metadata": {},
   "source": [
    "In our previous stock data, if we subtract the daily price from the mean, we'll get the deviations from the mean for each timestamp. "
   ]
  },
  {
   "cell_type": "code",
   "execution_count": null,
   "metadata": {},
   "outputs": [],
   "source": [
    "stock_df - stock_df.mean()"
   ]
  },
  {
   "cell_type": "markdown",
   "metadata": {},
   "source": [
    "One very nice feature of Pandas is boolean selection, i.e. We can select on rows or columns according to some boolean expression.  For example, if we want to select all rows where the price of AAPL close is > 158.50 USD, we can do the following.  "
   ]
  },
  {
   "cell_type": "code",
   "execution_count": null,
   "metadata": {
    "scrolled": true
   },
   "outputs": [],
   "source": [
    "#aapl_close = stock_df[stock_df['AAPL Close'] > 159.5]\n",
    "stock_df['AAPL Close']\n",
    "#print (aapl_close[aapl_close > 159.5])"
   ]
  },
  {
   "cell_type": "code",
   "execution_count": null,
   "metadata": {},
   "outputs": [],
   "source": []
  },
  {
   "cell_type": "code",
   "execution_count": null,
   "metadata": {},
   "outputs": [],
   "source": [
    "#stock_df[[]list of columns]]\n",
    "new_series = stock_df[(stock_df['GOOG Close'] > 999.99) & (stock_df['AAPL Close'] > 158.50)].apply(lambda x: x + 1)\n",
    "new_series"
   ]
  },
  {
   "cell_type": "markdown",
   "metadata": {},
   "source": [
    "### Reading data from a csv file into a Pandas dataframe\n",
    "\n",
    "To read data from a csv file into a Pandas dataframe, we can use the 'read_csv' method.  For example, \n",
    "we've written the stock data to a file called 'stock_data.csv'.  Let's read that file from the disk into our stock_df dataframe. Note that we need to set the first column (The date column) to be our index, and then, we rename it to Date. "
   ]
  },
  {
   "cell_type": "code",
   "execution_count": null,
   "metadata": {},
   "outputs": [],
   "source": [
    "!cat ../data/stock_data.csv"
   ]
  },
  {
   "cell_type": "code",
   "execution_count": null,
   "metadata": {},
   "outputs": [],
   "source": [
    "stock_df = pd.read_csv('../data/stock_data.csv')\n",
    "stock_df.set_index('Unnamed: 0',inplace=True)\n",
    "stock_df.index.names = ['Date']\n",
    "stock_df"
   ]
  },
  {
   "cell_type": "markdown",
   "metadata": {},
   "source": [
    "But we have a problem.  As shown below, when I read in the csv file, the index type is a string.  If we're working with time series data, we really need to change this to a DateTime python object. "
   ]
  },
  {
   "cell_type": "code",
   "execution_count": null,
   "metadata": {},
   "outputs": [],
   "source": [
    "type (stock_df.index[0])"
   ]
  },
  {
   "cell_type": "code",
   "execution_count": null,
   "metadata": {},
   "outputs": [],
   "source": [
    "stock_df.index = pd.to_datetime(stock_df.index)\n",
    "type(stock_df.index[0])"
   ]
  },
  {
   "cell_type": "code",
   "execution_count": null,
   "metadata": {},
   "outputs": [],
   "source": [
    "stock_df.head()"
   ]
  },
  {
   "cell_type": "markdown",
   "metadata": {},
   "source": [
    "Note that an index is not accessible as column data.  What if I want both?   The date as the index as well as a separate column?\n",
    "\n",
    "Here's the quick solution"
   ]
  },
  {
   "cell_type": "code",
   "execution_count": null,
   "metadata": {},
   "outputs": [],
   "source": [
    "stock_df = pd.read_csv('../data/stock_data.csv')\n",
    "stock_df.set_index('Unnamed: 0',inplace = True, drop = False)\n",
    "stock_df.columns = ['Date', 'AAPL Open', 'AAPL Close','GOOG Open','GOOG Close','AAPL Diff','GOOG Diff']\n",
    "stock_df.index.names = ['Date']\n",
    "stock_df.index = pd.to_datetime(stock_df.index)\n",
    "stock_df['Date'] = pd.to_datetime(stock_df['Date'])\n",
    "stock_df.head(6)"
   ]
  },
  {
   "cell_type": "markdown",
   "metadata": {},
   "source": [
    "### Date and Time stamps in Pandas\n",
    "\n",
    "In Numpy, date and time stamps are represented by an eight byte number. \n",
    "You can create them by instantiating a datetime64 object.\n",
    "\n",
    "In Pandas, Datetime stamps represent a 600 year period from 1700-2300 A.D. \n",
    "Finest granularity are nanoseconds. \n",
    "Nanoseconds are important in time series databases such as KDB and some others. \n"
   ]
  },
  {
   "cell_type": "markdown",
   "metadata": {},
   "source": [
    "In Pandas, we can create datetime indexes.  All of the scalar values from the datetime index are timestamps. \n",
    "\n",
    "Pandas also supports duplicate timestamps. "
   ]
  },
  {
   "cell_type": "markdown",
   "metadata": {},
   "source": [
    "Pandas timestamps inherit from the datetime.datetime class in Python.\n",
    "We can create our own timestamps using Pandas.  For example:"
   ]
  },
  {
   "cell_type": "code",
   "execution_count": 19,
   "metadata": {},
   "outputs": [
    {
     "data": {
      "text/plain": [
       "Timestamp('2018-03-01 14:01:43')"
      ]
     },
     "execution_count": 19,
     "metadata": {},
     "output_type": "execute_result"
    }
   ],
   "source": [
    "import pandas as pd\n",
    "from datetime import datetime\n",
    "pd.Timestamp('03/01/2018 14:01:43')"
   ]
  },
  {
   "cell_type": "code",
   "execution_count": 20,
   "metadata": {},
   "outputs": [
    {
     "data": {
      "text/plain": [
       "1519912903000000000"
      ]
     },
     "execution_count": 20,
     "metadata": {},
     "output_type": "execute_result"
    }
   ],
   "source": [
    "stamp = pd.Timestamp('03/01/2018 14:01:43')\n",
    "stamp.value # Value in Nanoseconds. "
   ]
  },
  {
   "cell_type": "markdown",
   "metadata": {},
   "source": [
    "Here we can convert a list of dates into an index in a series. Note we use the pd.to_datetime() method to convert the strings into timestamps.  Using isinstance shows that, in fact, converted strings to datetime time stamps. "
   ]
  },
  {
   "cell_type": "code",
   "execution_count": 21,
   "metadata": {},
   "outputs": [
    {
     "data": {
      "text/plain": [
       "['2018-12-25', '2019-01-01', '2019-01-02', '2019-01-03']"
      ]
     },
     "execution_count": 21,
     "metadata": {},
     "output_type": "execute_result"
    }
   ],
   "source": [
    "dates = ['2018-12-25', '2019-01-01', '2019-01-02', '2019-01-03']\n",
    "dates"
   ]
  },
  {
   "cell_type": "code",
   "execution_count": 22,
   "metadata": {},
   "outputs": [
    {
     "data": {
      "text/plain": [
       "2018-12-25    0\n",
       "2019-01-01    1\n",
       "2019-01-02    2\n",
       "2019-01-03    3\n",
       "dtype: int64"
      ]
     },
     "execution_count": 22,
     "metadata": {},
     "output_type": "execute_result"
    }
   ],
   "source": [
    "ts = pd.Series(range(4), index=pd.to_datetime(dates))\n",
    "ts"
   ]
  },
  {
   "cell_type": "code",
   "execution_count": 23,
   "metadata": {},
   "outputs": [
    {
     "data": {
      "text/plain": [
       "True"
      ]
     },
     "execution_count": 23,
     "metadata": {},
     "output_type": "execute_result"
    }
   ],
   "source": [
    "isinstance(ts.index[0],datetime)"
   ]
  },
  {
   "cell_type": "markdown",
   "metadata": {},
   "source": [
    "### More on timeseries indexing. \n",
    "Here we'll create a range of dates."
   ]
  },
  {
   "cell_type": "code",
   "execution_count": 24,
   "metadata": {},
   "outputs": [
    {
     "data": {
      "text/plain": [
       "DatetimeIndex(['2015-01-01', '2015-01-02', '2015-01-03', '2015-01-04',\n",
       "               '2015-01-05', '2015-01-06', '2015-01-07', '2015-01-08',\n",
       "               '2015-01-09', '2015-01-10',\n",
       "               ...\n",
       "               '2017-09-17', '2017-09-18', '2017-09-19', '2017-09-20',\n",
       "               '2017-09-21', '2017-09-22', '2017-09-23', '2017-09-24',\n",
       "               '2017-09-25', '2017-09-26'],\n",
       "              dtype='datetime64[ns]', length=1000, freq='D')"
      ]
     },
     "execution_count": 24,
     "metadata": {},
     "output_type": "execute_result"
    }
   ],
   "source": [
    "date_range = pd.date_range('2015-01-01', periods=1000)\n",
    "date_range"
   ]
  },
  {
   "cell_type": "markdown",
   "metadata": {},
   "source": [
    "Note that date_range is a list of datetime objects, with a frequency of 'D', or daily. \n",
    "Now let's create a series with 1000 random numbers. "
   ]
  },
  {
   "cell_type": "code",
   "execution_count": 25,
   "metadata": {},
   "outputs": [
    {
     "data": {
      "text/plain": [
       "2015-01-01      0\n",
       "2015-01-02      1\n",
       "2015-01-03      2\n",
       "2015-01-04      3\n",
       "2015-01-05      4\n",
       "2015-01-06      5\n",
       "2015-01-07      6\n",
       "2015-01-08      7\n",
       "2015-01-09      8\n",
       "2015-01-10      9\n",
       "2015-01-11     10\n",
       "2015-01-12     11\n",
       "2015-01-13     12\n",
       "2015-01-14     13\n",
       "2015-01-15     14\n",
       "2015-01-16     15\n",
       "2015-01-17     16\n",
       "2015-01-18     17\n",
       "2015-01-19     18\n",
       "2015-01-20     19\n",
       "2015-01-21     20\n",
       "2015-01-22     21\n",
       "2015-01-23     22\n",
       "2015-01-24     23\n",
       "2015-01-25     24\n",
       "2015-01-26     25\n",
       "2015-01-27     26\n",
       "2015-01-28     27\n",
       "2015-01-29     28\n",
       "2015-01-30     29\n",
       "             ... \n",
       "2017-08-28    970\n",
       "2017-08-29    971\n",
       "2017-08-30    972\n",
       "2017-08-31    973\n",
       "2017-09-01    974\n",
       "2017-09-02    975\n",
       "2017-09-03    976\n",
       "2017-09-04    977\n",
       "2017-09-05    978\n",
       "2017-09-06    979\n",
       "2017-09-07    980\n",
       "2017-09-08    981\n",
       "2017-09-09    982\n",
       "2017-09-10    983\n",
       "2017-09-11    984\n",
       "2017-09-12    985\n",
       "2017-09-13    986\n",
       "2017-09-14    987\n",
       "2017-09-15    988\n",
       "2017-09-16    989\n",
       "2017-09-17    990\n",
       "2017-09-18    991\n",
       "2017-09-19    992\n",
       "2017-09-20    993\n",
       "2017-09-21    994\n",
       "2017-09-22    995\n",
       "2017-09-23    996\n",
       "2017-09-24    997\n",
       "2017-09-25    998\n",
       "2017-09-26    999\n",
       "Freq: D, Length: 1000, dtype: int64"
      ]
     },
     "execution_count": 25,
     "metadata": {},
     "output_type": "execute_result"
    }
   ],
   "source": [
    "import numpy as np\n",
    "ts  = pd.Series(np.arange(1000), index = date_range)\n",
    "ts"
   ]
  },
  {
   "cell_type": "code",
   "execution_count": 34,
   "metadata": {},
   "outputs": [
    {
     "data": {
      "text/plain": [
       "'0.22.0'"
      ]
     },
     "execution_count": 34,
     "metadata": {},
     "output_type": "execute_result"
    }
   ],
   "source": [
    "pd.__version__"
   ]
  },
  {
   "cell_type": "markdown",
   "metadata": {},
   "source": [
    "We can now access elements of the series via the datetime index.  There are many ways to specify this.  We can specify this by passing in a datetime object. "
   ]
  },
  {
   "cell_type": "code",
   "execution_count": 26,
   "metadata": {},
   "outputs": [
    {
     "data": {
      "text/plain": [
       "643"
      ]
     },
     "execution_count": 26,
     "metadata": {},
     "output_type": "execute_result"
    }
   ],
   "source": [
    "ts[datetime(2016,10,5)]n"
   ]
  },
  {
   "cell_type": "markdown",
   "metadata": {},
   "source": [
    "We can specify it by passing in the datetime as a string. "
   ]
  },
  {
   "cell_type": "code",
   "execution_count": 27,
   "metadata": {},
   "outputs": [
    {
     "data": {
      "text/plain": [
       "643"
      ]
     },
     "execution_count": 27,
     "metadata": {},
     "output_type": "execute_result"
    }
   ],
   "source": [
    "ts['2016-10-5']"
   ]
  },
  {
   "cell_type": "markdown",
   "metadata": {},
   "source": [
    "We can also pass in the colunm value related to the index. "
   ]
  },
  {
   "cell_type": "code",
   "execution_count": 28,
   "metadata": {},
   "outputs": [
    {
     "data": {
      "text/plain": [
       "643"
      ]
     },
     "execution_count": 28,
     "metadata": {},
     "output_type": "execute_result"
    }
   ],
   "source": [
    "ts[643]"
   ]
  },
  {
   "cell_type": "markdown",
   "metadata": {},
   "source": [
    "We can slice the time series by dates. "
   ]
  },
  {
   "cell_type": "code",
   "execution_count": 29,
   "metadata": {},
   "outputs": [
    {
     "data": {
      "text/plain": [
       "2016-10-05    643\n",
       "2016-10-06    644\n",
       "2016-10-07    645\n",
       "2016-10-08    646\n",
       "2016-10-09    647\n",
       "2016-10-10    648\n",
       "2016-10-11    649\n",
       "2016-10-12    650\n",
       "2016-10-13    651\n",
       "2016-10-14    652\n",
       "2016-10-15    653\n",
       "2016-10-16    654\n",
       "2016-10-17    655\n",
       "2016-10-18    656\n",
       "2016-10-19    657\n",
       "2016-10-20    658\n",
       "2016-10-21    659\n",
       "2016-10-22    660\n",
       "2016-10-23    661\n",
       "2016-10-24    662\n",
       "2016-10-25    663\n",
       "2016-10-26    664\n",
       "2016-10-27    665\n",
       "2016-10-28    666\n",
       "2016-10-29    667\n",
       "2016-10-30    668\n",
       "2016-10-31    669\n",
       "2016-11-01    670\n",
       "2016-11-02    671\n",
       "2016-11-03    672\n",
       "             ... \n",
       "2017-08-28    970\n",
       "2017-08-29    971\n",
       "2017-08-30    972\n",
       "2017-08-31    973\n",
       "2017-09-01    974\n",
       "2017-09-02    975\n",
       "2017-09-03    976\n",
       "2017-09-04    977\n",
       "2017-09-05    978\n",
       "2017-09-06    979\n",
       "2017-09-07    980\n",
       "2017-09-08    981\n",
       "2017-09-09    982\n",
       "2017-09-10    983\n",
       "2017-09-11    984\n",
       "2017-09-12    985\n",
       "2017-09-13    986\n",
       "2017-09-14    987\n",
       "2017-09-15    988\n",
       "2017-09-16    989\n",
       "2017-09-17    990\n",
       "2017-09-18    991\n",
       "2017-09-19    992\n",
       "2017-09-20    993\n",
       "2017-09-21    994\n",
       "2017-09-22    995\n",
       "2017-09-23    996\n",
       "2017-09-24    997\n",
       "2017-09-25    998\n",
       "2017-09-26    999\n",
       "Freq: D, Length: 357, dtype: int64"
      ]
     },
     "execution_count": 29,
     "metadata": {},
     "output_type": "execute_result"
    }
   ],
   "source": [
    "ts['2016-10-5':]"
   ]
  },
  {
   "cell_type": "code",
   "execution_count": 30,
   "metadata": {},
   "outputs": [
    {
     "data": {
      "text/plain": [
       "2016-10-05    643\n",
       "2016-10-06    644\n",
       "2016-10-07    645\n",
       "2016-10-08    646\n",
       "2016-10-09    647\n",
       "2016-10-10    648\n",
       "2016-10-11    649\n",
       "2016-10-12    650\n",
       "2016-10-13    651\n",
       "2016-10-14    652\n",
       "2016-10-15    653\n",
       "2016-10-16    654\n",
       "2016-10-17    655\n",
       "2016-10-18    656\n",
       "2016-10-19    657\n",
       "2016-10-20    658\n",
       "2016-10-21    659\n",
       "2016-10-22    660\n",
       "2016-10-23    661\n",
       "2016-10-24    662\n",
       "2016-10-25    663\n",
       "2016-10-26    664\n",
       "2016-10-27    665\n",
       "2016-10-28    666\n",
       "2016-10-29    667\n",
       "2016-10-30    668\n",
       "2016-10-31    669\n",
       "2016-11-01    670\n",
       "2016-11-02    671\n",
       "2016-11-03    672\n",
       "             ... \n",
       "2016-12-03    702\n",
       "2016-12-04    703\n",
       "2016-12-05    704\n",
       "2016-12-06    705\n",
       "2016-12-07    706\n",
       "2016-12-08    707\n",
       "2016-12-09    708\n",
       "2016-12-10    709\n",
       "2016-12-11    710\n",
       "2016-12-12    711\n",
       "2016-12-13    712\n",
       "2016-12-14    713\n",
       "2016-12-15    714\n",
       "2016-12-16    715\n",
       "2016-12-17    716\n",
       "2016-12-18    717\n",
       "2016-12-19    718\n",
       "2016-12-20    719\n",
       "2016-12-21    720\n",
       "2016-12-22    721\n",
       "2016-12-23    722\n",
       "2016-12-24    723\n",
       "2016-12-25    724\n",
       "2016-12-26    725\n",
       "2016-12-27    726\n",
       "2016-12-28    727\n",
       "2016-12-29    728\n",
       "2016-12-30    729\n",
       "2016-12-31    730\n",
       "2017-01-01    731\n",
       "Freq: D, Length: 89, dtype: int64"
      ]
     },
     "execution_count": 30,
     "metadata": {},
     "output_type": "execute_result"
    }
   ],
   "source": [
    "ts['2016-10-5':'2017-01-01']"
   ]
  },
  {
   "cell_type": "markdown",
   "metadata": {},
   "source": [
    "Let's shuffle the time stamps in some random fashion. "
   ]
  },
  {
   "cell_type": "code",
   "execution_count": 31,
   "metadata": {},
   "outputs": [
    {
     "data": {
      "text/plain": [
       "2016-07-25    571\n",
       "2015-08-27    238\n",
       "2017-02-05    766\n",
       "2015-04-11    100\n",
       "2016-08-20    597\n",
       "2016-12-31    730\n",
       "2015-08-17    228\n",
       "2016-04-25    480\n",
       "2017-04-11    831\n",
       "2017-09-20    993\n",
       "2015-12-10    343\n",
       "2017-01-17    747\n",
       "2016-03-16    440\n",
       "2015-08-06    217\n",
       "2016-03-03    427\n",
       "2016-02-12    407\n",
       "2015-02-16     46\n",
       "2016-11-01    670\n",
       "2015-01-29     28\n",
       "2015-08-01    212\n",
       "2015-12-26    359\n",
       "2017-07-01    912\n",
       "2016-10-15    653\n",
       "2016-01-22    386\n",
       "2016-06-07    523\n",
       "2015-03-14     72\n",
       "2015-07-03    183\n",
       "2017-06-18    899\n",
       "2016-12-28    727\n",
       "2017-07-08    919\n",
       "             ... \n",
       "2015-07-04    184\n",
       "2016-06-25    541\n",
       "2015-06-16    166\n",
       "2016-09-21    629\n",
       "2017-06-19    900\n",
       "2016-05-08    493\n",
       "2015-07-28    208\n",
       "2016-06-15    531\n",
       "2016-08-31    608\n",
       "2015-12-29    362\n",
       "2016-10-04    642\n",
       "2015-05-25    144\n",
       "2016-08-28    605\n",
       "2015-04-14    103\n",
       "2015-03-02     60\n",
       "2016-07-02    548\n",
       "2015-06-08    158\n",
       "2015-04-16    105\n",
       "2015-03-08     66\n",
       "2015-11-22    325\n",
       "2015-10-21    293\n",
       "2017-02-25    786\n",
       "2015-10-04    276\n",
       "2015-08-02    213\n",
       "2017-05-22    872\n",
       "2017-07-27    938\n",
       "2017-03-05    794\n",
       "2017-02-08    769\n",
       "2015-09-19    261\n",
       "2016-08-15    592\n",
       "Length: 1000, dtype: int64"
      ]
     },
     "execution_count": 31,
     "metadata": {},
     "output_type": "execute_result"
    }
   ],
   "source": [
    "ts2 = ts.take(np.random.permutation(len(ts)))\n",
    "ts2"
   ]
  },
  {
   "cell_type": "markdown",
   "metadata": {},
   "source": [
    "Note that if we slice on this, originally Pandas would throw a TimeSeriesIndex error, but now it does its best to return values within the range of the slice indices. "
   ]
  },
  {
   "cell_type": "code",
   "execution_count": 33,
   "metadata": {},
   "outputs": [
    {
     "data": {
      "text/plain": [
       "2015-08-27    238\n",
       "2015-04-11    100\n",
       "2015-08-17    228\n",
       "2015-12-10    343\n",
       "2015-08-06    217\n",
       "2015-02-16     46\n",
       "2015-01-29     28\n",
       "2015-08-01    212\n",
       "2015-12-26    359\n",
       "2015-03-14     72\n",
       "2015-07-03    183\n",
       "2015-10-31    303\n",
       "2015-11-12    315\n",
       "2015-05-16    135\n",
       "2015-05-01    120\n",
       "2015-07-29    209\n",
       "2015-02-17     47\n",
       "2015-04-02     91\n",
       "2015-07-08    188\n",
       "2015-04-12    101\n",
       "2015-06-30    180\n",
       "2015-02-05     35\n",
       "2015-11-28    331\n",
       "2015-06-14    164\n",
       "2015-10-24    296\n",
       "2015-01-23     22\n",
       "2015-01-04      3\n",
       "2015-01-22     21\n",
       "2015-12-23    356\n",
       "2015-01-06      5\n",
       "             ... \n",
       "2015-06-27    177\n",
       "2015-08-12    223\n",
       "2015-04-07     96\n",
       "2015-02-11     41\n",
       "2015-06-05    155\n",
       "2015-08-14    225\n",
       "2015-05-28    147\n",
       "2015-04-28    117\n",
       "2015-09-02    244\n",
       "2015-03-10     68\n",
       "2015-05-13    132\n",
       "2015-07-12    192\n",
       "2015-01-27     26\n",
       "2015-09-09    251\n",
       "2015-11-14    317\n",
       "2015-07-04    184\n",
       "2015-06-16    166\n",
       "2015-07-28    208\n",
       "2015-12-29    362\n",
       "2015-05-25    144\n",
       "2015-04-14    103\n",
       "2015-03-02     60\n",
       "2015-06-08    158\n",
       "2015-04-16    105\n",
       "2015-03-08     66\n",
       "2015-11-22    325\n",
       "2015-10-21    293\n",
       "2015-10-04    276\n",
       "2015-08-02    213\n",
       "2015-09-19    261\n",
       "Length: 366, dtype: int64"
      ]
     },
     "execution_count": 33,
     "metadata": {},
     "output_type": "execute_result"
    }
   ],
   "source": [
    "ts2['2015-01-01':'2016-01-01']"
   ]
  },
  {
   "cell_type": "markdown",
   "metadata": {},
   "source": [
    "Note that we can select by just year and month and pandas will return all days in that range.  For example:"
   ]
  },
  {
   "cell_type": "code",
   "execution_count": 35,
   "metadata": {},
   "outputs": [
    {
     "data": {
      "text/plain": [
       "2016-01-01    365\n",
       "2016-01-02    366\n",
       "2016-01-03    367\n",
       "2016-01-04    368\n",
       "2016-01-05    369\n",
       "2016-01-06    370\n",
       "2016-01-07    371\n",
       "2016-01-08    372\n",
       "2016-01-09    373\n",
       "2016-01-10    374\n",
       "2016-01-11    375\n",
       "2016-01-12    376\n",
       "2016-01-13    377\n",
       "2016-01-14    378\n",
       "2016-01-15    379\n",
       "2016-01-16    380\n",
       "2016-01-17    381\n",
       "2016-01-18    382\n",
       "2016-01-19    383\n",
       "2016-01-20    384\n",
       "2016-01-21    385\n",
       "2016-01-22    386\n",
       "2016-01-23    387\n",
       "2016-01-24    388\n",
       "2016-01-25    389\n",
       "2016-01-26    390\n",
       "2016-01-27    391\n",
       "2016-01-28    392\n",
       "2016-01-29    393\n",
       "2016-01-30    394\n",
       "2016-01-31    395\n",
       "Freq: D, dtype: int64"
      ]
     },
     "execution_count": 35,
     "metadata": {},
     "output_type": "execute_result"
    }
   ],
   "source": [
    "ts['2016-01']"
   ]
  },
  {
   "cell_type": "markdown",
   "metadata": {},
   "source": [
    "Or, we can slice on multiple months."
   ]
  },
  {
   "cell_type": "code",
   "execution_count": 36,
   "metadata": {},
   "outputs": [
    {
     "data": {
      "text/plain": [
       "2016-01-01    365\n",
       "2016-01-02    366\n",
       "2016-01-03    367\n",
       "2016-01-04    368\n",
       "2016-01-05    369\n",
       "2016-01-06    370\n",
       "2016-01-07    371\n",
       "2016-01-08    372\n",
       "2016-01-09    373\n",
       "2016-01-10    374\n",
       "2016-01-11    375\n",
       "2016-01-12    376\n",
       "2016-01-13    377\n",
       "2016-01-14    378\n",
       "2016-01-15    379\n",
       "2016-01-16    380\n",
       "2016-01-17    381\n",
       "2016-01-18    382\n",
       "2016-01-19    383\n",
       "2016-01-20    384\n",
       "2016-01-21    385\n",
       "2016-01-22    386\n",
       "2016-01-23    387\n",
       "2016-01-24    388\n",
       "2016-01-25    389\n",
       "2016-01-26    390\n",
       "2016-01-27    391\n",
       "2016-01-28    392\n",
       "2016-01-29    393\n",
       "2016-01-30    394\n",
       "             ... \n",
       "2016-03-02    426\n",
       "2016-03-03    427\n",
       "2016-03-04    428\n",
       "2016-03-05    429\n",
       "2016-03-06    430\n",
       "2016-03-07    431\n",
       "2016-03-08    432\n",
       "2016-03-09    433\n",
       "2016-03-10    434\n",
       "2016-03-11    435\n",
       "2016-03-12    436\n",
       "2016-03-13    437\n",
       "2016-03-14    438\n",
       "2016-03-15    439\n",
       "2016-03-16    440\n",
       "2016-03-17    441\n",
       "2016-03-18    442\n",
       "2016-03-19    443\n",
       "2016-03-20    444\n",
       "2016-03-21    445\n",
       "2016-03-22    446\n",
       "2016-03-23    447\n",
       "2016-03-24    448\n",
       "2016-03-25    449\n",
       "2016-03-26    450\n",
       "2016-03-27    451\n",
       "2016-03-28    452\n",
       "2016-03-29    453\n",
       "2016-03-30    454\n",
       "2016-03-31    455\n",
       "Freq: D, Length: 91, dtype: int64"
      ]
     },
     "execution_count": 36,
     "metadata": {},
     "output_type": "execute_result"
    }
   ],
   "source": [
    "ts['2016-01':'2016-03']"
   ]
  },
  {
   "cell_type": "markdown",
   "metadata": {},
   "source": [
    "We can also use the loc() and iloc() methods to select rows in the dataframe (Note that the ix() method has been deprecated in Pandas since version 0.20.)\n",
    "Let's create a new dataframe with four columns and a timestamp index. \n",
    "Each column will be a stock symbol generated with random values between 100.01 USD and 103.90 USD. \n"
   ]
  },
  {
   "cell_type": "code",
   "execution_count": 81,
   "metadata": {},
   "outputs": [
    {
     "data": {
      "text/html": [
       "<div>\n",
       "<style scoped>\n",
       "    .dataframe tbody tr th:only-of-type {\n",
       "        vertical-align: middle;\n",
       "    }\n",
       "\n",
       "    .dataframe tbody tr th {\n",
       "        vertical-align: top;\n",
       "    }\n",
       "\n",
       "    .dataframe thead th {\n",
       "        text-align: right;\n",
       "    }\n",
       "</style>\n",
       "<table border=\"1\" class=\"dataframe\">\n",
       "  <thead>\n",
       "    <tr style=\"text-align: right;\">\n",
       "      <th></th>\n",
       "      <th>AAPL</th>\n",
       "      <th>GOOG</th>\n",
       "      <th>IBM</th>\n",
       "      <th>FB</th>\n",
       "    </tr>\n",
       "  </thead>\n",
       "  <tbody>\n",
       "    <tr>\n",
       "      <th>2015-01-01</th>\n",
       "      <td>101.98</td>\n",
       "      <td>103.50</td>\n",
       "      <td>100.12</td>\n",
       "      <td>103.14</td>\n",
       "    </tr>\n",
       "    <tr>\n",
       "      <th>2015-01-02</th>\n",
       "      <td>100.52</td>\n",
       "      <td>102.77</td>\n",
       "      <td>103.14</td>\n",
       "      <td>102.00</td>\n",
       "    </tr>\n",
       "    <tr>\n",
       "      <th>2015-01-03</th>\n",
       "      <td>103.60</td>\n",
       "      <td>101.13</td>\n",
       "      <td>102.69</td>\n",
       "      <td>100.18</td>\n",
       "    </tr>\n",
       "    <tr>\n",
       "      <th>2015-01-04</th>\n",
       "      <td>100.89</td>\n",
       "      <td>100.83</td>\n",
       "      <td>102.23</td>\n",
       "      <td>103.07</td>\n",
       "    </tr>\n",
       "    <tr>\n",
       "      <th>2015-01-05</th>\n",
       "      <td>103.15</td>\n",
       "      <td>101.01</td>\n",
       "      <td>100.26</td>\n",
       "      <td>101.96</td>\n",
       "    </tr>\n",
       "  </tbody>\n",
       "</table>\n",
       "</div>"
      ],
      "text/plain": [
       "              AAPL    GOOG     IBM      FB\n",
       "2015-01-01  101.98  103.50  100.12  103.14\n",
       "2015-01-02  100.52  102.77  103.14  102.00\n",
       "2015-01-03  103.60  101.13  102.69  100.18\n",
       "2015-01-04  100.89  100.83  102.23  103.07\n",
       "2015-01-05  103.15  101.01  100.26  101.96"
      ]
     },
     "execution_count": 81,
     "metadata": {},
     "output_type": "execute_result"
    }
   ],
   "source": [
    "import random\n",
    "rng =  pd.date_range('2015-01-01',periods=1000)\n",
    "symbols=['AAPL','GOOG','IBM','FB']\n",
    "df  = pd.DataFrame(np.arange(4000).reshape(1000,4),index=rng,columns=symbols)\n",
    "df[symbols] = df[symbols].applymap(lambda v: round(random.uniform(100.01,103.90),2))\n",
    "df.head()"
   ]
  },
  {
   "cell_type": "markdown",
   "metadata": {},
   "source": [
    "Now let's use the loc and iloc methods to select values in the dataframe from the timeseries index."
   ]
  },
  {
   "cell_type": "code",
   "execution_count": 51,
   "metadata": {},
   "outputs": [
    {
     "data": {
      "text/html": [
       "<div>\n",
       "<style scoped>\n",
       "    .dataframe tbody tr th:only-of-type {\n",
       "        vertical-align: middle;\n",
       "    }\n",
       "\n",
       "    .dataframe tbody tr th {\n",
       "        vertical-align: top;\n",
       "    }\n",
       "\n",
       "    .dataframe thead th {\n",
       "        text-align: right;\n",
       "    }\n",
       "</style>\n",
       "<table border=\"1\" class=\"dataframe\">\n",
       "  <thead>\n",
       "    <tr style=\"text-align: right;\">\n",
       "      <th></th>\n",
       "      <th>AAPL</th>\n",
       "      <th>GOOG</th>\n",
       "      <th>IBM</th>\n",
       "      <th>FB</th>\n",
       "    </tr>\n",
       "  </thead>\n",
       "  <tbody>\n",
       "    <tr>\n",
       "      <th>2015-01-01</th>\n",
       "      <td>100.46</td>\n",
       "      <td>103.49</td>\n",
       "      <td>100.30</td>\n",
       "      <td>100.57</td>\n",
       "    </tr>\n",
       "    <tr>\n",
       "      <th>2015-01-02</th>\n",
       "      <td>103.12</td>\n",
       "      <td>102.13</td>\n",
       "      <td>102.60</td>\n",
       "      <td>102.34</td>\n",
       "    </tr>\n",
       "    <tr>\n",
       "      <th>2015-01-03</th>\n",
       "      <td>100.33</td>\n",
       "      <td>101.93</td>\n",
       "      <td>101.53</td>\n",
       "      <td>102.49</td>\n",
       "    </tr>\n",
       "    <tr>\n",
       "      <th>2015-01-04</th>\n",
       "      <td>101.16</td>\n",
       "      <td>100.86</td>\n",
       "      <td>101.42</td>\n",
       "      <td>100.39</td>\n",
       "    </tr>\n",
       "    <tr>\n",
       "      <th>2015-01-05</th>\n",
       "      <td>100.82</td>\n",
       "      <td>102.96</td>\n",
       "      <td>100.82</td>\n",
       "      <td>103.48</td>\n",
       "    </tr>\n",
       "    <tr>\n",
       "      <th>2015-01-06</th>\n",
       "      <td>101.62</td>\n",
       "      <td>102.66</td>\n",
       "      <td>103.89</td>\n",
       "      <td>102.78</td>\n",
       "    </tr>\n",
       "    <tr>\n",
       "      <th>2015-01-07</th>\n",
       "      <td>102.56</td>\n",
       "      <td>102.08</td>\n",
       "      <td>101.05</td>\n",
       "      <td>100.14</td>\n",
       "    </tr>\n",
       "    <tr>\n",
       "      <th>2015-01-08</th>\n",
       "      <td>103.60</td>\n",
       "      <td>101.34</td>\n",
       "      <td>100.97</td>\n",
       "      <td>100.97</td>\n",
       "    </tr>\n",
       "    <tr>\n",
       "      <th>2015-01-09</th>\n",
       "      <td>101.89</td>\n",
       "      <td>100.50</td>\n",
       "      <td>101.73</td>\n",
       "      <td>100.78</td>\n",
       "    </tr>\n",
       "    <tr>\n",
       "      <th>2015-01-10</th>\n",
       "      <td>101.98</td>\n",
       "      <td>102.94</td>\n",
       "      <td>101.48</td>\n",
       "      <td>100.34</td>\n",
       "    </tr>\n",
       "  </tbody>\n",
       "</table>\n",
       "</div>"
      ],
      "text/plain": [
       "              AAPL    GOOG     IBM      FB\n",
       "2015-01-01  100.46  103.49  100.30  100.57\n",
       "2015-01-02  103.12  102.13  102.60  102.34\n",
       "2015-01-03  100.33  101.93  101.53  102.49\n",
       "2015-01-04  101.16  100.86  101.42  100.39\n",
       "2015-01-05  100.82  102.96  100.82  103.48\n",
       "2015-01-06  101.62  102.66  103.89  102.78\n",
       "2015-01-07  102.56  102.08  101.05  100.14\n",
       "2015-01-08  103.60  101.34  100.97  100.97\n",
       "2015-01-09  101.89  100.50  101.73  100.78\n",
       "2015-01-10  101.98  102.94  101.48  100.34"
      ]
     },
     "execution_count": 51,
     "metadata": {},
     "output_type": "execute_result"
    }
   ],
   "source": [
    "df.iloc[0:10]"
   ]
  },
  {
   "cell_type": "code",
   "execution_count": 52,
   "metadata": {},
   "outputs": [
    {
     "data": {
      "text/html": [
       "<div>\n",
       "<style scoped>\n",
       "    .dataframe tbody tr th:only-of-type {\n",
       "        vertical-align: middle;\n",
       "    }\n",
       "\n",
       "    .dataframe tbody tr th {\n",
       "        vertical-align: top;\n",
       "    }\n",
       "\n",
       "    .dataframe thead th {\n",
       "        text-align: right;\n",
       "    }\n",
       "</style>\n",
       "<table border=\"1\" class=\"dataframe\">\n",
       "  <thead>\n",
       "    <tr style=\"text-align: right;\">\n",
       "      <th></th>\n",
       "      <th>AAPL</th>\n",
       "      <th>GOOG</th>\n",
       "      <th>IBM</th>\n",
       "      <th>FB</th>\n",
       "    </tr>\n",
       "  </thead>\n",
       "  <tbody>\n",
       "    <tr>\n",
       "      <th>2015-01-01</th>\n",
       "      <td>100.46</td>\n",
       "      <td>103.49</td>\n",
       "      <td>100.30</td>\n",
       "      <td>100.57</td>\n",
       "    </tr>\n",
       "    <tr>\n",
       "      <th>2015-01-02</th>\n",
       "      <td>103.12</td>\n",
       "      <td>102.13</td>\n",
       "      <td>102.60</td>\n",
       "      <td>102.34</td>\n",
       "    </tr>\n",
       "    <tr>\n",
       "      <th>2015-01-03</th>\n",
       "      <td>100.33</td>\n",
       "      <td>101.93</td>\n",
       "      <td>101.53</td>\n",
       "      <td>102.49</td>\n",
       "    </tr>\n",
       "    <tr>\n",
       "      <th>2015-01-04</th>\n",
       "      <td>101.16</td>\n",
       "      <td>100.86</td>\n",
       "      <td>101.42</td>\n",
       "      <td>100.39</td>\n",
       "    </tr>\n",
       "    <tr>\n",
       "      <th>2015-01-05</th>\n",
       "      <td>100.82</td>\n",
       "      <td>102.96</td>\n",
       "      <td>100.82</td>\n",
       "      <td>103.48</td>\n",
       "    </tr>\n",
       "    <tr>\n",
       "      <th>2015-01-06</th>\n",
       "      <td>101.62</td>\n",
       "      <td>102.66</td>\n",
       "      <td>103.89</td>\n",
       "      <td>102.78</td>\n",
       "    </tr>\n",
       "    <tr>\n",
       "      <th>2015-01-07</th>\n",
       "      <td>102.56</td>\n",
       "      <td>102.08</td>\n",
       "      <td>101.05</td>\n",
       "      <td>100.14</td>\n",
       "    </tr>\n",
       "    <tr>\n",
       "      <th>2015-01-08</th>\n",
       "      <td>103.60</td>\n",
       "      <td>101.34</td>\n",
       "      <td>100.97</td>\n",
       "      <td>100.97</td>\n",
       "    </tr>\n",
       "    <tr>\n",
       "      <th>2015-01-09</th>\n",
       "      <td>101.89</td>\n",
       "      <td>100.50</td>\n",
       "      <td>101.73</td>\n",
       "      <td>100.78</td>\n",
       "    </tr>\n",
       "    <tr>\n",
       "      <th>2015-01-10</th>\n",
       "      <td>101.98</td>\n",
       "      <td>102.94</td>\n",
       "      <td>101.48</td>\n",
       "      <td>100.34</td>\n",
       "    </tr>\n",
       "  </tbody>\n",
       "</table>\n",
       "</div>"
      ],
      "text/plain": [
       "              AAPL    GOOG     IBM      FB\n",
       "2015-01-01  100.46  103.49  100.30  100.57\n",
       "2015-01-02  103.12  102.13  102.60  102.34\n",
       "2015-01-03  100.33  101.93  101.53  102.49\n",
       "2015-01-04  101.16  100.86  101.42  100.39\n",
       "2015-01-05  100.82  102.96  100.82  103.48\n",
       "2015-01-06  101.62  102.66  103.89  102.78\n",
       "2015-01-07  102.56  102.08  101.05  100.14\n",
       "2015-01-08  103.60  101.34  100.97  100.97\n",
       "2015-01-09  101.89  100.50  101.73  100.78\n",
       "2015-01-10  101.98  102.94  101.48  100.34"
      ]
     },
     "execution_count": 52,
     "metadata": {},
     "output_type": "execute_result"
    }
   ],
   "source": [
    "df.loc['2015-01-01':'2015-01-10']"
   ]
  },
  {
   "cell_type": "markdown",
   "metadata": {},
   "source": [
    "Note that we don't have to use loc and iloc.  We can select rows by a number of different methods. \n",
    "For example, using the datetime method to convert strings into datetime objects and then slicing on them. "
   ]
  },
  {
   "cell_type": "code",
   "execution_count": 53,
   "metadata": {},
   "outputs": [
    {
     "data": {
      "text/html": [
       "<div>\n",
       "<style scoped>\n",
       "    .dataframe tbody tr th:only-of-type {\n",
       "        vertical-align: middle;\n",
       "    }\n",
       "\n",
       "    .dataframe tbody tr th {\n",
       "        vertical-align: top;\n",
       "    }\n",
       "\n",
       "    .dataframe thead th {\n",
       "        text-align: right;\n",
       "    }\n",
       "</style>\n",
       "<table border=\"1\" class=\"dataframe\">\n",
       "  <thead>\n",
       "    <tr style=\"text-align: right;\">\n",
       "      <th></th>\n",
       "      <th>AAPL</th>\n",
       "      <th>GOOG</th>\n",
       "      <th>IBM</th>\n",
       "      <th>FB</th>\n",
       "    </tr>\n",
       "  </thead>\n",
       "  <tbody>\n",
       "    <tr>\n",
       "      <th>2015-01-01</th>\n",
       "      <td>100.46</td>\n",
       "      <td>103.49</td>\n",
       "      <td>100.30</td>\n",
       "      <td>100.57</td>\n",
       "    </tr>\n",
       "    <tr>\n",
       "      <th>2015-01-02</th>\n",
       "      <td>103.12</td>\n",
       "      <td>102.13</td>\n",
       "      <td>102.60</td>\n",
       "      <td>102.34</td>\n",
       "    </tr>\n",
       "    <tr>\n",
       "      <th>2015-01-03</th>\n",
       "      <td>100.33</td>\n",
       "      <td>101.93</td>\n",
       "      <td>101.53</td>\n",
       "      <td>102.49</td>\n",
       "    </tr>\n",
       "    <tr>\n",
       "      <th>2015-01-04</th>\n",
       "      <td>101.16</td>\n",
       "      <td>100.86</td>\n",
       "      <td>101.42</td>\n",
       "      <td>100.39</td>\n",
       "    </tr>\n",
       "    <tr>\n",
       "      <th>2015-01-05</th>\n",
       "      <td>100.82</td>\n",
       "      <td>102.96</td>\n",
       "      <td>100.82</td>\n",
       "      <td>103.48</td>\n",
       "    </tr>\n",
       "    <tr>\n",
       "      <th>2015-01-06</th>\n",
       "      <td>101.62</td>\n",
       "      <td>102.66</td>\n",
       "      <td>103.89</td>\n",
       "      <td>102.78</td>\n",
       "    </tr>\n",
       "    <tr>\n",
       "      <th>2015-01-07</th>\n",
       "      <td>102.56</td>\n",
       "      <td>102.08</td>\n",
       "      <td>101.05</td>\n",
       "      <td>100.14</td>\n",
       "    </tr>\n",
       "    <tr>\n",
       "      <th>2015-01-08</th>\n",
       "      <td>103.60</td>\n",
       "      <td>101.34</td>\n",
       "      <td>100.97</td>\n",
       "      <td>100.97</td>\n",
       "    </tr>\n",
       "    <tr>\n",
       "      <th>2015-01-09</th>\n",
       "      <td>101.89</td>\n",
       "      <td>100.50</td>\n",
       "      <td>101.73</td>\n",
       "      <td>100.78</td>\n",
       "    </tr>\n",
       "    <tr>\n",
       "      <th>2015-01-10</th>\n",
       "      <td>101.98</td>\n",
       "      <td>102.94</td>\n",
       "      <td>101.48</td>\n",
       "      <td>100.34</td>\n",
       "    </tr>\n",
       "  </tbody>\n",
       "</table>\n",
       "</div>"
      ],
      "text/plain": [
       "              AAPL    GOOG     IBM      FB\n",
       "2015-01-01  100.46  103.49  100.30  100.57\n",
       "2015-01-02  103.12  102.13  102.60  102.34\n",
       "2015-01-03  100.33  101.93  101.53  102.49\n",
       "2015-01-04  101.16  100.86  101.42  100.39\n",
       "2015-01-05  100.82  102.96  100.82  103.48\n",
       "2015-01-06  101.62  102.66  103.89  102.78\n",
       "2015-01-07  102.56  102.08  101.05  100.14\n",
       "2015-01-08  103.60  101.34  100.97  100.97\n",
       "2015-01-09  101.89  100.50  101.73  100.78\n",
       "2015-01-10  101.98  102.94  101.48  100.34"
      ]
     },
     "execution_count": 53,
     "metadata": {},
     "output_type": "execute_result"
    }
   ],
   "source": [
    "df[datetime(2015,1,1):datetime(2015,1,10)]"
   ]
  },
  {
   "cell_type": "markdown",
   "metadata": {},
   "source": [
    "### Time Series Frequencies"
   ]
  },
  {
   "cell_type": "markdown",
   "metadata": {},
   "source": [
    "Up until now, all of our time series ranges have been on a fixed frequency.  However, it is often the case that we will want a frequency that isn't strictly linear or consecutive.  For example with time series asset data, we will only want time periods that are on a business week cycle rather than a strict calendar cycle. "
   ]
  },
  {
   "cell_type": "markdown",
   "metadata": {},
   "source": [
    "In our first example, let's generate time periods that are monthly, rather than daily. "
   ]
  },
  {
   "cell_type": "code",
   "execution_count": 58,
   "metadata": {},
   "outputs": [
    {
     "data": {
      "text/plain": [
       "DatetimeIndex(['2015-01-31', '2015-02-28', '2015-03-31', '2015-04-30',\n",
       "               '2015-05-31', '2015-06-30', '2015-07-31', '2015-08-31',\n",
       "               '2015-09-30', '2015-10-31', '2015-11-30', '2015-12-31'],\n",
       "              dtype='datetime64[ns]', freq='M')"
      ]
     },
     "execution_count": 58,
     "metadata": {},
     "output_type": "execute_result"
    }
   ],
   "source": [
    "rng = pd.date_range(datetime(2015,1,1),datetime(2015,12,31), period=12, freq = 'M ')\n",
    "rng"
   ]
  },
  {
   "cell_type": "markdown",
   "metadata": {},
   "source": [
    "Note that in the previous example, it generates appropriate month end dates. "
   ]
  },
  {
   "cell_type": "markdown",
   "metadata": {},
   "source": [
    "We can also do the start of the month rather than the end of the month. "
   ]
  },
  {
   "cell_type": "code",
   "execution_count": 60,
   "metadata": {},
   "outputs": [
    {
     "data": {
      "text/plain": [
       "[Timestamp('2015-01-15 00:00:00', freq='SM-15'),\n",
       " Timestamp('2015-01-31 00:00:00', freq='SM-15'),\n",
       " Timestamp('2015-02-15 00:00:00', freq='SM-15'),\n",
       " Timestamp('2015-02-28 00:00:00', freq='SM-15'),\n",
       " Timestamp('2015-03-15 00:00:00', freq='SM-15'),\n",
       " Timestamp('2015-03-31 00:00:00', freq='SM-15'),\n",
       " Timestamp('2015-04-15 00:00:00', freq='SM-15'),\n",
       " Timestamp('2015-04-30 00:00:00', freq='SM-15'),\n",
       " Timestamp('2015-05-15 00:00:00', freq='SM-15'),\n",
       " Timestamp('2015-05-31 00:00:00', freq='SM-15'),\n",
       " Timestamp('2015-06-15 00:00:00', freq='SM-15'),\n",
       " Timestamp('2015-06-30 00:00:00', freq='SM-15'),\n",
       " Timestamp('2015-07-15 00:00:00', freq='SM-15'),\n",
       " Timestamp('2015-07-31 00:00:00', freq='SM-15'),\n",
       " Timestamp('2015-08-15 00:00:00', freq='SM-15'),\n",
       " Timestamp('2015-08-31 00:00:00', freq='SM-15'),\n",
       " Timestamp('2015-09-15 00:00:00', freq='SM-15'),\n",
       " Timestamp('2015-09-30 00:00:00', freq='SM-15'),\n",
       " Timestamp('2015-10-15 00:00:00', freq='SM-15'),\n",
       " Timestamp('2015-10-31 00:00:00', freq='SM-15'),\n",
       " Timestamp('2015-11-15 00:00:00', freq='SM-15'),\n",
       " Timestamp('2015-11-30 00:00:00', freq='SM-15'),\n",
       " Timestamp('2015-12-15 00:00:00', freq='SM-15'),\n",
       " Timestamp('2015-12-31 00:00:00', freq='SM-15')]"
      ]
     },
     "execution_count": 60,
     "metadata": {},
     "output_type": "execute_result"
    }
   ],
   "source": [
    "rng = pd.date_range(datetime(2015,1,1),datetime(2015,12,31), period=12, freq = 'SM ')\n",
    "list(rng)"
   ]
  },
  {
   "cell_type": "markdown",
   "metadata": {},
   "source": [
    "We can also do periods by weekdays. i.e. normal business days. "
   ]
  },
  {
   "cell_type": "code",
   "execution_count": 63,
   "metadata": {},
   "outputs": [
    {
     "data": {
      "text/plain": [
       "DatetimeIndex(['2015-01-30', '2015-02-27', '2015-03-31', '2015-04-30',\n",
       "               '2015-05-29', '2015-06-30', '2015-07-31', '2015-08-31',\n",
       "               '2015-09-30', '2015-10-30', '2015-11-30', '2015-12-31'],\n",
       "              dtype='datetime64[ns]', freq='BM')"
      ]
     },
     "execution_count": 63,
     "metadata": {},
     "output_type": "execute_result"
    }
   ],
   "source": [
    "rng = pd.date_range(datetime(2015,1,1),datetime(2015,12,31), period=12, freq = 'BM ')\n",
    "rng"
   ]
  },
  {
   "cell_type": "markdown",
   "metadata": {},
   "source": [
    "Or, we can also do business start of the month."
   ]
  },
  {
   "cell_type": "code",
   "execution_count": 64,
   "metadata": {},
   "outputs": [
    {
     "data": {
      "text/plain": [
       "DatetimeIndex(['2015-01-01', '2015-02-02', '2015-03-02', '2015-04-01',\n",
       "               '2015-05-01', '2015-06-01', '2015-07-01', '2015-08-03',\n",
       "               '2015-09-01', '2015-10-01', '2015-11-02', '2015-12-01'],\n",
       "              dtype='datetime64[ns]', freq='BMS')"
      ]
     },
     "execution_count": 64,
     "metadata": {},
     "output_type": "execute_result"
    }
   ],
   "source": [
    "rng = pd.date_range(datetime(2015,1,1),datetime(2015,12,31), period=12, freq = 'BMS ')\n",
    "rng"
   ]
  },
  {
   "cell_type": "markdown",
   "metadata": {},
   "source": [
    "Note that if you want to check for holidays, it's a bit more involved since each country has its own, specific holidays.  In the following example, we can import the United States federal holiday calendar. \n",
    "Once we've done that, we can use it to do boolean searches and modify our dataframe to exclude specific days. "
   ]
  },
  {
   "cell_type": "code",
   "execution_count": 13,
   "metadata": {},
   "outputs": [
    {
     "data": {
      "text/html": [
       "<div>\n",
       "<style scoped>\n",
       "    .dataframe tbody tr th:only-of-type {\n",
       "        vertical-align: middle;\n",
       "    }\n",
       "\n",
       "    .dataframe tbody tr th {\n",
       "        vertical-align: top;\n",
       "    }\n",
       "\n",
       "    .dataframe thead th {\n",
       "        text-align: right;\n",
       "    }\n",
       "</style>\n",
       "<table border=\"1\" class=\"dataframe\">\n",
       "  <thead>\n",
       "    <tr style=\"text-align: right;\">\n",
       "      <th></th>\n",
       "      <th>AAPL</th>\n",
       "      <th>GOOG</th>\n",
       "      <th>IBM</th>\n",
       "      <th>FB</th>\n",
       "    </tr>\n",
       "  </thead>\n",
       "  <tbody>\n",
       "    <tr>\n",
       "      <th>2015-01-02</th>\n",
       "      <td>100.95</td>\n",
       "      <td>100.61</td>\n",
       "      <td>101.23</td>\n",
       "      <td>103.02</td>\n",
       "    </tr>\n",
       "    <tr>\n",
       "      <th>2015-01-03</th>\n",
       "      <td>100.05</td>\n",
       "      <td>103.43</td>\n",
       "      <td>100.15</td>\n",
       "      <td>103.47</td>\n",
       "    </tr>\n",
       "    <tr>\n",
       "      <th>2015-01-04</th>\n",
       "      <td>102.79</td>\n",
       "      <td>102.46</td>\n",
       "      <td>100.30</td>\n",
       "      <td>101.29</td>\n",
       "    </tr>\n",
       "    <tr>\n",
       "      <th>2015-01-05</th>\n",
       "      <td>102.91</td>\n",
       "      <td>100.91</td>\n",
       "      <td>100.89</td>\n",
       "      <td>101.07</td>\n",
       "    </tr>\n",
       "    <tr>\n",
       "      <th>2015-01-06</th>\n",
       "      <td>100.15</td>\n",
       "      <td>102.94</td>\n",
       "      <td>102.10</td>\n",
       "      <td>102.47</td>\n",
       "    </tr>\n",
       "    <tr>\n",
       "      <th>2015-01-07</th>\n",
       "      <td>103.58</td>\n",
       "      <td>101.97</td>\n",
       "      <td>103.61</td>\n",
       "      <td>102.30</td>\n",
       "    </tr>\n",
       "    <tr>\n",
       "      <th>2015-01-08</th>\n",
       "      <td>100.68</td>\n",
       "      <td>103.18</td>\n",
       "      <td>102.23</td>\n",
       "      <td>101.89</td>\n",
       "    </tr>\n",
       "    <tr>\n",
       "      <th>2015-01-09</th>\n",
       "      <td>103.90</td>\n",
       "      <td>103.21</td>\n",
       "      <td>101.34</td>\n",
       "      <td>103.42</td>\n",
       "    </tr>\n",
       "    <tr>\n",
       "      <th>2015-01-10</th>\n",
       "      <td>100.64</td>\n",
       "      <td>102.21</td>\n",
       "      <td>100.02</td>\n",
       "      <td>102.69</td>\n",
       "    </tr>\n",
       "    <tr>\n",
       "      <th>2015-01-11</th>\n",
       "      <td>101.17</td>\n",
       "      <td>101.69</td>\n",
       "      <td>100.79</td>\n",
       "      <td>102.18</td>\n",
       "    </tr>\n",
       "    <tr>\n",
       "      <th>2015-01-12</th>\n",
       "      <td>103.30</td>\n",
       "      <td>103.80</td>\n",
       "      <td>101.69</td>\n",
       "      <td>101.45</td>\n",
       "    </tr>\n",
       "    <tr>\n",
       "      <th>2015-01-13</th>\n",
       "      <td>103.41</td>\n",
       "      <td>102.61</td>\n",
       "      <td>100.53</td>\n",
       "      <td>102.85</td>\n",
       "    </tr>\n",
       "    <tr>\n",
       "      <th>2015-01-14</th>\n",
       "      <td>103.51</td>\n",
       "      <td>103.38</td>\n",
       "      <td>102.25</td>\n",
       "      <td>100.58</td>\n",
       "    </tr>\n",
       "    <tr>\n",
       "      <th>2015-01-15</th>\n",
       "      <td>101.18</td>\n",
       "      <td>101.08</td>\n",
       "      <td>101.81</td>\n",
       "      <td>102.36</td>\n",
       "    </tr>\n",
       "    <tr>\n",
       "      <th>2015-01-16</th>\n",
       "      <td>100.17</td>\n",
       "      <td>103.26</td>\n",
       "      <td>102.48</td>\n",
       "      <td>101.15</td>\n",
       "    </tr>\n",
       "    <tr>\n",
       "      <th>2015-01-17</th>\n",
       "      <td>100.90</td>\n",
       "      <td>101.58</td>\n",
       "      <td>103.25</td>\n",
       "      <td>101.41</td>\n",
       "    </tr>\n",
       "    <tr>\n",
       "      <th>2015-01-18</th>\n",
       "      <td>101.61</td>\n",
       "      <td>101.98</td>\n",
       "      <td>103.07</td>\n",
       "      <td>100.41</td>\n",
       "    </tr>\n",
       "    <tr>\n",
       "      <th>2015-01-20</th>\n",
       "      <td>102.59</td>\n",
       "      <td>102.42</td>\n",
       "      <td>101.78</td>\n",
       "      <td>103.40</td>\n",
       "    </tr>\n",
       "    <tr>\n",
       "      <th>2015-01-21</th>\n",
       "      <td>101.86</td>\n",
       "      <td>100.96</td>\n",
       "      <td>101.47</td>\n",
       "      <td>102.46</td>\n",
       "    </tr>\n",
       "    <tr>\n",
       "      <th>2015-01-22</th>\n",
       "      <td>103.11</td>\n",
       "      <td>100.29</td>\n",
       "      <td>102.51</td>\n",
       "      <td>103.04</td>\n",
       "    </tr>\n",
       "    <tr>\n",
       "      <th>2015-01-23</th>\n",
       "      <td>100.78</td>\n",
       "      <td>103.00</td>\n",
       "      <td>100.41</td>\n",
       "      <td>101.55</td>\n",
       "    </tr>\n",
       "    <tr>\n",
       "      <th>2015-01-24</th>\n",
       "      <td>102.88</td>\n",
       "      <td>100.74</td>\n",
       "      <td>101.20</td>\n",
       "      <td>102.97</td>\n",
       "    </tr>\n",
       "    <tr>\n",
       "      <th>2015-01-25</th>\n",
       "      <td>100.70</td>\n",
       "      <td>101.60</td>\n",
       "      <td>101.01</td>\n",
       "      <td>102.80</td>\n",
       "    </tr>\n",
       "    <tr>\n",
       "      <th>2015-01-26</th>\n",
       "      <td>100.93</td>\n",
       "      <td>100.47</td>\n",
       "      <td>103.06</td>\n",
       "      <td>101.41</td>\n",
       "    </tr>\n",
       "    <tr>\n",
       "      <th>2015-01-27</th>\n",
       "      <td>100.14</td>\n",
       "      <td>100.63</td>\n",
       "      <td>101.15</td>\n",
       "      <td>102.25</td>\n",
       "    </tr>\n",
       "    <tr>\n",
       "      <th>2015-01-28</th>\n",
       "      <td>100.53</td>\n",
       "      <td>100.28</td>\n",
       "      <td>101.56</td>\n",
       "      <td>102.13</td>\n",
       "    </tr>\n",
       "    <tr>\n",
       "      <th>2015-01-29</th>\n",
       "      <td>101.68</td>\n",
       "      <td>100.33</td>\n",
       "      <td>103.68</td>\n",
       "      <td>102.41</td>\n",
       "    </tr>\n",
       "    <tr>\n",
       "      <th>2015-01-30</th>\n",
       "      <td>100.69</td>\n",
       "      <td>103.13</td>\n",
       "      <td>103.76</td>\n",
       "      <td>101.67</td>\n",
       "    </tr>\n",
       "    <tr>\n",
       "      <th>2015-01-31</th>\n",
       "      <td>101.38</td>\n",
       "      <td>103.74</td>\n",
       "      <td>102.75</td>\n",
       "      <td>100.05</td>\n",
       "    </tr>\n",
       "    <tr>\n",
       "      <th>2015-02-01</th>\n",
       "      <td>100.20</td>\n",
       "      <td>103.31</td>\n",
       "      <td>103.18</td>\n",
       "      <td>101.73</td>\n",
       "    </tr>\n",
       "  </tbody>\n",
       "</table>\n",
       "</div>"
      ],
      "text/plain": [
       "              AAPL    GOOG     IBM      FB\n",
       "2015-01-02  100.95  100.61  101.23  103.02\n",
       "2015-01-03  100.05  103.43  100.15  103.47\n",
       "2015-01-04  102.79  102.46  100.30  101.29\n",
       "2015-01-05  102.91  100.91  100.89  101.07\n",
       "2015-01-06  100.15  102.94  102.10  102.47\n",
       "2015-01-07  103.58  101.97  103.61  102.30\n",
       "2015-01-08  100.68  103.18  102.23  101.89\n",
       "2015-01-09  103.90  103.21  101.34  103.42\n",
       "2015-01-10  100.64  102.21  100.02  102.69\n",
       "2015-01-11  101.17  101.69  100.79  102.18\n",
       "2015-01-12  103.30  103.80  101.69  101.45\n",
       "2015-01-13  103.41  102.61  100.53  102.85\n",
       "2015-01-14  103.51  103.38  102.25  100.58\n",
       "2015-01-15  101.18  101.08  101.81  102.36\n",
       "2015-01-16  100.17  103.26  102.48  101.15\n",
       "2015-01-17  100.90  101.58  103.25  101.41\n",
       "2015-01-18  101.61  101.98  103.07  100.41\n",
       "2015-01-20  102.59  102.42  101.78  103.40\n",
       "2015-01-21  101.86  100.96  101.47  102.46\n",
       "2015-01-22  103.11  100.29  102.51  103.04\n",
       "2015-01-23  100.78  103.00  100.41  101.55\n",
       "2015-01-24  102.88  100.74  101.20  102.97\n",
       "2015-01-25  100.70  101.60  101.01  102.80\n",
       "2015-01-26  100.93  100.47  103.06  101.41\n",
       "2015-01-27  100.14  100.63  101.15  102.25\n",
       "2015-01-28  100.53  100.28  101.56  102.13\n",
       "2015-01-29  101.68  100.33  103.68  102.41\n",
       "2015-01-30  100.69  103.13  103.76  101.67\n",
       "2015-01-31  101.38  103.74  102.75  100.05\n",
       "2015-02-01  100.20  103.31  103.18  101.73"
      ]
     },
     "execution_count": 13,
     "metadata": {},
     "output_type": "execute_result"
    }
   ],
   "source": [
    "from pandas.tseries.holiday import USFederalHolidayCalendar as calendar\n",
    "rng =  pd.date_range('2015-01-01',periods=1000)\n",
    "symbols=['AAPL','GOOG','IBM','FB']\n",
    "cal = calendar()\n",
    "df  = pd.DataFrame(np.arange(4000).reshape(1000,4),index=rng,columns=symbols)\n",
    "df[symbols] = df[symbols].applymap(lambda v: round(random.uniform(100.01,103.90),2))\n",
    "holidays = cal.holidays(start=df.index.min(), end=df.index.max())\n",
    "df.drop(df[df.index.isin(holidays)].index,inplace=True)\n",
    "df.head(30)"
   ]
  },
  {
   "cell_type": "markdown",
   "metadata": {},
   "source": [
    "Note that in the above output, the date '01-01-2015' isn't displayed as it is a holiday. Also notice that January 19th is also ommitted as that day was designated a US federal holiday (Martin Luther King day). "
   ]
  },
  {
   "cell_type": "markdown",
   "metadata": {},
   "source": [
    "### Resampling data"
   ]
  },
  {
   "cell_type": "markdown",
   "metadata": {},
   "source": [
    "Often times, we'll get time series data, in, for example a day periodicity, and we'd like to take that data and sample it weekly or monthly.  This is called *resampling.*  Here we see how to do that in Pandas. "
   ]
  },
  {
   "cell_type": "markdown",
   "metadata": {},
   "source": [
    "Lets take our example of Apple and Google stock prices that has 1000 entries in it.  "
   ]
  },
  {
   "cell_type": "code",
   "execution_count": 102,
   "metadata": {},
   "outputs": [],
   "source": [
    "import random\n",
    "import pandas as pd\n",
    "import numpy as np\n",
    "import random\n",
    "goog_price = 998.02\n",
    "aapl_price = 157.02\n",
    "# Create 30 days of stock prices for GOOG and AAPL. \n",
    "goog_open_prices = [ round(goog_price + random.uniform(1,1.5),2) for _ in range(1000) ]\n",
    "aapl_open_prices = [ round(aapl_price + random.uniform (1,1.5),2) for _ in range(1000) ]\n",
    "# Add a random shift to the open price to mock a close price.  Values are random numbers between\n",
    "# -2 and 2.\n",
    "goog_close_prices = [ round(price + random.uniform(1,4),2) for price in goog_open_prices ]\n",
    "aapl_close_prices = [ round(price +random.uniform(1,2),2) for price in aapl_open_prices]"
   ]
  },
  {
   "cell_type": "code",
   "execution_count": 103,
   "metadata": {},
   "outputs": [],
   "source": [
    "d_range = pd.date_range('2016-01-01',periods=1000)\n",
    "stocks = pd.DataFrame(columns = ['AAPL_OPEN', 'AAPL_CLOSE', 'GOOG_OPEN','GOOG_CLOSE'],index=d_range)\n",
    "stocks['AAPL_OPEN']  = aapl_open_prices\n",
    "stocks['AAPL_CLOSE']  = aapl_close_prices\n",
    "stocks['GOOG_OPEN']  = goog_open_prices\n",
    "stocks['GOOG_CLOSE']  = goog_close_prices"
   ]
  },
  {
   "cell_type": "markdown",
   "metadata": {},
   "source": [
    "Now let's plot the apple and google prices as a line chart. "
   ]
  },
  {
   "cell_type": "code",
   "execution_count": 104,
   "metadata": {},
   "outputs": [
    {
     "data": {
      "text/plain": [
       "<matplotlib.axes._subplots.AxesSubplot at 0x7f22857e77f0>"
      ]
     },
     "execution_count": 104,
     "metadata": {},
     "output_type": "execute_result"
    },
    {
     "data": {
      "image/png": "[encoded data removed]",
      "text/plain": [
       "<Figure size 432x288 with 1 Axes>"
      ]
     },
     "metadata": {},
     "output_type": "display_data"
    }
   ],
   "source": [
    "stocks[['AAPL_OPEN','AAPL_CLOSE']].plot()"
   ]
  },
  {
   "cell_type": "code",
   "execution_count": 106,
   "metadata": {
    "scrolled": true
   },
   "outputs": [
    {
     "data": {
      "text/plain": [
       "<matplotlib.axes._subplots.AxesSubplot at 0x7f228525aa58>"
      ]
     },
     "execution_count": 106,
     "metadata": {},
     "output_type": "execute_result"
    },
    {
     "data": {
      "image/png": "[encoded data removed]",
      "text/plain": [
       "<Figure size 1440x720 with 1 Axes>"
      ]
     },
     "metadata": {},
     "output_type": "display_data"
    }
   ],
   "source": [
    "resample_aapl_open = stocks['AAPL_OPEN'].resample('M').mean()\n",
    "fig= plt.figure(figsize=(20,10))\n",
    "ax1=plt.subplot2grid((1,1),(0,0))\n",
    "#stocks['AAPL_OPEN'].plot(ax=ax1,label='Daily Price')\n",
    "resample_aapl_open.plot(ax=ax1,label = 'Monthly Mean')"
   ]
  },
  {
   "cell_type": "markdown",
   "metadata": {},
   "source": [
    "In the above example, we took some daily time series and resampled it using the resample() method.  In this case, we resampled it to business month end and took the mean value of each of the sample 'buckets'. \n",
    "\n",
    "Generally there are two types of resampling:\n",
    "\n",
    " - Upsampling. Going from a lower frequency to a higher frequency (ex. days to hours)\n",
    " - Downsampling. Going from a higher frequency to a lower frequency (ex. days to months). \n",
    " \n",
    "There are many aggregate functions that can be supplied.  The default in Pandas for resampling is the mean.  However, others can be supplied, such as the median value, or the last value in the sample bin. \n",
    "Also, customized functions can be supplied, for example computing open, high, low and close values for an asset time series.  Here is an example of doing our resampling using the median rather than the mean. \n",
    " \n",
    "\n"
   ]
  },
  {
   "cell_type": "code",
   "execution_count": 109,
   "metadata": {},
   "outputs": [
    {
     "data": {
      "text/plain": [
       "<matplotlib.axes._subplots.AxesSubplot at 0x7f228542b780>"
      ]
     },
     "execution_count": 109,
     "metadata": {},
     "output_type": "execute_result"
    },
    {
     "data": {
      "image/png": "[encoded data removed]",
      "text/plain": [
       "<Figure size 1440x720 with 1 Axes>"
      ]
     },
     "metadata": {},
     "output_type": "display_data"
    }
   ],
   "source": [
    "resample_aapl_open = stocks['AAPL_OPEN'].resample('M').median()\n",
    "fig= plt.figure(figsize=(20,10))\n",
    "ax1=plt.subplot2grid((1,1),(0,0))\n",
    "#stocks['AAPL_OPEN'].plot(ax=ax1,label='Daily Price')\n",
    "resample_aapl_open.plot(ax=ax1,label = 'Monthly Median')"
   ]
  },
  {
   "cell_type": "markdown",
   "metadata": {},
   "source": [
    "Note that if we want to use a custom aggregation function we call the *apply()* method and pass the custom function in as a parameter. "
   ]
  },
  {
   "cell_type": "markdown",
   "metadata": {},
   "source": [
    "It is entirely possible that our resampling will produce uneven counts in either the first or last bin.  Pandas allows us some flexiblity as to which bin we can choose as the one with the uneven count.\n",
    "In the next example, we tell the resample method that we want the uneven bin count to be the last bin in the series, rather than the first as we've 'closed' the first bin. "
   ]
  },
  {
   "cell_type": "code",
   "execution_count": 111,
   "metadata": {},
   "outputs": [
    {
     "data": {
      "text/plain": [
       "<matplotlib.axes._subplots.AxesSubplot at 0x7f22841bed68>"
      ]
     },
     "execution_count": 111,
     "metadata": {},
     "output_type": "execute_result"
    },
    {
     "data": {
      "image/png": "[encoded data removed]",
      "text/plain": [
       "<Figure size 1440x720 with 1 Axes>"
      ]
     },
     "metadata": {},
     "output_type": "display_data"
    }
   ],
   "source": [
    "resample_aapl_open = stocks['AAPL_OPEN'].resample('M',closed='left').median()\n",
    "fig= plt.figure(figsize=(20,10))\n",
    "ax1=plt.subplot2grid((1,1),(0,0))\n",
    "#stocks['AAPL_OPEN'].plot(ax=ax1,label='Daily Price')\n",
    "resample_aapl_open.plot(ax=ax1,label = 'Monthly Median')"
   ]
  },
  {
   "cell_type": "markdown",
   "metadata": {},
   "source": [
    "We can also use the *agg()* method to pass multiple aggregate functions which will return a dataframe of the output to us.  For example:"
   ]
  },
  {
   "cell_type": "code",
   "execution_count": 129,
   "metadata": {},
   "outputs": [
    {
     "data": {
      "text/plain": [
       "<matplotlib.axes._subplots.AxesSubplot at 0x7f227f667cf8>"
      ]
     },
     "execution_count": 129,
     "metadata": {},
     "output_type": "execute_result"
    },
    {
     "data": {
      "image/png": "[encoded data removed]",
      "text/plain": [
       "<Figure size 1440x720 with 1 Axes>"
      ]
     },
     "metadata": {},
     "output_type": "display_data"
    }
   ],
   "source": [
    "resample_aapl = stocks['AAPL_OPEN'].resample('M',closed='left').agg({'median': 'median',\n",
    "                                                                                                               'mean':'mean'})\n",
    "fig= plt.figure(figsize=(20,10))\n",
    "ax1=plt.subplot2grid((1,1),(0,0))\n",
    "#stocks['AAPL_OPEN'].plot(ax=ax1,label='Daily Price')\n",
    "resample_aapl['mean'].plot(ax=ax1,label = 'Monthly Median')\n",
    "#type(resample_aapl)\n",
    "#resample_aapl['mean']"
   ]
  },
  {
   "cell_type": "markdown",
   "metadata": {},
   "source": [
    "Note that upsampling will create a number of 'holes' in the resultant dataframe or series.  By default, Pandas will fill those holes with NaN's. We can use previously discussed methods such as *ffill()* and *bfill()* to forward fill or back fill the values. "
   ]
  },
  {
   "cell_type": "markdown",
   "metadata": {},
   "source": [
    "### Period Logic\n"
   ]
  }
 ],
 "metadata": {
  "kernelspec": {
   "display_name": "Python 3",
   "language": "python",
   "name": "python3"
  },
  "language_info": {
   "codemirror_mode": {
    "name": "ipython",
    "version": 3
   },
   "file_extension": ".py",
   "mimetype": "text/x-python",
   "name": "python",
   "nbconvert_exporter": "python",
   "pygments_lexer": "ipython3",
   "version": "3.6.7"
  },
  "toc": {
   "base_numbering": 1,
   "nav_menu": {},
   "number_sections": true,
   "sideBar": true,
   "skip_h1_title": false,
   "title_cell": "Table of Contents",
   "title_sidebar": "Contents",
   "toc_cell": false,
   "toc_position": {},
   "toc_section_display": true,
   "toc_window_display": false
  }
 },
 "nbformat": 4,
 "nbformat_minor": 2
}
