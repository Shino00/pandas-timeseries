{
 "cells": [
  {
   "cell_type": "markdown",
   "metadata": {},
   "source": [
    "# Pandas for Financial Time Series Data"
   ]
  },
  {
   "cell_type": "markdown",
   "metadata": {},
   "source": [
    "## Pandas Data Structures\n",
    "\n",
    "Pandas has three main data structures\n",
    "- Series\n",
    "- Dataframes\n",
    "- Panels\n",
    "\n",
    "In this course, we're going to study mainly series and dataframes. \n",
    "A series is the equivalent of a column in an Excel spreadsheet\n",
    "A dataframe is the equivalent of a sheet in Excel.\n",
    "A panel would be a data structure that contains multiple dataframes. "
   ]
  },
  {
   "cell_type": "markdown",
   "metadata": {},
   "source": [
    "Here we'll do just a quick example to show how easy it is to use Python to visualize data. \n",
    "To start out, we need to import the proper libraries.  In this case, we want the pandas library, the numpy library, and some plotting libraries. \n",
    "Matplotlib inline is simply a directive to the notebook to tell it to display the plots inside the notebook rather than from a separate window. "
   ]
  },
  {
   "cell_type": "code",
   "execution_count": 6,
   "metadata": {},
   "outputs": [
    {
     "data": {
      "text/plain": [
       "[<matplotlib.lines.Line2D at 0x7fdc1f7509e8>]"
      ]
     },
     "execution_count": 6,
     "metadata": {},
     "output_type": "execute_result"
    },
    {
     "data": {
      "image/png": "[encoded data removed]",
      "text/plain": [
       "<Figure size 432x288 with 1 Axes>"
      ]
     },
     "metadata": {},
     "output_type": "display_data"
    }
   ],
   "source": [
    "%matplotlib inline\n",
    "import pandas as pd\n",
    "import numpy as np\n",
    "import matplotlib.pyplot as plt\n",
    "\n",
    "# Create a random array of 1000 values and do a cumulative sum over the array, then plot it. \n",
    "plt.plot(np.random.randn(1000).cumsum())\n"
   ]
  },
  {
   "cell_type": "markdown",
   "metadata": {},
   "source": [
    "### Pandas Series\n",
    "\n",
    "The first Pandas data structure we're going to look at is the Series.  Series are simple one dimensional vectors of data that we can manipulate. \n",
    "\n",
    "For example. \n"
   ]
  },
  {
   "cell_type": "code",
   "execution_count": 5,
   "metadata": {},
   "outputs": [
    {
     "data": {
      "text/plain": [
       "First     0\n",
       "Second    1\n",
       "Third     2\n",
       "Fourth    3\n",
       "dtype: int64"
      ]
     },
     "execution_count": 5,
     "metadata": {},
     "output_type": "execute_result"
    }
   ],
   "source": [
    "index = ['First','Second','Third','Fourth']\n",
    "\n",
    "s = pd.Series(np.arange(4), index=index)\n",
    "s"
   ]
  },
  {
   "cell_type": "markdown",
   "metadata": {},
   "source": [
    "Note that in the above Series, we've got an index for each row in the column that we've defined ourself.  Also note that the output shows that the data type for each row of data is a 64 bit integer. \n",
    "(dtype)"
   ]
  },
  {
   "cell_type": "code",
   "execution_count": 6,
   "metadata": {},
   "outputs": [
    {
     "data": {
      "text/plain": [
       "array([0, 1, 2, 3])"
      ]
     },
     "execution_count": 6,
     "metadata": {},
     "output_type": "execute_result"
    }
   ],
   "source": [
    "s.values"
   ]
  },
  {
   "cell_type": "code",
   "execution_count": 7,
   "metadata": {},
   "outputs": [
    {
     "data": {
      "text/plain": [
       "Index(['First', 'Second', 'Third', 'Fourth'], dtype='object')"
      ]
     },
     "execution_count": 7,
     "metadata": {},
     "output_type": "execute_result"
    }
   ],
   "source": [
    "s.index"
   ]
  },
  {
   "cell_type": "markdown",
   "metadata": {},
   "source": [
    "Note that we can access each of the parts of the Series, such as the data and the index by using the '.' operator and the name of the attribute.  "
   ]
  },
  {
   "cell_type": "markdown",
   "metadata": {},
   "source": [
    "We can also do math along the entire Series vector.   "
   ]
  },
  {
   "cell_type": "code",
   "execution_count": 8,
   "metadata": {},
   "outputs": [
    {
     "data": {
      "text/plain": [
       "First     0\n",
       "Second    1\n",
       "Third     4\n",
       "Fourth    9\n",
       "dtype: int64"
      ]
     },
     "execution_count": 8,
     "metadata": {},
     "output_type": "execute_result"
    }
   ],
   "source": [
    "s * s"
   ]
  },
  {
   "cell_type": "code",
   "execution_count": 9,
   "metadata": {},
   "outputs": [
    {
     "data": {
      "text/plain": [
       "First     1\n",
       "Second    2\n",
       "Third     3\n",
       "Fourth    4\n",
       "dtype: int64"
      ]
     },
     "execution_count": 9,
     "metadata": {},
     "output_type": "execute_result"
    }
   ],
   "source": [
    "s += 1\n",
    "s"
   ]
  },
  {
   "cell_type": "markdown",
   "metadata": {},
   "source": [
    "Often, we'd like to only use or access a portion of the series (called a *slice*)\n",
    "To do this, we use the [ ] operator.  There are three arguments that you pass to this operator, separated by a ':'.  The *start* of the slice, the *end* of the slice, and the *step* operator. \n",
    "In both Python and Pandas, the end is subtracted by one. For example. \n"
   ]
  },
  {
   "cell_type": "code",
   "execution_count": 10,
   "metadata": {},
   "outputs": [
    {
     "name": "stdout",
     "output_type": "stream",
     "text": [
      "['a', 'b', 'c', 'd']\n",
      "0    a\n",
      "1    b\n",
      "2    c\n",
      "3    d\n",
      "dtype: object\n"
     ]
    }
   ],
   "source": [
    "list1 = ['a','b','c','d','e']\n",
    "print (list1[0:4])\n",
    "s = pd.Series(list1)\n",
    "print (s[0:4])"
   ]
  },
  {
   "cell_type": "markdown",
   "metadata": {},
   "source": [
    "If we don't specify an index for our Series, by default Pandas uses the whole number set increasing by one. "
   ]
  },
  {
   "cell_type": "markdown",
   "metadata": {},
   "source": [
    "We can skip any or all of the parameters to the [ ] operator. For example:"
   ]
  },
  {
   "cell_type": "code",
   "execution_count": 11,
   "metadata": {},
   "outputs": [
    {
     "name": "stdout",
     "output_type": "stream",
     "text": [
      "['a', 'b', 'c', 'd']\n"
     ]
    },
    {
     "data": {
      "text/plain": [
       "0    a\n",
       "1    b\n",
       "2    c\n",
       "3    d\n",
       "dtype: object"
      ]
     },
     "execution_count": 11,
     "metadata": {},
     "output_type": "execute_result"
    }
   ],
   "source": [
    "print (list1[:4])\n",
    "s[:4]"
   ]
  },
  {
   "cell_type": "markdown",
   "metadata": {},
   "source": [
    "If you don't specify the first number, Python assumes the first element of the data structure. \n",
    "If you don't specify the last number, Python assumes the last element of the data structure. \n"
   ]
  },
  {
   "cell_type": "code",
   "execution_count": 12,
   "metadata": {},
   "outputs": [
    {
     "name": "stdout",
     "output_type": "stream",
     "text": [
      "['e', 'd', 'c', 'b', 'a']\n"
     ]
    },
    {
     "data": {
      "text/plain": [
       "4    e\n",
       "3    d\n",
       "2    c\n",
       "1    b\n",
       "0    a\n",
       "dtype: object"
      ]
     },
     "execution_count": 12,
     "metadata": {},
     "output_type": "execute_result"
    }
   ],
   "source": [
    "print (list1[::-1])\n",
    "s[::-1]"
   ]
  },
  {
   "cell_type": "markdown",
   "metadata": {},
   "source": [
    "We can also access elements of our Series by putting in the index value like so:"
   ]
  },
  {
   "cell_type": "code",
   "execution_count": 13,
   "metadata": {},
   "outputs": [
    {
     "name": "stdout",
     "output_type": "stream",
     "text": [
      "e\n"
     ]
    }
   ],
   "source": [
    "s.index = ['fee','fi','fo','fum','foo']\n",
    "print (s['foo'])\n"
   ]
  },
  {
   "cell_type": "code",
   "execution_count": 14,
   "metadata": {},
   "outputs": [
    {
     "data": {
      "text/plain": [
       "'e'"
      ]
     },
     "execution_count": 14,
     "metadata": {},
     "output_type": "execute_result"
    }
   ],
   "source": [
    "s.foo"
   ]
  },
  {
   "cell_type": "markdown",
   "metadata": {},
   "source": [
    "We can also slice by index value. "
   ]
  },
  {
   "cell_type": "code",
   "execution_count": 15,
   "metadata": {},
   "outputs": [
    {
     "name": "stdout",
     "output_type": "stream",
     "text": [
      "fi     b\n",
      "fo     c\n",
      "fum    d\n",
      "foo    e\n",
      "dtype: object\n"
     ]
    }
   ],
   "source": [
    "print (s['fi':])"
   ]
  },
  {
   "cell_type": "markdown",
   "metadata": {},
   "source": [
    "### Pandas and datetime\n",
    "\n",
    "The datetime stamp is one of the common fields in time series data.  Let's look at how this works. \n",
    "First, we'll show how to create a range of dates using the date_range method from Pandas. \n"
   ]
  },
  {
   "cell_type": "code",
   "execution_count": 37,
   "metadata": {},
   "outputs": [
    {
     "data": {
      "text/plain": [
       "DatetimeIndex(['2018-07-07', '2018-07-08', '2018-07-09', '2018-07-10',\n",
       "               '2018-07-11', '2018-07-12'],\n",
       "              dtype='datetime64[ns]', freq='D')"
      ]
     },
     "execution_count": 37,
     "metadata": {},
     "output_type": "execute_result"
    }
   ],
   "source": [
    "import pandas as pd\n",
    "dates  = pd.date_range('2018-07-07','2018-11-26',dayfirst = False)\n",
    "dates = dates[0:6]\n",
    "dates\n",
    "#pd.__version__"
   ]
  },
  {
   "cell_type": "markdown",
   "metadata": {},
   "source": [
    "Now, let's create some sample data, in this case, a series of Open, High, Low and Close data in our dataframe using the date time index.  Note that these values are just made up, and don't reflect real asset prices for the dates."
   ]
  },
  {
   "cell_type": "code",
   "execution_count": 8,
   "metadata": {},
   "outputs": [
    {
     "data": {
      "text/plain": [
       "2018-07-07     998.02\n",
       "2018-07-08    1001.56\n",
       "2018-07-09     994.51\n",
       "2018-07-10    1001.22\n",
       "2018-07-11    1002.25\n",
       "2018-07-12    1003.61\n",
       "Freq: D, dtype: float64"
      ]
     },
     "execution_count": 8,
     "metadata": {},
     "output_type": "execute_result"
    }
   ],
   "source": [
    "goog_prices = [998.02, 1001.56,994.51, 1001.22, 1002.25, 1003.61]\n",
    "goog_stock_series = pd.Series(goog_prices, index=dates[0:6])\n",
    "goog_stock_series"
   ]
  },
  {
   "cell_type": "markdown",
   "metadata": {},
   "source": [
    "Note that we now have a datetime index rather than using a sequence of numbers or letters. \n",
    "Let's do a second stock."
   ]
  },
  {
   "cell_type": "code",
   "execution_count": 9,
   "metadata": {},
   "outputs": [
    {
     "data": {
      "text/plain": [
       "2018-07-07    157.02\n",
       "2018-07-08    158.56\n",
       "2018-07-09    159.51\n",
       "2018-07-10    155.22\n",
       "2018-07-11    152.25\n",
       "2018-07-12    154.61\n",
       "Freq: D, dtype: float64"
      ]
     },
     "execution_count": 9,
     "metadata": {},
     "output_type": "execute_result"
    }
   ],
   "source": [
    "aapl_prices = [157.02, 158.56,159.51, 155.22, 152.25, 154.61]\n",
    "aapl_stock_series = pd.Series(aapl_prices, index=dates[0:6])\n",
    "aapl_stock_series"
   ]
  },
  {
   "cell_type": "markdown",
   "metadata": {},
   "source": [
    "Note that we can combine these two series into a dataframe. "
   ]
  },
  {
   "cell_type": "code",
   "execution_count": 10,
   "metadata": {},
   "outputs": [
    {
     "data": {
      "text/html": [
       "<div>\n",
       "<style scoped>\n",
       "    .dataframe tbody tr th:only-of-type {\n",
       "        vertical-align: middle;\n",
       "    }\n",
       "\n",
       "    .dataframe tbody tr th {\n",
       "        vertical-align: top;\n",
       "    }\n",
       "\n",
       "    .dataframe thead th {\n",
       "        text-align: right;\n",
       "    }\n",
       "</style>\n",
       "<table border=\"1\" class=\"dataframe\">\n",
       "  <thead>\n",
       "    <tr style=\"text-align: right;\">\n",
       "      <th></th>\n",
       "      <th>AAPL</th>\n",
       "      <th>GOOG</th>\n",
       "    </tr>\n",
       "  </thead>\n",
       "  <tbody>\n",
       "    <tr>\n",
       "      <th>2018-07-07</th>\n",
       "      <td>157.02</td>\n",
       "      <td>998.02</td>\n",
       "    </tr>\n",
       "    <tr>\n",
       "      <th>2018-07-08</th>\n",
       "      <td>158.56</td>\n",
       "      <td>1001.56</td>\n",
       "    </tr>\n",
       "    <tr>\n",
       "      <th>2018-07-09</th>\n",
       "      <td>159.51</td>\n",
       "      <td>994.51</td>\n",
       "    </tr>\n",
       "    <tr>\n",
       "      <th>2018-07-10</th>\n",
       "      <td>155.22</td>\n",
       "      <td>1001.22</td>\n",
       "    </tr>\n",
       "    <tr>\n",
       "      <th>2018-07-11</th>\n",
       "      <td>152.25</td>\n",
       "      <td>1002.25</td>\n",
       "    </tr>\n",
       "    <tr>\n",
       "      <th>2018-07-12</th>\n",
       "      <td>154.61</td>\n",
       "      <td>1003.61</td>\n",
       "    </tr>\n",
       "  </tbody>\n",
       "</table>\n",
       "</div>"
      ],
      "text/plain": [
       "              AAPL     GOOG\n",
       "2018-07-07  157.02   998.02\n",
       "2018-07-08  158.56  1001.56\n",
       "2018-07-09  159.51   994.51\n",
       "2018-07-10  155.22  1001.22\n",
       "2018-07-11  152.25  1002.25\n",
       "2018-07-12  154.61  1003.61"
      ]
     },
     "execution_count": 10,
     "metadata": {},
     "output_type": "execute_result"
    }
   ],
   "source": [
    "stock_df = pd.DataFrame({'GOOG': goog_stock_series, 'AAPL':aapl_stock_series})\n",
    "stock_df"
   ]
  },
  {
   "cell_type": "markdown",
   "metadata": {},
   "source": [
    "Note that in the above code, we created a datetime index, and created column headers by using a dictionary of key value pairs to do so.  Note that the dataframe also has a row index, just like the series. and also a column index. "
   ]
  },
  {
   "cell_type": "code",
   "execution_count": 11,
   "metadata": {},
   "outputs": [
    {
     "data": {
      "text/plain": [
       "DatetimeIndex(['2018-07-07', '2018-07-08', '2018-07-09', '2018-07-10',\n",
       "               '2018-07-11', '2018-07-12'],\n",
       "              dtype='datetime64[ns]', freq='D')"
      ]
     },
     "execution_count": 11,
     "metadata": {},
     "output_type": "execute_result"
    }
   ],
   "source": [
    "stock_df.index"
   ]
  },
  {
   "cell_type": "code",
   "execution_count": 12,
   "metadata": {},
   "outputs": [
    {
     "data": {
      "text/plain": [
       "Index(['AAPL', 'GOOG'], dtype='object')"
      ]
     },
     "execution_count": 12,
     "metadata": {},
     "output_type": "execute_result"
    }
   ],
   "source": [
    "stock_df.columns"
   ]
  },
  {
   "cell_type": "markdown",
   "metadata": {},
   "source": [
    "We can also retrieve data from the dataframe by column index. "
   ]
  },
  {
   "cell_type": "code",
   "execution_count": 13,
   "metadata": {},
   "outputs": [
    {
     "data": {
      "text/plain": [
       "2018-07-07     998.02\n",
       "2018-07-08    1001.56\n",
       "2018-07-09     994.51\n",
       "2018-07-10    1001.22\n",
       "2018-07-11    1002.25\n",
       "2018-07-12    1003.61\n",
       "Freq: D, Name: GOOG, dtype: float64"
      ]
     },
     "execution_count": 13,
     "metadata": {},
     "output_type": "execute_result"
    }
   ],
   "source": [
    "stock_df['GOOG']"
   ]
  },
  {
   "cell_type": "markdown",
   "metadata": {},
   "source": [
    "    We can also retrieve colums by using the '.' operator rather than the [ ] operator.  For example"
   ]
  },
  {
   "cell_type": "code",
   "execution_count": 14,
   "metadata": {},
   "outputs": [
    {
     "data": {
      "text/plain": [
       "2018-07-07    157.02\n",
       "2018-07-08    158.56\n",
       "2018-07-09    159.51\n",
       "2018-07-10    155.22\n",
       "2018-07-11    152.25\n",
       "2018-07-12    154.61\n",
       "Freq: D, Name: AAPL, dtype: float64"
      ]
     },
     "execution_count": 14,
     "metadata": {},
     "output_type": "execute_result"
    }
   ],
   "source": [
    "stock_df.AAPL"
   ]
  },
  {
   "cell_type": "markdown",
   "metadata": {},
   "source": [
    "Let's go a bit further.  Say that we now have both open and close data for each stock.  Let's create a dataframe that contains both."
   ]
  },
  {
   "cell_type": "code",
   "execution_count": 15,
   "metadata": {},
   "outputs": [
    {
     "name": "stdout",
     "output_type": "stream",
     "text": [
      "998.02\n"
     ]
    },
    {
     "data": {
      "text/plain": [
       "[997.54,\n",
       " 996.4,\n",
       " 996.67,\n",
       " 997.98,\n",
       " 997.53,\n",
       " 1000.0,\n",
       " 996.25,\n",
       " 999.48,\n",
       " 996.57,\n",
       " 998.63,\n",
       " 997.68,\n",
       " 999.57,\n",
       " 996.69,\n",
       " 998.13,\n",
       " 996.24,\n",
       " 999.68,\n",
       " 997.16,\n",
       " 997.81,\n",
       " 998.2,\n",
       " 998.09,\n",
       " 996.95,\n",
       " 998.44,\n",
       " 996.2,\n",
       " 996.16,\n",
       " 996.71,\n",
       " 999.13,\n",
       " 998.1,\n",
       " 996.78,\n",
       " 998.52,\n",
       " 999.04]"
      ]
     },
     "execution_count": 15,
     "metadata": {},
     "output_type": "execute_result"
    }
   ],
   "source": [
    "%matplotlib inline\n",
    "import random\n",
    "import matplotlib.pyplot as plt\n",
    "# Create 30 days of stock prices for GOOG and AAPL. \n",
    "goog_open_prices = [ round(goog_prices [0] + random.uniform(-2,2),2) for _ in range(30) ]\n",
    "aapl_open_prices = [ round(aapl_prices [0] + random.uniform (-2,2),2) for _ in range(30) ]\n",
    "# Add a random shift to the open price to mock a close price.  Values are random numbers between\n",
    "# -2 and 2. \n",
    "goog_close_prices = [ round(price + random.uniform(-2,4),2) for price in goog_open_prices ]\n",
    "aapl_close_prices = [ round(price +random.uniform(-2,4),2) for price in aapl_open_prices]\n",
    "print(goog_prices[0])\n",
    "goog_open_prices\n"
   ]
  },
  {
   "cell_type": "code",
   "execution_count": 18,
   "metadata": {},
   "outputs": [
    {
     "data": {
      "text/plain": [
       "[1000.36,\n",
       " 998.14,\n",
       " 999.45,\n",
       " 998.48,\n",
       " 999.48,\n",
       " 1002.73,\n",
       " 999.57,\n",
       " 1002.03,\n",
       " 996.44,\n",
       " 998.61,\n",
       " 999.38,\n",
       " 999.64,\n",
       " 997.44,\n",
       " 998.67,\n",
       " 997.05,\n",
       " 998.6,\n",
       " 996.88,\n",
       " 1002.87,\n",
       " 998.0,\n",
       " 999.62,\n",
       " 998.23,\n",
       " 999.59,\n",
       " 998.77,\n",
       " 997.1,\n",
       " 1000.39,\n",
       " 995.32,\n",
       " 1002.59,\n",
       " 999.2,\n",
       " 1003.61,\n",
       " 996.82]"
      ]
     },
     "execution_count": 18,
     "metadata": {},
     "output_type": "execute_result"
    }
   ],
   "source": [
    "goog_close_prices"
   ]
  },
  {
   "cell_type": "code",
   "execution_count": 19,
   "metadata": {},
   "outputs": [
    {
     "data": {
      "text/plain": [
       "[159.88,\n",
       " 157.99,\n",
       " 157.14,\n",
       " 159.01,\n",
       " 158.78,\n",
       " 158.14,\n",
       " 162.04,\n",
       " 159.19,\n",
       " 159.86,\n",
       " 158.07,\n",
       " 158.94,\n",
       " 159.31,\n",
       " 158.71,\n",
       " 157.67,\n",
       " 156.02,\n",
       " 157.14,\n",
       " 160.52,\n",
       " 157.66,\n",
       " 153.99,\n",
       " 156.13,\n",
       " 154.63,\n",
       " 156.3,\n",
       " 156.83,\n",
       " 160.13,\n",
       " 158.63,\n",
       " 160.18,\n",
       " 154.68,\n",
       " 157.36,\n",
       " 154.57,\n",
       " 159.67]"
      ]
     },
     "execution_count": 19,
     "metadata": {},
     "output_type": "execute_result"
    }
   ],
   "source": [
    "aapl_close_prices"
   ]
  },
  {
   "cell_type": "code",
   "execution_count": 16,
   "metadata": {},
   "outputs": [
    {
     "data": {
      "text/html": [
       "<div>\n",
       "<style scoped>\n",
       "    .dataframe tbody tr th:only-of-type {\n",
       "        vertical-align: middle;\n",
       "    }\n",
       "\n",
       "    .dataframe tbody tr th {\n",
       "        vertical-align: top;\n",
       "    }\n",
       "\n",
       "    .dataframe thead th {\n",
       "        text-align: right;\n",
       "    }\n",
       "</style>\n",
       "<table border=\"1\" class=\"dataframe\">\n",
       "  <thead>\n",
       "    <tr style=\"text-align: right;\">\n",
       "      <th></th>\n",
       "      <th>AAPL Open</th>\n",
       "      <th>AAPL Close</th>\n",
       "      <th>GOOG Open</th>\n",
       "      <th>GOOG Close</th>\n",
       "    </tr>\n",
       "  </thead>\n",
       "  <tbody>\n",
       "    <tr>\n",
       "      <th>2018-11-25</th>\n",
       "      <td>157.19</td>\n",
       "      <td>160.84</td>\n",
       "      <td>997.54</td>\n",
       "      <td>999.17</td>\n",
       "    </tr>\n",
       "    <tr>\n",
       "      <th>2018-11-26</th>\n",
       "      <td>155.48</td>\n",
       "      <td>156.31</td>\n",
       "      <td>996.40</td>\n",
       "      <td>996.45</td>\n",
       "    </tr>\n",
       "    <tr>\n",
       "      <th>2018-11-27</th>\n",
       "      <td>155.65</td>\n",
       "      <td>158.57</td>\n",
       "      <td>996.67</td>\n",
       "      <td>996.59</td>\n",
       "    </tr>\n",
       "    <tr>\n",
       "      <th>2018-11-28</th>\n",
       "      <td>155.41</td>\n",
       "      <td>154.68</td>\n",
       "      <td>997.98</td>\n",
       "      <td>998.66</td>\n",
       "    </tr>\n",
       "    <tr>\n",
       "      <th>2018-11-29</th>\n",
       "      <td>156.36</td>\n",
       "      <td>154.98</td>\n",
       "      <td>997.53</td>\n",
       "      <td>998.09</td>\n",
       "    </tr>\n",
       "    <tr>\n",
       "      <th>2018-11-30</th>\n",
       "      <td>156.08</td>\n",
       "      <td>157.04</td>\n",
       "      <td>1000.00</td>\n",
       "      <td>1003.43</td>\n",
       "    </tr>\n",
       "    <tr>\n",
       "      <th>2018-12-01</th>\n",
       "      <td>158.17</td>\n",
       "      <td>157.54</td>\n",
       "      <td>996.25</td>\n",
       "      <td>999.45</td>\n",
       "    </tr>\n",
       "    <tr>\n",
       "      <th>2018-12-02</th>\n",
       "      <td>155.15</td>\n",
       "      <td>155.88</td>\n",
       "      <td>999.48</td>\n",
       "      <td>999.63</td>\n",
       "    </tr>\n",
       "    <tr>\n",
       "      <th>2018-12-03</th>\n",
       "      <td>157.43</td>\n",
       "      <td>161.08</td>\n",
       "      <td>996.57</td>\n",
       "      <td>995.94</td>\n",
       "    </tr>\n",
       "    <tr>\n",
       "      <th>2018-12-04</th>\n",
       "      <td>158.83</td>\n",
       "      <td>160.51</td>\n",
       "      <td>998.63</td>\n",
       "      <td>997.69</td>\n",
       "    </tr>\n",
       "    <tr>\n",
       "      <th>2018-12-05</th>\n",
       "      <td>155.84</td>\n",
       "      <td>157.06</td>\n",
       "      <td>997.68</td>\n",
       "      <td>996.72</td>\n",
       "    </tr>\n",
       "    <tr>\n",
       "      <th>2018-12-06</th>\n",
       "      <td>155.03</td>\n",
       "      <td>153.85</td>\n",
       "      <td>999.57</td>\n",
       "      <td>998.97</td>\n",
       "    </tr>\n",
       "    <tr>\n",
       "      <th>2018-12-07</th>\n",
       "      <td>157.33</td>\n",
       "      <td>161.24</td>\n",
       "      <td>996.69</td>\n",
       "      <td>1000.39</td>\n",
       "    </tr>\n",
       "    <tr>\n",
       "      <th>2018-12-08</th>\n",
       "      <td>157.93</td>\n",
       "      <td>160.23</td>\n",
       "      <td>998.13</td>\n",
       "      <td>997.17</td>\n",
       "    </tr>\n",
       "    <tr>\n",
       "      <th>2018-12-09</th>\n",
       "      <td>155.23</td>\n",
       "      <td>159.11</td>\n",
       "      <td>996.24</td>\n",
       "      <td>995.97</td>\n",
       "    </tr>\n",
       "    <tr>\n",
       "      <th>2018-12-10</th>\n",
       "      <td>158.94</td>\n",
       "      <td>157.74</td>\n",
       "      <td>999.68</td>\n",
       "      <td>997.69</td>\n",
       "    </tr>\n",
       "    <tr>\n",
       "      <th>2018-12-11</th>\n",
       "      <td>157.14</td>\n",
       "      <td>157.00</td>\n",
       "      <td>997.16</td>\n",
       "      <td>999.94</td>\n",
       "    </tr>\n",
       "    <tr>\n",
       "      <th>2018-12-12</th>\n",
       "      <td>156.43</td>\n",
       "      <td>155.78</td>\n",
       "      <td>997.81</td>\n",
       "      <td>998.56</td>\n",
       "    </tr>\n",
       "    <tr>\n",
       "      <th>2018-12-13</th>\n",
       "      <td>156.10</td>\n",
       "      <td>154.61</td>\n",
       "      <td>998.20</td>\n",
       "      <td>1001.29</td>\n",
       "    </tr>\n",
       "    <tr>\n",
       "      <th>2018-12-14</th>\n",
       "      <td>158.31</td>\n",
       "      <td>161.16</td>\n",
       "      <td>998.09</td>\n",
       "      <td>996.14</td>\n",
       "    </tr>\n",
       "    <tr>\n",
       "      <th>2018-12-15</th>\n",
       "      <td>156.68</td>\n",
       "      <td>154.98</td>\n",
       "      <td>996.95</td>\n",
       "      <td>995.00</td>\n",
       "    </tr>\n",
       "    <tr>\n",
       "      <th>2018-12-16</th>\n",
       "      <td>155.73</td>\n",
       "      <td>155.96</td>\n",
       "      <td>998.44</td>\n",
       "      <td>1000.41</td>\n",
       "    </tr>\n",
       "    <tr>\n",
       "      <th>2018-12-17</th>\n",
       "      <td>155.62</td>\n",
       "      <td>157.74</td>\n",
       "      <td>996.20</td>\n",
       "      <td>999.80</td>\n",
       "    </tr>\n",
       "    <tr>\n",
       "      <th>2018-12-18</th>\n",
       "      <td>155.51</td>\n",
       "      <td>158.44</td>\n",
       "      <td>996.16</td>\n",
       "      <td>996.73</td>\n",
       "    </tr>\n",
       "    <tr>\n",
       "      <th>2018-12-19</th>\n",
       "      <td>158.55</td>\n",
       "      <td>160.91</td>\n",
       "      <td>996.71</td>\n",
       "      <td>1000.46</td>\n",
       "    </tr>\n",
       "    <tr>\n",
       "      <th>2018-12-20</th>\n",
       "      <td>158.96</td>\n",
       "      <td>161.03</td>\n",
       "      <td>999.13</td>\n",
       "      <td>1001.28</td>\n",
       "    </tr>\n",
       "    <tr>\n",
       "      <th>2018-12-21</th>\n",
       "      <td>158.61</td>\n",
       "      <td>159.15</td>\n",
       "      <td>998.10</td>\n",
       "      <td>1000.55</td>\n",
       "    </tr>\n",
       "    <tr>\n",
       "      <th>2018-12-22</th>\n",
       "      <td>157.89</td>\n",
       "      <td>161.35</td>\n",
       "      <td>996.78</td>\n",
       "      <td>997.17</td>\n",
       "    </tr>\n",
       "    <tr>\n",
       "      <th>2018-12-23</th>\n",
       "      <td>157.67</td>\n",
       "      <td>158.65</td>\n",
       "      <td>998.52</td>\n",
       "      <td>999.49</td>\n",
       "    </tr>\n",
       "    <tr>\n",
       "      <th>2018-12-24</th>\n",
       "      <td>157.32</td>\n",
       "      <td>155.40</td>\n",
       "      <td>999.04</td>\n",
       "      <td>997.10</td>\n",
       "    </tr>\n",
       "  </tbody>\n",
       "</table>\n",
       "</div>"
      ],
      "text/plain": [
       "            AAPL Open  AAPL Close  GOOG Open  GOOG Close\n",
       "2018-11-25     157.19      160.84     997.54      999.17\n",
       "2018-11-26     155.48      156.31     996.40      996.45\n",
       "2018-11-27     155.65      158.57     996.67      996.59\n",
       "2018-11-28     155.41      154.68     997.98      998.66\n",
       "2018-11-29     156.36      154.98     997.53      998.09\n",
       "2018-11-30     156.08      157.04    1000.00     1003.43\n",
       "2018-12-01     158.17      157.54     996.25      999.45\n",
       "2018-12-02     155.15      155.88     999.48      999.63\n",
       "2018-12-03     157.43      161.08     996.57      995.94\n",
       "2018-12-04     158.83      160.51     998.63      997.69\n",
       "2018-12-05     155.84      157.06     997.68      996.72\n",
       "2018-12-06     155.03      153.85     999.57      998.97\n",
       "2018-12-07     157.33      161.24     996.69     1000.39\n",
       "2018-12-08     157.93      160.23     998.13      997.17\n",
       "2018-12-09     155.23      159.11     996.24      995.97\n",
       "2018-12-10     158.94      157.74     999.68      997.69\n",
       "2018-12-11     157.14      157.00     997.16      999.94\n",
       "2018-12-12     156.43      155.78     997.81      998.56\n",
       "2018-12-13     156.10      154.61     998.20     1001.29\n",
       "2018-12-14     158.31      161.16     998.09      996.14\n",
       "2018-12-15     156.68      154.98     996.95      995.00\n",
       "2018-12-16     155.73      155.96     998.44     1000.41\n",
       "2018-12-17     155.62      157.74     996.20      999.80\n",
       "2018-12-18     155.51      158.44     996.16      996.73\n",
       "2018-12-19     158.55      160.91     996.71     1000.46\n",
       "2018-12-20     158.96      161.03     999.13     1001.28\n",
       "2018-12-21     158.61      159.15     998.10     1000.55\n",
       "2018-12-22     157.89      161.35     996.78      997.17\n",
       "2018-12-23     157.67      158.65     998.52      999.49\n",
       "2018-12-24     157.32      155.40     999.04      997.10"
      ]
     },
     "execution_count": 16,
     "metadata": {},
     "output_type": "execute_result"
    }
   ],
   "source": [
    "dates  = pd.date_range('2018-11-25','2018-12-24')\n",
    "stock_df_columns = ['AAPL Open', 'AAPL Close', 'GOOG Open', 'GOOG Close']\n",
    "stock_df = pd.DataFrame({'AAPL Open':aapl_open_prices,'AAPL Close':aapl_close_prices,\n",
    "                                    'GOOG Open': goog_open_prices, 'GOOG Close': goog_close_prices},\n",
    "                                     index=dates,columns = stock_df_columns)\n",
    "stock_df"
   ]
  },
  {
   "cell_type": "markdown",
   "metadata": {},
   "source": [
    "Now let's compute the difference between the open and close price for both Apple and Google and add these value as a new columns in our stock_df datframe\n"
   ]
  },
  {
   "cell_type": "code",
   "execution_count": 17,
   "metadata": {},
   "outputs": [
    {
     "data": {
      "text/html": [
       "<div>\n",
       "<style scoped>\n",
       "    .dataframe tbody tr th:only-of-type {\n",
       "        vertical-align: middle;\n",
       "    }\n",
       "\n",
       "    .dataframe tbody tr th {\n",
       "        vertical-align: top;\n",
       "    }\n",
       "\n",
       "    .dataframe thead th {\n",
       "        text-align: right;\n",
       "    }\n",
       "</style>\n",
       "<table border=\"1\" class=\"dataframe\">\n",
       "  <thead>\n",
       "    <tr style=\"text-align: right;\">\n",
       "      <th></th>\n",
       "      <th>AAPL Open</th>\n",
       "      <th>AAPL Close</th>\n",
       "      <th>GOOG Open</th>\n",
       "      <th>GOOG Close</th>\n",
       "      <th>GOOG Diff</th>\n",
       "      <th>AAPL Diff</th>\n",
       "    </tr>\n",
       "  </thead>\n",
       "  <tbody>\n",
       "    <tr>\n",
       "      <th>2018-11-25</th>\n",
       "      <td>157.19</td>\n",
       "      <td>160.84</td>\n",
       "      <td>997.54</td>\n",
       "      <td>999.17</td>\n",
       "      <td>1.63</td>\n",
       "      <td>3.65</td>\n",
       "    </tr>\n",
       "    <tr>\n",
       "      <th>2018-11-26</th>\n",
       "      <td>155.48</td>\n",
       "      <td>156.31</td>\n",
       "      <td>996.40</td>\n",
       "      <td>996.45</td>\n",
       "      <td>0.05</td>\n",
       "      <td>0.83</td>\n",
       "    </tr>\n",
       "    <tr>\n",
       "      <th>2018-11-27</th>\n",
       "      <td>155.65</td>\n",
       "      <td>158.57</td>\n",
       "      <td>996.67</td>\n",
       "      <td>996.59</td>\n",
       "      <td>-0.08</td>\n",
       "      <td>2.92</td>\n",
       "    </tr>\n",
       "    <tr>\n",
       "      <th>2018-11-28</th>\n",
       "      <td>155.41</td>\n",
       "      <td>154.68</td>\n",
       "      <td>997.98</td>\n",
       "      <td>998.66</td>\n",
       "      <td>0.68</td>\n",
       "      <td>-0.73</td>\n",
       "    </tr>\n",
       "    <tr>\n",
       "      <th>2018-11-29</th>\n",
       "      <td>156.36</td>\n",
       "      <td>154.98</td>\n",
       "      <td>997.53</td>\n",
       "      <td>998.09</td>\n",
       "      <td>0.56</td>\n",
       "      <td>-1.38</td>\n",
       "    </tr>\n",
       "    <tr>\n",
       "      <th>2018-11-30</th>\n",
       "      <td>156.08</td>\n",
       "      <td>157.04</td>\n",
       "      <td>1000.00</td>\n",
       "      <td>1003.43</td>\n",
       "      <td>3.43</td>\n",
       "      <td>0.96</td>\n",
       "    </tr>\n",
       "    <tr>\n",
       "      <th>2018-12-01</th>\n",
       "      <td>158.17</td>\n",
       "      <td>157.54</td>\n",
       "      <td>996.25</td>\n",
       "      <td>999.45</td>\n",
       "      <td>3.20</td>\n",
       "      <td>-0.63</td>\n",
       "    </tr>\n",
       "    <tr>\n",
       "      <th>2018-12-02</th>\n",
       "      <td>155.15</td>\n",
       "      <td>155.88</td>\n",
       "      <td>999.48</td>\n",
       "      <td>999.63</td>\n",
       "      <td>0.15</td>\n",
       "      <td>0.73</td>\n",
       "    </tr>\n",
       "    <tr>\n",
       "      <th>2018-12-03</th>\n",
       "      <td>157.43</td>\n",
       "      <td>161.08</td>\n",
       "      <td>996.57</td>\n",
       "      <td>995.94</td>\n",
       "      <td>-0.63</td>\n",
       "      <td>3.65</td>\n",
       "    </tr>\n",
       "    <tr>\n",
       "      <th>2018-12-04</th>\n",
       "      <td>158.83</td>\n",
       "      <td>160.51</td>\n",
       "      <td>998.63</td>\n",
       "      <td>997.69</td>\n",
       "      <td>-0.94</td>\n",
       "      <td>1.68</td>\n",
       "    </tr>\n",
       "    <tr>\n",
       "      <th>2018-12-05</th>\n",
       "      <td>155.84</td>\n",
       "      <td>157.06</td>\n",
       "      <td>997.68</td>\n",
       "      <td>996.72</td>\n",
       "      <td>-0.96</td>\n",
       "      <td>1.22</td>\n",
       "    </tr>\n",
       "    <tr>\n",
       "      <th>2018-12-06</th>\n",
       "      <td>155.03</td>\n",
       "      <td>153.85</td>\n",
       "      <td>999.57</td>\n",
       "      <td>998.97</td>\n",
       "      <td>-0.60</td>\n",
       "      <td>-1.18</td>\n",
       "    </tr>\n",
       "    <tr>\n",
       "      <th>2018-12-07</th>\n",
       "      <td>157.33</td>\n",
       "      <td>161.24</td>\n",
       "      <td>996.69</td>\n",
       "      <td>1000.39</td>\n",
       "      <td>3.70</td>\n",
       "      <td>3.91</td>\n",
       "    </tr>\n",
       "    <tr>\n",
       "      <th>2018-12-08</th>\n",
       "      <td>157.93</td>\n",
       "      <td>160.23</td>\n",
       "      <td>998.13</td>\n",
       "      <td>997.17</td>\n",
       "      <td>-0.96</td>\n",
       "      <td>2.30</td>\n",
       "    </tr>\n",
       "    <tr>\n",
       "      <th>2018-12-09</th>\n",
       "      <td>155.23</td>\n",
       "      <td>159.11</td>\n",
       "      <td>996.24</td>\n",
       "      <td>995.97</td>\n",
       "      <td>-0.27</td>\n",
       "      <td>3.88</td>\n",
       "    </tr>\n",
       "    <tr>\n",
       "      <th>2018-12-10</th>\n",
       "      <td>158.94</td>\n",
       "      <td>157.74</td>\n",
       "      <td>999.68</td>\n",
       "      <td>997.69</td>\n",
       "      <td>-1.99</td>\n",
       "      <td>-1.20</td>\n",
       "    </tr>\n",
       "    <tr>\n",
       "      <th>2018-12-11</th>\n",
       "      <td>157.14</td>\n",
       "      <td>157.00</td>\n",
       "      <td>997.16</td>\n",
       "      <td>999.94</td>\n",
       "      <td>2.78</td>\n",
       "      <td>-0.14</td>\n",
       "    </tr>\n",
       "    <tr>\n",
       "      <th>2018-12-12</th>\n",
       "      <td>156.43</td>\n",
       "      <td>155.78</td>\n",
       "      <td>997.81</td>\n",
       "      <td>998.56</td>\n",
       "      <td>0.75</td>\n",
       "      <td>-0.65</td>\n",
       "    </tr>\n",
       "    <tr>\n",
       "      <th>2018-12-13</th>\n",
       "      <td>156.10</td>\n",
       "      <td>154.61</td>\n",
       "      <td>998.20</td>\n",
       "      <td>1001.29</td>\n",
       "      <td>3.09</td>\n",
       "      <td>-1.49</td>\n",
       "    </tr>\n",
       "    <tr>\n",
       "      <th>2018-12-14</th>\n",
       "      <td>158.31</td>\n",
       "      <td>161.16</td>\n",
       "      <td>998.09</td>\n",
       "      <td>996.14</td>\n",
       "      <td>-1.95</td>\n",
       "      <td>2.85</td>\n",
       "    </tr>\n",
       "    <tr>\n",
       "      <th>2018-12-15</th>\n",
       "      <td>156.68</td>\n",
       "      <td>154.98</td>\n",
       "      <td>996.95</td>\n",
       "      <td>995.00</td>\n",
       "      <td>-1.95</td>\n",
       "      <td>-1.70</td>\n",
       "    </tr>\n",
       "    <tr>\n",
       "      <th>2018-12-16</th>\n",
       "      <td>155.73</td>\n",
       "      <td>155.96</td>\n",
       "      <td>998.44</td>\n",
       "      <td>1000.41</td>\n",
       "      <td>1.97</td>\n",
       "      <td>0.23</td>\n",
       "    </tr>\n",
       "    <tr>\n",
       "      <th>2018-12-17</th>\n",
       "      <td>155.62</td>\n",
       "      <td>157.74</td>\n",
       "      <td>996.20</td>\n",
       "      <td>999.80</td>\n",
       "      <td>3.60</td>\n",
       "      <td>2.12</td>\n",
       "    </tr>\n",
       "    <tr>\n",
       "      <th>2018-12-18</th>\n",
       "      <td>155.51</td>\n",
       "      <td>158.44</td>\n",
       "      <td>996.16</td>\n",
       "      <td>996.73</td>\n",
       "      <td>0.57</td>\n",
       "      <td>2.93</td>\n",
       "    </tr>\n",
       "    <tr>\n",
       "      <th>2018-12-19</th>\n",
       "      <td>158.55</td>\n",
       "      <td>160.91</td>\n",
       "      <td>996.71</td>\n",
       "      <td>1000.46</td>\n",
       "      <td>3.75</td>\n",
       "      <td>2.36</td>\n",
       "    </tr>\n",
       "    <tr>\n",
       "      <th>2018-12-20</th>\n",
       "      <td>158.96</td>\n",
       "      <td>161.03</td>\n",
       "      <td>999.13</td>\n",
       "      <td>1001.28</td>\n",
       "      <td>2.15</td>\n",
       "      <td>2.07</td>\n",
       "    </tr>\n",
       "    <tr>\n",
       "      <th>2018-12-21</th>\n",
       "      <td>158.61</td>\n",
       "      <td>159.15</td>\n",
       "      <td>998.10</td>\n",
       "      <td>1000.55</td>\n",
       "      <td>2.45</td>\n",
       "      <td>0.54</td>\n",
       "    </tr>\n",
       "    <tr>\n",
       "      <th>2018-12-22</th>\n",
       "      <td>157.89</td>\n",
       "      <td>161.35</td>\n",
       "      <td>996.78</td>\n",
       "      <td>997.17</td>\n",
       "      <td>0.39</td>\n",
       "      <td>3.46</td>\n",
       "    </tr>\n",
       "    <tr>\n",
       "      <th>2018-12-23</th>\n",
       "      <td>157.67</td>\n",
       "      <td>158.65</td>\n",
       "      <td>998.52</td>\n",
       "      <td>999.49</td>\n",
       "      <td>0.97</td>\n",
       "      <td>0.98</td>\n",
       "    </tr>\n",
       "    <tr>\n",
       "      <th>2018-12-24</th>\n",
       "      <td>157.32</td>\n",
       "      <td>155.40</td>\n",
       "      <td>999.04</td>\n",
       "      <td>997.10</td>\n",
       "      <td>-1.94</td>\n",
       "      <td>-1.92</td>\n",
       "    </tr>\n",
       "  </tbody>\n",
       "</table>\n",
       "</div>"
      ],
      "text/plain": [
       "            AAPL Open  AAPL Close  GOOG Open  GOOG Close  GOOG Diff  AAPL Diff\n",
       "2018-11-25     157.19      160.84     997.54      999.17       1.63       3.65\n",
       "2018-11-26     155.48      156.31     996.40      996.45       0.05       0.83\n",
       "2018-11-27     155.65      158.57     996.67      996.59      -0.08       2.92\n",
       "2018-11-28     155.41      154.68     997.98      998.66       0.68      -0.73\n",
       "2018-11-29     156.36      154.98     997.53      998.09       0.56      -1.38\n",
       "2018-11-30     156.08      157.04    1000.00     1003.43       3.43       0.96\n",
       "2018-12-01     158.17      157.54     996.25      999.45       3.20      -0.63\n",
       "2018-12-02     155.15      155.88     999.48      999.63       0.15       0.73\n",
       "2018-12-03     157.43      161.08     996.57      995.94      -0.63       3.65\n",
       "2018-12-04     158.83      160.51     998.63      997.69      -0.94       1.68\n",
       "2018-12-05     155.84      157.06     997.68      996.72      -0.96       1.22\n",
       "2018-12-06     155.03      153.85     999.57      998.97      -0.60      -1.18\n",
       "2018-12-07     157.33      161.24     996.69     1000.39       3.70       3.91\n",
       "2018-12-08     157.93      160.23     998.13      997.17      -0.96       2.30\n",
       "2018-12-09     155.23      159.11     996.24      995.97      -0.27       3.88\n",
       "2018-12-10     158.94      157.74     999.68      997.69      -1.99      -1.20\n",
       "2018-12-11     157.14      157.00     997.16      999.94       2.78      -0.14\n",
       "2018-12-12     156.43      155.78     997.81      998.56       0.75      -0.65\n",
       "2018-12-13     156.10      154.61     998.20     1001.29       3.09      -1.49\n",
       "2018-12-14     158.31      161.16     998.09      996.14      -1.95       2.85\n",
       "2018-12-15     156.68      154.98     996.95      995.00      -1.95      -1.70\n",
       "2018-12-16     155.73      155.96     998.44     1000.41       1.97       0.23\n",
       "2018-12-17     155.62      157.74     996.20      999.80       3.60       2.12\n",
       "2018-12-18     155.51      158.44     996.16      996.73       0.57       2.93\n",
       "2018-12-19     158.55      160.91     996.71     1000.46       3.75       2.36\n",
       "2018-12-20     158.96      161.03     999.13     1001.28       2.15       2.07\n",
       "2018-12-21     158.61      159.15     998.10     1000.55       2.45       0.54\n",
       "2018-12-22     157.89      161.35     996.78      997.17       0.39       3.46\n",
       "2018-12-23     157.67      158.65     998.52      999.49       0.97       0.98\n",
       "2018-12-24     157.32      155.40     999.04      997.10      -1.94      -1.92"
      ]
     },
     "execution_count": 17,
     "metadata": {},
     "output_type": "execute_result"
    }
   ],
   "source": [
    "stock_df['GOOG Diff'] = stock_df['GOOG Close'] - stock_df['GOOG Open']\n",
    "stock_df['AAPL Diff'] = stock_df['AAPL Close'] - stock_df['AAPL Open']\n",
    "stock_df"
   ]
  },
  {
   "cell_type": "markdown",
   "metadata": {},
   "source": [
    "Let's do a couple of visualizations.  Let's plot  line graph for both Google and Apple showing both the open and close lines. "
   ]
  },
  {
   "cell_type": "code",
   "execution_count": 18,
   "metadata": {},
   "outputs": [
    {
     "data": {
      "text/plain": [
       "Text(0.5,1,'Google Stock Price')"
      ]
     },
     "execution_count": 18,
     "metadata": {},
     "output_type": "execute_result"
    },
    {
     "data": {
      "image/png": "[encoded data removed]",
      "text/plain": [
       "<Figure size 1152x576 with 2 Axes>"
      ]
     },
     "metadata": {},
     "output_type": "display_data"
    }
   ],
   "source": [
    "fig = plt.figure(figsize=(16,8))\n",
    "ax1 = fig.add_subplot(2,1,1)\n",
    "ax1.plot(stock_df['AAPL Open'], label = 'AAPL Open')\n",
    "ax1.plot(stock_df['AAPL Close'], label = 'AAPL Close')\n",
    "ax1.set_title('Apple Stock Price')\n",
    "ax2 = fig.add_subplot(2,1,2)\n",
    "ax2.plot(stock_df['GOOG Open'], label = 'GOOG Open')\n",
    "ax2.plot(stock_df['GOOG Close'], label = 'GOOG Close')\n",
    "ax2.set_title ('Google Stock Price')\n",
    "ax2.set_legend('Google Stock Price')\n",
    "#ax2.plot(stock_df['GOOG Close'], label = 'GOOG Close')\n",
    "#ax1.title('Apple Stock Price')\n",
    "#ax1.xlabel('Date')\n",
    "#ax1.ylabel('Price') \n",
    "#ax1.legend()\n",
    "#ax2.title('Google Stock Price')\n",
    "#ax2.xlabel('Date')\n",
    "#ax2.ylabel('Price') \n",
    "#ax2.legend()"
   ]
  },
  {
   "cell_type": "code",
   "execution_count": 19,
   "metadata": {},
   "outputs": [
    {
     "data": {
      "text/plain": [
       "<matplotlib.legend.Legend at 0x7fdc1f1a2be0>"
      ]
     },
     "execution_count": 19,
     "metadata": {},
     "output_type": "execute_result"
    },
    {
     "data": {
      "image/png": "[encoded data removed]",
      "text/plain": [
       "<Figure size 1152x576 with 1 Axes>"
      ]
     },
     "metadata": {},
     "output_type": "display_data"
    }
   ],
   "source": [
    "fig = plt.figure(figsize=(16,8))\n",
    "plt.plot(stock_df['GOOG Open'], label = 'GOOG Open')\n",
    "plt.plot(stock_df['GOOG Close'], label = 'GOOG Close')\n",
    "plt.title('Google Stock Price')\n",
    "plt.xlabel('Date')\n",
    "plt.ylabel('Price') \n",
    "plt.legend()"
   ]
  },
  {
   "cell_type": "markdown",
   "metadata": {},
   "source": [
    "We can also use Pandas to immediately calculate some common statistical functions.  For example"
   ]
  },
  {
   "cell_type": "code",
   "execution_count": 20,
   "metadata": {},
   "outputs": [
    {
     "data": {
      "text/plain": [
       "997.7443333333334"
      ]
     },
     "execution_count": 20,
     "metadata": {},
     "output_type": "execute_result"
    }
   ],
   "source": [
    "stock_df['GOOG Open'].mean()"
   ]
  },
  {
   "cell_type": "code",
   "execution_count": 21,
   "metadata": {},
   "outputs": [
    {
     "data": {
      "text/plain": [
       "157.74"
      ]
     },
     "execution_count": 21,
     "metadata": {},
     "output_type": "execute_result"
    }
   ],
   "source": [
    "stock_df['AAPL Close'].median()"
   ]
  },
  {
   "cell_type": "code",
   "execution_count": 22,
   "metadata": {},
   "outputs": [
    {
     "data": {
      "text/plain": [
       "0    997.17\n",
       "1    997.69\n",
       "dtype: float64"
      ]
     },
     "execution_count": 22,
     "metadata": {},
     "output_type": "execute_result"
    }
   ],
   "source": [
    "stock_df['GOOG Close'].mode()"
   ]
  },
  {
   "cell_type": "markdown",
   "metadata": {},
   "source": [
    "In numpy, mean(), median() and mode() all take as a parameter a number that defines whether we want to perform the operation over the columns or over the rows.  "
   ]
  },
  {
   "cell_type": "code",
   "execution_count": 23,
   "metadata": {},
   "outputs": [
    {
     "name": "stdout",
     "output_type": "stream",
     "text": [
      "Mean value for entire array  -0.09950654903881535\n",
      "Column mean values  [ 0.2045967   0.03937331 -0.38511696  0.13446073 -0.49084653]\n",
      "Row mean values [ 0.22614101 -0.46891542 -0.38791407 -0.16818173  0.30133747]\n"
     ]
    }
   ],
   "source": [
    "import numpy as np\n",
    "# 5 x 5 array of random numbers. \n",
    "test_array = np.random.randn(5,5)\n",
    "print ('Mean value for entire array ',test_array.mean())\n",
    "print ('Column mean values ', test_array.mean(0))\n",
    "print ('Row mean values',test_array.mean(1))"
   ]
  },
  {
   "cell_type": "markdown",
   "metadata": {},
   "source": [
    "In a Pandas dataframe, the default behavior (i.e. no parameter specified) is to compute the mean over the columns. Supplying a 1 computes the row means. "
   ]
  },
  {
   "cell_type": "markdown",
   "metadata": {},
   "source": [
    "In our previous stock data, if we subtract the daily price from the mean, we'll get the deviations from the mean for each timestamp. "
   ]
  },
  {
   "cell_type": "code",
   "execution_count": 28,
   "metadata": {},
   "outputs": [
    {
     "name": "stdout",
     "output_type": "stream",
     "text": [
      "            AAPL Open  AAPL Close  GOOG Open  GOOG Close  GOOG Diff  AAPL Diff\n",
      "2018-11-25   0.304333    2.879333  -0.204333       0.639   0.843333      2.575\n",
      "2018-11-26  -1.405667   -1.650667  -1.344333      -2.081  -0.736667     -0.245\n",
      "2018-11-27  -1.235667    0.609333  -1.074333      -1.941  -0.866667      1.845\n",
      "2018-11-28  -1.475667   -3.280667   0.235667       0.129  -0.106667     -1.805\n",
      "2018-11-29  -0.525667   -2.980667  -0.214333      -0.441  -0.226667     -2.455\n",
      "2018-11-30  -0.805667   -0.920667   2.255667       4.899   2.643333     -0.115\n",
      "2018-12-01   1.284333   -0.420667  -1.494333       0.919   2.413333     -1.705\n",
      "2018-12-02  -1.735667   -2.080667   1.735667       1.099  -0.636667     -0.345\n",
      "2018-12-03   0.544333    3.119333  -1.174333      -2.591  -1.416667      2.575\n",
      "2018-12-04   1.944333    2.549333   0.885667      -0.841  -1.726667      0.605\n",
      "2018-12-05  -1.045667   -0.900667  -0.064333      -1.811  -1.746667      0.145\n",
      "2018-12-06  -1.855667   -4.110667   1.825667       0.439  -1.386667     -2.255\n",
      "2018-12-07   0.444333    3.279333  -1.054333       1.859   2.913333      2.835\n",
      "2018-12-08   1.044333    2.269333   0.385667      -1.361  -1.746667      1.225\n",
      "2018-12-09  -1.655667    1.149333  -1.504333      -2.561  -1.056667      2.805\n",
      "2018-12-10   2.054333   -0.220667   1.935667      -0.841  -2.776667     -2.275\n",
      "2018-12-11   0.254333   -0.960667  -0.584333       1.409   1.993333     -1.215\n",
      "2018-12-12  -0.455667   -2.180667   0.065667       0.029  -0.036667     -1.725\n",
      "2018-12-13  -0.785667   -3.350667   0.455667       2.759   2.303333     -2.565\n",
      "2018-12-14   1.424333    3.199333   0.345667      -2.391  -2.736667      1.775\n",
      "2018-12-15  -0.205667   -2.980667  -0.794333      -3.531  -2.736667     -2.775\n",
      "2018-12-16  -1.155667   -2.000667   0.695667       1.879   1.183333     -0.845\n",
      "2018-12-17  -1.265667   -0.220667  -1.544333       1.269   2.813333      1.045\n",
      "2018-12-18  -1.375667    0.479333  -1.584333      -1.801  -0.216667      1.855\n",
      "2018-12-19   1.664333    2.949333  -1.034333       1.929   2.963333      1.285\n",
      "2018-12-20   2.074333    3.069333   1.385667       2.749   1.363333      0.995\n",
      "2018-12-21   1.724333    1.189333   0.355667       2.019   1.663333     -0.535\n",
      "2018-12-22   1.004333    3.389333  -0.964333      -1.361  -0.396667      2.385\n",
      "2018-12-23   0.784333    0.689333   0.775667       0.959   0.183333     -0.095\n",
      "2018-12-24   0.434333   -2.560667   1.295667      -1.431  -2.726667     -2.995\n"
     ]
    }
   ],
   "source": [
    "print(stock_df - stock_df.mean())"
   ]
  },
  {
   "cell_type": "markdown",
   "metadata": {},
   "source": [
    "One very nice feature of Pandas is boolean selection, i.e. We can select on rows or columns according to some boolean expression.  For example, if we want to select all rows where the price of AAPL close is > 158.50 USD, we can do the following.  "
   ]
  },
  {
   "cell_type": "code",
   "execution_count": 27,
   "metadata": {
    "scrolled": true
   },
   "outputs": [
    {
     "name": "stdout",
     "output_type": "stream",
     "text": [
      "            AAPL Open  AAPL Close  GOOG Open  GOOG Close  GOOG Diff  AAPL Diff\n",
      "2018-11-25        NaN      160.84     997.54      999.17        NaN        NaN\n",
      "2018-12-03        NaN      161.08     996.57      995.94        NaN        NaN\n",
      "2018-12-04        NaN      160.51     998.63      997.69        NaN        NaN\n",
      "2018-12-07        NaN      161.24     996.69     1000.39        NaN        NaN\n",
      "2018-12-08        NaN      160.23     998.13      997.17        NaN        NaN\n",
      "2018-12-14        NaN      161.16     998.09      996.14        NaN        NaN\n",
      "2018-12-19        NaN      160.91     996.71     1000.46        NaN        NaN\n",
      "2018-12-20        NaN      161.03     999.13     1001.28        NaN        NaN\n",
      "2018-12-22        NaN      161.35     996.78      997.17        NaN        NaN\n"
     ]
    }
   ],
   "source": [
    "aapl_close = stock_df[stock_df['AAPL Close'] > 159.5]\n",
    "#stock_df['AAPL Close']\n",
    "print (aapl_close[aapl_close > 159.5])"
   ]
  },
  {
   "cell_type": "code",
   "execution_count": null,
   "metadata": {},
   "outputs": [],
   "source": []
  },
  {
   "cell_type": "code",
   "execution_count": 29,
   "metadata": {},
   "outputs": [
    {
     "data": {
      "text/html": [
       "<div>\n",
       "<style scoped>\n",
       "    .dataframe tbody tr th:only-of-type {\n",
       "        vertical-align: middle;\n",
       "    }\n",
       "\n",
       "    .dataframe tbody tr th {\n",
       "        vertical-align: top;\n",
       "    }\n",
       "\n",
       "    .dataframe thead th {\n",
       "        text-align: right;\n",
       "    }\n",
       "</style>\n",
       "<table border=\"1\" class=\"dataframe\">\n",
       "  <thead>\n",
       "    <tr style=\"text-align: right;\">\n",
       "      <th></th>\n",
       "      <th>AAPL Open</th>\n",
       "      <th>AAPL Close</th>\n",
       "      <th>GOOG Open</th>\n",
       "      <th>GOOG Close</th>\n",
       "      <th>GOOG Diff</th>\n",
       "      <th>AAPL Diff</th>\n",
       "    </tr>\n",
       "  </thead>\n",
       "  <tbody>\n",
       "    <tr>\n",
       "      <th>2018-12-07</th>\n",
       "      <td>158.33</td>\n",
       "      <td>162.24</td>\n",
       "      <td>997.69</td>\n",
       "      <td>1001.39</td>\n",
       "      <td>4.70</td>\n",
       "      <td>4.91</td>\n",
       "    </tr>\n",
       "    <tr>\n",
       "      <th>2018-12-19</th>\n",
       "      <td>159.55</td>\n",
       "      <td>161.91</td>\n",
       "      <td>997.71</td>\n",
       "      <td>1001.46</td>\n",
       "      <td>4.75</td>\n",
       "      <td>3.36</td>\n",
       "    </tr>\n",
       "    <tr>\n",
       "      <th>2018-12-20</th>\n",
       "      <td>159.96</td>\n",
       "      <td>162.03</td>\n",
       "      <td>1000.13</td>\n",
       "      <td>1002.28</td>\n",
       "      <td>3.15</td>\n",
       "      <td>3.07</td>\n",
       "    </tr>\n",
       "    <tr>\n",
       "      <th>2018-12-21</th>\n",
       "      <td>159.61</td>\n",
       "      <td>160.15</td>\n",
       "      <td>999.10</td>\n",
       "      <td>1001.55</td>\n",
       "      <td>3.45</td>\n",
       "      <td>1.54</td>\n",
       "    </tr>\n",
       "  </tbody>\n",
       "</table>\n",
       "</div>"
      ],
      "text/plain": [
       "            AAPL Open  AAPL Close  GOOG Open  GOOG Close  GOOG Diff  AAPL Diff\n",
       "2018-12-07     158.33      162.24     997.69     1001.39       4.70       4.91\n",
       "2018-12-19     159.55      161.91     997.71     1001.46       4.75       3.36\n",
       "2018-12-20     159.96      162.03    1000.13     1002.28       3.15       3.07\n",
       "2018-12-21     159.61      160.15     999.10     1001.55       3.45       1.54"
      ]
     },
     "execution_count": 29,
     "metadata": {},
     "output_type": "execute_result"
    }
   ],
   "source": [
    "#stock_df[[]list of columns]]\n",
    "new_series = stock_df[(stock_df['GOOG Close'] \n",
    "                       > 999.99) & (stock_df['AAPL Close'] > 158.50)].apply(lambda x: x + 1)\n",
    "new_series"
   ]
  },
  {
   "cell_type": "markdown",
   "metadata": {},
   "source": [
    "### Reading data from a csv file into a Pandas dataframe\n",
    "\n",
    "To read data from a csv file into a Pandas dataframe, we can use the 'read_csv' method.  For example, \n",
    "we've written the stock data to a file called 'stock_data.csv'.  Let's read that file from the disk into our stock_df dataframe. Note that we need to set the first column (The date column) to be our index, and then, we rename it to Date. "
   ]
  },
  {
   "cell_type": "code",
   "execution_count": 30,
   "metadata": {},
   "outputs": [
    {
     "name": "stdout",
     "output_type": "stream",
     "text": [
      ",AAPL Open,AAPL Close,GOOG Open,GOOG Close,GOOG Diff,AAPL Diff\r\n",
      "2018-11-25,158.08657785996166,159.42,1000.0689661119276,1001.14,1.0710338880724066,1.3334221400383228\r\n",
      "2018-11-26,158.8618918031294,159.91,1000.4366532412828,1002.99,2.5533467587172254,1.0481081968706008\r\n",
      "2018-11-27,158.74427611495622,160.28,999.7844244841358,1002.45,2.665575515864248,1.5357238850437795\r\n",
      "2018-11-28,158.91218528151748,160.09,1001.0963529838867,1002.64,1.5436470161132547,1.177814718482523\r\n",
      "2018-11-29,158.2514916461319,159.51,999.6809195094673,1002.67,2.989080490532615,1.2585083538680806\r\n",
      "2018-11-30,158.68925478146812,160.23,1000.2429517735522,1004.0,3.7570482264477505,1.5407452185318675\r\n",
      "2018-12-01,158.47230518134555,159.73,1000.8912346735564,1002.1,1.208765326443654,1.2576948186544428\r\n",
      "2018-12-02,158.1611581311685,159.71,1001.0799260449335,1002.66,1.5800739550664957,1.5488418688315164\r\n",
      "2018-12-03,158.14471729943773,159.39,1000.9800416446511,1003.94,2.959958355348931,1.2452827005622567\r\n",
      "2018-12-04,158.18234613028284,159.85,1000.9280383986114,1004.22,3.291961601388607,1.6676538697171566\r\n",
      "2018-12-05,158.82944369447435,160.51,1001.6807068089716,1003.56,1.879293191028296,1.6805563055256414\r\n",
      "2018-12-06,158.9195846709316,159.94,1000.3389415144005,1003.89,3.5510584855994693,1.0204153290683848\r\n",
      "2018-12-07,158.4047071027204,159.62,1001.5344421311561,1004.87,3.335557868843921,1.2152928972795962\r\n",
      "2018-12-08,158.49214703418664,160.47,999.0804912159317,1002.04,2.959508784068248,1.977852965813355\r\n",
      "2018-12-09,158.6056298055783,159.66,1000.6065723576488,1002.95,2.34342764235123,1.0543701944216934\r\n",
      "2018-12-10,158.58996209013515,159.79,999.8141160472095,1001.31,1.4958839527904502,1.2000379098648466\r\n",
      "2018-12-11,158.31340645076224,160.03,1001.7505447234429,1004.84,3.089455276557146,1.716593549237757\r\n",
      "2018-12-12,158.6352033581242,159.76,999.5383610654457,1000.72,1.1816389345543712,1.124796641875804\r\n",
      "2018-12-13,158.37367174956464,160.36,999.2413686842079,1000.4,1.1586313157920358,1.9863282504353776\r\n",
      "2018-12-14,158.13525142658438,160.01,999.0912618010981,1000.23,1.1387381989019332,1.8747485734156157\r\n",
      "2018-12-15,158.40691214393237,159.48,1000.2772301407708,1003.16,2.8827698592291426,1.073087856067616\r\n",
      "2018-12-16,158.21585769909194,159.37,999.2352087949826,1001.26,2.0247912050174364,1.1541423009080631\r\n",
      "2018-12-17,158.90268616767332,160.9,1001.5007472880278,1003.5,1.99925271197219,1.9973138323266824\r\n",
      "2018-12-18,158.42425836174718,159.67,1001.9263186275706,1003.39,1.4636813724293916,1.2457416382528095\r\n",
      "2018-12-19,158.8217006507229,160.47,1001.1191556220616,1003.96,2.8408443779384243,1.6482993492770959\r\n",
      "2018-12-20,158.28911247652667,160.04,999.1221621250984,1000.86,1.7378378749016292,1.7508875234733239\r\n",
      "2018-12-21,158.87296428838673,160.27,999.8229277561426,1003.29,3.4670722438573875,1.3970357116132845\r\n",
      "2018-12-22,158.78570525171781,160.72,999.6082416909218,1001.39,1.7817583090782136,1.9342947482821842\r\n",
      "2018-12-23,158.70786767882487,160.18,1001.4490184476861,1003.34,1.8909815523139741,1.4721323211751383\r\n",
      "2018-12-24,158.2606178896753,159.46,999.1106392166374,1002.09,2.9793607833626083,1.1993821103247058\r\n"
     ]
    }
   ],
   "source": [
    "!cat ../data/stock_data.csv"
   ]
  },
  {
   "cell_type": "code",
   "execution_count": 31,
   "metadata": {},
   "outputs": [
    {
     "data": {
      "text/html": [
       "<div>\n",
       "<style scoped>\n",
       "    .dataframe tbody tr th:only-of-type {\n",
       "        vertical-align: middle;\n",
       "    }\n",
       "\n",
       "    .dataframe tbody tr th {\n",
       "        vertical-align: top;\n",
       "    }\n",
       "\n",
       "    .dataframe thead th {\n",
       "        text-align: right;\n",
       "    }\n",
       "</style>\n",
       "<table border=\"1\" class=\"dataframe\">\n",
       "  <thead>\n",
       "    <tr style=\"text-align: right;\">\n",
       "      <th></th>\n",
       "      <th>AAPL Open</th>\n",
       "      <th>AAPL Close</th>\n",
       "      <th>GOOG Open</th>\n",
       "      <th>GOOG Close</th>\n",
       "      <th>GOOG Diff</th>\n",
       "      <th>AAPL Diff</th>\n",
       "    </tr>\n",
       "    <tr>\n",
       "      <th>Date</th>\n",
       "      <th></th>\n",
       "      <th></th>\n",
       "      <th></th>\n",
       "      <th></th>\n",
       "      <th></th>\n",
       "      <th></th>\n",
       "    </tr>\n",
       "  </thead>\n",
       "  <tbody>\n",
       "    <tr>\n",
       "      <th>2018-11-25</th>\n",
       "      <td>158.086578</td>\n",
       "      <td>159.42</td>\n",
       "      <td>1000.068966</td>\n",
       "      <td>1001.14</td>\n",
       "      <td>1.071034</td>\n",
       "      <td>1.333422</td>\n",
       "    </tr>\n",
       "    <tr>\n",
       "      <th>2018-11-26</th>\n",
       "      <td>158.861892</td>\n",
       "      <td>159.91</td>\n",
       "      <td>1000.436653</td>\n",
       "      <td>1002.99</td>\n",
       "      <td>2.553347</td>\n",
       "      <td>1.048108</td>\n",
       "    </tr>\n",
       "    <tr>\n",
       "      <th>2018-11-27</th>\n",
       "      <td>158.744276</td>\n",
       "      <td>160.28</td>\n",
       "      <td>999.784424</td>\n",
       "      <td>1002.45</td>\n",
       "      <td>2.665576</td>\n",
       "      <td>1.535724</td>\n",
       "    </tr>\n",
       "    <tr>\n",
       "      <th>2018-11-28</th>\n",
       "      <td>158.912185</td>\n",
       "      <td>160.09</td>\n",
       "      <td>1001.096353</td>\n",
       "      <td>1002.64</td>\n",
       "      <td>1.543647</td>\n",
       "      <td>1.177815</td>\n",
       "    </tr>\n",
       "    <tr>\n",
       "      <th>2018-11-29</th>\n",
       "      <td>158.251492</td>\n",
       "      <td>159.51</td>\n",
       "      <td>999.680920</td>\n",
       "      <td>1002.67</td>\n",
       "      <td>2.989080</td>\n",
       "      <td>1.258508</td>\n",
       "    </tr>\n",
       "    <tr>\n",
       "      <th>2018-11-30</th>\n",
       "      <td>158.689255</td>\n",
       "      <td>160.23</td>\n",
       "      <td>1000.242952</td>\n",
       "      <td>1004.00</td>\n",
       "      <td>3.757048</td>\n",
       "      <td>1.540745</td>\n",
       "    </tr>\n",
       "    <tr>\n",
       "      <th>2018-12-01</th>\n",
       "      <td>158.472305</td>\n",
       "      <td>159.73</td>\n",
       "      <td>1000.891235</td>\n",
       "      <td>1002.10</td>\n",
       "      <td>1.208765</td>\n",
       "      <td>1.257695</td>\n",
       "    </tr>\n",
       "    <tr>\n",
       "      <th>2018-12-02</th>\n",
       "      <td>158.161158</td>\n",
       "      <td>159.71</td>\n",
       "      <td>1001.079926</td>\n",
       "      <td>1002.66</td>\n",
       "      <td>1.580074</td>\n",
       "      <td>1.548842</td>\n",
       "    </tr>\n",
       "    <tr>\n",
       "      <th>2018-12-03</th>\n",
       "      <td>158.144717</td>\n",
       "      <td>159.39</td>\n",
       "      <td>1000.980042</td>\n",
       "      <td>1003.94</td>\n",
       "      <td>2.959958</td>\n",
       "      <td>1.245283</td>\n",
       "    </tr>\n",
       "    <tr>\n",
       "      <th>2018-12-04</th>\n",
       "      <td>158.182346</td>\n",
       "      <td>159.85</td>\n",
       "      <td>1000.928038</td>\n",
       "      <td>1004.22</td>\n",
       "      <td>3.291962</td>\n",
       "      <td>1.667654</td>\n",
       "    </tr>\n",
       "    <tr>\n",
       "      <th>2018-12-05</th>\n",
       "      <td>158.829444</td>\n",
       "      <td>160.51</td>\n",
       "      <td>1001.680707</td>\n",
       "      <td>1003.56</td>\n",
       "      <td>1.879293</td>\n",
       "      <td>1.680556</td>\n",
       "    </tr>\n",
       "    <tr>\n",
       "      <th>2018-12-06</th>\n",
       "      <td>158.919585</td>\n",
       "      <td>159.94</td>\n",
       "      <td>1000.338942</td>\n",
       "      <td>1003.89</td>\n",
       "      <td>3.551058</td>\n",
       "      <td>1.020415</td>\n",
       "    </tr>\n",
       "    <tr>\n",
       "      <th>2018-12-07</th>\n",
       "      <td>158.404707</td>\n",
       "      <td>159.62</td>\n",
       "      <td>1001.534442</td>\n",
       "      <td>1004.87</td>\n",
       "      <td>3.335558</td>\n",
       "      <td>1.215293</td>\n",
       "    </tr>\n",
       "    <tr>\n",
       "      <th>2018-12-08</th>\n",
       "      <td>158.492147</td>\n",
       "      <td>160.47</td>\n",
       "      <td>999.080491</td>\n",
       "      <td>1002.04</td>\n",
       "      <td>2.959509</td>\n",
       "      <td>1.977853</td>\n",
       "    </tr>\n",
       "    <tr>\n",
       "      <th>2018-12-09</th>\n",
       "      <td>158.605630</td>\n",
       "      <td>159.66</td>\n",
       "      <td>1000.606572</td>\n",
       "      <td>1002.95</td>\n",
       "      <td>2.343428</td>\n",
       "      <td>1.054370</td>\n",
       "    </tr>\n",
       "    <tr>\n",
       "      <th>2018-12-10</th>\n",
       "      <td>158.589962</td>\n",
       "      <td>159.79</td>\n",
       "      <td>999.814116</td>\n",
       "      <td>1001.31</td>\n",
       "      <td>1.495884</td>\n",
       "      <td>1.200038</td>\n",
       "    </tr>\n",
       "    <tr>\n",
       "      <th>2018-12-11</th>\n",
       "      <td>158.313406</td>\n",
       "      <td>160.03</td>\n",
       "      <td>1001.750545</td>\n",
       "      <td>1004.84</td>\n",
       "      <td>3.089455</td>\n",
       "      <td>1.716594</td>\n",
       "    </tr>\n",
       "    <tr>\n",
       "      <th>2018-12-12</th>\n",
       "      <td>158.635203</td>\n",
       "      <td>159.76</td>\n",
       "      <td>999.538361</td>\n",
       "      <td>1000.72</td>\n",
       "      <td>1.181639</td>\n",
       "      <td>1.124797</td>\n",
       "    </tr>\n",
       "    <tr>\n",
       "      <th>2018-12-13</th>\n",
       "      <td>158.373672</td>\n",
       "      <td>160.36</td>\n",
       "      <td>999.241369</td>\n",
       "      <td>1000.40</td>\n",
       "      <td>1.158631</td>\n",
       "      <td>1.986328</td>\n",
       "    </tr>\n",
       "    <tr>\n",
       "      <th>2018-12-14</th>\n",
       "      <td>158.135251</td>\n",
       "      <td>160.01</td>\n",
       "      <td>999.091262</td>\n",
       "      <td>1000.23</td>\n",
       "      <td>1.138738</td>\n",
       "      <td>1.874749</td>\n",
       "    </tr>\n",
       "    <tr>\n",
       "      <th>2018-12-15</th>\n",
       "      <td>158.406912</td>\n",
       "      <td>159.48</td>\n",
       "      <td>1000.277230</td>\n",
       "      <td>1003.16</td>\n",
       "      <td>2.882770</td>\n",
       "      <td>1.073088</td>\n",
       "    </tr>\n",
       "    <tr>\n",
       "      <th>2018-12-16</th>\n",
       "      <td>158.215858</td>\n",
       "      <td>159.37</td>\n",
       "      <td>999.235209</td>\n",
       "      <td>1001.26</td>\n",
       "      <td>2.024791</td>\n",
       "      <td>1.154142</td>\n",
       "    </tr>\n",
       "    <tr>\n",
       "      <th>2018-12-17</th>\n",
       "      <td>158.902686</td>\n",
       "      <td>160.90</td>\n",
       "      <td>1001.500747</td>\n",
       "      <td>1003.50</td>\n",
       "      <td>1.999253</td>\n",
       "      <td>1.997314</td>\n",
       "    </tr>\n",
       "    <tr>\n",
       "      <th>2018-12-18</th>\n",
       "      <td>158.424258</td>\n",
       "      <td>159.67</td>\n",
       "      <td>1001.926319</td>\n",
       "      <td>1003.39</td>\n",
       "      <td>1.463681</td>\n",
       "      <td>1.245742</td>\n",
       "    </tr>\n",
       "    <tr>\n",
       "      <th>2018-12-19</th>\n",
       "      <td>158.821701</td>\n",
       "      <td>160.47</td>\n",
       "      <td>1001.119156</td>\n",
       "      <td>1003.96</td>\n",
       "      <td>2.840844</td>\n",
       "      <td>1.648299</td>\n",
       "    </tr>\n",
       "    <tr>\n",
       "      <th>2018-12-20</th>\n",
       "      <td>158.289112</td>\n",
       "      <td>160.04</td>\n",
       "      <td>999.122162</td>\n",
       "      <td>1000.86</td>\n",
       "      <td>1.737838</td>\n",
       "      <td>1.750888</td>\n",
       "    </tr>\n",
       "    <tr>\n",
       "      <th>2018-12-21</th>\n",
       "      <td>158.872964</td>\n",
       "      <td>160.27</td>\n",
       "      <td>999.822928</td>\n",
       "      <td>1003.29</td>\n",
       "      <td>3.467072</td>\n",
       "      <td>1.397036</td>\n",
       "    </tr>\n",
       "    <tr>\n",
       "      <th>2018-12-22</th>\n",
       "      <td>158.785705</td>\n",
       "      <td>160.72</td>\n",
       "      <td>999.608242</td>\n",
       "      <td>1001.39</td>\n",
       "      <td>1.781758</td>\n",
       "      <td>1.934295</td>\n",
       "    </tr>\n",
       "    <tr>\n",
       "      <th>2018-12-23</th>\n",
       "      <td>158.707868</td>\n",
       "      <td>160.18</td>\n",
       "      <td>1001.449018</td>\n",
       "      <td>1003.34</td>\n",
       "      <td>1.890982</td>\n",
       "      <td>1.472132</td>\n",
       "    </tr>\n",
       "    <tr>\n",
       "      <th>2018-12-24</th>\n",
       "      <td>158.260618</td>\n",
       "      <td>159.46</td>\n",
       "      <td>999.110639</td>\n",
       "      <td>1002.09</td>\n",
       "      <td>2.979361</td>\n",
       "      <td>1.199382</td>\n",
       "    </tr>\n",
       "  </tbody>\n",
       "</table>\n",
       "</div>"
      ],
      "text/plain": [
       "             AAPL Open  AAPL Close    GOOG Open  GOOG Close  GOOG Diff  \\\n",
       "Date                                                                     \n",
       "2018-11-25  158.086578      159.42  1000.068966     1001.14   1.071034   \n",
       "2018-11-26  158.861892      159.91  1000.436653     1002.99   2.553347   \n",
       "2018-11-27  158.744276      160.28   999.784424     1002.45   2.665576   \n",
       "2018-11-28  158.912185      160.09  1001.096353     1002.64   1.543647   \n",
       "2018-11-29  158.251492      159.51   999.680920     1002.67   2.989080   \n",
       "2018-11-30  158.689255      160.23  1000.242952     1004.00   3.757048   \n",
       "2018-12-01  158.472305      159.73  1000.891235     1002.10   1.208765   \n",
       "2018-12-02  158.161158      159.71  1001.079926     1002.66   1.580074   \n",
       "2018-12-03  158.144717      159.39  1000.980042     1003.94   2.959958   \n",
       "2018-12-04  158.182346      159.85  1000.928038     1004.22   3.291962   \n",
       "2018-12-05  158.829444      160.51  1001.680707     1003.56   1.879293   \n",
       "2018-12-06  158.919585      159.94  1000.338942     1003.89   3.551058   \n",
       "2018-12-07  158.404707      159.62  1001.534442     1004.87   3.335558   \n",
       "2018-12-08  158.492147      160.47   999.080491     1002.04   2.959509   \n",
       "2018-12-09  158.605630      159.66  1000.606572     1002.95   2.343428   \n",
       "2018-12-10  158.589962      159.79   999.814116     1001.31   1.495884   \n",
       "2018-12-11  158.313406      160.03  1001.750545     1004.84   3.089455   \n",
       "2018-12-12  158.635203      159.76   999.538361     1000.72   1.181639   \n",
       "2018-12-13  158.373672      160.36   999.241369     1000.40   1.158631   \n",
       "2018-12-14  158.135251      160.01   999.091262     1000.23   1.138738   \n",
       "2018-12-15  158.406912      159.48  1000.277230     1003.16   2.882770   \n",
       "2018-12-16  158.215858      159.37   999.235209     1001.26   2.024791   \n",
       "2018-12-17  158.902686      160.90  1001.500747     1003.50   1.999253   \n",
       "2018-12-18  158.424258      159.67  1001.926319     1003.39   1.463681   \n",
       "2018-12-19  158.821701      160.47  1001.119156     1003.96   2.840844   \n",
       "2018-12-20  158.289112      160.04   999.122162     1000.86   1.737838   \n",
       "2018-12-21  158.872964      160.27   999.822928     1003.29   3.467072   \n",
       "2018-12-22  158.785705      160.72   999.608242     1001.39   1.781758   \n",
       "2018-12-23  158.707868      160.18  1001.449018     1003.34   1.890982   \n",
       "2018-12-24  158.260618      159.46   999.110639     1002.09   2.979361   \n",
       "\n",
       "            AAPL Diff  \n",
       "Date                   \n",
       "2018-11-25   1.333422  \n",
       "2018-11-26   1.048108  \n",
       "2018-11-27   1.535724  \n",
       "2018-11-28   1.177815  \n",
       "2018-11-29   1.258508  \n",
       "2018-11-30   1.540745  \n",
       "2018-12-01   1.257695  \n",
       "2018-12-02   1.548842  \n",
       "2018-12-03   1.245283  \n",
       "2018-12-04   1.667654  \n",
       "2018-12-05   1.680556  \n",
       "2018-12-06   1.020415  \n",
       "2018-12-07   1.215293  \n",
       "2018-12-08   1.977853  \n",
       "2018-12-09   1.054370  \n",
       "2018-12-10   1.200038  \n",
       "2018-12-11   1.716594  \n",
       "2018-12-12   1.124797  \n",
       "2018-12-13   1.986328  \n",
       "2018-12-14   1.874749  \n",
       "2018-12-15   1.073088  \n",
       "2018-12-16   1.154142  \n",
       "2018-12-17   1.997314  \n",
       "2018-12-18   1.245742  \n",
       "2018-12-19   1.648299  \n",
       "2018-12-20   1.750888  \n",
       "2018-12-21   1.397036  \n",
       "2018-12-22   1.934295  \n",
       "2018-12-23   1.472132  \n",
       "2018-12-24   1.199382  "
      ]
     },
     "execution_count": 31,
     "metadata": {},
     "output_type": "execute_result"
    }
   ],
   "source": [
    "stock_df = pd.read_csv('../data/stock_data.csv')\n",
    "stock_df.set_index('Unnamed: 0',inplace=True)\n",
    "stock_df.index.names = ['Date']\n",
    "stock_df"
   ]
  },
  {
   "cell_type": "markdown",
   "metadata": {},
   "source": [
    "But we have a problem.  As shown below, when I read in the csv file, the index type is a string.  If we're working with time series data, we really need to change this to a DateTime python object. "
   ]
  },
  {
   "cell_type": "code",
   "execution_count": 38,
   "metadata": {},
   "outputs": [
    {
     "data": {
      "text/plain": [
       "str"
      ]
     },
     "execution_count": 38,
     "metadata": {},
     "output_type": "execute_result"
    }
   ],
   "source": [
    "type (stock_df.index[0])"
   ]
  },
  {
   "cell_type": "code",
   "execution_count": 39,
   "metadata": {},
   "outputs": [
    {
     "data": {
      "text/plain": [
       "pandas._libs.tslib.Timestamp"
      ]
     },
     "execution_count": 39,
     "metadata": {},
     "output_type": "execute_result"
    }
   ],
   "source": [
    "stock_df.index = pd.to_datetime(stock_df.index)\n",
    "type(stock_df.index[0])"
   ]
  },
  {
   "cell_type": "code",
   "execution_count": 40,
   "metadata": {},
   "outputs": [
    {
     "data": {
      "text/html": [
       "<div>\n",
       "<style scoped>\n",
       "    .dataframe tbody tr th:only-of-type {\n",
       "        vertical-align: middle;\n",
       "    }\n",
       "\n",
       "    .dataframe tbody tr th {\n",
       "        vertical-align: top;\n",
       "    }\n",
       "\n",
       "    .dataframe thead th {\n",
       "        text-align: right;\n",
       "    }\n",
       "</style>\n",
       "<table border=\"1\" class=\"dataframe\">\n",
       "  <thead>\n",
       "    <tr style=\"text-align: right;\">\n",
       "      <th></th>\n",
       "      <th>AAPL Open</th>\n",
       "      <th>AAPL Close</th>\n",
       "      <th>GOOG Open</th>\n",
       "      <th>GOOG Close</th>\n",
       "      <th>GOOG Diff</th>\n",
       "      <th>AAPL Diff</th>\n",
       "    </tr>\n",
       "    <tr>\n",
       "      <th>Date</th>\n",
       "      <th></th>\n",
       "      <th></th>\n",
       "      <th></th>\n",
       "      <th></th>\n",
       "      <th></th>\n",
       "      <th></th>\n",
       "    </tr>\n",
       "  </thead>\n",
       "  <tbody>\n",
       "    <tr>\n",
       "      <th>2018-11-25</th>\n",
       "      <td>158.086578</td>\n",
       "      <td>159.42</td>\n",
       "      <td>1000.068966</td>\n",
       "      <td>1001.14</td>\n",
       "      <td>1.071034</td>\n",
       "      <td>1.333422</td>\n",
       "    </tr>\n",
       "    <tr>\n",
       "      <th>2018-11-26</th>\n",
       "      <td>158.861892</td>\n",
       "      <td>159.91</td>\n",
       "      <td>1000.436653</td>\n",
       "      <td>1002.99</td>\n",
       "      <td>2.553347</td>\n",
       "      <td>1.048108</td>\n",
       "    </tr>\n",
       "    <tr>\n",
       "      <th>2018-11-27</th>\n",
       "      <td>158.744276</td>\n",
       "      <td>160.28</td>\n",
       "      <td>999.784424</td>\n",
       "      <td>1002.45</td>\n",
       "      <td>2.665576</td>\n",
       "      <td>1.535724</td>\n",
       "    </tr>\n",
       "    <tr>\n",
       "      <th>2018-11-28</th>\n",
       "      <td>158.912185</td>\n",
       "      <td>160.09</td>\n",
       "      <td>1001.096353</td>\n",
       "      <td>1002.64</td>\n",
       "      <td>1.543647</td>\n",
       "      <td>1.177815</td>\n",
       "    </tr>\n",
       "    <tr>\n",
       "      <th>2018-11-29</th>\n",
       "      <td>158.251492</td>\n",
       "      <td>159.51</td>\n",
       "      <td>999.680920</td>\n",
       "      <td>1002.67</td>\n",
       "      <td>2.989080</td>\n",
       "      <td>1.258508</td>\n",
       "    </tr>\n",
       "  </tbody>\n",
       "</table>\n",
       "</div>"
      ],
      "text/plain": [
       "             AAPL Open  AAPL Close    GOOG Open  GOOG Close  GOOG Diff  \\\n",
       "Date                                                                     \n",
       "2018-11-25  158.086578      159.42  1000.068966     1001.14   1.071034   \n",
       "2018-11-26  158.861892      159.91  1000.436653     1002.99   2.553347   \n",
       "2018-11-27  158.744276      160.28   999.784424     1002.45   2.665576   \n",
       "2018-11-28  158.912185      160.09  1001.096353     1002.64   1.543647   \n",
       "2018-11-29  158.251492      159.51   999.680920     1002.67   2.989080   \n",
       "\n",
       "            AAPL Diff  \n",
       "Date                   \n",
       "2018-11-25   1.333422  \n",
       "2018-11-26   1.048108  \n",
       "2018-11-27   1.535724  \n",
       "2018-11-28   1.177815  \n",
       "2018-11-29   1.258508  "
      ]
     },
     "execution_count": 40,
     "metadata": {},
     "output_type": "execute_result"
    }
   ],
   "source": [
    "stock_df.head()"
   ]
  },
  {
   "cell_type": "markdown",
   "metadata": {},
   "source": [
    "Note that an index is not accessible as column data.  What if I want both?   The date as the index as well as a separate column?\n",
    "\n",
    "Here's the quick solution"
   ]
  },
  {
   "cell_type": "code",
   "execution_count": null,
   "metadata": {},
   "outputs": [],
   "source": [
    "stock_df = pd.read_csv('../data/stock_data.csv')\n",
    "stock_df.set_index('Unnamed: 0',inplace = True, drop = False)\n",
    "stock_df.columns = ['Date', 'AAPL Open', 'AAPL Close','GOOG Open','GOOG Close','AAPL Diff','GOOG Diff']\n",
    "stock_df.index.names = ['Date']\n",
    "stock_df.index = pd.to_datetime(stock_df.index)\n",
    "stock_df['Date'] = pd.to_datetime(stock_df['Date'])\n",
    "stock_df.head(6)"
   ]
  },
  {
   "cell_type": "markdown",
   "metadata": {},
   "source": [
    "### Filling holes in Dataframes"
   ]
  },
  {
   "cell_type": "code",
   "execution_count": 52,
   "metadata": {},
   "outputs": [
    {
     "data": {
      "text/html": [
       "<div>\n",
       "<style scoped>\n",
       "    .dataframe tbody tr th:only-of-type {\n",
       "        vertical-align: middle;\n",
       "    }\n",
       "\n",
       "    .dataframe tbody tr th {\n",
       "        vertical-align: top;\n",
       "    }\n",
       "\n",
       "    .dataframe thead th {\n",
       "        text-align: right;\n",
       "    }\n",
       "</style>\n",
       "<table border=\"1\" class=\"dataframe\">\n",
       "  <thead>\n",
       "    <tr style=\"text-align: right;\">\n",
       "      <th></th>\n",
       "      <th>born</th>\n",
       "      <th>name</th>\n",
       "      <th>toy</th>\n",
       "    </tr>\n",
       "  </thead>\n",
       "  <tbody>\n",
       "    <tr>\n",
       "      <th>0</th>\n",
       "      <td>NaT</td>\n",
       "      <td>Alfred</td>\n",
       "      <td>NaN</td>\n",
       "    </tr>\n",
       "    <tr>\n",
       "      <th>1</th>\n",
       "      <td>1940-04-25</td>\n",
       "      <td>Batman</td>\n",
       "      <td>Batmobile</td>\n",
       "    </tr>\n",
       "    <tr>\n",
       "      <th>2</th>\n",
       "      <td>NaT</td>\n",
       "      <td>Catwoman</td>\n",
       "      <td>Bullwhip</td>\n",
       "    </tr>\n",
       "  </tbody>\n",
       "</table>\n",
       "</div>"
      ],
      "text/plain": [
       "        born      name        toy\n",
       "0        NaT    Alfred        NaN\n",
       "1 1940-04-25    Batman  Batmobile\n",
       "2        NaT  Catwoman   Bullwhip"
      ]
     },
     "execution_count": 52,
     "metadata": {},
     "output_type": "execute_result"
    }
   ],
   "source": [
    "df = pd.DataFrame({\"name\": ['Alfred', 'Batman', 'Catwoman'],\n",
    "                   \"toy\": [np.nan, 'Batmobile', 'Bullwhip'],\n",
    "                    \"born\": [pd.NaT, pd.Timestamp(\"1940-04-25\"),\n",
    "                             pd.NaT]})\n",
    "df"
   ]
  },
  {
   "cell_type": "code",
   "execution_count": 53,
   "metadata": {},
   "outputs": [
    {
     "data": {
      "text/html": [
       "<div>\n",
       "<style scoped>\n",
       "    .dataframe tbody tr th:only-of-type {\n",
       "        vertical-align: middle;\n",
       "    }\n",
       "\n",
       "    .dataframe tbody tr th {\n",
       "        vertical-align: top;\n",
       "    }\n",
       "\n",
       "    .dataframe thead th {\n",
       "        text-align: right;\n",
       "    }\n",
       "</style>\n",
       "<table border=\"1\" class=\"dataframe\">\n",
       "  <thead>\n",
       "    <tr style=\"text-align: right;\">\n",
       "      <th></th>\n",
       "      <th>born</th>\n",
       "      <th>name</th>\n",
       "      <th>toy</th>\n",
       "    </tr>\n",
       "  </thead>\n",
       "  <tbody>\n",
       "    <tr>\n",
       "      <th>1</th>\n",
       "      <td>1940-04-25</td>\n",
       "      <td>Batman</td>\n",
       "      <td>Batmobile</td>\n",
       "    </tr>\n",
       "  </tbody>\n",
       "</table>\n",
       "</div>"
      ],
      "text/plain": [
       "        born    name        toy\n",
       "1 1940-04-25  Batman  Batmobile"
      ]
     },
     "execution_count": 53,
     "metadata": {},
     "output_type": "execute_result"
    }
   ],
   "source": [
    "df.dropna()"
   ]
  },
  {
   "cell_type": "code",
   "execution_count": 50,
   "metadata": {},
   "outputs": [
    {
     "data": {
      "text/html": [
       "<div>\n",
       "<style scoped>\n",
       "    .dataframe tbody tr th:only-of-type {\n",
       "        vertical-align: middle;\n",
       "    }\n",
       "\n",
       "    .dataframe tbody tr th {\n",
       "        vertical-align: top;\n",
       "    }\n",
       "\n",
       "    .dataframe thead th {\n",
       "        text-align: right;\n",
       "    }\n",
       "</style>\n",
       "<table border=\"1\" class=\"dataframe\">\n",
       "  <thead>\n",
       "    <tr style=\"text-align: right;\">\n",
       "      <th></th>\n",
       "      <th>A</th>\n",
       "      <th>B</th>\n",
       "      <th>C</th>\n",
       "      <th>D</th>\n",
       "    </tr>\n",
       "  </thead>\n",
       "  <tbody>\n",
       "    <tr>\n",
       "      <th>0</th>\n",
       "      <td>NaN</td>\n",
       "      <td>2.0</td>\n",
       "      <td>NaN</td>\n",
       "      <td>0</td>\n",
       "    </tr>\n",
       "    <tr>\n",
       "      <th>1</th>\n",
       "      <td>3.0</td>\n",
       "      <td>4.0</td>\n",
       "      <td>NaN</td>\n",
       "      <td>1</td>\n",
       "    </tr>\n",
       "    <tr>\n",
       "      <th>2</th>\n",
       "      <td>NaN</td>\n",
       "      <td>NaN</td>\n",
       "      <td>NaN</td>\n",
       "      <td>5</td>\n",
       "    </tr>\n",
       "    <tr>\n",
       "      <th>3</th>\n",
       "      <td>NaN</td>\n",
       "      <td>3.0</td>\n",
       "      <td>NaN</td>\n",
       "      <td>4</td>\n",
       "    </tr>\n",
       "  </tbody>\n",
       "</table>\n",
       "</div>"
      ],
      "text/plain": [
       "     A    B   C  D\n",
       "0  NaN  2.0 NaN  0\n",
       "1  3.0  4.0 NaN  1\n",
       "2  NaN  NaN NaN  5\n",
       "3  NaN  3.0 NaN  4"
      ]
     },
     "execution_count": 50,
     "metadata": {},
     "output_type": "execute_result"
    }
   ],
   "source": [
    "import pandas as pd\n",
    "import numpy as np\n",
    "df = pd.DataFrame([[np.nan, 2, np.nan, 0],\n",
    "                    [3, 4, np.nan, 1],\n",
    "                   [np.nan, np.nan, np.nan, 5],\n",
    "                  [np.nan, 3, np.nan, 4]],\n",
    "                 columns=list('ABCD'))\n",
    "df"
   ]
  },
  {
   "cell_type": "code",
   "execution_count": 43,
   "metadata": {},
   "outputs": [
    {
     "data": {
      "text/html": [
       "<div>\n",
       "<style scoped>\n",
       "    .dataframe tbody tr th:only-of-type {\n",
       "        vertical-align: middle;\n",
       "    }\n",
       "\n",
       "    .dataframe tbody tr th {\n",
       "        vertical-align: top;\n",
       "    }\n",
       "\n",
       "    .dataframe thead th {\n",
       "        text-align: right;\n",
       "    }\n",
       "</style>\n",
       "<table border=\"1\" class=\"dataframe\">\n",
       "  <thead>\n",
       "    <tr style=\"text-align: right;\">\n",
       "      <th></th>\n",
       "      <th>A</th>\n",
       "      <th>B</th>\n",
       "      <th>C</th>\n",
       "      <th>D</th>\n",
       "    </tr>\n",
       "  </thead>\n",
       "  <tbody>\n",
       "  </tbody>\n",
       "</table>\n",
       "</div>"
      ],
      "text/plain": [
       "Empty DataFrame\n",
       "Columns: [A, B, C, D]\n",
       "Index: []"
      ]
     },
     "execution_count": 43,
     "metadata": {},
     "output_type": "execute_result"
    }
   ],
   "source": [
    "df.dropna()"
   ]
  },
  {
   "cell_type": "code",
   "execution_count": 44,
   "metadata": {},
   "outputs": [
    {
     "data": {
      "text/html": [
       "<div>\n",
       "<style scoped>\n",
       "    .dataframe tbody tr th:only-of-type {\n",
       "        vertical-align: middle;\n",
       "    }\n",
       "\n",
       "    .dataframe tbody tr th {\n",
       "        vertical-align: top;\n",
       "    }\n",
       "\n",
       "    .dataframe thead th {\n",
       "        text-align: right;\n",
       "    }\n",
       "</style>\n",
       "<table border=\"1\" class=\"dataframe\">\n",
       "  <thead>\n",
       "    <tr style=\"text-align: right;\">\n",
       "      <th></th>\n",
       "      <th>A</th>\n",
       "      <th>B</th>\n",
       "      <th>C</th>\n",
       "      <th>D</th>\n",
       "    </tr>\n",
       "  </thead>\n",
       "  <tbody>\n",
       "    <tr>\n",
       "      <th>0</th>\n",
       "      <td>0.0</td>\n",
       "      <td>2.0</td>\n",
       "      <td>0.0</td>\n",
       "      <td>0</td>\n",
       "    </tr>\n",
       "    <tr>\n",
       "      <th>1</th>\n",
       "      <td>3.0</td>\n",
       "      <td>4.0</td>\n",
       "      <td>0.0</td>\n",
       "      <td>1</td>\n",
       "    </tr>\n",
       "    <tr>\n",
       "      <th>2</th>\n",
       "      <td>0.0</td>\n",
       "      <td>0.0</td>\n",
       "      <td>0.0</td>\n",
       "      <td>5</td>\n",
       "    </tr>\n",
       "    <tr>\n",
       "      <th>3</th>\n",
       "      <td>0.0</td>\n",
       "      <td>3.0</td>\n",
       "      <td>0.0</td>\n",
       "      <td>4</td>\n",
       "    </tr>\n",
       "  </tbody>\n",
       "</table>\n",
       "</div>"
      ],
      "text/plain": [
       "     A    B    C  D\n",
       "0  0.0  2.0  0.0  0\n",
       "1  3.0  4.0  0.0  1\n",
       "2  0.0  0.0  0.0  5\n",
       "3  0.0  3.0  0.0  4"
      ]
     },
     "execution_count": 44,
     "metadata": {},
     "output_type": "execute_result"
    }
   ],
   "source": [
    "df.fillna(0)"
   ]
  },
  {
   "cell_type": "code",
   "execution_count": 51,
   "metadata": {},
   "outputs": [
    {
     "data": {
      "text/html": [
       "<div>\n",
       "<style scoped>\n",
       "    .dataframe tbody tr th:only-of-type {\n",
       "        vertical-align: middle;\n",
       "    }\n",
       "\n",
       "    .dataframe tbody tr th {\n",
       "        vertical-align: top;\n",
       "    }\n",
       "\n",
       "    .dataframe thead th {\n",
       "        text-align: right;\n",
       "    }\n",
       "</style>\n",
       "<table border=\"1\" class=\"dataframe\">\n",
       "  <thead>\n",
       "    <tr style=\"text-align: right;\">\n",
       "      <th></th>\n",
       "      <th>A</th>\n",
       "      <th>B</th>\n",
       "      <th>C</th>\n",
       "      <th>D</th>\n",
       "    </tr>\n",
       "  </thead>\n",
       "  <tbody>\n",
       "    <tr>\n",
       "      <th>0</th>\n",
       "      <td>NaN</td>\n",
       "      <td>2.0</td>\n",
       "      <td>NaN</td>\n",
       "      <td>0</td>\n",
       "    </tr>\n",
       "    <tr>\n",
       "      <th>1</th>\n",
       "      <td>3.0</td>\n",
       "      <td>4.0</td>\n",
       "      <td>NaN</td>\n",
       "      <td>1</td>\n",
       "    </tr>\n",
       "    <tr>\n",
       "      <th>2</th>\n",
       "      <td>3.0</td>\n",
       "      <td>4.0</td>\n",
       "      <td>NaN</td>\n",
       "      <td>5</td>\n",
       "    </tr>\n",
       "    <tr>\n",
       "      <th>3</th>\n",
       "      <td>3.0</td>\n",
       "      <td>3.0</td>\n",
       "      <td>NaN</td>\n",
       "      <td>4</td>\n",
       "    </tr>\n",
       "  </tbody>\n",
       "</table>\n",
       "</div>"
      ],
      "text/plain": [
       "     A    B   C  D\n",
       "0  NaN  2.0 NaN  0\n",
       "1  3.0  4.0 NaN  1\n",
       "2  3.0  4.0 NaN  5\n",
       "3  3.0  3.0 NaN  4"
      ]
     },
     "execution_count": 51,
     "metadata": {},
     "output_type": "execute_result"
    }
   ],
   "source": [
    "df.fillna(method='ffill')"
   ]
  },
  {
   "cell_type": "code",
   "execution_count": 46,
   "metadata": {},
   "outputs": [
    {
     "data": {
      "text/html": [
       "<div>\n",
       "<style scoped>\n",
       "    .dataframe tbody tr th:only-of-type {\n",
       "        vertical-align: middle;\n",
       "    }\n",
       "\n",
       "    .dataframe tbody tr th {\n",
       "        vertical-align: top;\n",
       "    }\n",
       "\n",
       "    .dataframe thead th {\n",
       "        text-align: right;\n",
       "    }\n",
       "</style>\n",
       "<table border=\"1\" class=\"dataframe\">\n",
       "  <thead>\n",
       "    <tr style=\"text-align: right;\">\n",
       "      <th></th>\n",
       "      <th>A</th>\n",
       "      <th>B</th>\n",
       "      <th>C</th>\n",
       "      <th>D</th>\n",
       "    </tr>\n",
       "  </thead>\n",
       "  <tbody>\n",
       "    <tr>\n",
       "      <th>0</th>\n",
       "      <td>0.0</td>\n",
       "      <td>2.0</td>\n",
       "      <td>2.0</td>\n",
       "      <td>0</td>\n",
       "    </tr>\n",
       "    <tr>\n",
       "      <th>1</th>\n",
       "      <td>3.0</td>\n",
       "      <td>4.0</td>\n",
       "      <td>2.0</td>\n",
       "      <td>1</td>\n",
       "    </tr>\n",
       "    <tr>\n",
       "      <th>2</th>\n",
       "      <td>0.0</td>\n",
       "      <td>1.0</td>\n",
       "      <td>2.0</td>\n",
       "      <td>5</td>\n",
       "    </tr>\n",
       "    <tr>\n",
       "      <th>3</th>\n",
       "      <td>0.0</td>\n",
       "      <td>3.0</td>\n",
       "      <td>2.0</td>\n",
       "      <td>4</td>\n",
       "    </tr>\n",
       "  </tbody>\n",
       "</table>\n",
       "</div>"
      ],
      "text/plain": [
       "     A    B    C  D\n",
       "0  0.0  2.0  2.0  0\n",
       "1  3.0  4.0  2.0  1\n",
       "2  0.0  1.0  2.0  5\n",
       "3  0.0  3.0  2.0  4"
      ]
     },
     "execution_count": 46,
     "metadata": {},
     "output_type": "execute_result"
    }
   ],
   "source": [
    "values = {'A': 0, 'B': 1, 'C': 2, 'D': 3}\n",
    "df.fillna(value=values)"
   ]
  },
  {
   "cell_type": "code",
   "execution_count": 50,
   "metadata": {},
   "outputs": [
    {
     "data": {
      "text/html": [
       "<div>\n",
       "<style scoped>\n",
       "    .dataframe tbody tr th:only-of-type {\n",
       "        vertical-align: middle;\n",
       "    }\n",
       "\n",
       "    .dataframe tbody tr th {\n",
       "        vertical-align: top;\n",
       "    }\n",
       "\n",
       "    .dataframe thead th {\n",
       "        text-align: right;\n",
       "    }\n",
       "</style>\n",
       "<table border=\"1\" class=\"dataframe\">\n",
       "  <thead>\n",
       "    <tr style=\"text-align: right;\">\n",
       "      <th></th>\n",
       "      <th>A</th>\n",
       "      <th>B</th>\n",
       "      <th>C</th>\n",
       "      <th>D</th>\n",
       "    </tr>\n",
       "  </thead>\n",
       "  <tbody>\n",
       "    <tr>\n",
       "      <th>0</th>\n",
       "      <td>0.0</td>\n",
       "      <td>2.0</td>\n",
       "      <td>2.0</td>\n",
       "      <td>0</td>\n",
       "    </tr>\n",
       "    <tr>\n",
       "      <th>1</th>\n",
       "      <td>3.0</td>\n",
       "      <td>4.0</td>\n",
       "      <td>NaN</td>\n",
       "      <td>1</td>\n",
       "    </tr>\n",
       "    <tr>\n",
       "      <th>2</th>\n",
       "      <td>NaN</td>\n",
       "      <td>1.0</td>\n",
       "      <td>NaN</td>\n",
       "      <td>5</td>\n",
       "    </tr>\n",
       "    <tr>\n",
       "      <th>3</th>\n",
       "      <td>NaN</td>\n",
       "      <td>3.0</td>\n",
       "      <td>NaN</td>\n",
       "      <td>4</td>\n",
       "    </tr>\n",
       "  </tbody>\n",
       "</table>\n",
       "</div>"
      ],
      "text/plain": [
       "     A    B    C  D\n",
       "0  0.0  2.0  2.0  0\n",
       "1  3.0  4.0  NaN  1\n",
       "2  NaN  1.0  NaN  5\n",
       "3  NaN  3.0  NaN  4"
      ]
     },
     "execution_count": 50,
     "metadata": {},
     "output_type": "execute_result"
    }
   ],
   "source": [
    "df.fillna(value=values, limit=1)"
   ]
  },
  {
   "cell_type": "markdown",
   "metadata": {},
   "source": [
    "### Date and Time stamps in Pandas\n",
    "\n",
    "In Numpy, date and time stamps are represented by an eight byte number. \n",
    "You can create them by instantiating a datetime64 object.\n",
    "\n",
    "In Pandas, Datetime stamps represent a 600 year period from 1700-2300 A.D. \n",
    "Finest granularity are nanoseconds. \n",
    "Nanoseconds are important in time series databases such as KDB and some others. \n"
   ]
  },
  {
   "cell_type": "markdown",
   "metadata": {},
   "source": [
    "In Pandas, we can create datetime indexes.  All of the scalar values from the datetime index are timestamps. \n",
    "\n",
    "Pandas also supports duplicate timestamps. "
   ]
  },
  {
   "cell_type": "markdown",
   "metadata": {},
   "source": [
    "Pandas timestamps inherit from the datetime.datetime class in Python.\n",
    "We can create our own timestamps using Pandas.  For example:"
   ]
  },
  {
   "cell_type": "code",
   "execution_count": 19,
   "metadata": {},
   "outputs": [
    {
     "data": {
      "text/plain": [
       "Timestamp('2018-03-01 14:01:43')"
      ]
     },
     "execution_count": 19,
     "metadata": {},
     "output_type": "execute_result"
    }
   ],
   "source": [
    "import pandas as pd\n",
    "from datetime import datetime\n",
    "pd.Timestamp('03/01/2018 14:01:43')"
   ]
  },
  {
   "cell_type": "code",
   "execution_count": 20,
   "metadata": {},
   "outputs": [
    {
     "data": {
      "text/plain": [
       "1519912903000000000"
      ]
     },
     "execution_count": 20,
     "metadata": {},
     "output_type": "execute_result"
    }
   ],
   "source": [
    "stamp = pd.Timestamp('03/01/2018 14:01:43')\n",
    "stamp.value # Value in Nanoseconds. "
   ]
  },
  {
   "cell_type": "markdown",
   "metadata": {},
   "source": [
    "Here we can convert a list of dates into an index in a series. Note we use the pd.to_datetime() method to convert the strings into timestamps.  Using isinstance shows that, in fact, converted strings to datetime time stamps. "
   ]
  },
  {
   "cell_type": "code",
   "execution_count": 21,
   "metadata": {},
   "outputs": [
    {
     "data": {
      "text/plain": [
       "['2018-12-25', '2019-01-01', '2019-01-02', '2019-01-03']"
      ]
     },
     "execution_count": 21,
     "metadata": {},
     "output_type": "execute_result"
    }
   ],
   "source": [
    "dates = ['2018-12-25', '2019-01-01', '2019-01-02', '2019-01-03']\n",
    "dates"
   ]
  },
  {
   "cell_type": "code",
   "execution_count": 22,
   "metadata": {},
   "outputs": [
    {
     "data": {
      "text/plain": [
       "2018-12-25    0\n",
       "2019-01-01    1\n",
       "2019-01-02    2\n",
       "2019-01-03    3\n",
       "dtype: int64"
      ]
     },
     "execution_count": 22,
     "metadata": {},
     "output_type": "execute_result"
    }
   ],
   "source": [
    "ts = pd.Series(range(4), index=pd.to_datetime(dates))\n",
    "ts"
   ]
  },
  {
   "cell_type": "code",
   "execution_count": 23,
   "metadata": {},
   "outputs": [
    {
     "data": {
      "text/plain": [
       "True"
      ]
     },
     "execution_count": 23,
     "metadata": {},
     "output_type": "execute_result"
    }
   ],
   "source": [
    "isinstance(ts.index[0],datetime)"
   ]
  },
  {
   "cell_type": "markdown",
   "metadata": {},
   "source": [
    "### More on timeseries indexing. \n",
    "Here we'll create a range of dates."
   ]
  },
  {
   "cell_type": "code",
   "execution_count": 56,
   "metadata": {},
   "outputs": [
    {
     "data": {
      "text/plain": [
       "DatetimeIndex(['2015-01-01', '2015-01-02', '2015-01-03', '2015-01-04',\n",
       "               '2015-01-05', '2015-01-06', '2015-01-07', '2015-01-08',\n",
       "               '2015-01-09', '2015-01-10',\n",
       "               ...\n",
       "               '2017-09-17', '2017-09-18', '2017-09-19', '2017-09-20',\n",
       "               '2017-09-21', '2017-09-22', '2017-09-23', '2017-09-24',\n",
       "               '2017-09-25', '2017-09-26'],\n",
       "              dtype='datetime64[ns]', length=1000, freq='D')"
      ]
     },
     "execution_count": 56,
     "metadata": {},
     "output_type": "execute_result"
    }
   ],
   "source": [
    "from datetime import datetime\n",
    "date_range = pd.date_range('2015-01-01', periods=1000)\n",
    "date_range"
   ]
  },
  {
   "cell_type": "markdown",
   "metadata": {},
   "source": [
    "Note that date_range is a list of datetime objects, with a frequency of 'D', or daily. \n",
    "Now let's create a series with 1000 random numbers. "
   ]
  },
  {
   "cell_type": "code",
   "execution_count": 57,
   "metadata": {},
   "outputs": [
    {
     "data": {
      "text/plain": [
       "2015-01-01      0\n",
       "2015-01-02      1\n",
       "2015-01-03      2\n",
       "2015-01-04      3\n",
       "2015-01-05      4\n",
       "2015-01-06      5\n",
       "2015-01-07      6\n",
       "2015-01-08      7\n",
       "2015-01-09      8\n",
       "2015-01-10      9\n",
       "2015-01-11     10\n",
       "2015-01-12     11\n",
       "2015-01-13     12\n",
       "2015-01-14     13\n",
       "2015-01-15     14\n",
       "2015-01-16     15\n",
       "2015-01-17     16\n",
       "2015-01-18     17\n",
       "2015-01-19     18\n",
       "2015-01-20     19\n",
       "2015-01-21     20\n",
       "2015-01-22     21\n",
       "2015-01-23     22\n",
       "2015-01-24     23\n",
       "2015-01-25     24\n",
       "2015-01-26     25\n",
       "2015-01-27     26\n",
       "2015-01-28     27\n",
       "2015-01-29     28\n",
       "2015-01-30     29\n",
       "             ... \n",
       "2017-08-28    970\n",
       "2017-08-29    971\n",
       "2017-08-30    972\n",
       "2017-08-31    973\n",
       "2017-09-01    974\n",
       "2017-09-02    975\n",
       "2017-09-03    976\n",
       "2017-09-04    977\n",
       "2017-09-05    978\n",
       "2017-09-06    979\n",
       "2017-09-07    980\n",
       "2017-09-08    981\n",
       "2017-09-09    982\n",
       "2017-09-10    983\n",
       "2017-09-11    984\n",
       "2017-09-12    985\n",
       "2017-09-13    986\n",
       "2017-09-14    987\n",
       "2017-09-15    988\n",
       "2017-09-16    989\n",
       "2017-09-17    990\n",
       "2017-09-18    991\n",
       "2017-09-19    992\n",
       "2017-09-20    993\n",
       "2017-09-21    994\n",
       "2017-09-22    995\n",
       "2017-09-23    996\n",
       "2017-09-24    997\n",
       "2017-09-25    998\n",
       "2017-09-26    999\n",
       "Freq: D, Length: 1000, dtype: int64"
      ]
     },
     "execution_count": 57,
     "metadata": {},
     "output_type": "execute_result"
    }
   ],
   "source": [
    "import numpy as np\n",
    "ts  = pd.Series(np.arange(1000), index = date_range)\n",
    "ts"
   ]
  },
  {
   "cell_type": "code",
   "execution_count": 58,
   "metadata": {},
   "outputs": [
    {
     "data": {
      "text/plain": [
       "'0.22.0'"
      ]
     },
     "execution_count": 58,
     "metadata": {},
     "output_type": "execute_result"
    }
   ],
   "source": [
    "pd.__version__"
   ]
  },
  {
   "cell_type": "markdown",
   "metadata": {},
   "source": [
    "We can now access elements of the series via the datetime index.  There are many ways to specify this.  We can specify this by passing in a datetime object. "
   ]
  },
  {
   "cell_type": "code",
   "execution_count": 58,
   "metadata": {},
   "outputs": [
    {
     "data": {
      "text/plain": [
       "643"
      ]
     },
     "execution_count": 58,
     "metadata": {},
     "output_type": "execute_result"
    }
   ],
   "source": [
    "from datetime import datetime\n",
    "ts[datetime(2016,10,5)]"
   ]
  },
  {
   "cell_type": "markdown",
   "metadata": {},
   "source": [
    "We can specify it by passing in the datetime as a string. "
   ]
  },
  {
   "cell_type": "code",
   "execution_count": 59,
   "metadata": {},
   "outputs": [
    {
     "data": {
      "text/plain": [
       "643"
      ]
     },
     "execution_count": 59,
     "metadata": {},
     "output_type": "execute_result"
    }
   ],
   "source": [
    "ts['2016-10-5']"
   ]
  },
  {
   "cell_type": "markdown",
   "metadata": {},
   "source": [
    "We can also pass in the column value related to the index. "
   ]
  },
  {
   "cell_type": "code",
   "execution_count": 60,
   "metadata": {},
   "outputs": [
    {
     "data": {
      "text/plain": [
       "643"
      ]
     },
     "execution_count": 60,
     "metadata": {},
     "output_type": "execute_result"
    }
   ],
   "source": [
    "ts[643]"
   ]
  },
  {
   "cell_type": "markdown",
   "metadata": {},
   "source": [
    "We can slice the time series by dates. "
   ]
  },
  {
   "cell_type": "code",
   "execution_count": 61,
   "metadata": {},
   "outputs": [
    {
     "data": {
      "text/plain": [
       "2016-10-05    643\n",
       "2016-10-06    644\n",
       "2016-10-07    645\n",
       "2016-10-08    646\n",
       "2016-10-09    647\n",
       "2016-10-10    648\n",
       "2016-10-11    649\n",
       "2016-10-12    650\n",
       "2016-10-13    651\n",
       "2016-10-14    652\n",
       "2016-10-15    653\n",
       "2016-10-16    654\n",
       "2016-10-17    655\n",
       "2016-10-18    656\n",
       "2016-10-19    657\n",
       "2016-10-20    658\n",
       "2016-10-21    659\n",
       "2016-10-22    660\n",
       "2016-10-23    661\n",
       "2016-10-24    662\n",
       "2016-10-25    663\n",
       "2016-10-26    664\n",
       "2016-10-27    665\n",
       "2016-10-28    666\n",
       "2016-10-29    667\n",
       "2016-10-30    668\n",
       "2016-10-31    669\n",
       "2016-11-01    670\n",
       "2016-11-02    671\n",
       "2016-11-03    672\n",
       "             ... \n",
       "2017-08-28    970\n",
       "2017-08-29    971\n",
       "2017-08-30    972\n",
       "2017-08-31    973\n",
       "2017-09-01    974\n",
       "2017-09-02    975\n",
       "2017-09-03    976\n",
       "2017-09-04    977\n",
       "2017-09-05    978\n",
       "2017-09-06    979\n",
       "2017-09-07    980\n",
       "2017-09-08    981\n",
       "2017-09-09    982\n",
       "2017-09-10    983\n",
       "2017-09-11    984\n",
       "2017-09-12    985\n",
       "2017-09-13    986\n",
       "2017-09-14    987\n",
       "2017-09-15    988\n",
       "2017-09-16    989\n",
       "2017-09-17    990\n",
       "2017-09-18    991\n",
       "2017-09-19    992\n",
       "2017-09-20    993\n",
       "2017-09-21    994\n",
       "2017-09-22    995\n",
       "2017-09-23    996\n",
       "2017-09-24    997\n",
       "2017-09-25    998\n",
       "2017-09-26    999\n",
       "Freq: D, Length: 357, dtype: int64"
      ]
     },
     "execution_count": 61,
     "metadata": {},
     "output_type": "execute_result"
    }
   ],
   "source": [
    "ts['2016-10-5':]"
   ]
  },
  {
   "cell_type": "code",
   "execution_count": 30,
   "metadata": {},
   "outputs": [
    {
     "data": {
      "text/plain": [
       "2016-10-05    643\n",
       "2016-10-06    644\n",
       "2016-10-07    645\n",
       "2016-10-08    646\n",
       "2016-10-09    647\n",
       "2016-10-10    648\n",
       "2016-10-11    649\n",
       "2016-10-12    650\n",
       "2016-10-13    651\n",
       "2016-10-14    652\n",
       "2016-10-15    653\n",
       "2016-10-16    654\n",
       "2016-10-17    655\n",
       "2016-10-18    656\n",
       "2016-10-19    657\n",
       "2016-10-20    658\n",
       "2016-10-21    659\n",
       "2016-10-22    660\n",
       "2016-10-23    661\n",
       "2016-10-24    662\n",
       "2016-10-25    663\n",
       "2016-10-26    664\n",
       "2016-10-27    665\n",
       "2016-10-28    666\n",
       "2016-10-29    667\n",
       "2016-10-30    668\n",
       "2016-10-31    669\n",
       "2016-11-01    670\n",
       "2016-11-02    671\n",
       "2016-11-03    672\n",
       "             ... \n",
       "2016-12-03    702\n",
       "2016-12-04    703\n",
       "2016-12-05    704\n",
       "2016-12-06    705\n",
       "2016-12-07    706\n",
       "2016-12-08    707\n",
       "2016-12-09    708\n",
       "2016-12-10    709\n",
       "2016-12-11    710\n",
       "2016-12-12    711\n",
       "2016-12-13    712\n",
       "2016-12-14    713\n",
       "2016-12-15    714\n",
       "2016-12-16    715\n",
       "2016-12-17    716\n",
       "2016-12-18    717\n",
       "2016-12-19    718\n",
       "2016-12-20    719\n",
       "2016-12-21    720\n",
       "2016-12-22    721\n",
       "2016-12-23    722\n",
       "2016-12-24    723\n",
       "2016-12-25    724\n",
       "2016-12-26    725\n",
       "2016-12-27    726\n",
       "2016-12-28    727\n",
       "2016-12-29    728\n",
       "2016-12-30    729\n",
       "2016-12-31    730\n",
       "2017-01-01    731\n",
       "Freq: D, Length: 89, dtype: int64"
      ]
     },
     "execution_count": 30,
     "metadata": {},
     "output_type": "execute_result"
    }
   ],
   "source": [
    "ts['2016-10-5':'2017-01-01']"
   ]
  },
  {
   "cell_type": "markdown",
   "metadata": {},
   "source": [
    "Let's shuffle the time stamps in some random fashion. "
   ]
  },
  {
   "cell_type": "code",
   "execution_count": 31,
   "metadata": {},
   "outputs": [
    {
     "data": {
      "text/plain": [
       "2016-07-25    571\n",
       "2015-08-27    238\n",
       "2017-02-05    766\n",
       "2015-04-11    100\n",
       "2016-08-20    597\n",
       "2016-12-31    730\n",
       "2015-08-17    228\n",
       "2016-04-25    480\n",
       "2017-04-11    831\n",
       "2017-09-20    993\n",
       "2015-12-10    343\n",
       "2017-01-17    747\n",
       "2016-03-16    440\n",
       "2015-08-06    217\n",
       "2016-03-03    427\n",
       "2016-02-12    407\n",
       "2015-02-16     46\n",
       "2016-11-01    670\n",
       "2015-01-29     28\n",
       "2015-08-01    212\n",
       "2015-12-26    359\n",
       "2017-07-01    912\n",
       "2016-10-15    653\n",
       "2016-01-22    386\n",
       "2016-06-07    523\n",
       "2015-03-14     72\n",
       "2015-07-03    183\n",
       "2017-06-18    899\n",
       "2016-12-28    727\n",
       "2017-07-08    919\n",
       "             ... \n",
       "2015-07-04    184\n",
       "2016-06-25    541\n",
       "2015-06-16    166\n",
       "2016-09-21    629\n",
       "2017-06-19    900\n",
       "2016-05-08    493\n",
       "2015-07-28    208\n",
       "2016-06-15    531\n",
       "2016-08-31    608\n",
       "2015-12-29    362\n",
       "2016-10-04    642\n",
       "2015-05-25    144\n",
       "2016-08-28    605\n",
       "2015-04-14    103\n",
       "2015-03-02     60\n",
       "2016-07-02    548\n",
       "2015-06-08    158\n",
       "2015-04-16    105\n",
       "2015-03-08     66\n",
       "2015-11-22    325\n",
       "2015-10-21    293\n",
       "2017-02-25    786\n",
       "2015-10-04    276\n",
       "2015-08-02    213\n",
       "2017-05-22    872\n",
       "2017-07-27    938\n",
       "2017-03-05    794\n",
       "2017-02-08    769\n",
       "2015-09-19    261\n",
       "2016-08-15    592\n",
       "Length: 1000, dtype: int64"
      ]
     },
     "execution_count": 31,
     "metadata": {},
     "output_type": "execute_result"
    }
   ],
   "source": [
    "ts2 = ts.take(np.random.permutation(len(ts)))\n",
    "ts2"
   ]
  },
  {
   "cell_type": "markdown",
   "metadata": {},
   "source": [
    "Note that if we slice on this, originally Pandas would throw a TimeSeriesIndex error, but now it does its best to return values within the range of the slice indices. "
   ]
  },
  {
   "cell_type": "code",
   "execution_count": 33,
   "metadata": {},
   "outputs": [
    {
     "data": {
      "text/plain": [
       "2015-08-27    238\n",
       "2015-04-11    100\n",
       "2015-08-17    228\n",
       "2015-12-10    343\n",
       "2015-08-06    217\n",
       "2015-02-16     46\n",
       "2015-01-29     28\n",
       "2015-08-01    212\n",
       "2015-12-26    359\n",
       "2015-03-14     72\n",
       "2015-07-03    183\n",
       "2015-10-31    303\n",
       "2015-11-12    315\n",
       "2015-05-16    135\n",
       "2015-05-01    120\n",
       "2015-07-29    209\n",
       "2015-02-17     47\n",
       "2015-04-02     91\n",
       "2015-07-08    188\n",
       "2015-04-12    101\n",
       "2015-06-30    180\n",
       "2015-02-05     35\n",
       "2015-11-28    331\n",
       "2015-06-14    164\n",
       "2015-10-24    296\n",
       "2015-01-23     22\n",
       "2015-01-04      3\n",
       "2015-01-22     21\n",
       "2015-12-23    356\n",
       "2015-01-06      5\n",
       "             ... \n",
       "2015-06-27    177\n",
       "2015-08-12    223\n",
       "2015-04-07     96\n",
       "2015-02-11     41\n",
       "2015-06-05    155\n",
       "2015-08-14    225\n",
       "2015-05-28    147\n",
       "2015-04-28    117\n",
       "2015-09-02    244\n",
       "2015-03-10     68\n",
       "2015-05-13    132\n",
       "2015-07-12    192\n",
       "2015-01-27     26\n",
       "2015-09-09    251\n",
       "2015-11-14    317\n",
       "2015-07-04    184\n",
       "2015-06-16    166\n",
       "2015-07-28    208\n",
       "2015-12-29    362\n",
       "2015-05-25    144\n",
       "2015-04-14    103\n",
       "2015-03-02     60\n",
       "2015-06-08    158\n",
       "2015-04-16    105\n",
       "2015-03-08     66\n",
       "2015-11-22    325\n",
       "2015-10-21    293\n",
       "2015-10-04    276\n",
       "2015-08-02    213\n",
       "2015-09-19    261\n",
       "Length: 366, dtype: int64"
      ]
     },
     "execution_count": 33,
     "metadata": {},
     "output_type": "execute_result"
    }
   ],
   "source": [
    "ts2['2015-01-01':'2016-01-01']"
   ]
  },
  {
   "cell_type": "markdown",
   "metadata": {},
   "source": [
    "Note that we can select by just year and month and pandas will return all days in that range.  For example:"
   ]
  },
  {
   "cell_type": "code",
   "execution_count": 35,
   "metadata": {},
   "outputs": [
    {
     "data": {
      "text/plain": [
       "2016-01-01    365\n",
       "2016-01-02    366\n",
       "2016-01-03    367\n",
       "2016-01-04    368\n",
       "2016-01-05    369\n",
       "2016-01-06    370\n",
       "2016-01-07    371\n",
       "2016-01-08    372\n",
       "2016-01-09    373\n",
       "2016-01-10    374\n",
       "2016-01-11    375\n",
       "2016-01-12    376\n",
       "2016-01-13    377\n",
       "2016-01-14    378\n",
       "2016-01-15    379\n",
       "2016-01-16    380\n",
       "2016-01-17    381\n",
       "2016-01-18    382\n",
       "2016-01-19    383\n",
       "2016-01-20    384\n",
       "2016-01-21    385\n",
       "2016-01-22    386\n",
       "2016-01-23    387\n",
       "2016-01-24    388\n",
       "2016-01-25    389\n",
       "2016-01-26    390\n",
       "2016-01-27    391\n",
       "2016-01-28    392\n",
       "2016-01-29    393\n",
       "2016-01-30    394\n",
       "2016-01-31    395\n",
       "Freq: D, dtype: int64"
      ]
     },
     "execution_count": 35,
     "metadata": {},
     "output_type": "execute_result"
    }
   ],
   "source": [
    "ts['2016-01']"
   ]
  },
  {
   "cell_type": "markdown",
   "metadata": {},
   "source": [
    "Or, we can slice on multiple months."
   ]
  },
  {
   "cell_type": "code",
   "execution_count": 36,
   "metadata": {},
   "outputs": [
    {
     "data": {
      "text/plain": [
       "2016-01-01    365\n",
       "2016-01-02    366\n",
       "2016-01-03    367\n",
       "2016-01-04    368\n",
       "2016-01-05    369\n",
       "2016-01-06    370\n",
       "2016-01-07    371\n",
       "2016-01-08    372\n",
       "2016-01-09    373\n",
       "2016-01-10    374\n",
       "2016-01-11    375\n",
       "2016-01-12    376\n",
       "2016-01-13    377\n",
       "2016-01-14    378\n",
       "2016-01-15    379\n",
       "2016-01-16    380\n",
       "2016-01-17    381\n",
       "2016-01-18    382\n",
       "2016-01-19    383\n",
       "2016-01-20    384\n",
       "2016-01-21    385\n",
       "2016-01-22    386\n",
       "2016-01-23    387\n",
       "2016-01-24    388\n",
       "2016-01-25    389\n",
       "2016-01-26    390\n",
       "2016-01-27    391\n",
       "2016-01-28    392\n",
       "2016-01-29    393\n",
       "2016-01-30    394\n",
       "             ... \n",
       "2016-03-02    426\n",
       "2016-03-03    427\n",
       "2016-03-04    428\n",
       "2016-03-05    429\n",
       "2016-03-06    430\n",
       "2016-03-07    431\n",
       "2016-03-08    432\n",
       "2016-03-09    433\n",
       "2016-03-10    434\n",
       "2016-03-11    435\n",
       "2016-03-12    436\n",
       "2016-03-13    437\n",
       "2016-03-14    438\n",
       "2016-03-15    439\n",
       "2016-03-16    440\n",
       "2016-03-17    441\n",
       "2016-03-18    442\n",
       "2016-03-19    443\n",
       "2016-03-20    444\n",
       "2016-03-21    445\n",
       "2016-03-22    446\n",
       "2016-03-23    447\n",
       "2016-03-24    448\n",
       "2016-03-25    449\n",
       "2016-03-26    450\n",
       "2016-03-27    451\n",
       "2016-03-28    452\n",
       "2016-03-29    453\n",
       "2016-03-30    454\n",
       "2016-03-31    455\n",
       "Freq: D, Length: 91, dtype: int64"
      ]
     },
     "execution_count": 36,
     "metadata": {},
     "output_type": "execute_result"
    }
   ],
   "source": [
    "ts['2016-01':'2016-03']"
   ]
  },
  {
   "cell_type": "markdown",
   "metadata": {},
   "source": [
    "We can also use the loc() and iloc() methods to select rows in the dataframe (Note that the ix() method has been deprecated in Pandas since version 0.20.)\n",
    "Let's create a new dataframe with four columns and a timestamp index. \n",
    "Each column will be a stock symbol generated with random values between 100.01 USD and 103.90 USD. \n"
   ]
  },
  {
   "cell_type": "code",
   "execution_count": 81,
   "metadata": {},
   "outputs": [
    {
     "data": {
      "text/html": [
       "<div>\n",
       "<style scoped>\n",
       "    .dataframe tbody tr th:only-of-type {\n",
       "        vertical-align: middle;\n",
       "    }\n",
       "\n",
       "    .dataframe tbody tr th {\n",
       "        vertical-align: top;\n",
       "    }\n",
       "\n",
       "    .dataframe thead th {\n",
       "        text-align: right;\n",
       "    }\n",
       "</style>\n",
       "<table border=\"1\" class=\"dataframe\">\n",
       "  <thead>\n",
       "    <tr style=\"text-align: right;\">\n",
       "      <th></th>\n",
       "      <th>AAPL</th>\n",
       "      <th>GOOG</th>\n",
       "      <th>IBM</th>\n",
       "      <th>FB</th>\n",
       "    </tr>\n",
       "  </thead>\n",
       "  <tbody>\n",
       "    <tr>\n",
       "      <th>2015-01-01</th>\n",
       "      <td>101.98</td>\n",
       "      <td>103.50</td>\n",
       "      <td>100.12</td>\n",
       "      <td>103.14</td>\n",
       "    </tr>\n",
       "    <tr>\n",
       "      <th>2015-01-02</th>\n",
       "      <td>100.52</td>\n",
       "      <td>102.77</td>\n",
       "      <td>103.14</td>\n",
       "      <td>102.00</td>\n",
       "    </tr>\n",
       "    <tr>\n",
       "      <th>2015-01-03</th>\n",
       "      <td>103.60</td>\n",
       "      <td>101.13</td>\n",
       "      <td>102.69</td>\n",
       "      <td>100.18</td>\n",
       "    </tr>\n",
       "    <tr>\n",
       "      <th>2015-01-04</th>\n",
       "      <td>100.89</td>\n",
       "      <td>100.83</td>\n",
       "      <td>102.23</td>\n",
       "      <td>103.07</td>\n",
       "    </tr>\n",
       "    <tr>\n",
       "      <th>2015-01-05</th>\n",
       "      <td>103.15</td>\n",
       "      <td>101.01</td>\n",
       "      <td>100.26</td>\n",
       "      <td>101.96</td>\n",
       "    </tr>\n",
       "  </tbody>\n",
       "</table>\n",
       "</div>"
      ],
      "text/plain": [
       "              AAPL    GOOG     IBM      FB\n",
       "2015-01-01  101.98  103.50  100.12  103.14\n",
       "2015-01-02  100.52  102.77  103.14  102.00\n",
       "2015-01-03  103.60  101.13  102.69  100.18\n",
       "2015-01-04  100.89  100.83  102.23  103.07\n",
       "2015-01-05  103.15  101.01  100.26  101.96"
      ]
     },
     "execution_count": 81,
     "metadata": {},
     "output_type": "execute_result"
    }
   ],
   "source": [
    "import random\n",
    "rng =  pd.date_range('2015-01-01',periods=1000)\n",
    "symbols=['AAPL','GOOG','IBM','FB']\n",
    "df  = pd.DataFrame(np.arange(4000).reshape(1000,4),index=rng,columns=symbols)\n",
    "df[symbols] = df[symbols].applymap(lambda v: round(random.uniform(100.01,103.90),2))\n",
    "df.head()"
   ]
  },
  {
   "cell_type": "markdown",
   "metadata": {},
   "source": [
    "Now let's use the loc and iloc methods to select values in the dataframe from the timeseries index."
   ]
  },
  {
   "cell_type": "code",
   "execution_count": 51,
   "metadata": {},
   "outputs": [
    {
     "data": {
      "text/html": [
       "<div>\n",
       "<style scoped>\n",
       "    .dataframe tbody tr th:only-of-type {\n",
       "        vertical-align: middle;\n",
       "    }\n",
       "\n",
       "    .dataframe tbody tr th {\n",
       "        vertical-align: top;\n",
       "    }\n",
       "\n",
       "    .dataframe thead th {\n",
       "        text-align: right;\n",
       "    }\n",
       "</style>\n",
       "<table border=\"1\" class=\"dataframe\">\n",
       "  <thead>\n",
       "    <tr style=\"text-align: right;\">\n",
       "      <th></th>\n",
       "      <th>AAPL</th>\n",
       "      <th>GOOG</th>\n",
       "      <th>IBM</th>\n",
       "      <th>FB</th>\n",
       "    </tr>\n",
       "  </thead>\n",
       "  <tbody>\n",
       "    <tr>\n",
       "      <th>2015-01-01</th>\n",
       "      <td>100.46</td>\n",
       "      <td>103.49</td>\n",
       "      <td>100.30</td>\n",
       "      <td>100.57</td>\n",
       "    </tr>\n",
       "    <tr>\n",
       "      <th>2015-01-02</th>\n",
       "      <td>103.12</td>\n",
       "      <td>102.13</td>\n",
       "      <td>102.60</td>\n",
       "      <td>102.34</td>\n",
       "    </tr>\n",
       "    <tr>\n",
       "      <th>2015-01-03</th>\n",
       "      <td>100.33</td>\n",
       "      <td>101.93</td>\n",
       "      <td>101.53</td>\n",
       "      <td>102.49</td>\n",
       "    </tr>\n",
       "    <tr>\n",
       "      <th>2015-01-04</th>\n",
       "      <td>101.16</td>\n",
       "      <td>100.86</td>\n",
       "      <td>101.42</td>\n",
       "      <td>100.39</td>\n",
       "    </tr>\n",
       "    <tr>\n",
       "      <th>2015-01-05</th>\n",
       "      <td>100.82</td>\n",
       "      <td>102.96</td>\n",
       "      <td>100.82</td>\n",
       "      <td>103.48</td>\n",
       "    </tr>\n",
       "    <tr>\n",
       "      <th>2015-01-06</th>\n",
       "      <td>101.62</td>\n",
       "      <td>102.66</td>\n",
       "      <td>103.89</td>\n",
       "      <td>102.78</td>\n",
       "    </tr>\n",
       "    <tr>\n",
       "      <th>2015-01-07</th>\n",
       "      <td>102.56</td>\n",
       "      <td>102.08</td>\n",
       "      <td>101.05</td>\n",
       "      <td>100.14</td>\n",
       "    </tr>\n",
       "    <tr>\n",
       "      <th>2015-01-08</th>\n",
       "      <td>103.60</td>\n",
       "      <td>101.34</td>\n",
       "      <td>100.97</td>\n",
       "      <td>100.97</td>\n",
       "    </tr>\n",
       "    <tr>\n",
       "      <th>2015-01-09</th>\n",
       "      <td>101.89</td>\n",
       "      <td>100.50</td>\n",
       "      <td>101.73</td>\n",
       "      <td>100.78</td>\n",
       "    </tr>\n",
       "    <tr>\n",
       "      <th>2015-01-10</th>\n",
       "      <td>101.98</td>\n",
       "      <td>102.94</td>\n",
       "      <td>101.48</td>\n",
       "      <td>100.34</td>\n",
       "    </tr>\n",
       "  </tbody>\n",
       "</table>\n",
       "</div>"
      ],
      "text/plain": [
       "              AAPL    GOOG     IBM      FB\n",
       "2015-01-01  100.46  103.49  100.30  100.57\n",
       "2015-01-02  103.12  102.13  102.60  102.34\n",
       "2015-01-03  100.33  101.93  101.53  102.49\n",
       "2015-01-04  101.16  100.86  101.42  100.39\n",
       "2015-01-05  100.82  102.96  100.82  103.48\n",
       "2015-01-06  101.62  102.66  103.89  102.78\n",
       "2015-01-07  102.56  102.08  101.05  100.14\n",
       "2015-01-08  103.60  101.34  100.97  100.97\n",
       "2015-01-09  101.89  100.50  101.73  100.78\n",
       "2015-01-10  101.98  102.94  101.48  100.34"
      ]
     },
     "execution_count": 51,
     "metadata": {},
     "output_type": "execute_result"
    }
   ],
   "source": [
    "df.iloc[0:10]"
   ]
  },
  {
   "cell_type": "code",
   "execution_count": 52,
   "metadata": {},
   "outputs": [
    {
     "data": {
      "text/html": [
       "<div>\n",
       "<style scoped>\n",
       "    .dataframe tbody tr th:only-of-type {\n",
       "        vertical-align: middle;\n",
       "    }\n",
       "\n",
       "    .dataframe tbody tr th {\n",
       "        vertical-align: top;\n",
       "    }\n",
       "\n",
       "    .dataframe thead th {\n",
       "        text-align: right;\n",
       "    }\n",
       "</style>\n",
       "<table border=\"1\" class=\"dataframe\">\n",
       "  <thead>\n",
       "    <tr style=\"text-align: right;\">\n",
       "      <th></th>\n",
       "      <th>AAPL</th>\n",
       "      <th>GOOG</th>\n",
       "      <th>IBM</th>\n",
       "      <th>FB</th>\n",
       "    </tr>\n",
       "  </thead>\n",
       "  <tbody>\n",
       "    <tr>\n",
       "      <th>2015-01-01</th>\n",
       "      <td>100.46</td>\n",
       "      <td>103.49</td>\n",
       "      <td>100.30</td>\n",
       "      <td>100.57</td>\n",
       "    </tr>\n",
       "    <tr>\n",
       "      <th>2015-01-02</th>\n",
       "      <td>103.12</td>\n",
       "      <td>102.13</td>\n",
       "      <td>102.60</td>\n",
       "      <td>102.34</td>\n",
       "    </tr>\n",
       "    <tr>\n",
       "      <th>2015-01-03</th>\n",
       "      <td>100.33</td>\n",
       "      <td>101.93</td>\n",
       "      <td>101.53</td>\n",
       "      <td>102.49</td>\n",
       "    </tr>\n",
       "    <tr>\n",
       "      <th>2015-01-04</th>\n",
       "      <td>101.16</td>\n",
       "      <td>100.86</td>\n",
       "      <td>101.42</td>\n",
       "      <td>100.39</td>\n",
       "    </tr>\n",
       "    <tr>\n",
       "      <th>2015-01-05</th>\n",
       "      <td>100.82</td>\n",
       "      <td>102.96</td>\n",
       "      <td>100.82</td>\n",
       "      <td>103.48</td>\n",
       "    </tr>\n",
       "    <tr>\n",
       "      <th>2015-01-06</th>\n",
       "      <td>101.62</td>\n",
       "      <td>102.66</td>\n",
       "      <td>103.89</td>\n",
       "      <td>102.78</td>\n",
       "    </tr>\n",
       "    <tr>\n",
       "      <th>2015-01-07</th>\n",
       "      <td>102.56</td>\n",
       "      <td>102.08</td>\n",
       "      <td>101.05</td>\n",
       "      <td>100.14</td>\n",
       "    </tr>\n",
       "    <tr>\n",
       "      <th>2015-01-08</th>\n",
       "      <td>103.60</td>\n",
       "      <td>101.34</td>\n",
       "      <td>100.97</td>\n",
       "      <td>100.97</td>\n",
       "    </tr>\n",
       "    <tr>\n",
       "      <th>2015-01-09</th>\n",
       "      <td>101.89</td>\n",
       "      <td>100.50</td>\n",
       "      <td>101.73</td>\n",
       "      <td>100.78</td>\n",
       "    </tr>\n",
       "    <tr>\n",
       "      <th>2015-01-10</th>\n",
       "      <td>101.98</td>\n",
       "      <td>102.94</td>\n",
       "      <td>101.48</td>\n",
       "      <td>100.34</td>\n",
       "    </tr>\n",
       "  </tbody>\n",
       "</table>\n",
       "</div>"
      ],
      "text/plain": [
       "              AAPL    GOOG     IBM      FB\n",
       "2015-01-01  100.46  103.49  100.30  100.57\n",
       "2015-01-02  103.12  102.13  102.60  102.34\n",
       "2015-01-03  100.33  101.93  101.53  102.49\n",
       "2015-01-04  101.16  100.86  101.42  100.39\n",
       "2015-01-05  100.82  102.96  100.82  103.48\n",
       "2015-01-06  101.62  102.66  103.89  102.78\n",
       "2015-01-07  102.56  102.08  101.05  100.14\n",
       "2015-01-08  103.60  101.34  100.97  100.97\n",
       "2015-01-09  101.89  100.50  101.73  100.78\n",
       "2015-01-10  101.98  102.94  101.48  100.34"
      ]
     },
     "execution_count": 52,
     "metadata": {},
     "output_type": "execute_result"
    }
   ],
   "source": [
    "df.loc['2015-01-01':'2015-01-10']"
   ]
  },
  {
   "cell_type": "markdown",
   "metadata": {},
   "source": [
    "Note that we don't have to use loc and iloc.  We can select rows by a number of different methods. \n",
    "For example, using the datetime method to convert strings into datetime objects and then slicing on them. "
   ]
  },
  {
   "cell_type": "code",
   "execution_count": 53,
   "metadata": {},
   "outputs": [
    {
     "data": {
      "text/html": [
       "<div>\n",
       "<style scoped>\n",
       "    .dataframe tbody tr th:only-of-type {\n",
       "        vertical-align: middle;\n",
       "    }\n",
       "\n",
       "    .dataframe tbody tr th {\n",
       "        vertical-align: top;\n",
       "    }\n",
       "\n",
       "    .dataframe thead th {\n",
       "        text-align: right;\n",
       "    }\n",
       "</style>\n",
       "<table border=\"1\" class=\"dataframe\">\n",
       "  <thead>\n",
       "    <tr style=\"text-align: right;\">\n",
       "      <th></th>\n",
       "      <th>AAPL</th>\n",
       "      <th>GOOG</th>\n",
       "      <th>IBM</th>\n",
       "      <th>FB</th>\n",
       "    </tr>\n",
       "  </thead>\n",
       "  <tbody>\n",
       "    <tr>\n",
       "      <th>2015-01-01</th>\n",
       "      <td>100.46</td>\n",
       "      <td>103.49</td>\n",
       "      <td>100.30</td>\n",
       "      <td>100.57</td>\n",
       "    </tr>\n",
       "    <tr>\n",
       "      <th>2015-01-02</th>\n",
       "      <td>103.12</td>\n",
       "      <td>102.13</td>\n",
       "      <td>102.60</td>\n",
       "      <td>102.34</td>\n",
       "    </tr>\n",
       "    <tr>\n",
       "      <th>2015-01-03</th>\n",
       "      <td>100.33</td>\n",
       "      <td>101.93</td>\n",
       "      <td>101.53</td>\n",
       "      <td>102.49</td>\n",
       "    </tr>\n",
       "    <tr>\n",
       "      <th>2015-01-04</th>\n",
       "      <td>101.16</td>\n",
       "      <td>100.86</td>\n",
       "      <td>101.42</td>\n",
       "      <td>100.39</td>\n",
       "    </tr>\n",
       "    <tr>\n",
       "      <th>2015-01-05</th>\n",
       "      <td>100.82</td>\n",
       "      <td>102.96</td>\n",
       "      <td>100.82</td>\n",
       "      <td>103.48</td>\n",
       "    </tr>\n",
       "    <tr>\n",
       "      <th>2015-01-06</th>\n",
       "      <td>101.62</td>\n",
       "      <td>102.66</td>\n",
       "      <td>103.89</td>\n",
       "      <td>102.78</td>\n",
       "    </tr>\n",
       "    <tr>\n",
       "      <th>2015-01-07</th>\n",
       "      <td>102.56</td>\n",
       "      <td>102.08</td>\n",
       "      <td>101.05</td>\n",
       "      <td>100.14</td>\n",
       "    </tr>\n",
       "    <tr>\n",
       "      <th>2015-01-08</th>\n",
       "      <td>103.60</td>\n",
       "      <td>101.34</td>\n",
       "      <td>100.97</td>\n",
       "      <td>100.97</td>\n",
       "    </tr>\n",
       "    <tr>\n",
       "      <th>2015-01-09</th>\n",
       "      <td>101.89</td>\n",
       "      <td>100.50</td>\n",
       "      <td>101.73</td>\n",
       "      <td>100.78</td>\n",
       "    </tr>\n",
       "    <tr>\n",
       "      <th>2015-01-10</th>\n",
       "      <td>101.98</td>\n",
       "      <td>102.94</td>\n",
       "      <td>101.48</td>\n",
       "      <td>100.34</td>\n",
       "    </tr>\n",
       "  </tbody>\n",
       "</table>\n",
       "</div>"
      ],
      "text/plain": [
       "              AAPL    GOOG     IBM      FB\n",
       "2015-01-01  100.46  103.49  100.30  100.57\n",
       "2015-01-02  103.12  102.13  102.60  102.34\n",
       "2015-01-03  100.33  101.93  101.53  102.49\n",
       "2015-01-04  101.16  100.86  101.42  100.39\n",
       "2015-01-05  100.82  102.96  100.82  103.48\n",
       "2015-01-06  101.62  102.66  103.89  102.78\n",
       "2015-01-07  102.56  102.08  101.05  100.14\n",
       "2015-01-08  103.60  101.34  100.97  100.97\n",
       "2015-01-09  101.89  100.50  101.73  100.78\n",
       "2015-01-10  101.98  102.94  101.48  100.34"
      ]
     },
     "execution_count": 53,
     "metadata": {},
     "output_type": "execute_result"
    }
   ],
   "source": [
    "df[datetime(2015,1,1):datetime(2015,1,10)]"
   ]
  },
  {
   "cell_type": "markdown",
   "metadata": {},
   "source": [
    "### Time Series Frequencies"
   ]
  },
  {
   "cell_type": "markdown",
   "metadata": {},
   "source": [
    "Up until now, all of our time series ranges have been on a fixed frequency.  However, it is often the case that we will want a frequency that isn't strictly linear or consecutive.  For example with time series asset data, we will only want time periods that are on a business week cycle rather than a strict calendar cycle. "
   ]
  },
  {
   "cell_type": "markdown",
   "metadata": {},
   "source": [
    "In our first example, let's generate time periods that are monthly, rather than daily. "
   ]
  },
  {
   "cell_type": "code",
   "execution_count": 58,
   "metadata": {},
   "outputs": [
    {
     "data": {
      "text/plain": [
       "DatetimeIndex(['2015-01-31', '2015-02-28', '2015-03-31', '2015-04-30',\n",
       "               '2015-05-31', '2015-06-30', '2015-07-31', '2015-08-31',\n",
       "               '2015-09-30', '2015-10-31', '2015-11-30', '2015-12-31'],\n",
       "              dtype='datetime64[ns]', freq='M')"
      ]
     },
     "execution_count": 58,
     "metadata": {},
     "output_type": "execute_result"
    }
   ],
   "source": [
    "rng = pd.date_range(datetime(2015,1,1),datetime(2015,12,31), period=12, freq = 'M ')\n",
    "rng"
   ]
  },
  {
   "cell_type": "markdown",
   "metadata": {},
   "source": [
    "Note that in the previous example, it generates appropriate month end dates. "
   ]
  },
  {
   "cell_type": "markdown",
   "metadata": {},
   "source": [
    "We can also do the start of the month rather than the end of the month. "
   ]
  },
  {
   "cell_type": "code",
   "execution_count": 64,
   "metadata": {},
   "outputs": [
    {
     "data": {
      "text/plain": [
       "[Timestamp('2015-01-15 00:00:00', freq='SM-15'),\n",
       " Timestamp('2015-01-31 00:00:00', freq='SM-15'),\n",
       " Timestamp('2015-02-15 00:00:00', freq='SM-15'),\n",
       " Timestamp('2015-02-28 00:00:00', freq='SM-15'),\n",
       " Timestamp('2015-03-15 00:00:00', freq='SM-15'),\n",
       " Timestamp('2015-03-31 00:00:00', freq='SM-15'),\n",
       " Timestamp('2015-04-15 00:00:00', freq='SM-15'),\n",
       " Timestamp('2015-04-30 00:00:00', freq='SM-15'),\n",
       " Timestamp('2015-05-15 00:00:00', freq='SM-15'),\n",
       " Timestamp('2015-05-31 00:00:00', freq='SM-15'),\n",
       " Timestamp('2015-06-15 00:00:00', freq='SM-15'),\n",
       " Timestamp('2015-06-30 00:00:00', freq='SM-15'),\n",
       " Timestamp('2015-07-15 00:00:00', freq='SM-15'),\n",
       " Timestamp('2015-07-31 00:00:00', freq='SM-15'),\n",
       " Timestamp('2015-08-15 00:00:00', freq='SM-15'),\n",
       " Timestamp('2015-08-31 00:00:00', freq='SM-15'),\n",
       " Timestamp('2015-09-15 00:00:00', freq='SM-15'),\n",
       " Timestamp('2015-09-30 00:00:00', freq='SM-15'),\n",
       " Timestamp('2015-10-15 00:00:00', freq='SM-15'),\n",
       " Timestamp('2015-10-31 00:00:00', freq='SM-15'),\n",
       " Timestamp('2015-11-15 00:00:00', freq='SM-15'),\n",
       " Timestamp('2015-11-30 00:00:00', freq='SM-15'),\n",
       " Timestamp('2015-12-15 00:00:00', freq='SM-15'),\n",
       " Timestamp('2015-12-31 00:00:00', freq='SM-15')]"
      ]
     },
     "execution_count": 64,
     "metadata": {},
     "output_type": "execute_result"
    }
   ],
   "source": [
    "rng = pd.date_range(datetime(2015,1,1),datetime(2015,12,31), period =12, freq = 'SM')\n",
    "list(rng)"
   ]
  },
  {
   "cell_type": "markdown",
   "metadata": {},
   "source": [
    "We can also do periods by weekdays. i.e. normal business days. "
   ]
  },
  {
   "cell_type": "code",
   "execution_count": 63,
   "metadata": {},
   "outputs": [
    {
     "data": {
      "text/plain": [
       "DatetimeIndex(['2015-01-30', '2015-02-27', '2015-03-31', '2015-04-30',\n",
       "               '2015-05-29', '2015-06-30', '2015-07-31', '2015-08-31',\n",
       "               '2015-09-30', '2015-10-30', '2015-11-30', '2015-12-31'],\n",
       "              dtype='datetime64[ns]', freq='BM')"
      ]
     },
     "execution_count": 63,
     "metadata": {},
     "output_type": "execute_result"
    }
   ],
   "source": [
    "rng = pd.date_range(datetime(2015,1,1),datetime(2015,12,31), period=12, freq = 'BM ')\n",
    "rng"
   ]
  },
  {
   "cell_type": "markdown",
   "metadata": {},
   "source": [
    "Or, we can also do business start of the month."
   ]
  },
  {
   "cell_type": "code",
   "execution_count": 68,
   "metadata": {},
   "outputs": [
    {
     "data": {
      "text/plain": [
       "DatetimeIndex(['2015-01-01', '2015-02-01', '2015-03-01', '2015-04-01',\n",
       "               '2015-05-01', '2015-06-01', '2015-07-01', '2015-08-01',\n",
       "               '2015-09-01', '2015-10-01', '2015-11-01', '2015-12-01'],\n",
       "              dtype='datetime64[ns]', freq='MS')"
      ]
     },
     "execution_count": 68,
     "metadata": {},
     "output_type": "execute_result"
    }
   ],
   "source": [
    "rng = pd.date_range(datetime(2015,1,1),datetime(2015,12,31), period =12, freq = 'MS')\n",
    "rng"
   ]
  },
  {
   "cell_type": "markdown",
   "metadata": {},
   "source": [
    "Note that if you want to check for holidays, it's a bit more involved since each country has its own, specific holidays.  In the following example, we can import the United States federal holiday calendar. \n",
    "Once we've done that, we can use it to do boolean searches and modify our dataframe to exclude specific days. "
   ]
  },
  {
   "cell_type": "code",
   "execution_count": 13,
   "metadata": {},
   "outputs": [
    {
     "data": {
      "text/html": [
       "<div>\n",
       "<style scoped>\n",
       "    .dataframe tbody tr th:only-of-type {\n",
       "        vertical-align: middle;\n",
       "    }\n",
       "\n",
       "    .dataframe tbody tr th {\n",
       "        vertical-align: top;\n",
       "    }\n",
       "\n",
       "    .dataframe thead th {\n",
       "        text-align: right;\n",
       "    }\n",
       "</style>\n",
       "<table border=\"1\" class=\"dataframe\">\n",
       "  <thead>\n",
       "    <tr style=\"text-align: right;\">\n",
       "      <th></th>\n",
       "      <th>AAPL</th>\n",
       "      <th>GOOG</th>\n",
       "      <th>IBM</th>\n",
       "      <th>FB</th>\n",
       "    </tr>\n",
       "  </thead>\n",
       "  <tbody>\n",
       "    <tr>\n",
       "      <th>2015-01-02</th>\n",
       "      <td>100.95</td>\n",
       "      <td>100.61</td>\n",
       "      <td>101.23</td>\n",
       "      <td>103.02</td>\n",
       "    </tr>\n",
       "    <tr>\n",
       "      <th>2015-01-03</th>\n",
       "      <td>100.05</td>\n",
       "      <td>103.43</td>\n",
       "      <td>100.15</td>\n",
       "      <td>103.47</td>\n",
       "    </tr>\n",
       "    <tr>\n",
       "      <th>2015-01-04</th>\n",
       "      <td>102.79</td>\n",
       "      <td>102.46</td>\n",
       "      <td>100.30</td>\n",
       "      <td>101.29</td>\n",
       "    </tr>\n",
       "    <tr>\n",
       "      <th>2015-01-05</th>\n",
       "      <td>102.91</td>\n",
       "      <td>100.91</td>\n",
       "      <td>100.89</td>\n",
       "      <td>101.07</td>\n",
       "    </tr>\n",
       "    <tr>\n",
       "      <th>2015-01-06</th>\n",
       "      <td>100.15</td>\n",
       "      <td>102.94</td>\n",
       "      <td>102.10</td>\n",
       "      <td>102.47</td>\n",
       "    </tr>\n",
       "    <tr>\n",
       "      <th>2015-01-07</th>\n",
       "      <td>103.58</td>\n",
       "      <td>101.97</td>\n",
       "      <td>103.61</td>\n",
       "      <td>102.30</td>\n",
       "    </tr>\n",
       "    <tr>\n",
       "      <th>2015-01-08</th>\n",
       "      <td>100.68</td>\n",
       "      <td>103.18</td>\n",
       "      <td>102.23</td>\n",
       "      <td>101.89</td>\n",
       "    </tr>\n",
       "    <tr>\n",
       "      <th>2015-01-09</th>\n",
       "      <td>103.90</td>\n",
       "      <td>103.21</td>\n",
       "      <td>101.34</td>\n",
       "      <td>103.42</td>\n",
       "    </tr>\n",
       "    <tr>\n",
       "      <th>2015-01-10</th>\n",
       "      <td>100.64</td>\n",
       "      <td>102.21</td>\n",
       "      <td>100.02</td>\n",
       "      <td>102.69</td>\n",
       "    </tr>\n",
       "    <tr>\n",
       "      <th>2015-01-11</th>\n",
       "      <td>101.17</td>\n",
       "      <td>101.69</td>\n",
       "      <td>100.79</td>\n",
       "      <td>102.18</td>\n",
       "    </tr>\n",
       "    <tr>\n",
       "      <th>2015-01-12</th>\n",
       "      <td>103.30</td>\n",
       "      <td>103.80</td>\n",
       "      <td>101.69</td>\n",
       "      <td>101.45</td>\n",
       "    </tr>\n",
       "    <tr>\n",
       "      <th>2015-01-13</th>\n",
       "      <td>103.41</td>\n",
       "      <td>102.61</td>\n",
       "      <td>100.53</td>\n",
       "      <td>102.85</td>\n",
       "    </tr>\n",
       "    <tr>\n",
       "      <th>2015-01-14</th>\n",
       "      <td>103.51</td>\n",
       "      <td>103.38</td>\n",
       "      <td>102.25</td>\n",
       "      <td>100.58</td>\n",
       "    </tr>\n",
       "    <tr>\n",
       "      <th>2015-01-15</th>\n",
       "      <td>101.18</td>\n",
       "      <td>101.08</td>\n",
       "      <td>101.81</td>\n",
       "      <td>102.36</td>\n",
       "    </tr>\n",
       "    <tr>\n",
       "      <th>2015-01-16</th>\n",
       "      <td>100.17</td>\n",
       "      <td>103.26</td>\n",
       "      <td>102.48</td>\n",
       "      <td>101.15</td>\n",
       "    </tr>\n",
       "    <tr>\n",
       "      <th>2015-01-17</th>\n",
       "      <td>100.90</td>\n",
       "      <td>101.58</td>\n",
       "      <td>103.25</td>\n",
       "      <td>101.41</td>\n",
       "    </tr>\n",
       "    <tr>\n",
       "      <th>2015-01-18</th>\n",
       "      <td>101.61</td>\n",
       "      <td>101.98</td>\n",
       "      <td>103.07</td>\n",
       "      <td>100.41</td>\n",
       "    </tr>\n",
       "    <tr>\n",
       "      <th>2015-01-20</th>\n",
       "      <td>102.59</td>\n",
       "      <td>102.42</td>\n",
       "      <td>101.78</td>\n",
       "      <td>103.40</td>\n",
       "    </tr>\n",
       "    <tr>\n",
       "      <th>2015-01-21</th>\n",
       "      <td>101.86</td>\n",
       "      <td>100.96</td>\n",
       "      <td>101.47</td>\n",
       "      <td>102.46</td>\n",
       "    </tr>\n",
       "    <tr>\n",
       "      <th>2015-01-22</th>\n",
       "      <td>103.11</td>\n",
       "      <td>100.29</td>\n",
       "      <td>102.51</td>\n",
       "      <td>103.04</td>\n",
       "    </tr>\n",
       "    <tr>\n",
       "      <th>2015-01-23</th>\n",
       "      <td>100.78</td>\n",
       "      <td>103.00</td>\n",
       "      <td>100.41</td>\n",
       "      <td>101.55</td>\n",
       "    </tr>\n",
       "    <tr>\n",
       "      <th>2015-01-24</th>\n",
       "      <td>102.88</td>\n",
       "      <td>100.74</td>\n",
       "      <td>101.20</td>\n",
       "      <td>102.97</td>\n",
       "    </tr>\n",
       "    <tr>\n",
       "      <th>2015-01-25</th>\n",
       "      <td>100.70</td>\n",
       "      <td>101.60</td>\n",
       "      <td>101.01</td>\n",
       "      <td>102.80</td>\n",
       "    </tr>\n",
       "    <tr>\n",
       "      <th>2015-01-26</th>\n",
       "      <td>100.93</td>\n",
       "      <td>100.47</td>\n",
       "      <td>103.06</td>\n",
       "      <td>101.41</td>\n",
       "    </tr>\n",
       "    <tr>\n",
       "      <th>2015-01-27</th>\n",
       "      <td>100.14</td>\n",
       "      <td>100.63</td>\n",
       "      <td>101.15</td>\n",
       "      <td>102.25</td>\n",
       "    </tr>\n",
       "    <tr>\n",
       "      <th>2015-01-28</th>\n",
       "      <td>100.53</td>\n",
       "      <td>100.28</td>\n",
       "      <td>101.56</td>\n",
       "      <td>102.13</td>\n",
       "    </tr>\n",
       "    <tr>\n",
       "      <th>2015-01-29</th>\n",
       "      <td>101.68</td>\n",
       "      <td>100.33</td>\n",
       "      <td>103.68</td>\n",
       "      <td>102.41</td>\n",
       "    </tr>\n",
       "    <tr>\n",
       "      <th>2015-01-30</th>\n",
       "      <td>100.69</td>\n",
       "      <td>103.13</td>\n",
       "      <td>103.76</td>\n",
       "      <td>101.67</td>\n",
       "    </tr>\n",
       "    <tr>\n",
       "      <th>2015-01-31</th>\n",
       "      <td>101.38</td>\n",
       "      <td>103.74</td>\n",
       "      <td>102.75</td>\n",
       "      <td>100.05</td>\n",
       "    </tr>\n",
       "    <tr>\n",
       "      <th>2015-02-01</th>\n",
       "      <td>100.20</td>\n",
       "      <td>103.31</td>\n",
       "      <td>103.18</td>\n",
       "      <td>101.73</td>\n",
       "    </tr>\n",
       "  </tbody>\n",
       "</table>\n",
       "</div>"
      ],
      "text/plain": [
       "              AAPL    GOOG     IBM      FB\n",
       "2015-01-02  100.95  100.61  101.23  103.02\n",
       "2015-01-03  100.05  103.43  100.15  103.47\n",
       "2015-01-04  102.79  102.46  100.30  101.29\n",
       "2015-01-05  102.91  100.91  100.89  101.07\n",
       "2015-01-06  100.15  102.94  102.10  102.47\n",
       "2015-01-07  103.58  101.97  103.61  102.30\n",
       "2015-01-08  100.68  103.18  102.23  101.89\n",
       "2015-01-09  103.90  103.21  101.34  103.42\n",
       "2015-01-10  100.64  102.21  100.02  102.69\n",
       "2015-01-11  101.17  101.69  100.79  102.18\n",
       "2015-01-12  103.30  103.80  101.69  101.45\n",
       "2015-01-13  103.41  102.61  100.53  102.85\n",
       "2015-01-14  103.51  103.38  102.25  100.58\n",
       "2015-01-15  101.18  101.08  101.81  102.36\n",
       "2015-01-16  100.17  103.26  102.48  101.15\n",
       "2015-01-17  100.90  101.58  103.25  101.41\n",
       "2015-01-18  101.61  101.98  103.07  100.41\n",
       "2015-01-20  102.59  102.42  101.78  103.40\n",
       "2015-01-21  101.86  100.96  101.47  102.46\n",
       "2015-01-22  103.11  100.29  102.51  103.04\n",
       "2015-01-23  100.78  103.00  100.41  101.55\n",
       "2015-01-24  102.88  100.74  101.20  102.97\n",
       "2015-01-25  100.70  101.60  101.01  102.80\n",
       "2015-01-26  100.93  100.47  103.06  101.41\n",
       "2015-01-27  100.14  100.63  101.15  102.25\n",
       "2015-01-28  100.53  100.28  101.56  102.13\n",
       "2015-01-29  101.68  100.33  103.68  102.41\n",
       "2015-01-30  100.69  103.13  103.76  101.67\n",
       "2015-01-31  101.38  103.74  102.75  100.05\n",
       "2015-02-01  100.20  103.31  103.18  101.73"
      ]
     },
     "execution_count": 13,
     "metadata": {},
     "output_type": "execute_result"
    }
   ],
   "source": [
    "from pandas.tseries.holiday import USFederalHolidayCalendar as calendar\n",
    "rng =  pd.date_range('2015-01-01',periods=1000)\n",
    "symbols=['AAPL','GOOG','IBM','FB']\n",
    "cal = calendar()\n",
    "df  = pd.DataFrame(np.arange(4000).reshape(1000,4),index=rng,columns=symbols)\n",
    "df[symbols] = df[symbols].applymap(lambda v: round(random.uniform(100.01,103.90),2))\n",
    "holidays = cal.holidays(start=df.index.min(), end=df.index.max())\n",
    "df.drop(df[df.index.isin(holidays)].index,inplace=True)\n",
    "df.head(30)"
   ]
  },
  {
   "cell_type": "markdown",
   "metadata": {},
   "source": [
    "Note that in the above output, the date '01-01-2015' isn't displayed as it is a holiday. Also notice that January 19th is also ommitted as that day was designated a US federal holiday (Martin Luther King day). "
   ]
  },
  {
   "cell_type": "markdown",
   "metadata": {},
   "source": [
    "### Resampling data"
   ]
  },
  {
   "cell_type": "markdown",
   "metadata": {},
   "source": [
    "Often times, we'll get time series data, in, for example, a day periodicity, and we'd like to take that data and sample it weekly or monthly.  This is called *resampling.*  Here we see how to do that in Pandas. "
   ]
  },
  {
   "cell_type": "markdown",
   "metadata": {},
   "source": [
    "Lets take our example of Apple and Google stock prices that has 1000 entries in it.  "
   ]
  },
  {
   "cell_type": "code",
   "execution_count": 73,
   "metadata": {},
   "outputs": [],
   "source": [
    "import random\n",
    "import pandas as pd\n",
    "import numpy as np\n",
    "import random\n",
    "goog_price = 998.02\n",
    "aapl_price = 157.02\n",
    "# Create 30 days of stock prices for GOOG and AAPL. \n",
    "goog_open_prices = [ round(goog_price + random.uniform(1,1.5),2) for _ in range(1000) ]\n",
    "aapl_open_prices = [ round(aapl_price + random.uniform (1,1.5),2) for _ in range(1000) ]\n",
    "# Add a random shift to the open price to mock a close price.  Values are random numbers between\n",
    "# 1and 1.5.\n",
    "goog_close_prices = [ round(price + random.uniform(1,4),2) for price in goog_open_prices ]\n",
    "aapl_close_prices = [ round(price +random.uniform(1,2),2) for price in aapl_open_prices]"
   ]
  },
  {
   "cell_type": "code",
   "execution_count": 74,
   "metadata": {},
   "outputs": [],
   "source": [
    "d_range = pd.date_range('2016-01-01',periods=1000)\n",
    "stocks = pd.DataFrame(columns = ['AAPL_OPEN', 'AAPL_CLOSE', 'GOOG_OPEN','GOOG_CLOSE'],index=d_range)\n",
    "stocks['AAPL_OPEN']  = aapl_open_prices\n",
    "stocks['AAPL_CLOSE']  = aapl_close_prices\n",
    "stocks['GOOG_OPEN']  = goog_open_prices\n",
    "stocks['GOOG_CLOSE']  = goog_close_prices"
   ]
  },
  {
   "cell_type": "markdown",
   "metadata": {},
   "source": [
    "Now let's plot the apple and google prices as a line chart. "
   ]
  },
  {
   "cell_type": "code",
   "execution_count": 104,
   "metadata": {},
   "outputs": [
    {
     "data": {
      "text/plain": [
       "<matplotlib.axes._subplots.AxesSubplot at 0x7f22857e77f0>"
      ]
     },
     "execution_count": 104,
     "metadata": {},
     "output_type": "execute_result"
    },
    {
     "data": {
      "image/png": "[encoded data removed]",
      "text/plain": [
       "<Figure size 432x288 with 1 Axes>"
      ]
     },
     "metadata": {},
     "output_type": "display_data"
    }
   ],
   "source": [
    "stocks[['AAPL_OPEN','AAPL_CLOSE']].plot()"
   ]
  },
  {
   "cell_type": "code",
   "execution_count": 75,
   "metadata": {
    "scrolled": true
   },
   "outputs": [
    {
     "data": {
      "text/plain": [
       "<matplotlib.axes._subplots.AxesSubplot at 0x7fdc49ce1940>"
      ]
     },
     "execution_count": 75,
     "metadata": {},
     "output_type": "execute_result"
    },
    {
     "data": {
      "image/png": "[encoded data removed]",
      "text/plain": [
       "<Figure size 1440x720 with 1 Axes>"
      ]
     },
     "metadata": {},
     "output_type": "display_data"
    }
   ],
   "source": [
    "resample_aapl_open = stocks['AAPL_OPEN'].resample('M').mean()\n",
    "fig= plt.figure(figsize=(20,10))\n",
    "ax1=plt.subplot2grid((1,1),(0,0))\n",
    "#stocks['AAPL_OPEN'].plot(ax=ax1,label='Daily Price')\n",
    "resample_aapl_open.plot(ax=ax1,label = 'Monthly Mean')"
   ]
  },
  {
   "cell_type": "markdown",
   "metadata": {},
   "source": [
    "In the above example, we took some daily time series and resampled it using the resample() method.  In this case, we resampled it to business month end and took the mean value of each of the sample 'buckets'. \n",
    "\n",
    "Generally there are two types of resampling:\n",
    "\n",
    " - Upsampling. Going from a lower frequency to a higher frequency (ex. days to hours)\n",
    " - Downsampling. Going from a higher frequency to a lower frequency (ex. days to months). \n",
    " \n",
    "There are many aggregate functions that can be supplied.  The default in Pandas for resampling is the mean.  However, others can be supplied, such as the median value, or the last value in the sample bin. \n",
    "Also, customized functions can be supplied, for example computing open, high, low and close values for an asset time series.  Here is an example of doing our resampling using the median rather than the mean. \n",
    " \n",
    "\n"
   ]
  },
  {
   "cell_type": "code",
   "execution_count": 76,
   "metadata": {},
   "outputs": [
    {
     "data": {
      "text/plain": [
       "<matplotlib.axes._subplots.AxesSubplot at 0x7fdc49edcd68>"
      ]
     },
     "execution_count": 76,
     "metadata": {},
     "output_type": "execute_result"
    },
    {
     "data": {
      "image/png": "[encoded data removed]",
      "text/plain": [
       "<Figure size 1440x720 with 1 Axes>"
      ]
     },
     "metadata": {},
     "output_type": "display_data"
    }
   ],
   "source": [
    "resample_aapl_open = stocks['AAPL_OPEN'].resample('M').median()\n",
    "fig= plt.figure(figsize=(20,10))\n",
    "ax1=plt.subplot2grid((1,1),(0,0))\n",
    "#stocks['AAPL_OPEN'].plot(ax=ax1,label='Daily Price')\n",
    "resample_aapl_open.plot(ax=ax1,label = 'Monthly Median')"
   ]
  },
  {
   "cell_type": "markdown",
   "metadata": {},
   "source": [
    "Note that if we want to use a custom aggregation function we call the *apply()* method and pass the custom function in as a parameter. "
   ]
  },
  {
   "cell_type": "markdown",
   "metadata": {},
   "source": [
    "It is entirely possible that our resampling will produce uneven counts in either the first or last bin.  Pandas allows us some flexiblity as to which bin we can choose as the one with the uneven count.\n",
    "In the next example, we tell the resample method that we want the uneven bin count to be the last bin in the series, rather than the first as we've 'closed' the first bin. "
   ]
  },
  {
   "cell_type": "code",
   "execution_count": 77,
   "metadata": {},
   "outputs": [
    {
     "data": {
      "text/plain": [
       "<matplotlib.axes._subplots.AxesSubplot at 0x7fdc49e943c8>"
      ]
     },
     "execution_count": 77,
     "metadata": {},
     "output_type": "execute_result"
    },
    {
     "data": {
      "image/png": "[encoded data removed]",
      "text/plain": [
       "<Figure size 1440x720 with 1 Axes>"
      ]
     },
     "metadata": {},
     "output_type": "display_data"
    }
   ],
   "source": [
    "resample_aapl_open = stocks['AAPL_OPEN'].resample('M',closed='left').median()\n",
    "fig= plt.figure(figsize=(20,10))\n",
    "ax1=plt.subplot2grid((1,1),(0,0))\n",
    "#stocks['AAPL_OPEN'].plot(ax=ax1,label='Daily Price')\n",
    "resample_aapl_open.plot(ax=ax1,label = 'Monthly Median')"
   ]
  },
  {
   "cell_type": "markdown",
   "metadata": {},
   "source": [
    "We can also use the *agg()* method to pass multiple aggregate functions which will return a dataframe of the output to us.  For example:"
   ]
  },
  {
   "cell_type": "code",
   "execution_count": 79,
   "metadata": {},
   "outputs": [
    {
     "data": {
      "text/plain": [
       "mean    2016-01-31    158.238333\n",
       "        2016-02-29    158.285172\n",
       "        2016-03-31    158.254194\n",
       "        2016-04-30    158.312667\n",
       "        2016-05-31    158.274194\n",
       "        2016-06-30    158.293000\n",
       "        2016-07-31    158.259032\n",
       "        2016-08-31    158.231613\n",
       "        2016-09-30    158.256000\n",
       "        2016-10-31    158.261935\n",
       "        2016-11-30    158.249333\n",
       "        2016-12-31    158.315806\n",
       "        2017-01-31    158.318065\n",
       "        2017-02-28    158.252143\n",
       "        2017-03-31    158.247419\n",
       "        2017-04-30    158.244333\n",
       "        2017-05-31    158.301290\n",
       "        2017-06-30    158.282000\n",
       "        2017-07-31    158.284194\n",
       "        2017-08-31    158.258387\n",
       "        2017-09-30    158.261333\n",
       "        2017-10-31    158.292581\n",
       "        2017-11-30    158.222667\n",
       "        2017-12-31    158.305161\n",
       "        2018-01-31    158.242581\n",
       "        2018-02-28    158.241071\n",
       "        2018-03-31    158.257097\n",
       "        2018-04-30    158.218667\n",
       "        2018-05-31    158.309032\n",
       "        2018-06-30    158.275333\n",
       "                         ...    \n",
       "median  2016-04-30    158.375000\n",
       "        2016-05-31    158.250000\n",
       "        2016-06-30    158.320000\n",
       "        2016-07-31    158.230000\n",
       "        2016-08-31    158.240000\n",
       "        2016-09-30    158.210000\n",
       "        2016-10-31    158.230000\n",
       "        2016-11-30    158.245000\n",
       "        2016-12-31    158.350000\n",
       "        2017-01-31    158.350000\n",
       "        2017-02-28    158.255000\n",
       "        2017-03-31    158.260000\n",
       "        2017-04-30    158.210000\n",
       "        2017-05-31    158.270000\n",
       "        2017-06-30    158.290000\n",
       "        2017-07-31    158.280000\n",
       "        2017-08-31    158.240000\n",
       "        2017-09-30    158.250000\n",
       "        2017-10-31    158.300000\n",
       "        2017-11-30    158.215000\n",
       "        2017-12-31    158.360000\n",
       "        2018-01-31    158.230000\n",
       "        2018-02-28    158.210000\n",
       "        2018-03-31    158.240000\n",
       "        2018-04-30    158.185000\n",
       "        2018-05-31    158.290000\n",
       "        2018-06-30    158.250000\n",
       "        2018-07-31    158.190000\n",
       "        2018-08-31    158.240000\n",
       "        2018-09-30    158.250000\n",
       "Name: AAPL_OPEN, Length: 66, dtype: float64"
      ]
     },
     "execution_count": 79,
     "metadata": {},
     "output_type": "execute_result"
    }
   ],
   "source": [
    "resample_aapl = stocks['AAPL_OPEN'].resample('M',closed='left').agg({'median': 'median',\n",
    "                                                                                                               'mean':'mean'})\n",
    "type(resample_aapl)\n",
    "#fig= plt.figure(figsize=(20,10))\n",
    "#ax1=plt.subplot2grid((1,1),(0,0))\n",
    "#stocks['AAPL_OPEN'].plot(ax=ax1,label='Daily Price')\n",
    "#resample_aapl['mean'].plot(ax=ax1,label = 'Monthly Median')\n",
    "#type(resample_aapl)\n",
    "#resample_aapl['mean']\n",
    "resample_aapl"
   ]
  },
  {
   "cell_type": "markdown",
   "metadata": {},
   "source": [
    "Note that upsampling will create a number of 'holes' in the resultant dataframe or series.  By default, Pandas will fill those holes with NaN's. We can use previously discussed methods such as *ffill()* and *bfill()* to forward fill or back fill the values. "
   ]
  },
  {
   "cell_type": "markdown",
   "metadata": {},
   "source": [
    "### Period Logic\n",
    "Periods represent timespans vs. points in time. \n",
    "Periods allow for ease of use of calendar arithmetic (i.e. moving aroud the 'time axis')\n",
    "Periods enable special domain logic (ex. fiscal years and quarters). \n",
    "Pandas allows us to create customized periods using the pd.Periods data type. \n",
    "For example, with fiscal years that end in June and start in July. \n",
    "This is difficult and cumbersome to express with timestamps. \n",
    "Let's see an example of Periods. \n"
   ]
  },
  {
   "cell_type": "code",
   "execution_count": 2,
   "metadata": {},
   "outputs": [
    {
     "data": {
      "text/plain": [
       "Period('2016', 'A-JUN')"
      ]
     },
     "execution_count": 2,
     "metadata": {},
     "output_type": "execute_result"
    }
   ],
   "source": [
    "import pandas as pd\n",
    "# Define a period annual ending in June\n",
    "p = pd.Period('2016','A-Jun')\n",
    "p"
   ]
  },
  {
   "cell_type": "markdown",
   "metadata": {},
   "source": [
    "We can convert this period to a monthly frequency using the *asfreq()* method starting in July 2015. "
   ]
  },
  {
   "cell_type": "code",
   "execution_count": 4,
   "metadata": {},
   "outputs": [
    {
     "data": {
      "text/plain": [
       "Period('2015-07', 'M')"
      ]
     },
     "execution_count": 4,
     "metadata": {},
     "output_type": "execute_result"
    }
   ],
   "source": [
    "p.asfreq('M','start')"
   ]
  },
  {
   "cell_type": "markdown",
   "metadata": {},
   "source": [
    "Note that we can also do arithmetic logic with periods. For example the following gives us the third to last business day in the month of August. "
   ]
  },
  {
   "cell_type": "code",
   "execution_count": 5,
   "metadata": {},
   "outputs": [
    {
     "data": {
      "text/plain": [
       "Period('2015-08-27', 'B')"
      ]
     },
     "execution_count": 5,
     "metadata": {},
     "output_type": "execute_result"
    }
   ],
   "source": [
    "(p.asfreq('M','start') + 1).asfreq('B','end') -2"
   ]
  },
  {
   "cell_type": "markdown",
   "metadata": {},
   "source": [
    "## Time Zone Handling\n",
    "    - Localization\n",
    "    - Conversion\n",
    "    - Data Alignment"
   ]
  },
  {
   "cell_type": "markdown",
   "metadata": {},
   "source": [
    "Let;s create a 'naive' timestamp, i.e. no timezone allocated to it. "
   ]
  },
  {
   "cell_type": "code",
   "execution_count": 12,
   "metadata": {},
   "outputs": [
    {
     "data": {
      "text/plain": [
       "Timestamp('2019-03-26 21:17:37.784746')"
      ]
     },
     "execution_count": 12,
     "metadata": {},
     "output_type": "execute_result"
    }
   ],
   "source": [
    "stamp = pd.Timestamp('now')\n",
    "stamp"
   ]
  },
  {
   "cell_type": "markdown",
   "metadata": {},
   "source": [
    "Note that in this particular timestamp, no timezone is associated with it."
   ]
  },
  {
   "cell_type": "code",
   "execution_count": 14,
   "metadata": {},
   "outputs": [],
   "source": [
    "stamp.tz"
   ]
  },
  {
   "cell_type": "markdown",
   "metadata": {},
   "source": [
    "Let's re-define stamp and set the timezone for Greenwich Mean Time."
   ]
  },
  {
   "cell_type": "code",
   "execution_count": 20,
   "metadata": {},
   "outputs": [
    {
     "data": {
      "text/plain": [
       "Timestamp('2019-03-26 21:23:15.446831+0000', tz='GMT')"
      ]
     },
     "execution_count": 20,
     "metadata": {},
     "output_type": "execute_result"
    }
   ],
   "source": [
    "stamp = pd.Timestamp('now', tz='GMT')\n",
    "stamp"
   ]
  },
  {
   "cell_type": "markdown",
   "metadata": {},
   "source": [
    "Let's now create a second, naive timestamp, without initializing a timezone. "
   ]
  },
  {
   "cell_type": "code",
   "execution_count": 28,
   "metadata": {},
   "outputs": [
    {
     "data": {
      "text/plain": [
       "Timestamp('2017-01-01 12:00:00')"
      ]
     },
     "execution_count": 28,
     "metadata": {},
     "output_type": "execute_result"
    }
   ],
   "source": [
    "stamp2 = pd.Timestamp('2017-01-01 12:00')\n",
    "stamp2"
   ]
  },
  {
   "cell_type": "markdown",
   "metadata": {},
   "source": [
    "We manually set the timezone for the timestamp by using the *tz_localize()* method like so:"
   ]
  },
  {
   "cell_type": "code",
   "execution_count": 36,
   "metadata": {},
   "outputs": [],
   "source": [
    "stamp2 = stamp2.tz_localize('US/Pacific')"
   ]
  },
  {
   "cell_type": "markdown",
   "metadata": {},
   "source": [
    "We can also convert timestamp timezones using the *tz_convert()* method. "
   ]
  },
  {
   "cell_type": "code",
   "execution_count": 40,
   "metadata": {},
   "outputs": [
    {
     "data": {
      "text/plain": [
       "Timestamp('2017-01-02 04:00:00+0800', tz='Asia/Shanghai')"
      ]
     },
     "execution_count": 40,
     "metadata": {},
     "output_type": "execute_result"
    }
   ],
   "source": [
    "stamp3 = stamp2.tz_convert('Asia/Shanghai')\n",
    "stamp3"
   ]
  },
  {
   "cell_type": "markdown",
   "metadata": {},
   "source": [
    "Note, however, that the value of the timestamp doesn't change, even with a timezone conversion"
   ]
  },
  {
   "cell_type": "code",
   "execution_count": 41,
   "metadata": {},
   "outputs": [
    {
     "data": {
      "text/plain": [
       "1483300800000000000"
      ]
     },
     "execution_count": 41,
     "metadata": {},
     "output_type": "execute_result"
    }
   ],
   "source": [
    "stamp2.value"
   ]
  },
  {
   "cell_type": "code",
   "execution_count": 42,
   "metadata": {},
   "outputs": [
    {
     "data": {
      "text/plain": [
       "1483300800000000000"
      ]
     },
     "execution_count": 42,
     "metadata": {},
     "output_type": "execute_result"
    }
   ],
   "source": [
    "stamp3.value"
   ]
  },
  {
   "cell_type": "markdown",
   "metadata": {},
   "source": [
    "Additionally, the equality boolean operator returns True when comparing the two timestamps. "
   ]
  },
  {
   "cell_type": "code",
   "execution_count": 43,
   "metadata": {},
   "outputs": [
    {
     "data": {
      "text/plain": [
       "True"
      ]
     },
     "execution_count": 43,
     "metadata": {},
     "output_type": "execute_result"
    }
   ],
   "source": [
    "stamp2 == stamp3"
   ]
  },
  {
   "cell_type": "markdown",
   "metadata": {},
   "source": [
    "## Reshaping in Pandas with Pivot, pivot-table, stack and unstack"
   ]
  },
  {
   "cell_type": "markdown",
   "metadata": {},
   "source": [
    "In Pandas data reshaping means the transformation of the structure of a table or vector (i.e. DataFrame or Series) to make it suitable for further analysis. Some of Pandas reshaping capabilities do not readily exist in other environments (e.g. SQL or bare bone R) and can be tricky for a beginner."
   ]
  },
  {
   "cell_type": "markdown",
   "metadata": {},
   "source": [
    "### Pivot\n",
    "The pivot function is used to create a new derived table out of a given one. Pivot takes 3 arguments with the following names: index, columns, and values. \n",
    "As a value for each of these parameters you need to specify a column name in the original table. Then the pivot function will create a new table, whose row and column indices are the unique values of the respective parameters. The cell values of the new table are taken from column given as the values parameter."
   ]
  },
  {
   "cell_type": "markdown",
   "metadata": {},
   "source": [
    "Let's take a look at an example. "
   ]
  },
  {
   "cell_type": "code",
   "execution_count": 3,
   "metadata": {},
   "outputs": [
    {
     "data": {
      "text/html": [
       "<div>\n",
       "<style scoped>\n",
       "    .dataframe tbody tr th:only-of-type {\n",
       "        vertical-align: middle;\n",
       "    }\n",
       "\n",
       "    .dataframe tbody tr th {\n",
       "        vertical-align: top;\n",
       "    }\n",
       "\n",
       "    .dataframe thead th {\n",
       "        text-align: right;\n",
       "    }\n",
       "</style>\n",
       "<table border=\"1\" class=\"dataframe\">\n",
       "  <thead>\n",
       "    <tr style=\"text-align: right;\">\n",
       "      <th></th>\n",
       "      <th>Item</th>\n",
       "      <th>CType</th>\n",
       "      <th>USD</th>\n",
       "      <th>EU</th>\n",
       "    </tr>\n",
       "  </thead>\n",
       "  <tbody>\n",
       "    <tr>\n",
       "      <th>0</th>\n",
       "      <td>Item0</td>\n",
       "      <td>Gold</td>\n",
       "      <td>1$</td>\n",
       "      <td>1€</td>\n",
       "    </tr>\n",
       "    <tr>\n",
       "      <th>1</th>\n",
       "      <td>Item0</td>\n",
       "      <td>Bronze</td>\n",
       "      <td>2$</td>\n",
       "      <td>2€</td>\n",
       "    </tr>\n",
       "    <tr>\n",
       "      <th>2</th>\n",
       "      <td>Item1</td>\n",
       "      <td>Gold</td>\n",
       "      <td>3$</td>\n",
       "      <td>3€</td>\n",
       "    </tr>\n",
       "    <tr>\n",
       "      <th>3</th>\n",
       "      <td>Item1</td>\n",
       "      <td>Silver</td>\n",
       "      <td>4$</td>\n",
       "      <td>4€</td>\n",
       "    </tr>\n",
       "  </tbody>\n",
       "</table>\n",
       "</div>"
      ],
      "text/plain": [
       "    Item   CType USD  EU\n",
       "0  Item0    Gold  1$  1€\n",
       "1  Item0  Bronze  2$  2€\n",
       "2  Item1    Gold  3$  3€\n",
       "3  Item1  Silver  4$  4€"
      ]
     },
     "execution_count": 3,
     "metadata": {},
     "output_type": "execute_result"
    }
   ],
   "source": [
    "from collections import OrderedDict\n",
    "from pandas import DataFrame\n",
    "import pandas as pd\n",
    "import numpy as np\n",
    "\n",
    "table = OrderedDict((\n",
    "    (\"Item\", ['Item0', 'Item0', 'Item1', 'Item1']),\n",
    "    ('CType',['Gold', 'Bronze', 'Gold', 'Silver']),\n",
    "    ('USD',  ['1$', '2$', '3$', '4$']),\n",
    "    ('EU',   ['1€', '2€', '3€', '4€'])\n",
    "))\n",
    "d = pd.DataFrame(table)\n",
    "d"
   ]
  },
  {
   "cell_type": "markdown",
   "metadata": {},
   "source": [
    "In such a table, it is not easy to see how the USD price varies over different customer types. We may like to reshape/pivot the table so that all USD prices for an item are on the row to compare more easily. With Pandas, we can do so with a single line:"
   ]
  },
  {
   "cell_type": "code",
   "execution_count": 5,
   "metadata": {
    "scrolled": true
   },
   "outputs": [
    {
     "data": {
      "text/html": [
       "<div>\n",
       "<style scoped>\n",
       "    .dataframe tbody tr th:only-of-type {\n",
       "        vertical-align: middle;\n",
       "    }\n",
       "\n",
       "    .dataframe tbody tr th {\n",
       "        vertical-align: top;\n",
       "    }\n",
       "\n",
       "    .dataframe thead th {\n",
       "        text-align: right;\n",
       "    }\n",
       "</style>\n",
       "<table border=\"1\" class=\"dataframe\">\n",
       "  <thead>\n",
       "    <tr style=\"text-align: right;\">\n",
       "      <th>CType</th>\n",
       "      <th>Bronze</th>\n",
       "      <th>Gold</th>\n",
       "      <th>Silver</th>\n",
       "    </tr>\n",
       "    <tr>\n",
       "      <th>Item</th>\n",
       "      <th></th>\n",
       "      <th></th>\n",
       "      <th></th>\n",
       "    </tr>\n",
       "  </thead>\n",
       "  <tbody>\n",
       "    <tr>\n",
       "      <th>Item0</th>\n",
       "      <td>2$</td>\n",
       "      <td>1$</td>\n",
       "      <td>None</td>\n",
       "    </tr>\n",
       "    <tr>\n",
       "      <th>Item1</th>\n",
       "      <td>None</td>\n",
       "      <td>3$</td>\n",
       "      <td>4$</td>\n",
       "    </tr>\n",
       "  </tbody>\n",
       "</table>\n",
       "</div>"
      ],
      "text/plain": [
       "CType Bronze Gold Silver\n",
       "Item                    \n",
       "Item0     2$   1$   None\n",
       "Item1   None   3$     4$"
      ]
     },
     "execution_count": 5,
     "metadata": {},
     "output_type": "execute_result"
    }
   ],
   "source": [
    "p = d.pivot(index='Item', columns='CType', values='USD')\n",
    "p"
   ]
  },
  {
   "cell_type": "markdown",
   "metadata": {},
   "source": [
    "This invocation creates a new table/DataFrame whose columns are the unique values in d.CType and whose rows are indexed with the unique values of d.Item."
   ]
  },
  {
   "cell_type": "markdown",
   "metadata": {},
   "source": [
    "As an example the following lines perform equivalent queries on the original and pivoted tables.\n",
    "Note that the query on the pivot table is substantially reduced in complexity. "
   ]
  },
  {
   "cell_type": "code",
   "execution_count": 6,
   "metadata": {},
   "outputs": [
    {
     "name": "stdout",
     "output_type": "stream",
     "text": [
      "['1$']\n",
      "['1$']\n"
     ]
    }
   ],
   "source": [
    "# Original DataFrame: Access the USD cost of Item0 for Gold customers\n",
    "print (d[(d.Item=='Item0') & (d.CType=='Gold')].USD.values)\n",
    "\n",
    "# Pivoted DataFrame: Access the USD cost of Item0 for Gold customers\n",
    "print (p[p.index=='Item0'].Gold.values)"
   ]
  },
  {
   "cell_type": "markdown",
   "metadata": {},
   "source": [
    "### Pivoting on multiple columns\n",
    "Now what if we want to extend the previous example to have the EU cost for each item on its row as well? This is actually easy - we just have to omit the values parameter as follows:"
   ]
  },
  {
   "cell_type": "code",
   "execution_count": 8,
   "metadata": {},
   "outputs": [
    {
     "data": {
      "text/html": [
       "<div>\n",
       "<style scoped>\n",
       "    .dataframe tbody tr th:only-of-type {\n",
       "        vertical-align: middle;\n",
       "    }\n",
       "\n",
       "    .dataframe tbody tr th {\n",
       "        vertical-align: top;\n",
       "    }\n",
       "\n",
       "    .dataframe thead tr th {\n",
       "        text-align: left;\n",
       "    }\n",
       "\n",
       "    .dataframe thead tr:last-of-type th {\n",
       "        text-align: right;\n",
       "    }\n",
       "</style>\n",
       "<table border=\"1\" class=\"dataframe\">\n",
       "  <thead>\n",
       "    <tr>\n",
       "      <th></th>\n",
       "      <th colspan=\"3\" halign=\"left\">USD</th>\n",
       "      <th colspan=\"3\" halign=\"left\">EU</th>\n",
       "    </tr>\n",
       "    <tr>\n",
       "      <th>CType</th>\n",
       "      <th>Bronze</th>\n",
       "      <th>Gold</th>\n",
       "      <th>Silver</th>\n",
       "      <th>Bronze</th>\n",
       "      <th>Gold</th>\n",
       "      <th>Silver</th>\n",
       "    </tr>\n",
       "    <tr>\n",
       "      <th>Item</th>\n",
       "      <th></th>\n",
       "      <th></th>\n",
       "      <th></th>\n",
       "      <th></th>\n",
       "      <th></th>\n",
       "      <th></th>\n",
       "    </tr>\n",
       "  </thead>\n",
       "  <tbody>\n",
       "    <tr>\n",
       "      <th>Item0</th>\n",
       "      <td>2$</td>\n",
       "      <td>1$</td>\n",
       "      <td>None</td>\n",
       "      <td>2€</td>\n",
       "      <td>1€</td>\n",
       "      <td>None</td>\n",
       "    </tr>\n",
       "    <tr>\n",
       "      <th>Item1</th>\n",
       "      <td>None</td>\n",
       "      <td>3$</td>\n",
       "      <td>4$</td>\n",
       "      <td>None</td>\n",
       "      <td>3€</td>\n",
       "      <td>4€</td>\n",
       "    </tr>\n",
       "  </tbody>\n",
       "</table>\n",
       "</div>"
      ],
      "text/plain": [
       "         USD                 EU            \n",
       "CType Bronze Gold Silver Bronze Gold Silver\n",
       "Item                                       \n",
       "Item0     2$   1$   None     2€   1€   None\n",
       "Item1   None   3$     4$   None   3€     4€"
      ]
     },
     "execution_count": 8,
     "metadata": {},
     "output_type": "execute_result"
    }
   ],
   "source": [
    "p = d.pivot(index='Item', columns='CType')\n",
    "p"
   ]
  },
  {
   "cell_type": "markdown",
   "metadata": {},
   "source": [
    "We can use this hierarchical column index to filter the values of a single column from the original table. For example p.USD returns a pivoted DataFrame with the USD values only and it is equivalent to the pivoted DataFrame from the previous section."
   ]
  },
  {
   "cell_type": "code",
   "execution_count": 9,
   "metadata": {},
   "outputs": [
    {
     "data": {
      "text/html": [
       "<div>\n",
       "<style scoped>\n",
       "    .dataframe tbody tr th:only-of-type {\n",
       "        vertical-align: middle;\n",
       "    }\n",
       "\n",
       "    .dataframe tbody tr th {\n",
       "        vertical-align: top;\n",
       "    }\n",
       "\n",
       "    .dataframe thead th {\n",
       "        text-align: right;\n",
       "    }\n",
       "</style>\n",
       "<table border=\"1\" class=\"dataframe\">\n",
       "  <thead>\n",
       "    <tr style=\"text-align: right;\">\n",
       "      <th>CType</th>\n",
       "      <th>Bronze</th>\n",
       "      <th>Gold</th>\n",
       "      <th>Silver</th>\n",
       "    </tr>\n",
       "    <tr>\n",
       "      <th>Item</th>\n",
       "      <th></th>\n",
       "      <th></th>\n",
       "      <th></th>\n",
       "    </tr>\n",
       "  </thead>\n",
       "  <tbody>\n",
       "    <tr>\n",
       "      <th>Item0</th>\n",
       "      <td>2$</td>\n",
       "      <td>1$</td>\n",
       "      <td>None</td>\n",
       "    </tr>\n",
       "    <tr>\n",
       "      <th>Item1</th>\n",
       "      <td>None</td>\n",
       "      <td>3$</td>\n",
       "      <td>4$</td>\n",
       "    </tr>\n",
       "  </tbody>\n",
       "</table>\n",
       "</div>"
      ],
      "text/plain": [
       "CType Bronze Gold Silver\n",
       "Item                    \n",
       "Item0     2$   1$   None\n",
       "Item1   None   3$     4$"
      ]
     },
     "execution_count": 9,
     "metadata": {},
     "output_type": "execute_result"
    }
   ],
   "source": [
    "p.USD"
   ]
  },
  {
   "cell_type": "markdown",
   "metadata": {},
   "source": [
    "As a further example the following queries on the original and pivoted tables are equivalent:"
   ]
  },
  {
   "cell_type": "code",
   "execution_count": 10,
   "metadata": {},
   "outputs": [
    {
     "name": "stdout",
     "output_type": "stream",
     "text": [
      "['1$']\n",
      "['1$']\n"
     ]
    }
   ],
   "source": [
    "# Original DataFrame: Access the USD cost of Item0 for Gold customers\n",
    "print(d[(d.Item=='Item0') & (d.CType=='Gold')].USD.values)\n",
    "\n",
    "# Pivoted DataFrame: p.USD gives a \"sub-DataFrame\" with the USD values only\n",
    "print(p.USD[p.USD.index=='Item0'].Gold.values)\n"
   ]
  },
  {
   "cell_type": "markdown",
   "metadata": {},
   "source": [
    "### Common mistakes in pivoting. \n",
    "As we saw the pivot method takes at least 2 column names as parameters - the index and the columns named parameters. What will happen if we have multiple rows with the same values for these columns? How will the pivot method determine the value of the corresponding cell in the pivoted table? The following diagram depicts the problem:"
   ]
  },
  {
   "cell_type": "markdown",
   "metadata": {},
   "source": [
    "<img src = 'graphics/pivoting_simple_error.png'>"
   ]
  },
  {
   "cell_type": "markdown",
   "metadata": {},
   "source": [
    "In this example we have two rows with the same values (“Item0” and “Gold”) for the Item and CType columns. The pivot method can not know what should be the value of the corresponding value in the pivoted table. It will therefore throw a ValueError like so:"
   ]
  },
  {
   "cell_type": "code",
   "execution_count": 12,
   "metadata": {},
   "outputs": [
    {
     "ename": "ValueError",
     "evalue": "Index contains duplicate entries, cannot reshape",
     "output_type": "error",
     "traceback": [
      "\u001b[0;31m---------------------------------------------------------------------------\u001b[0m",
      "\u001b[0;31mValueError\u001b[0m                                Traceback (most recent call last)",
      "\u001b[0;32m<ipython-input-12-ece751f2464a>\u001b[0m in \u001b[0;36m<module>\u001b[0;34m()\u001b[0m\n\u001b[1;32m      6\u001b[0m ))\n\u001b[1;32m      7\u001b[0m \u001b[0md\u001b[0m \u001b[0;34m=\u001b[0m \u001b[0mDataFrame\u001b[0m\u001b[0;34m(\u001b[0m\u001b[0mtable\u001b[0m\u001b[0;34m)\u001b[0m\u001b[0;34m\u001b[0m\u001b[0;34m\u001b[0m\u001b[0m\n\u001b[0;32m----> 8\u001b[0;31m \u001b[0mp\u001b[0m \u001b[0;34m=\u001b[0m \u001b[0md\u001b[0m\u001b[0;34m.\u001b[0m\u001b[0mpivot\u001b[0m\u001b[0;34m(\u001b[0m\u001b[0mindex\u001b[0m\u001b[0;34m=\u001b[0m\u001b[0;34m'Item'\u001b[0m\u001b[0;34m,\u001b[0m \u001b[0mcolumns\u001b[0m\u001b[0;34m=\u001b[0m\u001b[0;34m'CType'\u001b[0m\u001b[0;34m,\u001b[0m \u001b[0mvalues\u001b[0m\u001b[0;34m=\u001b[0m\u001b[0;34m'USD'\u001b[0m\u001b[0;34m)\u001b[0m\u001b[0;34m\u001b[0m\u001b[0;34m\u001b[0m\u001b[0m\n\u001b[0m",
      "\u001b[0;32m/usr/local/lib/python3.6/dist-packages/pandas/core/frame.py\u001b[0m in \u001b[0;36mpivot\u001b[0;34m(self, index, columns, values)\u001b[0m\n\u001b[1;32m   4380\u001b[0m         \"\"\"\n\u001b[1;32m   4381\u001b[0m         \u001b[0;32mfrom\u001b[0m \u001b[0mpandas\u001b[0m\u001b[0;34m.\u001b[0m\u001b[0mcore\u001b[0m\u001b[0;34m.\u001b[0m\u001b[0mreshape\u001b[0m\u001b[0;34m.\u001b[0m\u001b[0mreshape\u001b[0m \u001b[0;32mimport\u001b[0m \u001b[0mpivot\u001b[0m\u001b[0;34m\u001b[0m\u001b[0;34m\u001b[0m\u001b[0m\n\u001b[0;32m-> 4382\u001b[0;31m         \u001b[0;32mreturn\u001b[0m \u001b[0mpivot\u001b[0m\u001b[0;34m(\u001b[0m\u001b[0mself\u001b[0m\u001b[0;34m,\u001b[0m \u001b[0mindex\u001b[0m\u001b[0;34m=\u001b[0m\u001b[0mindex\u001b[0m\u001b[0;34m,\u001b[0m \u001b[0mcolumns\u001b[0m\u001b[0;34m=\u001b[0m\u001b[0mcolumns\u001b[0m\u001b[0;34m,\u001b[0m \u001b[0mvalues\u001b[0m\u001b[0;34m=\u001b[0m\u001b[0mvalues\u001b[0m\u001b[0;34m)\u001b[0m\u001b[0;34m\u001b[0m\u001b[0;34m\u001b[0m\u001b[0m\n\u001b[0m\u001b[1;32m   4383\u001b[0m \u001b[0;34m\u001b[0m\u001b[0m\n\u001b[1;32m   4384\u001b[0m     _shared_docs['pivot_table'] = \"\"\"\n",
      "\u001b[0;32m/usr/local/lib/python3.6/dist-packages/pandas/core/reshape/reshape.py\u001b[0m in \u001b[0;36mpivot\u001b[0;34m(self, index, columns, values)\u001b[0m\n\u001b[1;32m    387\u001b[0m         indexed = Series(self[values].values,\n\u001b[1;32m    388\u001b[0m                          index=MultiIndex.from_arrays([index, self[columns]]))\n\u001b[0;32m--> 389\u001b[0;31m         \u001b[0;32mreturn\u001b[0m \u001b[0mindexed\u001b[0m\u001b[0;34m.\u001b[0m\u001b[0munstack\u001b[0m\u001b[0;34m(\u001b[0m\u001b[0mcolumns\u001b[0m\u001b[0;34m)\u001b[0m\u001b[0;34m\u001b[0m\u001b[0;34m\u001b[0m\u001b[0m\n\u001b[0m\u001b[1;32m    390\u001b[0m \u001b[0;34m\u001b[0m\u001b[0m\n\u001b[1;32m    391\u001b[0m \u001b[0;34m\u001b[0m\u001b[0m\n",
      "\u001b[0;32m/usr/local/lib/python3.6/dist-packages/pandas/core/series.py\u001b[0m in \u001b[0;36munstack\u001b[0;34m(self, level, fill_value)\u001b[0m\n\u001b[1;32m   2222\u001b[0m         \"\"\"\n\u001b[1;32m   2223\u001b[0m         \u001b[0;32mfrom\u001b[0m \u001b[0mpandas\u001b[0m\u001b[0;34m.\u001b[0m\u001b[0mcore\u001b[0m\u001b[0;34m.\u001b[0m\u001b[0mreshape\u001b[0m\u001b[0;34m.\u001b[0m\u001b[0mreshape\u001b[0m \u001b[0;32mimport\u001b[0m \u001b[0munstack\u001b[0m\u001b[0;34m\u001b[0m\u001b[0;34m\u001b[0m\u001b[0m\n\u001b[0;32m-> 2224\u001b[0;31m         \u001b[0;32mreturn\u001b[0m \u001b[0munstack\u001b[0m\u001b[0;34m(\u001b[0m\u001b[0mself\u001b[0m\u001b[0;34m,\u001b[0m \u001b[0mlevel\u001b[0m\u001b[0;34m,\u001b[0m \u001b[0mfill_value\u001b[0m\u001b[0;34m)\u001b[0m\u001b[0;34m\u001b[0m\u001b[0;34m\u001b[0m\u001b[0m\n\u001b[0m\u001b[1;32m   2225\u001b[0m \u001b[0;34m\u001b[0m\u001b[0m\n\u001b[1;32m   2226\u001b[0m     \u001b[0;31m# ----------------------------------------------------------------------\u001b[0m\u001b[0;34m\u001b[0m\u001b[0;34m\u001b[0m\u001b[0;34m\u001b[0m\u001b[0m\n",
      "\u001b[0;32m/usr/local/lib/python3.6/dist-packages/pandas/core/reshape/reshape.py\u001b[0m in \u001b[0;36munstack\u001b[0;34m(obj, level, fill_value)\u001b[0m\n\u001b[1;32m    472\u001b[0m     \u001b[0;32melse\u001b[0m\u001b[0;34m:\u001b[0m\u001b[0;34m\u001b[0m\u001b[0;34m\u001b[0m\u001b[0m\n\u001b[1;32m    473\u001b[0m         unstacker = _Unstacker(obj.values, obj.index, level=level,\n\u001b[0;32m--> 474\u001b[0;31m                                fill_value=fill_value)\n\u001b[0m\u001b[1;32m    475\u001b[0m         \u001b[0;32mreturn\u001b[0m \u001b[0munstacker\u001b[0m\u001b[0;34m.\u001b[0m\u001b[0mget_result\u001b[0m\u001b[0;34m(\u001b[0m\u001b[0;34m)\u001b[0m\u001b[0;34m\u001b[0m\u001b[0;34m\u001b[0m\u001b[0m\n\u001b[1;32m    476\u001b[0m \u001b[0;34m\u001b[0m\u001b[0m\n",
      "\u001b[0;32m/usr/local/lib/python3.6/dist-packages/pandas/core/reshape/reshape.py\u001b[0m in \u001b[0;36m__init__\u001b[0;34m(self, values, index, level, value_columns, fill_value)\u001b[0m\n\u001b[1;32m    114\u001b[0m \u001b[0;34m\u001b[0m\u001b[0m\n\u001b[1;32m    115\u001b[0m         \u001b[0mself\u001b[0m\u001b[0;34m.\u001b[0m\u001b[0m_make_sorted_values_labels\u001b[0m\u001b[0;34m(\u001b[0m\u001b[0;34m)\u001b[0m\u001b[0;34m\u001b[0m\u001b[0;34m\u001b[0m\u001b[0m\n\u001b[0;32m--> 116\u001b[0;31m         \u001b[0mself\u001b[0m\u001b[0;34m.\u001b[0m\u001b[0m_make_selectors\u001b[0m\u001b[0;34m(\u001b[0m\u001b[0;34m)\u001b[0m\u001b[0;34m\u001b[0m\u001b[0;34m\u001b[0m\u001b[0m\n\u001b[0m\u001b[1;32m    117\u001b[0m \u001b[0;34m\u001b[0m\u001b[0m\n\u001b[1;32m    118\u001b[0m     \u001b[0;32mdef\u001b[0m \u001b[0m_make_sorted_values_labels\u001b[0m\u001b[0;34m(\u001b[0m\u001b[0mself\u001b[0m\u001b[0;34m)\u001b[0m\u001b[0;34m:\u001b[0m\u001b[0;34m\u001b[0m\u001b[0;34m\u001b[0m\u001b[0m\n",
      "\u001b[0;32m/usr/local/lib/python3.6/dist-packages/pandas/core/reshape/reshape.py\u001b[0m in \u001b[0;36m_make_selectors\u001b[0;34m(self)\u001b[0m\n\u001b[1;32m    152\u001b[0m \u001b[0;34m\u001b[0m\u001b[0m\n\u001b[1;32m    153\u001b[0m         \u001b[0;32mif\u001b[0m \u001b[0mmask\u001b[0m\u001b[0;34m.\u001b[0m\u001b[0msum\u001b[0m\u001b[0;34m(\u001b[0m\u001b[0;34m)\u001b[0m \u001b[0;34m<\u001b[0m \u001b[0mlen\u001b[0m\u001b[0;34m(\u001b[0m\u001b[0mself\u001b[0m\u001b[0;34m.\u001b[0m\u001b[0mindex\u001b[0m\u001b[0;34m)\u001b[0m\u001b[0;34m:\u001b[0m\u001b[0;34m\u001b[0m\u001b[0;34m\u001b[0m\u001b[0m\n\u001b[0;32m--> 154\u001b[0;31m             raise ValueError('Index contains duplicate entries, '\n\u001b[0m\u001b[1;32m    155\u001b[0m                              'cannot reshape')\n\u001b[1;32m    156\u001b[0m \u001b[0;34m\u001b[0m\u001b[0m\n",
      "\u001b[0;31mValueError\u001b[0m: Index contains duplicate entries, cannot reshape"
     ]
    }
   ],
   "source": [
    "table = OrderedDict((\n",
    "    (\"Item\", ['Item0', 'Item0', 'Item0', 'Item1']),\n",
    "    ('CType',['Gold', 'Bronze', 'Gold', 'Silver']),\n",
    "    ('USD',  ['1',  '2',  '3',  '4']),\n",
    "    ('EU',   ['1€', '2€', '3€', '4€'])\n",
    "))\n",
    "d = DataFrame(table)\n",
    "p = d.pivot(index='Item', columns='CType', values='USD')"
   ]
  },
  {
   "cell_type": "markdown",
   "metadata": {},
   "source": [
    "Hence, before calling pivot we need to ensure that our data does not have rows with duplicate values for the specified columns. If we can’t ensure this we may have to use the pivot_table method instead."
   ]
  },
  {
   "cell_type": "markdown",
   "metadata": {},
   "source": [
    "### Pivot Table\n",
    "The pivot_table method comes to solve this problem. It works like pivot, but it aggregates the values from rows with duplicate entries for the specified columns. In other words, in the previous example we could have used the mean, the median or another aggregation function to compute a single value from the conflicting entries. This is depicted in the example below."
   ]
  },
  {
   "cell_type": "code",
   "execution_count": 13,
   "metadata": {},
   "outputs": [
    {
     "data": {
      "text/html": [
       "<div>\n",
       "<style scoped>\n",
       "    .dataframe tbody tr th:only-of-type {\n",
       "        vertical-align: middle;\n",
       "    }\n",
       "\n",
       "    .dataframe tbody tr th {\n",
       "        vertical-align: top;\n",
       "    }\n",
       "\n",
       "    .dataframe thead th {\n",
       "        text-align: right;\n",
       "    }\n",
       "</style>\n",
       "<table border=\"1\" class=\"dataframe\">\n",
       "  <thead>\n",
       "    <tr style=\"text-align: right;\">\n",
       "      <th>CType</th>\n",
       "      <th>Bronze</th>\n",
       "      <th>Gold</th>\n",
       "      <th>Silver</th>\n",
       "    </tr>\n",
       "    <tr>\n",
       "      <th>Item</th>\n",
       "      <th></th>\n",
       "      <th></th>\n",
       "      <th></th>\n",
       "    </tr>\n",
       "  </thead>\n",
       "  <tbody>\n",
       "    <tr>\n",
       "      <th>Item0</th>\n",
       "      <td>2.0</td>\n",
       "      <td>1.0</td>\n",
       "      <td>NaN</td>\n",
       "    </tr>\n",
       "    <tr>\n",
       "      <th>Item1</th>\n",
       "      <td>NaN</td>\n",
       "      <td>NaN</td>\n",
       "      <td>4.0</td>\n",
       "    </tr>\n",
       "  </tbody>\n",
       "</table>\n",
       "</div>"
      ],
      "text/plain": [
       "CType  Bronze  Gold  Silver\n",
       "Item                       \n",
       "Item0     2.0   1.0     NaN\n",
       "Item1     NaN   NaN     4.0"
      ]
     },
     "execution_count": 13,
     "metadata": {},
     "output_type": "execute_result"
    }
   ],
   "source": [
    "table = OrderedDict((\n",
    "    (\"Item\", ['Item0', 'Item0', 'Item0', 'Item1']),\n",
    "    ('CType',['Gold', 'Bronze', 'Gold', 'Silver']),\n",
    "    ('USD',  [1, 2, 3, 4]),\n",
    "    ('EU',   [1.1, 2.2, 3.3, 4.4])\n",
    "))\n",
    "d = DataFrame(table)\n",
    "p = d.pivot_table(index='Item', columns='CType', values='USD', aggfunc=np.min)\n",
    "p"
   ]
  },
  {
   "cell_type": "markdown",
   "metadata": {},
   "source": [
    "### Stacking and Unstacking\n",
    "In fact pivoting a table is a special case of stacking a DataFrame. \n",
    "Let us assume we have a DataFrame with MultiIndices on the rows and columns. \n",
    "Stacking a DataFrame means moving (also rotating or pivoting) the innermost column index to become the innermost row index. \n",
    "The inverse operation is called unstacking. It means moving the innermost row index to become the innermost column index. \n"
   ]
  },
  {
   "cell_type": "markdown",
   "metadata": {},
   "source": [
    "In the following example, we look at a DataFrame with 2-level hierarchical indices on both axes. Stacking takes the most-inner column index (i.e. c00, c01, c10), makes it the most inner row index and reshuffles the cell values accordingly. Inversely, unstacking moves the inner row indices (i.e. r00, r01) to the columns.\n",
    "\n",
    "Typically, stacking makes the DataFrame taller, as it is “stacking” data in fewer columns and more rows. Similarly, unstacking usually makes it shorter and wider or broader. "
   ]
  },
  {
   "cell_type": "markdown",
   "metadata": {},
   "source": [
    "<img src = \"graphics/stack.png\"/>"
   ]
  },
  {
   "cell_type": "markdown",
   "metadata": {},
   "source": [
    "The following reproduces the example:"
   ]
  },
  {
   "cell_type": "code",
   "execution_count": 3,
   "metadata": {},
   "outputs": [
    {
     "data": {
      "text/html": [
       "<div>\n",
       "<style scoped>\n",
       "    .dataframe tbody tr th:only-of-type {\n",
       "        vertical-align: middle;\n",
       "    }\n",
       "\n",
       "    .dataframe tbody tr th {\n",
       "        vertical-align: top;\n",
       "    }\n",
       "\n",
       "    .dataframe thead tr th {\n",
       "        text-align: left;\n",
       "    }\n",
       "</style>\n",
       "<table border=\"1\" class=\"dataframe\">\n",
       "  <thead>\n",
       "    <tr>\n",
       "      <th></th>\n",
       "      <th></th>\n",
       "      <th colspan=\"2\" halign=\"left\">c0</th>\n",
       "      <th>c1</th>\n",
       "    </tr>\n",
       "    <tr>\n",
       "      <th></th>\n",
       "      <th></th>\n",
       "      <th>c-00</th>\n",
       "      <th>c-01</th>\n",
       "      <th>c-10</th>\n",
       "    </tr>\n",
       "  </thead>\n",
       "  <tbody>\n",
       "    <tr>\n",
       "      <th rowspan=\"2\" valign=\"top\">r0</th>\n",
       "      <th>r-00</th>\n",
       "      <td>(0, 0)</td>\n",
       "      <td>(0, 1)</td>\n",
       "      <td>(0, 2)</td>\n",
       "    </tr>\n",
       "    <tr>\n",
       "      <th>r-01</th>\n",
       "      <td>(1, 0)</td>\n",
       "      <td>(1, 1)</td>\n",
       "      <td>(1, 2)</td>\n",
       "    </tr>\n",
       "  </tbody>\n",
       "</table>\n",
       "</div>"
      ],
      "text/plain": [
       "             c0              c1\n",
       "           c-00    c-01    c-10\n",
       "r0 r-00  (0, 0)  (0, 1)  (0, 2)\n",
       "   r-01  (1, 0)  (1, 1)  (1, 2)"
      ]
     },
     "execution_count": 3,
     "metadata": {},
     "output_type": "execute_result"
    }
   ],
   "source": [
    "import pandas as pd\n",
    "import numpy as np\n",
    "# Row Multi-Index\n",
    "row_idx_arr = list(zip(['r0', 'r0'], ['r-00', 'r-01']))\n",
    "row_idx = pd.MultiIndex.from_tuples(row_idx_arr)\n",
    "\n",
    "# Column Multi-Index\n",
    "col_idx_arr = list(zip(['c0', 'c0', 'c1'], ['c-00', 'c-01', 'c-10']))\n",
    "col_idx = pd.MultiIndex.from_tuples(col_idx_arr)\n",
    "\n",
    "# Create the DataFrame\n",
    "d = pd.DataFrame(np.arange(6).reshape(2,3), index=row_idx, columns=col_idx)\n",
    "d = d.applymap(lambda x: (x // 3, x % 3))\n",
    "\n",
    "# Stack/Unstack\n",
    "s = d.stack()\n",
    "u = d.unstack()\n",
    "d"
   ]
  },
  {
   "cell_type": "code",
   "execution_count": 16,
   "metadata": {},
   "outputs": [
    {
     "data": {
      "text/html": [
       "<div>\n",
       "<style scoped>\n",
       "    .dataframe tbody tr th:only-of-type {\n",
       "        vertical-align: middle;\n",
       "    }\n",
       "\n",
       "    .dataframe tbody tr th {\n",
       "        vertical-align: top;\n",
       "    }\n",
       "\n",
       "    .dataframe thead th {\n",
       "        text-align: right;\n",
       "    }\n",
       "</style>\n",
       "<table border=\"1\" class=\"dataframe\">\n",
       "  <thead>\n",
       "    <tr style=\"text-align: right;\">\n",
       "      <th></th>\n",
       "      <th></th>\n",
       "      <th></th>\n",
       "      <th>c0</th>\n",
       "      <th>c1</th>\n",
       "    </tr>\n",
       "  </thead>\n",
       "  <tbody>\n",
       "    <tr>\n",
       "      <th rowspan=\"6\" valign=\"top\">r0</th>\n",
       "      <th rowspan=\"3\" valign=\"top\">r-00</th>\n",
       "      <th>c-00</th>\n",
       "      <td>(0, 0)</td>\n",
       "      <td>NaN</td>\n",
       "    </tr>\n",
       "    <tr>\n",
       "      <th>c-01</th>\n",
       "      <td>(0, 1)</td>\n",
       "      <td>NaN</td>\n",
       "    </tr>\n",
       "    <tr>\n",
       "      <th>c-10</th>\n",
       "      <td>NaN</td>\n",
       "      <td>(0, 2)</td>\n",
       "    </tr>\n",
       "    <tr>\n",
       "      <th rowspan=\"3\" valign=\"top\">r-01</th>\n",
       "      <th>c-00</th>\n",
       "      <td>(1, 0)</td>\n",
       "      <td>NaN</td>\n",
       "    </tr>\n",
       "    <tr>\n",
       "      <th>c-01</th>\n",
       "      <td>(1, 1)</td>\n",
       "      <td>NaN</td>\n",
       "    </tr>\n",
       "    <tr>\n",
       "      <th>c-10</th>\n",
       "      <td>NaN</td>\n",
       "      <td>(1, 2)</td>\n",
       "    </tr>\n",
       "  </tbody>\n",
       "</table>\n",
       "</div>"
      ],
      "text/plain": [
       "                  c0      c1\n",
       "r0 r-00 c-00  (0, 0)     NaN\n",
       "        c-01  (0, 1)     NaN\n",
       "        c-10     NaN  (0, 2)\n",
       "   r-01 c-00  (1, 0)     NaN\n",
       "        c-01  (1, 1)     NaN\n",
       "        c-10     NaN  (1, 2)"
      ]
     },
     "execution_count": 16,
     "metadata": {},
     "output_type": "execute_result"
    }
   ],
   "source": [
    "s"
   ]
  },
  {
   "cell_type": "code",
   "execution_count": 17,
   "metadata": {},
   "outputs": [
    {
     "data": {
      "text/html": [
       "<div>\n",
       "<style scoped>\n",
       "    .dataframe tbody tr th:only-of-type {\n",
       "        vertical-align: middle;\n",
       "    }\n",
       "\n",
       "    .dataframe tbody tr th {\n",
       "        vertical-align: top;\n",
       "    }\n",
       "\n",
       "    .dataframe thead tr th {\n",
       "        text-align: left;\n",
       "    }\n",
       "</style>\n",
       "<table border=\"1\" class=\"dataframe\">\n",
       "  <thead>\n",
       "    <tr>\n",
       "      <th></th>\n",
       "      <th colspan=\"4\" halign=\"left\">c0</th>\n",
       "      <th colspan=\"2\" halign=\"left\">c1</th>\n",
       "    </tr>\n",
       "    <tr>\n",
       "      <th></th>\n",
       "      <th colspan=\"2\" halign=\"left\">c-00</th>\n",
       "      <th colspan=\"2\" halign=\"left\">c-01</th>\n",
       "      <th colspan=\"2\" halign=\"left\">c-10</th>\n",
       "    </tr>\n",
       "    <tr>\n",
       "      <th></th>\n",
       "      <th>r-00</th>\n",
       "      <th>r-01</th>\n",
       "      <th>r-00</th>\n",
       "      <th>r-01</th>\n",
       "      <th>r-00</th>\n",
       "      <th>r-01</th>\n",
       "    </tr>\n",
       "  </thead>\n",
       "  <tbody>\n",
       "    <tr>\n",
       "      <th>r0</th>\n",
       "      <td>(0, 0)</td>\n",
       "      <td>(1, 0)</td>\n",
       "      <td>(0, 1)</td>\n",
       "      <td>(1, 1)</td>\n",
       "      <td>(0, 2)</td>\n",
       "      <td>(1, 2)</td>\n",
       "    </tr>\n",
       "  </tbody>\n",
       "</table>\n",
       "</div>"
      ],
      "text/plain": [
       "        c0                              c1        \n",
       "      c-00            c-01            c-10        \n",
       "      r-00    r-01    r-00    r-01    r-00    r-01\n",
       "r0  (0, 0)  (1, 0)  (0, 1)  (1, 1)  (0, 2)  (1, 2)"
      ]
     },
     "execution_count": 17,
     "metadata": {},
     "output_type": "execute_result"
    }
   ],
   "source": [
    "u"
   ]
  },
  {
   "cell_type": "code",
   "execution_count": 65,
   "metadata": {},
   "outputs": [
    {
     "name": "stdout",
     "output_type": "stream",
     "text": [
      "Aw, snap! We didn't get a username with your request.\n",
      "\n",
      "Don't have an account? https://plot.ly/api_signup\n",
      "\n",
      "Questions? accounts@plot.ly\n"
     ]
    },
    {
     "ename": "PlotlyError",
     "evalue": "Because you didn't supply a 'file_id' in the call, we're assuming you're trying to snag a figure from a url. You supplied the url, '', we expected it to start with 'https://plot.ly'.\nRun help on this function for more information.",
     "output_type": "error",
     "traceback": [
      "\u001b[0;31m---------------------------------------------------------------------------\u001b[0m",
      "\u001b[0;31mPlotlyError\u001b[0m                               Traceback (most recent call last)",
      "\u001b[0;32m<ipython-input-65-3bd2657ed4af>\u001b[0m in \u001b[0;36m<module>\u001b[0;34m()\u001b[0m\n\u001b[1;32m      8\u001b[0m \u001b[0mdata\u001b[0m \u001b[0;34m=\u001b[0m \u001b[0;34m[\u001b[0m\u001b[0mgo\u001b[0m\u001b[0;34m.\u001b[0m\u001b[0mScatter\u001b[0m\u001b[0;34m(\u001b[0m \u001b[0mx\u001b[0m\u001b[0;34m=\u001b[0m\u001b[0mdf\u001b[0m\u001b[0;34m[\u001b[0m\u001b[0;34m'Date'\u001b[0m\u001b[0;34m]\u001b[0m\u001b[0;34m,\u001b[0m \u001b[0my\u001b[0m\u001b[0;34m=\u001b[0m\u001b[0mdf\u001b[0m\u001b[0;34m[\u001b[0m\u001b[0;34m'AAPL.Close'\u001b[0m\u001b[0;34m]\u001b[0m \u001b[0;34m)\u001b[0m\u001b[0;34m]\u001b[0m\u001b[0;34m\u001b[0m\u001b[0;34m\u001b[0m\u001b[0m\n\u001b[1;32m      9\u001b[0m \u001b[0;34m\u001b[0m\u001b[0m\n\u001b[0;32m---> 10\u001b[0;31m \u001b[0mpy\u001b[0m\u001b[0;34m.\u001b[0m\u001b[0miplot\u001b[0m\u001b[0;34m(\u001b[0m\u001b[0mdata\u001b[0m\u001b[0;34m,\u001b[0m \u001b[0mfilename\u001b[0m\u001b[0;34m=\u001b[0m\u001b[0;34m'pandas-time-series'\u001b[0m\u001b[0;34m)\u001b[0m\u001b[0;34m\u001b[0m\u001b[0;34m\u001b[0m\u001b[0m\n\u001b[0m",
      "\u001b[0;32m/usr/local/lib/python3.6/dist-packages/plotly/plotly/plotly.py\u001b[0m in \u001b[0;36miplot\u001b[0;34m(figure_or_data, **plot_options)\u001b[0m\n\u001b[1;32m    186\u001b[0m         \u001b[0membed_options\u001b[0m\u001b[0;34m[\u001b[0m\u001b[0;34m'height'\u001b[0m\u001b[0;34m]\u001b[0m \u001b[0;34m=\u001b[0m \u001b[0mstr\u001b[0m\u001b[0;34m(\u001b[0m\u001b[0membed_options\u001b[0m\u001b[0;34m[\u001b[0m\u001b[0;34m'height'\u001b[0m\u001b[0;34m]\u001b[0m\u001b[0;34m)\u001b[0m \u001b[0;34m+\u001b[0m \u001b[0;34m'px'\u001b[0m\u001b[0;34m\u001b[0m\u001b[0;34m\u001b[0m\u001b[0m\n\u001b[1;32m    187\u001b[0m \u001b[0;34m\u001b[0m\u001b[0m\n\u001b[0;32m--> 188\u001b[0;31m     \u001b[0;32mreturn\u001b[0m \u001b[0mtools\u001b[0m\u001b[0;34m.\u001b[0m\u001b[0membed\u001b[0m\u001b[0;34m(\u001b[0m\u001b[0murl\u001b[0m\u001b[0;34m,\u001b[0m \u001b[0;34m**\u001b[0m\u001b[0membed_options\u001b[0m\u001b[0;34m)\u001b[0m\u001b[0;34m\u001b[0m\u001b[0;34m\u001b[0m\u001b[0m\n\u001b[0m\u001b[1;32m    189\u001b[0m \u001b[0;34m\u001b[0m\u001b[0m\n\u001b[1;32m    190\u001b[0m \u001b[0;34m\u001b[0m\u001b[0m\n",
      "\u001b[0;32m/usr/local/lib/python3.6/dist-packages/plotly/tools.py\u001b[0m in \u001b[0;36membed\u001b[0;34m(file_owner_or_url, file_id, width, height)\u001b[0m\n\u001b[1;32m    399\u001b[0m         \u001b[0;32melse\u001b[0m\u001b[0;34m:\u001b[0m\u001b[0;34m\u001b[0m\u001b[0;34m\u001b[0m\u001b[0m\n\u001b[1;32m    400\u001b[0m             \u001b[0murl\u001b[0m \u001b[0;34m=\u001b[0m \u001b[0mfile_owner_or_url\u001b[0m\u001b[0;34m\u001b[0m\u001b[0;34m\u001b[0m\u001b[0m\n\u001b[0;32m--> 401\u001b[0;31m         \u001b[0;32mreturn\u001b[0m \u001b[0mPlotlyDisplay\u001b[0m\u001b[0;34m(\u001b[0m\u001b[0murl\u001b[0m\u001b[0;34m,\u001b[0m \u001b[0mwidth\u001b[0m\u001b[0;34m,\u001b[0m \u001b[0mheight\u001b[0m\u001b[0;34m)\u001b[0m\u001b[0;34m\u001b[0m\u001b[0;34m\u001b[0m\u001b[0m\n\u001b[0m\u001b[1;32m    402\u001b[0m     \u001b[0;32melse\u001b[0m\u001b[0;34m:\u001b[0m\u001b[0;34m\u001b[0m\u001b[0;34m\u001b[0m\u001b[0m\n\u001b[1;32m    403\u001b[0m         if (get_config_defaults()['plotly_domain']\n",
      "\u001b[0;32m/usr/local/lib/python3.6/dist-packages/plotly/tools.py\u001b[0m in \u001b[0;36m__init__\u001b[0;34m(self, url, width, height)\u001b[0m\n\u001b[1;32m   1479\u001b[0m         \u001b[0;32mdef\u001b[0m \u001b[0m__init__\u001b[0m\u001b[0;34m(\u001b[0m\u001b[0mself\u001b[0m\u001b[0;34m,\u001b[0m \u001b[0murl\u001b[0m\u001b[0;34m,\u001b[0m \u001b[0mwidth\u001b[0m\u001b[0;34m,\u001b[0m \u001b[0mheight\u001b[0m\u001b[0;34m)\u001b[0m\u001b[0;34m:\u001b[0m\u001b[0;34m\u001b[0m\u001b[0;34m\u001b[0m\u001b[0m\n\u001b[1;32m   1480\u001b[0m             \u001b[0mself\u001b[0m\u001b[0;34m.\u001b[0m\u001b[0mresource\u001b[0m \u001b[0;34m=\u001b[0m \u001b[0murl\u001b[0m\u001b[0;34m\u001b[0m\u001b[0;34m\u001b[0m\u001b[0m\n\u001b[0;32m-> 1481\u001b[0;31m             \u001b[0mself\u001b[0m\u001b[0;34m.\u001b[0m\u001b[0membed_code\u001b[0m \u001b[0;34m=\u001b[0m \u001b[0mget_embed\u001b[0m\u001b[0;34m(\u001b[0m\u001b[0murl\u001b[0m\u001b[0;34m,\u001b[0m \u001b[0mwidth\u001b[0m\u001b[0;34m=\u001b[0m\u001b[0mwidth\u001b[0m\u001b[0;34m,\u001b[0m \u001b[0mheight\u001b[0m\u001b[0;34m=\u001b[0m\u001b[0mheight\u001b[0m\u001b[0;34m)\u001b[0m\u001b[0;34m\u001b[0m\u001b[0;34m\u001b[0m\u001b[0m\n\u001b[0m\u001b[1;32m   1482\u001b[0m             \u001b[0msuper\u001b[0m\u001b[0;34m(\u001b[0m\u001b[0mPlotlyDisplay\u001b[0m\u001b[0;34m,\u001b[0m \u001b[0mself\u001b[0m\u001b[0;34m)\u001b[0m\u001b[0;34m.\u001b[0m\u001b[0m__init__\u001b[0m\u001b[0;34m(\u001b[0m\u001b[0mdata\u001b[0m\u001b[0;34m=\u001b[0m\u001b[0mself\u001b[0m\u001b[0;34m.\u001b[0m\u001b[0membed_code\u001b[0m\u001b[0;34m)\u001b[0m\u001b[0;34m\u001b[0m\u001b[0;34m\u001b[0m\u001b[0m\n\u001b[1;32m   1483\u001b[0m \u001b[0;34m\u001b[0m\u001b[0m\n",
      "\u001b[0;32m/usr/local/lib/python3.6/dist-packages/plotly/tools.py\u001b[0m in \u001b[0;36mget_embed\u001b[0;34m(file_owner_or_url, file_id, width, height)\u001b[0m\n\u001b[1;32m    304\u001b[0m                 \u001b[0;34m\"'{1}'.\"\u001b[0m\u001b[0;34m\u001b[0m\u001b[0;34m\u001b[0m\u001b[0m\n\u001b[1;32m    305\u001b[0m                 \u001b[0;34m\"\\nRun help on this function for more information.\"\u001b[0m\u001b[0;34m\u001b[0m\u001b[0;34m\u001b[0m\u001b[0m\n\u001b[0;32m--> 306\u001b[0;31m                 \"\".format(url, plotly_rest_url))\n\u001b[0m\u001b[1;32m    307\u001b[0m         \u001b[0murlsplit\u001b[0m \u001b[0;34m=\u001b[0m \u001b[0msix\u001b[0m\u001b[0;34m.\u001b[0m\u001b[0mmoves\u001b[0m\u001b[0;34m.\u001b[0m\u001b[0murllib\u001b[0m\u001b[0;34m.\u001b[0m\u001b[0mparse\u001b[0m\u001b[0;34m.\u001b[0m\u001b[0murlparse\u001b[0m\u001b[0;34m(\u001b[0m\u001b[0murl\u001b[0m\u001b[0;34m)\u001b[0m\u001b[0;34m\u001b[0m\u001b[0;34m\u001b[0m\u001b[0m\n\u001b[1;32m    308\u001b[0m         \u001b[0mfile_owner\u001b[0m \u001b[0;34m=\u001b[0m \u001b[0murlsplit\u001b[0m\u001b[0;34m.\u001b[0m\u001b[0mpath\u001b[0m\u001b[0;34m.\u001b[0m\u001b[0msplit\u001b[0m\u001b[0;34m(\u001b[0m\u001b[0;34m'/'\u001b[0m\u001b[0;34m)\u001b[0m\u001b[0;34m[\u001b[0m\u001b[0;36m1\u001b[0m\u001b[0;34m]\u001b[0m\u001b[0;34m.\u001b[0m\u001b[0msplit\u001b[0m\u001b[0;34m(\u001b[0m\u001b[0;34m'~'\u001b[0m\u001b[0;34m)\u001b[0m\u001b[0;34m[\u001b[0m\u001b[0;36m1\u001b[0m\u001b[0;34m]\u001b[0m\u001b[0;34m\u001b[0m\u001b[0;34m\u001b[0m\u001b[0m\n",
      "\u001b[0;31mPlotlyError\u001b[0m: Because you didn't supply a 'file_id' in the call, we're assuming you're trying to snag a figure from a url. You supplied the url, '', we expected it to start with 'https://plot.ly'.\nRun help on this function for more information."
     ]
    }
   ],
   "source": [
    "import plotly.plotly as py\n",
    "import plotly.graph_objs as go\n",
    "\n",
    "import pandas as pd\n",
    "\n",
    "df = pd.read_csv(\"https://raw.githubusercontent.com/plotly/datasets/master/finance-charts-apple.csv\")\n",
    "\n",
    "data = [go.Scatter( x=df['Date'], y=df['AAPL.Close'] )]\n",
    "\n",
    "py.iplot(data, filename='pandas-time-series')"
   ]
  }
 ],
 "metadata": {
  "kernelspec": {
   "display_name": "Python 3",
   "language": "python",
   "name": "python3"
  },
  "language_info": {
   "codemirror_mode": {
    "name": "ipython",
    "version": 3
   },
   "file_extension": ".py",
   "mimetype": "text/x-python",
   "name": "python",
   "nbconvert_exporter": "python",
   "pygments_lexer": "ipython3",
   "version": "3.6.7"
  },
  "toc": {
   "base_numbering": 1,
   "nav_menu": {},
   "number_sections": true,
   "sideBar": true,
   "skip_h1_title": false,
   "title_cell": "Table of Contents",
   "title_sidebar": "Contents",
   "toc_cell": false,
   "toc_position": {},
   "toc_section_display": true,
   "toc_window_display": false
  }
 },
 "nbformat": 4,
 "nbformat_minor": 2
}
