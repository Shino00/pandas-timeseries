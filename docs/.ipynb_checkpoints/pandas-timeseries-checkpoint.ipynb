{
 "cells": [
  {
   "cell_type": "markdown",
   "metadata": {},
   "source": [
    "# Pandas for Financial Time Series Data"
   ]
  },
  {
   "cell_type": "markdown",
   "metadata": {},
   "source": [
    "## Pandas Data Structures\n",
    "\n",
    "Pandas has three main data structures\n",
    "- Series\n",
    "- Dataframes\n",
    "- Panels\n",
    "\n",
    "In this course, we're going to study mainly series and dataframes. \n",
    "A series is the equivalent of a column in an Excel spreadsheet\n",
    "A dataframe is the equivalent of a sheet in Excel.\n",
    "A panel would be a data structure that contains multiple dataframes. "
   ]
  },
  {
   "cell_type": "markdown",
   "metadata": {},
   "source": [
    "Here we'll do just a quick example to show how easy it is to use Python to visualize data. \n",
    "To start out, we need to import the proper libraries.  In this case, we want the pandas library, the numpy library, and some plotting libraries. \n",
    "Matplotlib inline is simply a directive to the notebook to tell it to display the plots inside the notebook rather than from a separate window. "
   ]
  },
  {
   "cell_type": "code",
   "execution_count": 3,
   "metadata": {},
   "outputs": [
    {
     "data": {
      "text/plain": [
       "[<matplotlib.lines.Line2D at 0x18adf50ad30>]"
      ]
     },
     "execution_count": 3,
     "metadata": {},
     "output_type": "execute_result"
    },
    {
     "data": {
      "image/png": "[encoded data removed]",
      "text/plain": [
       "<Figure size 432x288 with 1 Axes>"
      ]
     },
     "metadata": {
      "needs_background": "light"
     },
     "output_type": "display_data"
    }
   ],
   "source": [
    "%matplotlib inline\n",
    "import pandas as pd\n",
    "import numpy as np\n",
    "import matplotlib.pyplot as plt\n",
    "\n",
    "# Create a random array of 1000 values and do a cumulative sum over the array, then plot it. \n",
    "plt.plot(np.random.randn(1000).cumsum())\n"
   ]
  },
  {
   "cell_type": "markdown",
   "metadata": {},
   "source": [
    "### Pandas Series\n",
    "\n",
    "The first Pandas data structure we're going to look at is the Series.  Series are simple one dimensional vectors of data that we can manipulate. \n",
    "\n",
    "For example. \n"
   ]
  },
  {
   "cell_type": "code",
   "execution_count": 4,
   "metadata": {},
   "outputs": [
    {
     "data": {
      "text/plain": [
       "First     0\n",
       "Second    1\n",
       "Third     2\n",
       "Fourth    3\n",
       "dtype: int32"
      ]
     },
     "execution_count": 4,
     "metadata": {},
     "output_type": "execute_result"
    }
   ],
   "source": [
    "index = ['First','Second','Third','Fourth']\n",
    "\n",
    "s = pd.Series(np.arange(4), index=index)\n",
    "s"
   ]
  },
  {
   "cell_type": "markdown",
   "metadata": {},
   "source": [
    "Note that in the above Series, we've got an index for each row in the column that we've defined ourself.  Also note that the output shows that the data type for each row of data is a 64 bit integer. \n",
    "(dtype)"
   ]
  },
  {
   "cell_type": "code",
   "execution_count": 6,
   "metadata": {},
   "outputs": [
    {
     "data": {
      "text/plain": [
       "array([0, 1, 2, 3])"
      ]
     },
     "execution_count": 6,
     "metadata": {},
     "output_type": "execute_result"
    }
   ],
   "source": [
    "s.values"
   ]
  },
  {
   "cell_type": "code",
   "execution_count": 7,
   "metadata": {},
   "outputs": [
    {
     "data": {
      "text/plain": [
       "Index(['First', 'Second', 'Third', 'Fourth'], dtype='object')"
      ]
     },
     "execution_count": 7,
     "metadata": {},
     "output_type": "execute_result"
    }
   ],
   "source": [
    "s.index"
   ]
  },
  {
   "cell_type": "markdown",
   "metadata": {},
   "source": [
    "Note that we can access each of the parts of the Series, such as the data and the index by using the '.' operator and the name of the attribute.  "
   ]
  },
  {
   "cell_type": "markdown",
   "metadata": {},
   "source": [
    "We can also do math along the entire Series vector.   "
   ]
  },
  {
   "cell_type": "code",
   "execution_count": 8,
   "metadata": {},
   "outputs": [
    {
     "data": {
      "text/plain": [
       "First     0\n",
       "Second    1\n",
       "Third     4\n",
       "Fourth    9\n",
       "dtype: int64"
      ]
     },
     "execution_count": 8,
     "metadata": {},
     "output_type": "execute_result"
    }
   ],
   "source": [
    "s * s"
   ]
  },
  {
   "cell_type": "code",
   "execution_count": 9,
   "metadata": {},
   "outputs": [
    {
     "data": {
      "text/plain": [
       "First     1\n",
       "Second    2\n",
       "Third     3\n",
       "Fourth    4\n",
       "dtype: int64"
      ]
     },
     "execution_count": 9,
     "metadata": {},
     "output_type": "execute_result"
    }
   ],
   "source": [
    "s += 1\n",
    "s"
   ]
  },
  {
   "cell_type": "markdown",
   "metadata": {},
   "source": [
    "Often, we'd like to only use or access a portion of the series (called a *slice*)\n",
    "To do this, we use the [ ] operator.  There are three arguments that you pass to this operator, separated by a ':'.  The *start* of the slice, the *end* of the slice, and the *step* operator. \n",
    "In both Python and Pandas, the end is subtracted by one. For example. \n"
   ]
  },
  {
   "cell_type": "code",
   "execution_count": 5,
   "metadata": {},
   "outputs": [
    {
     "name": "stdout",
     "output_type": "stream",
     "text": [
      "['a', 'b', 'c', 'd']\n",
      "0    a\n",
      "1    b\n",
      "2    c\n",
      "3    d\n",
      "dtype: object\n"
     ]
    }
   ],
   "source": [
    "list1 = ['a','b','c','d','e']\n",
    "print (list1[0:4])\n",
    "s = pd.Series(list1)\n",
    "print (s[0:4])"
   ]
  },
  {
   "cell_type": "markdown",
   "metadata": {},
   "source": [
    "If we don't specify an index for our Series, by default Pandas uses the whole number set increasing by one. "
   ]
  },
  {
   "cell_type": "markdown",
   "metadata": {},
   "source": [
    "We can skip any or all of the parameters to the [ ] operator. For example:"
   ]
  },
  {
   "cell_type": "code",
   "execution_count": 6,
   "metadata": {},
   "outputs": [
    {
     "name": "stdout",
     "output_type": "stream",
     "text": [
      "['a', 'b', 'c', 'd']\n"
     ]
    },
    {
     "data": {
      "text/plain": [
       "0    a\n",
       "1    b\n",
       "2    c\n",
       "3    d\n",
       "dtype: object"
      ]
     },
     "execution_count": 6,
     "metadata": {},
     "output_type": "execute_result"
    }
   ],
   "source": [
    "print (list1[:4])\n",
    "s[:4]"
   ]
  },
  {
   "cell_type": "markdown",
   "metadata": {},
   "source": [
    "If you don't specify the first number, Python assumes the first element of the data structure. \n",
    "If you don't specify the last number, Python assumes the last element of the data structure. \n"
   ]
  },
  {
   "cell_type": "code",
   "execution_count": 7,
   "metadata": {},
   "outputs": [
    {
     "name": "stdout",
     "output_type": "stream",
     "text": [
      "['e', 'd', 'c', 'b', 'a']\n"
     ]
    },
    {
     "data": {
      "text/plain": [
       "4    e\n",
       "3    d\n",
       "2    c\n",
       "1    b\n",
       "0    a\n",
       "dtype: object"
      ]
     },
     "execution_count": 7,
     "metadata": {},
     "output_type": "execute_result"
    }
   ],
   "source": [
    "print (list1[::-1])\n",
    "s[::-1]"
   ]
  },
  {
   "cell_type": "markdown",
   "metadata": {},
   "source": [
    "We can also access elements of our Series by putting in the index value like so:"
   ]
  },
  {
   "cell_type": "code",
   "execution_count": 13,
   "metadata": {},
   "outputs": [
    {
     "name": "stdout",
     "output_type": "stream",
     "text": [
      "e\n"
     ]
    }
   ],
   "source": [
    "s.index = ['fee','fi','fo','fum','foo']\n",
    "print (s['foo'])\n"
   ]
  },
  {
   "cell_type": "code",
   "execution_count": 14,
   "metadata": {},
   "outputs": [
    {
     "data": {
      "text/plain": [
       "'e'"
      ]
     },
     "execution_count": 14,
     "metadata": {},
     "output_type": "execute_result"
    }
   ],
   "source": [
    "s.foo"
   ]
  },
  {
   "cell_type": "markdown",
   "metadata": {},
   "source": [
    "We can also slice by index value. "
   ]
  },
  {
   "cell_type": "code",
   "execution_count": 15,
   "metadata": {},
   "outputs": [
    {
     "name": "stdout",
     "output_type": "stream",
     "text": [
      "fi     b\n",
      "fo     c\n",
      "fum    d\n",
      "foo    e\n",
      "dtype: object\n"
     ]
    }
   ],
   "source": [
    "print (s['fi':])"
   ]
  },
  {
   "cell_type": "markdown",
   "metadata": {},
   "source": [
    "### Pandas and datetime\n",
    "\n",
    "The datetime stamp is one of the common fields in time series data.  Let's look at how this works. \n",
    "First, we'll show how to create a range of dates using the date_range method from Pandas. \n"
   ]
  },
  {
   "cell_type": "code",
   "execution_count": 9,
   "metadata": {},
   "outputs": [
    {
     "data": {
      "text/plain": [
       "DatetimeIndex(['2018-07-07', '2018-07-08', '2018-07-09', '2018-07-10',\n",
       "               '2018-07-11', '2018-07-12'],\n",
       "              dtype='datetime64[ns]', freq='D')"
      ]
     },
     "execution_count": 9,
     "metadata": {},
     "output_type": "execute_result"
    }
   ],
   "source": [
    "import pandas as pd\n",
    "dates  = pd.date_range('2018-07-07','2018-11-26')\n",
    "dates = dates[0:6]\n",
    "dates\n",
    "#pd.__version__"
   ]
  },
  {
   "cell_type": "markdown",
   "metadata": {},
   "source": [
    "Now, let's create some sample data, in this case, a series of Open, High, Low and Close data in our dataframe using the date time index.  Note that these values are just made up, and don't reflect real asset prices for the dates."
   ]
  },
  {
   "cell_type": "code",
   "execution_count": 10,
   "metadata": {},
   "outputs": [
    {
     "data": {
      "text/plain": [
       "2018-07-07     998.02\n",
       "2018-07-08    1001.56\n",
       "2018-07-09     994.51\n",
       "2018-07-10    1001.22\n",
       "2018-07-11    1002.25\n",
       "2018-07-12    1003.61\n",
       "Freq: D, dtype: float64"
      ]
     },
     "execution_count": 10,
     "metadata": {},
     "output_type": "execute_result"
    }
   ],
   "source": [
    "goog_prices = [998.02, 1001.56,994.51, 1001.22, 1002.25, 1003.61]\n",
    "goog_stock_series = pd.Series(goog_prices, index=dates[0:6])\n",
    "goog_stock_series"
   ]
  },
  {
   "cell_type": "markdown",
   "metadata": {},
   "source": [
    "Note that we now have a datetime index rather than using a sequence of numbers or letters. \n",
    "Let's do a second stock."
   ]
  },
  {
   "cell_type": "code",
   "execution_count": 11,
   "metadata": {},
   "outputs": [
    {
     "data": {
      "text/plain": [
       "2018-07-07    157.02\n",
       "2018-07-08    158.56\n",
       "2018-07-09    159.51\n",
       "2018-07-10    155.22\n",
       "2018-07-11    152.25\n",
       "2018-07-12    154.61\n",
       "Freq: D, dtype: float64"
      ]
     },
     "execution_count": 11,
     "metadata": {},
     "output_type": "execute_result"
    }
   ],
   "source": [
    "aapl_prices = [157.02, 158.56,159.51, 155.22, 152.25, 154.61]\n",
    "aapl_stock_series = pd.Series(aapl_prices, index=dates[0:6])\n",
    "aapl_stock_series"
   ]
  },
  {
   "cell_type": "markdown",
   "metadata": {},
   "source": [
    "Note that we can combine these two series into a dataframe. "
   ]
  },
  {
   "cell_type": "code",
   "execution_count": 12,
   "metadata": {},
   "outputs": [
    {
     "data": {
      "text/html": [
       "<div>\n",
       "<style scoped>\n",
       "    .dataframe tbody tr th:only-of-type {\n",
       "        vertical-align: middle;\n",
       "    }\n",
       "\n",
       "    .dataframe tbody tr th {\n",
       "        vertical-align: top;\n",
       "    }\n",
       "\n",
       "    .dataframe thead th {\n",
       "        text-align: right;\n",
       "    }\n",
       "</style>\n",
       "<table border=\"1\" class=\"dataframe\">\n",
       "  <thead>\n",
       "    <tr style=\"text-align: right;\">\n",
       "      <th></th>\n",
       "      <th>GOOG</th>\n",
       "      <th>AAPL</th>\n",
       "    </tr>\n",
       "  </thead>\n",
       "  <tbody>\n",
       "    <tr>\n",
       "      <th>2018-07-07</th>\n",
       "      <td>998.02</td>\n",
       "      <td>157.02</td>\n",
       "    </tr>\n",
       "    <tr>\n",
       "      <th>2018-07-08</th>\n",
       "      <td>1001.56</td>\n",
       "      <td>158.56</td>\n",
       "    </tr>\n",
       "    <tr>\n",
       "      <th>2018-07-09</th>\n",
       "      <td>994.51</td>\n",
       "      <td>159.51</td>\n",
       "    </tr>\n",
       "    <tr>\n",
       "      <th>2018-07-10</th>\n",
       "      <td>1001.22</td>\n",
       "      <td>155.22</td>\n",
       "    </tr>\n",
       "    <tr>\n",
       "      <th>2018-07-11</th>\n",
       "      <td>1002.25</td>\n",
       "      <td>152.25</td>\n",
       "    </tr>\n",
       "    <tr>\n",
       "      <th>2018-07-12</th>\n",
       "      <td>1003.61</td>\n",
       "      <td>154.61</td>\n",
       "    </tr>\n",
       "  </tbody>\n",
       "</table>\n",
       "</div>"
      ],
      "text/plain": [
       "               GOOG    AAPL\n",
       "2018-07-07   998.02  157.02\n",
       "2018-07-08  1001.56  158.56\n",
       "2018-07-09   994.51  159.51\n",
       "2018-07-10  1001.22  155.22\n",
       "2018-07-11  1002.25  152.25\n",
       "2018-07-12  1003.61  154.61"
      ]
     },
     "execution_count": 12,
     "metadata": {},
     "output_type": "execute_result"
    }
   ],
   "source": [
    "stock_df = pd.DataFrame({'GOOG': goog_stock_series, 'AAPL':aapl_stock_series})\n",
    "stock_df"
   ]
  },
  {
   "cell_type": "markdown",
   "metadata": {},
   "source": [
    "Note that in the above code, we created a datetime index, and created column headers by using a dictionary of key value pairs to do so.  Note that the dataframe also has a row index, just like the series. and also a column index. "
   ]
  },
  {
   "cell_type": "code",
   "execution_count": 13,
   "metadata": {},
   "outputs": [
    {
     "data": {
      "text/plain": [
       "DatetimeIndex(['2018-07-07', '2018-07-08', '2018-07-09', '2018-07-10',\n",
       "               '2018-07-11', '2018-07-12'],\n",
       "              dtype='datetime64[ns]', freq='D')"
      ]
     },
     "execution_count": 13,
     "metadata": {},
     "output_type": "execute_result"
    }
   ],
   "source": [
    "stock_df.index"
   ]
  },
  {
   "cell_type": "code",
   "execution_count": 14,
   "metadata": {},
   "outputs": [
    {
     "data": {
      "text/plain": [
       "Index(['GOOG', 'AAPL'], dtype='object')"
      ]
     },
     "execution_count": 14,
     "metadata": {},
     "output_type": "execute_result"
    }
   ],
   "source": [
    "stock_df.columns"
   ]
  },
  {
   "cell_type": "markdown",
   "metadata": {},
   "source": [
    "We can also retrieve data from the dataframe by column index. "
   ]
  },
  {
   "cell_type": "code",
   "execution_count": 15,
   "metadata": {},
   "outputs": [
    {
     "data": {
      "text/plain": [
       "2018-07-07     998.02\n",
       "2018-07-08    1001.56\n",
       "2018-07-09     994.51\n",
       "2018-07-10    1001.22\n",
       "2018-07-11    1002.25\n",
       "2018-07-12    1003.61\n",
       "Freq: D, Name: GOOG, dtype: float64"
      ]
     },
     "execution_count": 15,
     "metadata": {},
     "output_type": "execute_result"
    }
   ],
   "source": [
    "stock_df['GOOG']"
   ]
  },
  {
   "cell_type": "markdown",
   "metadata": {},
   "source": [
    "    We can also retrieve colums by using the '.' operator rather than the [ ] operator.  For example"
   ]
  },
  {
   "cell_type": "code",
   "execution_count": 16,
   "metadata": {},
   "outputs": [
    {
     "data": {
      "text/plain": [
       "2018-07-07    157.02\n",
       "2018-07-08    158.56\n",
       "2018-07-09    159.51\n",
       "2018-07-10    155.22\n",
       "2018-07-11    152.25\n",
       "2018-07-12    154.61\n",
       "Freq: D, Name: AAPL, dtype: float64"
      ]
     },
     "execution_count": 16,
     "metadata": {},
     "output_type": "execute_result"
    }
   ],
   "source": [
    "stock_df.AAPL"
   ]
  },
  {
   "cell_type": "markdown",
   "metadata": {},
   "source": [
    "Let's go a bit further.  Say that we now have both open and close data for each stock.  Let's create a dataframe that contains both."
   ]
  },
  {
   "cell_type": "code",
   "execution_count": 17,
   "metadata": {},
   "outputs": [
    {
     "name": "stdout",
     "output_type": "stream",
     "text": [
      "998.02\n"
     ]
    },
    {
     "data": {
      "text/plain": [
       "[996.18,\n",
       " 998.67,\n",
       " 999.15,\n",
       " 997.4,\n",
       " 997.53,\n",
       " 999.53,\n",
       " 996.49,\n",
       " 996.52,\n",
       " 999.2,\n",
       " 996.96,\n",
       " 997.67,\n",
       " 997.8,\n",
       " 996.42,\n",
       " 997.99,\n",
       " 998.41,\n",
       " 996.22,\n",
       " 997.57,\n",
       " 996.02,\n",
       " 999.2,\n",
       " 996.78,\n",
       " 996.66,\n",
       " 997.93,\n",
       " 999.17,\n",
       " 997.43,\n",
       " 996.5,\n",
       " 999.3,\n",
       " 996.79,\n",
       " 999.92,\n",
       " 998.67,\n",
       " 999.29]"
      ]
     },
     "execution_count": 17,
     "metadata": {},
     "output_type": "execute_result"
    }
   ],
   "source": [
    "%matplotlib inline\n",
    "import random\n",
    "import matplotlib.pyplot as plt\n",
    "# Create 30 days of stock prices for GOOG and AAPL. \n",
    "goog_open_prices = [ round(goog_prices [0] + random.uniform(-2,2),2) for _ in range(30) ]\n",
    "aapl_open_prices = [ round(aapl_prices [0] + random.uniform (-2,2),2) for _ in range(30) ]\n",
    "# Add a random shift to the open price to mock a close price.  Values are random numbers between\n",
    "# -2 and 2. \n",
    "goog_close_prices = [ round(price + random.uniform(-2,4),2) for price in goog_open_prices ]\n",
    "aapl_close_prices = [ round(price +random.uniform(-2,4),2) for price in aapl_open_prices]\n",
    "print(goog_prices[0])\n",
    "goog_open_prices\n"
   ]
  },
  {
   "cell_type": "code",
   "execution_count": 18,
   "metadata": {},
   "outputs": [
    {
     "data": {
      "text/plain": [
       "[999.65,\n",
       " 997.63,\n",
       " 998.98,\n",
       " 1001.09,\n",
       " 1000.89,\n",
       " 999.18,\n",
       " 1000.18,\n",
       " 994.87,\n",
       " 997.85,\n",
       " 998.33,\n",
       " 999.71,\n",
       " 1001.24,\n",
       " 999.46,\n",
       " 1001.8,\n",
       " 1001.52,\n",
       " 998.43,\n",
       " 998.21,\n",
       " 995.27,\n",
       " 1001.81,\n",
       " 999.52,\n",
       " 994.79,\n",
       " 999.8,\n",
       " 998.17,\n",
       " 1000.25,\n",
       " 997.74,\n",
       " 999.01,\n",
       " 999.26,\n",
       " 1001.61,\n",
       " 1000.75,\n",
       " 999.59]"
      ]
     },
     "execution_count": 18,
     "metadata": {},
     "output_type": "execute_result"
    }
   ],
   "source": [
    "goog_close_prices"
   ]
  },
  {
   "cell_type": "code",
   "execution_count": 19,
   "metadata": {},
   "outputs": [
    {
     "data": {
      "text/plain": [
       "[157.44,\n",
       " 156.62,\n",
       " 158.4,\n",
       " 158.05,\n",
       " 157.01,\n",
       " 156.08,\n",
       " 157.49,\n",
       " 161.2,\n",
       " 155.59,\n",
       " 160.29,\n",
       " 153.87,\n",
       " 160.28,\n",
       " 153.62,\n",
       " 158.15,\n",
       " 157.21,\n",
       " 160.26,\n",
       " 157.38,\n",
       " 156.07,\n",
       " 155.39,\n",
       " 160.11,\n",
       " 159.64,\n",
       " 162.48,\n",
       " 155.94,\n",
       " 160.08,\n",
       " 157.68,\n",
       " 156.1,\n",
       " 158.36,\n",
       " 161.05,\n",
       " 156.08,\n",
       " 158.59]"
      ]
     },
     "execution_count": 19,
     "metadata": {},
     "output_type": "execute_result"
    }
   ],
   "source": [
    "aapl_close_prices"
   ]
  },
  {
   "cell_type": "code",
   "execution_count": 20,
   "metadata": {},
   "outputs": [
    {
     "data": {
      "text/html": [
       "<div>\n",
       "<style scoped>\n",
       "    .dataframe tbody tr th:only-of-type {\n",
       "        vertical-align: middle;\n",
       "    }\n",
       "\n",
       "    .dataframe tbody tr th {\n",
       "        vertical-align: top;\n",
       "    }\n",
       "\n",
       "    .dataframe thead th {\n",
       "        text-align: right;\n",
       "    }\n",
       "</style>\n",
       "<table border=\"1\" class=\"dataframe\">\n",
       "  <thead>\n",
       "    <tr style=\"text-align: right;\">\n",
       "      <th></th>\n",
       "      <th>AAPL Open</th>\n",
       "      <th>AAPL Close</th>\n",
       "      <th>GOOG Open</th>\n",
       "      <th>GOOG Close</th>\n",
       "    </tr>\n",
       "  </thead>\n",
       "  <tbody>\n",
       "    <tr>\n",
       "      <th>2018-11-25</th>\n",
       "      <td>157.12</td>\n",
       "      <td>157.44</td>\n",
       "      <td>996.18</td>\n",
       "      <td>999.65</td>\n",
       "    </tr>\n",
       "    <tr>\n",
       "      <th>2018-11-26</th>\n",
       "      <td>156.96</td>\n",
       "      <td>156.62</td>\n",
       "      <td>998.67</td>\n",
       "      <td>997.63</td>\n",
       "    </tr>\n",
       "    <tr>\n",
       "      <th>2018-11-27</th>\n",
       "      <td>158.97</td>\n",
       "      <td>158.40</td>\n",
       "      <td>999.15</td>\n",
       "      <td>998.98</td>\n",
       "    </tr>\n",
       "    <tr>\n",
       "      <th>2018-11-28</th>\n",
       "      <td>158.98</td>\n",
       "      <td>158.05</td>\n",
       "      <td>997.40</td>\n",
       "      <td>1001.09</td>\n",
       "    </tr>\n",
       "    <tr>\n",
       "      <th>2018-11-29</th>\n",
       "      <td>156.08</td>\n",
       "      <td>157.01</td>\n",
       "      <td>997.53</td>\n",
       "      <td>1000.89</td>\n",
       "    </tr>\n",
       "    <tr>\n",
       "      <th>2018-11-30</th>\n",
       "      <td>157.19</td>\n",
       "      <td>156.08</td>\n",
       "      <td>999.53</td>\n",
       "      <td>999.18</td>\n",
       "    </tr>\n",
       "    <tr>\n",
       "      <th>2018-12-01</th>\n",
       "      <td>158.48</td>\n",
       "      <td>157.49</td>\n",
       "      <td>996.49</td>\n",
       "      <td>1000.18</td>\n",
       "    </tr>\n",
       "    <tr>\n",
       "      <th>2018-12-02</th>\n",
       "      <td>157.53</td>\n",
       "      <td>161.20</td>\n",
       "      <td>996.52</td>\n",
       "      <td>994.87</td>\n",
       "    </tr>\n",
       "    <tr>\n",
       "      <th>2018-12-03</th>\n",
       "      <td>156.76</td>\n",
       "      <td>155.59</td>\n",
       "      <td>999.20</td>\n",
       "      <td>997.85</td>\n",
       "    </tr>\n",
       "    <tr>\n",
       "      <th>2018-12-04</th>\n",
       "      <td>158.28</td>\n",
       "      <td>160.29</td>\n",
       "      <td>996.96</td>\n",
       "      <td>998.33</td>\n",
       "    </tr>\n",
       "    <tr>\n",
       "      <th>2018-12-05</th>\n",
       "      <td>155.81</td>\n",
       "      <td>153.87</td>\n",
       "      <td>997.67</td>\n",
       "      <td>999.71</td>\n",
       "    </tr>\n",
       "    <tr>\n",
       "      <th>2018-12-06</th>\n",
       "      <td>156.29</td>\n",
       "      <td>160.28</td>\n",
       "      <td>997.80</td>\n",
       "      <td>1001.24</td>\n",
       "    </tr>\n",
       "    <tr>\n",
       "      <th>2018-12-07</th>\n",
       "      <td>155.12</td>\n",
       "      <td>153.62</td>\n",
       "      <td>996.42</td>\n",
       "      <td>999.46</td>\n",
       "    </tr>\n",
       "    <tr>\n",
       "      <th>2018-12-08</th>\n",
       "      <td>157.16</td>\n",
       "      <td>158.15</td>\n",
       "      <td>997.99</td>\n",
       "      <td>1001.80</td>\n",
       "    </tr>\n",
       "    <tr>\n",
       "      <th>2018-12-09</th>\n",
       "      <td>158.76</td>\n",
       "      <td>157.21</td>\n",
       "      <td>998.41</td>\n",
       "      <td>1001.52</td>\n",
       "    </tr>\n",
       "    <tr>\n",
       "      <th>2018-12-10</th>\n",
       "      <td>158.75</td>\n",
       "      <td>160.26</td>\n",
       "      <td>996.22</td>\n",
       "      <td>998.43</td>\n",
       "    </tr>\n",
       "    <tr>\n",
       "      <th>2018-12-11</th>\n",
       "      <td>155.05</td>\n",
       "      <td>157.38</td>\n",
       "      <td>997.57</td>\n",
       "      <td>998.21</td>\n",
       "    </tr>\n",
       "    <tr>\n",
       "      <th>2018-12-12</th>\n",
       "      <td>157.97</td>\n",
       "      <td>156.07</td>\n",
       "      <td>996.02</td>\n",
       "      <td>995.27</td>\n",
       "    </tr>\n",
       "    <tr>\n",
       "      <th>2018-12-13</th>\n",
       "      <td>155.06</td>\n",
       "      <td>155.39</td>\n",
       "      <td>999.20</td>\n",
       "      <td>1001.81</td>\n",
       "    </tr>\n",
       "    <tr>\n",
       "      <th>2018-12-14</th>\n",
       "      <td>157.44</td>\n",
       "      <td>160.11</td>\n",
       "      <td>996.78</td>\n",
       "      <td>999.52</td>\n",
       "    </tr>\n",
       "    <tr>\n",
       "      <th>2018-12-15</th>\n",
       "      <td>158.97</td>\n",
       "      <td>159.64</td>\n",
       "      <td>996.66</td>\n",
       "      <td>994.79</td>\n",
       "    </tr>\n",
       "    <tr>\n",
       "      <th>2018-12-16</th>\n",
       "      <td>158.54</td>\n",
       "      <td>162.48</td>\n",
       "      <td>997.93</td>\n",
       "      <td>999.80</td>\n",
       "    </tr>\n",
       "    <tr>\n",
       "      <th>2018-12-17</th>\n",
       "      <td>157.83</td>\n",
       "      <td>155.94</td>\n",
       "      <td>999.17</td>\n",
       "      <td>998.17</td>\n",
       "    </tr>\n",
       "    <tr>\n",
       "      <th>2018-12-18</th>\n",
       "      <td>158.79</td>\n",
       "      <td>160.08</td>\n",
       "      <td>997.43</td>\n",
       "      <td>1000.25</td>\n",
       "    </tr>\n",
       "    <tr>\n",
       "      <th>2018-12-19</th>\n",
       "      <td>156.84</td>\n",
       "      <td>157.68</td>\n",
       "      <td>996.50</td>\n",
       "      <td>997.74</td>\n",
       "    </tr>\n",
       "    <tr>\n",
       "      <th>2018-12-20</th>\n",
       "      <td>155.08</td>\n",
       "      <td>156.10</td>\n",
       "      <td>999.30</td>\n",
       "      <td>999.01</td>\n",
       "    </tr>\n",
       "    <tr>\n",
       "      <th>2018-12-21</th>\n",
       "      <td>158.35</td>\n",
       "      <td>158.36</td>\n",
       "      <td>996.79</td>\n",
       "      <td>999.26</td>\n",
       "    </tr>\n",
       "    <tr>\n",
       "      <th>2018-12-22</th>\n",
       "      <td>158.55</td>\n",
       "      <td>161.05</td>\n",
       "      <td>999.92</td>\n",
       "      <td>1001.61</td>\n",
       "    </tr>\n",
       "    <tr>\n",
       "      <th>2018-12-23</th>\n",
       "      <td>155.53</td>\n",
       "      <td>156.08</td>\n",
       "      <td>998.67</td>\n",
       "      <td>1000.75</td>\n",
       "    </tr>\n",
       "    <tr>\n",
       "      <th>2018-12-24</th>\n",
       "      <td>157.13</td>\n",
       "      <td>158.59</td>\n",
       "      <td>999.29</td>\n",
       "      <td>999.59</td>\n",
       "    </tr>\n",
       "  </tbody>\n",
       "</table>\n",
       "</div>"
      ],
      "text/plain": [
       "            AAPL Open  AAPL Close  GOOG Open  GOOG Close\n",
       "2018-11-25     157.12      157.44     996.18      999.65\n",
       "2018-11-26     156.96      156.62     998.67      997.63\n",
       "2018-11-27     158.97      158.40     999.15      998.98\n",
       "2018-11-28     158.98      158.05     997.40     1001.09\n",
       "2018-11-29     156.08      157.01     997.53     1000.89\n",
       "2018-11-30     157.19      156.08     999.53      999.18\n",
       "2018-12-01     158.48      157.49     996.49     1000.18\n",
       "2018-12-02     157.53      161.20     996.52      994.87\n",
       "2018-12-03     156.76      155.59     999.20      997.85\n",
       "2018-12-04     158.28      160.29     996.96      998.33\n",
       "2018-12-05     155.81      153.87     997.67      999.71\n",
       "2018-12-06     156.29      160.28     997.80     1001.24\n",
       "2018-12-07     155.12      153.62     996.42      999.46\n",
       "2018-12-08     157.16      158.15     997.99     1001.80\n",
       "2018-12-09     158.76      157.21     998.41     1001.52\n",
       "2018-12-10     158.75      160.26     996.22      998.43\n",
       "2018-12-11     155.05      157.38     997.57      998.21\n",
       "2018-12-12     157.97      156.07     996.02      995.27\n",
       "2018-12-13     155.06      155.39     999.20     1001.81\n",
       "2018-12-14     157.44      160.11     996.78      999.52\n",
       "2018-12-15     158.97      159.64     996.66      994.79\n",
       "2018-12-16     158.54      162.48     997.93      999.80\n",
       "2018-12-17     157.83      155.94     999.17      998.17\n",
       "2018-12-18     158.79      160.08     997.43     1000.25\n",
       "2018-12-19     156.84      157.68     996.50      997.74\n",
       "2018-12-20     155.08      156.10     999.30      999.01\n",
       "2018-12-21     158.35      158.36     996.79      999.26\n",
       "2018-12-22     158.55      161.05     999.92     1001.61\n",
       "2018-12-23     155.53      156.08     998.67     1000.75\n",
       "2018-12-24     157.13      158.59     999.29      999.59"
      ]
     },
     "execution_count": 20,
     "metadata": {},
     "output_type": "execute_result"
    }
   ],
   "source": [
    "dates  = pd.date_range('2018-11-25','2018-12-24')\n",
    "stock_df_columns = ['AAPL Open', 'AAPL Close', 'GOOG Open', 'GOOG Close']\n",
    "stock_df = pd.DataFrame({'AAPL Open':aapl_open_prices,'AAPL Close':aapl_close_prices,\n",
    "                                    'GOOG Open': goog_open_prices, 'GOOG Close': goog_close_prices},\n",
    "                                     index=dates,columns = stock_df_columns)\n",
    "stock_df"
   ]
  },
  {
   "cell_type": "markdown",
   "metadata": {},
   "source": [
    "Now let's compute the difference between the open and close price for both Apple and Google and add these value as a new columns in our stock_df datframe\n"
   ]
  },
  {
   "cell_type": "code",
   "execution_count": 21,
   "metadata": {},
   "outputs": [
    {
     "data": {
      "text/html": [
       "<div>\n",
       "<style scoped>\n",
       "    .dataframe tbody tr th:only-of-type {\n",
       "        vertical-align: middle;\n",
       "    }\n",
       "\n",
       "    .dataframe tbody tr th {\n",
       "        vertical-align: top;\n",
       "    }\n",
       "\n",
       "    .dataframe thead th {\n",
       "        text-align: right;\n",
       "    }\n",
       "</style>\n",
       "<table border=\"1\" class=\"dataframe\">\n",
       "  <thead>\n",
       "    <tr style=\"text-align: right;\">\n",
       "      <th></th>\n",
       "      <th>AAPL Open</th>\n",
       "      <th>AAPL Close</th>\n",
       "      <th>GOOG Open</th>\n",
       "      <th>GOOG Close</th>\n",
       "      <th>GOOG Diff</th>\n",
       "      <th>AAPL Diff</th>\n",
       "    </tr>\n",
       "  </thead>\n",
       "  <tbody>\n",
       "    <tr>\n",
       "      <th>2018-11-25</th>\n",
       "      <td>157.12</td>\n",
       "      <td>157.44</td>\n",
       "      <td>996.18</td>\n",
       "      <td>999.65</td>\n",
       "      <td>3.47</td>\n",
       "      <td>0.32</td>\n",
       "    </tr>\n",
       "    <tr>\n",
       "      <th>2018-11-26</th>\n",
       "      <td>156.96</td>\n",
       "      <td>156.62</td>\n",
       "      <td>998.67</td>\n",
       "      <td>997.63</td>\n",
       "      <td>-1.04</td>\n",
       "      <td>-0.34</td>\n",
       "    </tr>\n",
       "    <tr>\n",
       "      <th>2018-11-27</th>\n",
       "      <td>158.97</td>\n",
       "      <td>158.40</td>\n",
       "      <td>999.15</td>\n",
       "      <td>998.98</td>\n",
       "      <td>-0.17</td>\n",
       "      <td>-0.57</td>\n",
       "    </tr>\n",
       "    <tr>\n",
       "      <th>2018-11-28</th>\n",
       "      <td>158.98</td>\n",
       "      <td>158.05</td>\n",
       "      <td>997.40</td>\n",
       "      <td>1001.09</td>\n",
       "      <td>3.69</td>\n",
       "      <td>-0.93</td>\n",
       "    </tr>\n",
       "    <tr>\n",
       "      <th>2018-11-29</th>\n",
       "      <td>156.08</td>\n",
       "      <td>157.01</td>\n",
       "      <td>997.53</td>\n",
       "      <td>1000.89</td>\n",
       "      <td>3.36</td>\n",
       "      <td>0.93</td>\n",
       "    </tr>\n",
       "    <tr>\n",
       "      <th>2018-11-30</th>\n",
       "      <td>157.19</td>\n",
       "      <td>156.08</td>\n",
       "      <td>999.53</td>\n",
       "      <td>999.18</td>\n",
       "      <td>-0.35</td>\n",
       "      <td>-1.11</td>\n",
       "    </tr>\n",
       "    <tr>\n",
       "      <th>2018-12-01</th>\n",
       "      <td>158.48</td>\n",
       "      <td>157.49</td>\n",
       "      <td>996.49</td>\n",
       "      <td>1000.18</td>\n",
       "      <td>3.69</td>\n",
       "      <td>-0.99</td>\n",
       "    </tr>\n",
       "    <tr>\n",
       "      <th>2018-12-02</th>\n",
       "      <td>157.53</td>\n",
       "      <td>161.20</td>\n",
       "      <td>996.52</td>\n",
       "      <td>994.87</td>\n",
       "      <td>-1.65</td>\n",
       "      <td>3.67</td>\n",
       "    </tr>\n",
       "    <tr>\n",
       "      <th>2018-12-03</th>\n",
       "      <td>156.76</td>\n",
       "      <td>155.59</td>\n",
       "      <td>999.20</td>\n",
       "      <td>997.85</td>\n",
       "      <td>-1.35</td>\n",
       "      <td>-1.17</td>\n",
       "    </tr>\n",
       "    <tr>\n",
       "      <th>2018-12-04</th>\n",
       "      <td>158.28</td>\n",
       "      <td>160.29</td>\n",
       "      <td>996.96</td>\n",
       "      <td>998.33</td>\n",
       "      <td>1.37</td>\n",
       "      <td>2.01</td>\n",
       "    </tr>\n",
       "    <tr>\n",
       "      <th>2018-12-05</th>\n",
       "      <td>155.81</td>\n",
       "      <td>153.87</td>\n",
       "      <td>997.67</td>\n",
       "      <td>999.71</td>\n",
       "      <td>2.04</td>\n",
       "      <td>-1.94</td>\n",
       "    </tr>\n",
       "    <tr>\n",
       "      <th>2018-12-06</th>\n",
       "      <td>156.29</td>\n",
       "      <td>160.28</td>\n",
       "      <td>997.80</td>\n",
       "      <td>1001.24</td>\n",
       "      <td>3.44</td>\n",
       "      <td>3.99</td>\n",
       "    </tr>\n",
       "    <tr>\n",
       "      <th>2018-12-07</th>\n",
       "      <td>155.12</td>\n",
       "      <td>153.62</td>\n",
       "      <td>996.42</td>\n",
       "      <td>999.46</td>\n",
       "      <td>3.04</td>\n",
       "      <td>-1.50</td>\n",
       "    </tr>\n",
       "    <tr>\n",
       "      <th>2018-12-08</th>\n",
       "      <td>157.16</td>\n",
       "      <td>158.15</td>\n",
       "      <td>997.99</td>\n",
       "      <td>1001.80</td>\n",
       "      <td>3.81</td>\n",
       "      <td>0.99</td>\n",
       "    </tr>\n",
       "    <tr>\n",
       "      <th>2018-12-09</th>\n",
       "      <td>158.76</td>\n",
       "      <td>157.21</td>\n",
       "      <td>998.41</td>\n",
       "      <td>1001.52</td>\n",
       "      <td>3.11</td>\n",
       "      <td>-1.55</td>\n",
       "    </tr>\n",
       "    <tr>\n",
       "      <th>2018-12-10</th>\n",
       "      <td>158.75</td>\n",
       "      <td>160.26</td>\n",
       "      <td>996.22</td>\n",
       "      <td>998.43</td>\n",
       "      <td>2.21</td>\n",
       "      <td>1.51</td>\n",
       "    </tr>\n",
       "    <tr>\n",
       "      <th>2018-12-11</th>\n",
       "      <td>155.05</td>\n",
       "      <td>157.38</td>\n",
       "      <td>997.57</td>\n",
       "      <td>998.21</td>\n",
       "      <td>0.64</td>\n",
       "      <td>2.33</td>\n",
       "    </tr>\n",
       "    <tr>\n",
       "      <th>2018-12-12</th>\n",
       "      <td>157.97</td>\n",
       "      <td>156.07</td>\n",
       "      <td>996.02</td>\n",
       "      <td>995.27</td>\n",
       "      <td>-0.75</td>\n",
       "      <td>-1.90</td>\n",
       "    </tr>\n",
       "    <tr>\n",
       "      <th>2018-12-13</th>\n",
       "      <td>155.06</td>\n",
       "      <td>155.39</td>\n",
       "      <td>999.20</td>\n",
       "      <td>1001.81</td>\n",
       "      <td>2.61</td>\n",
       "      <td>0.33</td>\n",
       "    </tr>\n",
       "    <tr>\n",
       "      <th>2018-12-14</th>\n",
       "      <td>157.44</td>\n",
       "      <td>160.11</td>\n",
       "      <td>996.78</td>\n",
       "      <td>999.52</td>\n",
       "      <td>2.74</td>\n",
       "      <td>2.67</td>\n",
       "    </tr>\n",
       "    <tr>\n",
       "      <th>2018-12-15</th>\n",
       "      <td>158.97</td>\n",
       "      <td>159.64</td>\n",
       "      <td>996.66</td>\n",
       "      <td>994.79</td>\n",
       "      <td>-1.87</td>\n",
       "      <td>0.67</td>\n",
       "    </tr>\n",
       "    <tr>\n",
       "      <th>2018-12-16</th>\n",
       "      <td>158.54</td>\n",
       "      <td>162.48</td>\n",
       "      <td>997.93</td>\n",
       "      <td>999.80</td>\n",
       "      <td>1.87</td>\n",
       "      <td>3.94</td>\n",
       "    </tr>\n",
       "    <tr>\n",
       "      <th>2018-12-17</th>\n",
       "      <td>157.83</td>\n",
       "      <td>155.94</td>\n",
       "      <td>999.17</td>\n",
       "      <td>998.17</td>\n",
       "      <td>-1.00</td>\n",
       "      <td>-1.89</td>\n",
       "    </tr>\n",
       "    <tr>\n",
       "      <th>2018-12-18</th>\n",
       "      <td>158.79</td>\n",
       "      <td>160.08</td>\n",
       "      <td>997.43</td>\n",
       "      <td>1000.25</td>\n",
       "      <td>2.82</td>\n",
       "      <td>1.29</td>\n",
       "    </tr>\n",
       "    <tr>\n",
       "      <th>2018-12-19</th>\n",
       "      <td>156.84</td>\n",
       "      <td>157.68</td>\n",
       "      <td>996.50</td>\n",
       "      <td>997.74</td>\n",
       "      <td>1.24</td>\n",
       "      <td>0.84</td>\n",
       "    </tr>\n",
       "    <tr>\n",
       "      <th>2018-12-20</th>\n",
       "      <td>155.08</td>\n",
       "      <td>156.10</td>\n",
       "      <td>999.30</td>\n",
       "      <td>999.01</td>\n",
       "      <td>-0.29</td>\n",
       "      <td>1.02</td>\n",
       "    </tr>\n",
       "    <tr>\n",
       "      <th>2018-12-21</th>\n",
       "      <td>158.35</td>\n",
       "      <td>158.36</td>\n",
       "      <td>996.79</td>\n",
       "      <td>999.26</td>\n",
       "      <td>2.47</td>\n",
       "      <td>0.01</td>\n",
       "    </tr>\n",
       "    <tr>\n",
       "      <th>2018-12-22</th>\n",
       "      <td>158.55</td>\n",
       "      <td>161.05</td>\n",
       "      <td>999.92</td>\n",
       "      <td>1001.61</td>\n",
       "      <td>1.69</td>\n",
       "      <td>2.50</td>\n",
       "    </tr>\n",
       "    <tr>\n",
       "      <th>2018-12-23</th>\n",
       "      <td>155.53</td>\n",
       "      <td>156.08</td>\n",
       "      <td>998.67</td>\n",
       "      <td>1000.75</td>\n",
       "      <td>2.08</td>\n",
       "      <td>0.55</td>\n",
       "    </tr>\n",
       "    <tr>\n",
       "      <th>2018-12-24</th>\n",
       "      <td>157.13</td>\n",
       "      <td>158.59</td>\n",
       "      <td>999.29</td>\n",
       "      <td>999.59</td>\n",
       "      <td>0.30</td>\n",
       "      <td>1.46</td>\n",
       "    </tr>\n",
       "  </tbody>\n",
       "</table>\n",
       "</div>"
      ],
      "text/plain": [
       "            AAPL Open  AAPL Close  GOOG Open  GOOG Close  GOOG Diff  AAPL Diff\n",
       "2018-11-25     157.12      157.44     996.18      999.65       3.47       0.32\n",
       "2018-11-26     156.96      156.62     998.67      997.63      -1.04      -0.34\n",
       "2018-11-27     158.97      158.40     999.15      998.98      -0.17      -0.57\n",
       "2018-11-28     158.98      158.05     997.40     1001.09       3.69      -0.93\n",
       "2018-11-29     156.08      157.01     997.53     1000.89       3.36       0.93\n",
       "2018-11-30     157.19      156.08     999.53      999.18      -0.35      -1.11\n",
       "2018-12-01     158.48      157.49     996.49     1000.18       3.69      -0.99\n",
       "2018-12-02     157.53      161.20     996.52      994.87      -1.65       3.67\n",
       "2018-12-03     156.76      155.59     999.20      997.85      -1.35      -1.17\n",
       "2018-12-04     158.28      160.29     996.96      998.33       1.37       2.01\n",
       "2018-12-05     155.81      153.87     997.67      999.71       2.04      -1.94\n",
       "2018-12-06     156.29      160.28     997.80     1001.24       3.44       3.99\n",
       "2018-12-07     155.12      153.62     996.42      999.46       3.04      -1.50\n",
       "2018-12-08     157.16      158.15     997.99     1001.80       3.81       0.99\n",
       "2018-12-09     158.76      157.21     998.41     1001.52       3.11      -1.55\n",
       "2018-12-10     158.75      160.26     996.22      998.43       2.21       1.51\n",
       "2018-12-11     155.05      157.38     997.57      998.21       0.64       2.33\n",
       "2018-12-12     157.97      156.07     996.02      995.27      -0.75      -1.90\n",
       "2018-12-13     155.06      155.39     999.20     1001.81       2.61       0.33\n",
       "2018-12-14     157.44      160.11     996.78      999.52       2.74       2.67\n",
       "2018-12-15     158.97      159.64     996.66      994.79      -1.87       0.67\n",
       "2018-12-16     158.54      162.48     997.93      999.80       1.87       3.94\n",
       "2018-12-17     157.83      155.94     999.17      998.17      -1.00      -1.89\n",
       "2018-12-18     158.79      160.08     997.43     1000.25       2.82       1.29\n",
       "2018-12-19     156.84      157.68     996.50      997.74       1.24       0.84\n",
       "2018-12-20     155.08      156.10     999.30      999.01      -0.29       1.02\n",
       "2018-12-21     158.35      158.36     996.79      999.26       2.47       0.01\n",
       "2018-12-22     158.55      161.05     999.92     1001.61       1.69       2.50\n",
       "2018-12-23     155.53      156.08     998.67     1000.75       2.08       0.55\n",
       "2018-12-24     157.13      158.59     999.29      999.59       0.30       1.46"
      ]
     },
     "execution_count": 21,
     "metadata": {},
     "output_type": "execute_result"
    }
   ],
   "source": [
    "stock_df['GOOG Diff'] = stock_df['GOOG Close'] - stock_df['GOOG Open']\n",
    "stock_df['AAPL Diff'] = stock_df['AAPL Close'] - stock_df['AAPL Open']\n",
    "stock_df"
   ]
  },
  {
   "cell_type": "markdown",
   "metadata": {},
   "source": [
    "Let's do a couple of visualizations.  Let's plot  line graph for both Google and Apple showing both the open and close lines. "
   ]
  },
  {
   "cell_type": "code",
   "execution_count": 22,
   "metadata": {},
   "outputs": [
    {
     "name": "stderr",
     "output_type": "stream",
     "text": [
      "C:\\Users\\bbrelin\\Anaconda3\\lib\\site-packages\\pandas\\plotting\\_converter.py:129: FutureWarning: Using an implicitly registered datetime converter for a matplotlib plotting method. The converter was registered by pandas on import. Future versions of pandas will require you to explicitly register matplotlib converters.\n",
      "\n",
      "To register the converters:\n",
      "\t>>> from pandas.plotting import register_matplotlib_converters\n",
      "\t>>> register_matplotlib_converters()\n",
      "  warnings.warn(msg, FutureWarning)\n"
     ]
    },
    {
     "ename": "AttributeError",
     "evalue": "'AxesSubplot' object has no attribute 'set_legend'",
     "output_type": "error",
     "traceback": [
      "\u001b[1;31m---------------------------------------------------------------------------\u001b[0m",
      "\u001b[1;31mAttributeError\u001b[0m                            Traceback (most recent call last)",
      "\u001b[1;32m<ipython-input-22-87ef427d8209>\u001b[0m in \u001b[0;36m<module>\u001b[1;34m\u001b[0m\n\u001b[0;32m      8\u001b[0m \u001b[0max2\u001b[0m\u001b[1;33m.\u001b[0m\u001b[0mplot\u001b[0m\u001b[1;33m(\u001b[0m\u001b[0mstock_df\u001b[0m\u001b[1;33m[\u001b[0m\u001b[1;34m'GOOG Close'\u001b[0m\u001b[1;33m]\u001b[0m\u001b[1;33m,\u001b[0m \u001b[0mlabel\u001b[0m \u001b[1;33m=\u001b[0m \u001b[1;34m'GOOG Close'\u001b[0m\u001b[1;33m)\u001b[0m\u001b[1;33m\u001b[0m\u001b[1;33m\u001b[0m\u001b[0m\n\u001b[0;32m      9\u001b[0m \u001b[0max2\u001b[0m\u001b[1;33m.\u001b[0m\u001b[0mset_title\u001b[0m \u001b[1;33m(\u001b[0m\u001b[1;34m'Google Stock Price'\u001b[0m\u001b[1;33m)\u001b[0m\u001b[1;33m\u001b[0m\u001b[1;33m\u001b[0m\u001b[0m\n\u001b[1;32m---> 10\u001b[1;33m \u001b[0max2\u001b[0m\u001b[1;33m.\u001b[0m\u001b[0mset_legend\u001b[0m\u001b[1;33m(\u001b[0m\u001b[1;34m'Google Stock Price'\u001b[0m\u001b[1;33m)\u001b[0m\u001b[1;33m\u001b[0m\u001b[1;33m\u001b[0m\u001b[0m\n\u001b[0m\u001b[0;32m     11\u001b[0m \u001b[1;31m#ax2.plot(stock_df['GOOG Close'], label = 'GOOG Close')\u001b[0m\u001b[1;33m\u001b[0m\u001b[1;33m\u001b[0m\u001b[1;33m\u001b[0m\u001b[0m\n\u001b[0;32m     12\u001b[0m \u001b[1;31m#ax1.title('Apple Stock Price')\u001b[0m\u001b[1;33m\u001b[0m\u001b[1;33m\u001b[0m\u001b[1;33m\u001b[0m\u001b[0m\n",
      "\u001b[1;31mAttributeError\u001b[0m: 'AxesSubplot' object has no attribute 'set_legend'"
     ]
    },
    {
     "data": {
      "image/png": "[encoded data removed]",
      "text/plain": [
       "<Figure size 1152x576 with 2 Axes>"
      ]
     },
     "metadata": {
      "needs_background": "light"
     },
     "output_type": "display_data"
    }
   ],
   "source": [
    "fig = plt.figure(figsize=(16,8))\n",
    "ax1 = fig.add_subplot(2,1,1)\n",
    "ax1.plot(stock_df['AAPL Open'], label = 'AAPL Open')\n",
    "ax1.plot(stock_df['AAPL Close'], label = 'AAPL Close')\n",
    "ax1.set_title('Apple Stock Price')\n",
    "ax2 = fig.add_subplot(2,1,2)\n",
    "ax2.plot(stock_df['GOOG Open'], label = 'GOOG Open')\n",
    "ax2.plot(stock_df['GOOG Close'], label = 'GOOG Close')\n",
    "ax2.set_title ('Google Stock Price')\n",
    "ax2.set_legend('Google Stock Price')\n",
    "#ax2.plot(stock_df['GOOG Close'], label = 'GOOG Close')\n",
    "#ax1.title('Apple Stock Price')\n",
    "#ax1.xlabel('Date')\n",
    "#ax1.ylabel('Price') \n",
    "#ax1.legend()\n",
    "#ax2.title('Google Stock Price')\n",
    "#ax2.xlabel('Date')\n",
    "#ax2.ylabel('Price') \n",
    "#ax2.legend()"
   ]
  },
  {
   "cell_type": "code",
   "execution_count": 23,
   "metadata": {},
   "outputs": [
    {
     "data": {
      "text/plain": [
       "<matplotlib.legend.Legend at 0x18adfad1550>"
      ]
     },
     "execution_count": 23,
     "metadata": {},
     "output_type": "execute_result"
    },
    {
     "data": {
      "image/png": "[encoded data removed]",
      "text/plain": [
       "<Figure size 1152x576 with 1 Axes>"
      ]
     },
     "metadata": {
      "needs_background": "light"
     },
     "output_type": "display_data"
    }
   ],
   "source": [
    "fig = plt.figure(figsize=(16,8))\n",
    "plt.plot(stock_df['GOOG Open'], label = 'GOOG Open')\n",
    "plt.plot(stock_df['GOOG Close'], label = 'GOOG Close')\n",
    "plt.title('Google Stock Price')\n",
    "plt.xlabel('Date')\n",
    "plt.ylabel('Price') \n",
    "plt.legend()"
   ]
  },
  {
   "cell_type": "markdown",
   "metadata": {},
   "source": [
    "We can also use Pandas to immediately calculate some common statistical functions.  For example"
   ]
  },
  {
   "cell_type": "code",
   "execution_count": 24,
   "metadata": {},
   "outputs": [
    {
     "data": {
      "text/plain": [
       "997.7789999999999"
      ]
     },
     "execution_count": 24,
     "metadata": {},
     "output_type": "execute_result"
    }
   ],
   "source": [
    "stock_df['GOOG Open'].mean()"
   ]
  },
  {
   "cell_type": "code",
   "execution_count": 25,
   "metadata": {},
   "outputs": [
    {
     "data": {
      "text/plain": [
       "157.585"
      ]
     },
     "execution_count": 25,
     "metadata": {},
     "output_type": "execute_result"
    }
   ],
   "source": [
    "stock_df['AAPL Close'].median()"
   ]
  },
  {
   "cell_type": "code",
   "execution_count": 26,
   "metadata": {},
   "outputs": [
    {
     "data": {
      "text/plain": [
       "0      994.79\n",
       "1      994.87\n",
       "2      995.27\n",
       "3      997.63\n",
       "4      997.74\n",
       "5      997.85\n",
       "6      998.17\n",
       "7      998.21\n",
       "8      998.33\n",
       "9      998.43\n",
       "10     998.98\n",
       "11     999.01\n",
       "12     999.18\n",
       "13     999.26\n",
       "14     999.46\n",
       "15     999.52\n",
       "16     999.59\n",
       "17     999.65\n",
       "18     999.71\n",
       "19     999.80\n",
       "20    1000.18\n",
       "21    1000.25\n",
       "22    1000.75\n",
       "23    1000.89\n",
       "24    1001.09\n",
       "25    1001.24\n",
       "26    1001.52\n",
       "27    1001.61\n",
       "28    1001.80\n",
       "29    1001.81\n",
       "dtype: float64"
      ]
     },
     "execution_count": 26,
     "metadata": {},
     "output_type": "execute_result"
    }
   ],
   "source": [
    "stock_df['GOOG Close'].mode()"
   ]
  },
  {
   "cell_type": "markdown",
   "metadata": {},
   "source": [
    "In numpy, mean(), median() and mode() all take as a parameter a number that defines whether we want to perform the operation over the columns or over the rows.  "
   ]
  },
  {
   "cell_type": "code",
   "execution_count": 27,
   "metadata": {},
   "outputs": [
    {
     "name": "stdout",
     "output_type": "stream",
     "text": [
      "Mean value for entire array  0.3396700812033381\n",
      "Column mean values  [ 0.90879562  0.05415949 -0.19596634  0.41643095  0.51493069]\n",
      "Row mean values [0.9531558  0.00855434 0.00145987 0.67059901 0.06458138]\n"
     ]
    }
   ],
   "source": [
    "import numpy as np\n",
    "# 5 x 5 array of random numbers. \n",
    "test_array = np.random.randn(5,5)\n",
    "print ('Mean value for entire array ',test_array.mean())\n",
    "print ('Column mean values ', test_array.mean(0))\n",
    "print ('Row mean values',test_array.mean(1))"
   ]
  },
  {
   "cell_type": "markdown",
   "metadata": {},
   "source": [
    "In a Pandas dataframe, the default behavior (i.e. no parameter specified) is to compute the mean over the columns. Supplying a 1 computes the row means. "
   ]
  },
  {
   "cell_type": "markdown",
   "metadata": {},
   "source": [
    "In our previous stock data, if we subtract the daily price from the mean, we'll get the deviations from the mean for each timestamp. "
   ]
  },
  {
   "cell_type": "code",
   "execution_count": 28,
   "metadata": {},
   "outputs": [
    {
     "name": "stdout",
     "output_type": "stream",
     "text": [
      "            AAPL Open  AAPL Close  GOOG Open  GOOG Close  GOOG Diff  AAPL Diff\n",
      "2018-11-25  -0.192333   -0.443667     -1.599    0.430333   2.029333  -0.251333\n",
      "2018-11-26  -0.352333   -1.263667      0.891   -1.589667  -2.480667  -0.911333\n",
      "2018-11-27   1.657667    0.516333      1.371   -0.239667  -1.610667  -1.141333\n",
      "2018-11-28   1.667667    0.166333     -0.379    1.870333   2.249333  -1.501333\n",
      "2018-11-29  -1.232333   -0.873667     -0.249    1.670333   1.919333   0.358667\n",
      "2018-11-30  -0.122333   -1.803667      1.751   -0.039667  -1.790667  -1.681333\n",
      "2018-12-01   1.167667   -0.393667     -1.289    0.960333   2.249333  -1.561333\n",
      "2018-12-02   0.217667    3.316333     -1.259   -4.349667  -3.090667   3.098667\n",
      "2018-12-03  -0.552333   -2.293667      1.421   -1.369667  -2.790667  -1.741333\n",
      "2018-12-04   0.967667    2.406333     -0.819   -0.889667  -0.070667   1.438667\n",
      "2018-12-05  -1.502333   -4.013667     -0.109    0.490333   0.599333  -2.511333\n",
      "2018-12-06  -1.022333    2.396333      0.021    2.020333   1.999333   3.418667\n",
      "2018-12-07  -2.192333   -4.263667     -1.359    0.240333   1.599333  -2.071333\n",
      "2018-12-08  -0.152333    0.266333      0.211    2.580333   2.369333   0.418667\n",
      "2018-12-09   1.447667   -0.673667      0.631    2.300333   1.669333  -2.121333\n",
      "2018-12-10   1.437667    2.376333     -1.559   -0.789667   0.769333   0.938667\n",
      "2018-12-11  -2.262333   -0.503667     -0.209   -1.009667  -0.800667   1.758667\n",
      "2018-12-12   0.657667   -1.813667     -1.759   -3.949667  -2.190667  -2.471333\n",
      "2018-12-13  -2.252333   -2.493667      1.421    2.590333   1.169333  -0.241333\n",
      "2018-12-14   0.127667    2.226333     -0.999    0.300333   1.299333   2.098667\n",
      "2018-12-15   1.657667    1.756333     -1.119   -4.429667  -3.310667   0.098667\n",
      "2018-12-16   1.227667    4.596333      0.151    0.580333   0.429333   3.368667\n",
      "2018-12-17   0.517667   -1.943667      1.391   -1.049667  -2.440667  -2.461333\n",
      "2018-12-18   1.477667    2.196333     -0.349    1.030333   1.379333   0.718667\n",
      "2018-12-19  -0.472333   -0.203667     -1.279   -1.479667  -0.200667   0.268667\n",
      "2018-12-20  -2.232333   -1.783667      1.521   -0.209667  -1.730667   0.448667\n",
      "2018-12-21   1.037667    0.476333     -0.989    0.040333   1.029333  -0.561333\n",
      "2018-12-22   1.237667    3.166333      2.141    2.390333   0.249333   1.928667\n",
      "2018-12-23  -1.782333   -1.803667      0.891    1.530333   0.639333  -0.021333\n",
      "2018-12-24  -0.182333    0.706333      1.511    0.370333  -1.140667   0.888667\n"
     ]
    }
   ],
   "source": [
    "print(stock_df - stock_df.mean())"
   ]
  },
  {
   "cell_type": "markdown",
   "metadata": {},
   "source": [
    "One very nice feature of Pandas is boolean selection, i.e. We can select on rows or columns according to some boolean expression.  For example, if we want to select all rows where the price of AAPL close is > 158.50 USD, we can do the following.  "
   ]
  },
  {
   "cell_type": "code",
   "execution_count": 29,
   "metadata": {
    "scrolled": true
   },
   "outputs": [
    {
     "name": "stdout",
     "output_type": "stream",
     "text": [
      "            AAPL Open  AAPL Close  GOOG Open  GOOG Close  GOOG Diff  AAPL Diff\n",
      "2018-12-02        NaN      161.20     996.52      994.87        NaN        NaN\n",
      "2018-12-04        NaN      160.29     996.96      998.33        NaN        NaN\n",
      "2018-12-06        NaN      160.28     997.80     1001.24        NaN        NaN\n",
      "2018-12-10        NaN      160.26     996.22      998.43        NaN        NaN\n",
      "2018-12-14        NaN      160.11     996.78      999.52        NaN        NaN\n",
      "2018-12-15        NaN      159.64     996.66      994.79        NaN        NaN\n",
      "2018-12-16        NaN      162.48     997.93      999.80        NaN        NaN\n",
      "2018-12-18        NaN      160.08     997.43     1000.25        NaN        NaN\n",
      "2018-12-22        NaN      161.05     999.92     1001.61        NaN        NaN\n"
     ]
    }
   ],
   "source": [
    "aapl_close = stock_df[stock_df['AAPL Close'] > 159.5]\n",
    "#stock_df['AAPL Close']\n",
    "print (aapl_close[aapl_close > 159.5])"
   ]
  },
  {
   "cell_type": "code",
   "execution_count": 30,
   "metadata": {},
   "outputs": [
    {
     "data": {
      "text/html": [
       "<div>\n",
       "<style scoped>\n",
       "    .dataframe tbody tr th:only-of-type {\n",
       "        vertical-align: middle;\n",
       "    }\n",
       "\n",
       "    .dataframe tbody tr th {\n",
       "        vertical-align: top;\n",
       "    }\n",
       "\n",
       "    .dataframe thead th {\n",
       "        text-align: right;\n",
       "    }\n",
       "</style>\n",
       "<table border=\"1\" class=\"dataframe\">\n",
       "  <thead>\n",
       "    <tr style=\"text-align: right;\">\n",
       "      <th></th>\n",
       "      <th>Kilowatt/Hours</th>\n",
       "      <th>Megawatt/Hours</th>\n",
       "    </tr>\n",
       "  </thead>\n",
       "  <tbody>\n",
       "    <tr>\n",
       "      <th>0</th>\n",
       "      <td>20000</td>\n",
       "      <td>20.0</td>\n",
       "    </tr>\n",
       "    <tr>\n",
       "      <th>1</th>\n",
       "      <td>15000</td>\n",
       "      <td>15.0</td>\n",
       "    </tr>\n",
       "    <tr>\n",
       "      <th>2</th>\n",
       "      <td>30000</td>\n",
       "      <td>30.0</td>\n",
       "    </tr>\n",
       "    <tr>\n",
       "      <th>3</th>\n",
       "      <td>50000</td>\n",
       "      <td>50.0</td>\n",
       "    </tr>\n",
       "  </tbody>\n",
       "</table>\n",
       "</div>"
      ],
      "text/plain": [
       "   Kilowatt/Hours  Megawatt/Hours\n",
       "0           20000            20.0\n",
       "1           15000            15.0\n",
       "2           30000            30.0\n",
       "3           50000            50.0"
      ]
     },
     "execution_count": 30,
     "metadata": {},
     "output_type": "execute_result"
    }
   ],
   "source": [
    "import pandas as pd\n",
    "power_metrics = [20000, 15000, 30000, 50000]\n",
    "power_df = pd.DataFrame(power_metrics,columns = ['Kilowatt/Hours'])\n",
    "power_df\n",
    "power_df['Megawatt/Hours'] = power_df['Kilowatt/Hours'].apply(lambda x: x/1000)\n",
    "power_df"
   ]
  },
  {
   "cell_type": "code",
   "execution_count": 31,
   "metadata": {},
   "outputs": [
    {
     "data": {
      "text/html": [
       "<div>\n",
       "<style scoped>\n",
       "    .dataframe tbody tr th:only-of-type {\n",
       "        vertical-align: middle;\n",
       "    }\n",
       "\n",
       "    .dataframe tbody tr th {\n",
       "        vertical-align: top;\n",
       "    }\n",
       "\n",
       "    .dataframe thead th {\n",
       "        text-align: right;\n",
       "    }\n",
       "</style>\n",
       "<table border=\"1\" class=\"dataframe\">\n",
       "  <thead>\n",
       "    <tr style=\"text-align: right;\">\n",
       "      <th></th>\n",
       "      <th>AAPL Open</th>\n",
       "      <th>AAPL Close</th>\n",
       "      <th>GOOG Open</th>\n",
       "      <th>GOOG Close</th>\n",
       "      <th>GOOG Diff</th>\n",
       "      <th>AAPL Diff</th>\n",
       "    </tr>\n",
       "  </thead>\n",
       "  <tbody>\n",
       "    <tr>\n",
       "      <th>2018-12-06</th>\n",
       "      <td>157.29</td>\n",
       "      <td>161.28</td>\n",
       "      <td>998.80</td>\n",
       "      <td>1002.24</td>\n",
       "      <td>4.44</td>\n",
       "      <td>4.99</td>\n",
       "    </tr>\n",
       "    <tr>\n",
       "      <th>2018-12-18</th>\n",
       "      <td>159.79</td>\n",
       "      <td>161.08</td>\n",
       "      <td>998.43</td>\n",
       "      <td>1001.25</td>\n",
       "      <td>3.82</td>\n",
       "      <td>2.29</td>\n",
       "    </tr>\n",
       "    <tr>\n",
       "      <th>2018-12-22</th>\n",
       "      <td>159.55</td>\n",
       "      <td>162.05</td>\n",
       "      <td>1000.92</td>\n",
       "      <td>1002.61</td>\n",
       "      <td>2.69</td>\n",
       "      <td>3.50</td>\n",
       "    </tr>\n",
       "  </tbody>\n",
       "</table>\n",
       "</div>"
      ],
      "text/plain": [
       "            AAPL Open  AAPL Close  GOOG Open  GOOG Close  GOOG Diff  AAPL Diff\n",
       "2018-12-06     157.29      161.28     998.80     1002.24       4.44       4.99\n",
       "2018-12-18     159.79      161.08     998.43     1001.25       3.82       2.29\n",
       "2018-12-22     159.55      162.05    1000.92     1002.61       2.69       3.50"
      ]
     },
     "execution_count": 31,
     "metadata": {},
     "output_type": "execute_result"
    }
   ],
   "source": [
    "#stock_df[[]list of columns]]\n",
    "new_series = stock_df[(stock_df['GOOG Close'] \n",
    "                       > 999.99) & (stock_df['AAPL Close'] > 158.50)].apply(lambda x: x + 1)\n",
    "new_series"
   ]
  },
  {
   "cell_type": "markdown",
   "metadata": {},
   "source": [
    "### Reading data from a csv file into a Pandas dataframe\n",
    "\n",
    "To read data from a csv file into a Pandas dataframe, we can use the 'read_csv' method.  For example, \n",
    "we've written the stock data to a file called 'stock_data.csv'.  Let's read that file from the disk into our stock_df dataframe. Note that we need to set the first column (The date column) to be our index, and then, we rename it to Date. "
   ]
  },
  {
   "cell_type": "code",
   "execution_count": 32,
   "metadata": {},
   "outputs": [],
   "source": [
    "!cat ../data/stock_data.csv"
   ]
  },
  {
   "cell_type": "code",
   "execution_count": 33,
   "metadata": {
    "scrolled": true
   },
   "outputs": [
    {
     "data": {
      "text/html": [
       "<div>\n",
       "<style scoped>\n",
       "    .dataframe tbody tr th:only-of-type {\n",
       "        vertical-align: middle;\n",
       "    }\n",
       "\n",
       "    .dataframe tbody tr th {\n",
       "        vertical-align: top;\n",
       "    }\n",
       "\n",
       "    .dataframe thead th {\n",
       "        text-align: right;\n",
       "    }\n",
       "</style>\n",
       "<table border=\"1\" class=\"dataframe\">\n",
       "  <thead>\n",
       "    <tr style=\"text-align: right;\">\n",
       "      <th></th>\n",
       "      <th>AAPL Open</th>\n",
       "      <th>AAPL Close</th>\n",
       "      <th>GOOG Open</th>\n",
       "      <th>GOOG Close</th>\n",
       "      <th>GOOG Diff</th>\n",
       "      <th>AAPL Diff</th>\n",
       "    </tr>\n",
       "    <tr>\n",
       "      <th>Date</th>\n",
       "      <th></th>\n",
       "      <th></th>\n",
       "      <th></th>\n",
       "      <th></th>\n",
       "      <th></th>\n",
       "      <th></th>\n",
       "    </tr>\n",
       "  </thead>\n",
       "  <tbody>\n",
       "    <tr>\n",
       "      <th>2018-11-25</th>\n",
       "      <td>158.086578</td>\n",
       "      <td>159.42</td>\n",
       "      <td>1000.068966</td>\n",
       "      <td>1001.14</td>\n",
       "      <td>1.071034</td>\n",
       "      <td>1.333422</td>\n",
       "    </tr>\n",
       "    <tr>\n",
       "      <th>2018-11-26</th>\n",
       "      <td>158.861892</td>\n",
       "      <td>159.91</td>\n",
       "      <td>1000.436653</td>\n",
       "      <td>1002.99</td>\n",
       "      <td>2.553347</td>\n",
       "      <td>1.048108</td>\n",
       "    </tr>\n",
       "    <tr>\n",
       "      <th>2018-11-27</th>\n",
       "      <td>158.744276</td>\n",
       "      <td>160.28</td>\n",
       "      <td>999.784424</td>\n",
       "      <td>1002.45</td>\n",
       "      <td>2.665576</td>\n",
       "      <td>1.535724</td>\n",
       "    </tr>\n",
       "    <tr>\n",
       "      <th>2018-11-28</th>\n",
       "      <td>158.912185</td>\n",
       "      <td>160.09</td>\n",
       "      <td>1001.096353</td>\n",
       "      <td>1002.64</td>\n",
       "      <td>1.543647</td>\n",
       "      <td>1.177815</td>\n",
       "    </tr>\n",
       "    <tr>\n",
       "      <th>2018-11-29</th>\n",
       "      <td>158.251492</td>\n",
       "      <td>159.51</td>\n",
       "      <td>999.680920</td>\n",
       "      <td>1002.67</td>\n",
       "      <td>2.989080</td>\n",
       "      <td>1.258508</td>\n",
       "    </tr>\n",
       "    <tr>\n",
       "      <th>2018-11-30</th>\n",
       "      <td>158.689255</td>\n",
       "      <td>160.23</td>\n",
       "      <td>1000.242952</td>\n",
       "      <td>1004.00</td>\n",
       "      <td>3.757048</td>\n",
       "      <td>1.540745</td>\n",
       "    </tr>\n",
       "    <tr>\n",
       "      <th>2018-12-01</th>\n",
       "      <td>158.472305</td>\n",
       "      <td>159.73</td>\n",
       "      <td>1000.891235</td>\n",
       "      <td>1002.10</td>\n",
       "      <td>1.208765</td>\n",
       "      <td>1.257695</td>\n",
       "    </tr>\n",
       "    <tr>\n",
       "      <th>2018-12-02</th>\n",
       "      <td>158.161158</td>\n",
       "      <td>159.71</td>\n",
       "      <td>1001.079926</td>\n",
       "      <td>1002.66</td>\n",
       "      <td>1.580074</td>\n",
       "      <td>1.548842</td>\n",
       "    </tr>\n",
       "    <tr>\n",
       "      <th>2018-12-03</th>\n",
       "      <td>158.144717</td>\n",
       "      <td>159.39</td>\n",
       "      <td>1000.980042</td>\n",
       "      <td>1003.94</td>\n",
       "      <td>2.959958</td>\n",
       "      <td>1.245283</td>\n",
       "    </tr>\n",
       "    <tr>\n",
       "      <th>2018-12-04</th>\n",
       "      <td>158.182346</td>\n",
       "      <td>159.85</td>\n",
       "      <td>1000.928038</td>\n",
       "      <td>1004.22</td>\n",
       "      <td>3.291962</td>\n",
       "      <td>1.667654</td>\n",
       "    </tr>\n",
       "    <tr>\n",
       "      <th>2018-12-05</th>\n",
       "      <td>158.829444</td>\n",
       "      <td>160.51</td>\n",
       "      <td>1001.680707</td>\n",
       "      <td>1003.56</td>\n",
       "      <td>1.879293</td>\n",
       "      <td>1.680556</td>\n",
       "    </tr>\n",
       "    <tr>\n",
       "      <th>2018-12-06</th>\n",
       "      <td>158.919585</td>\n",
       "      <td>159.94</td>\n",
       "      <td>1000.338942</td>\n",
       "      <td>1003.89</td>\n",
       "      <td>3.551058</td>\n",
       "      <td>1.020415</td>\n",
       "    </tr>\n",
       "    <tr>\n",
       "      <th>2018-12-07</th>\n",
       "      <td>158.404707</td>\n",
       "      <td>159.62</td>\n",
       "      <td>1001.534442</td>\n",
       "      <td>1004.87</td>\n",
       "      <td>3.335558</td>\n",
       "      <td>1.215293</td>\n",
       "    </tr>\n",
       "    <tr>\n",
       "      <th>2018-12-08</th>\n",
       "      <td>158.492147</td>\n",
       "      <td>160.47</td>\n",
       "      <td>999.080491</td>\n",
       "      <td>1002.04</td>\n",
       "      <td>2.959509</td>\n",
       "      <td>1.977853</td>\n",
       "    </tr>\n",
       "    <tr>\n",
       "      <th>2018-12-09</th>\n",
       "      <td>158.605630</td>\n",
       "      <td>159.66</td>\n",
       "      <td>1000.606572</td>\n",
       "      <td>1002.95</td>\n",
       "      <td>2.343428</td>\n",
       "      <td>1.054370</td>\n",
       "    </tr>\n",
       "    <tr>\n",
       "      <th>2018-12-10</th>\n",
       "      <td>158.589962</td>\n",
       "      <td>159.79</td>\n",
       "      <td>999.814116</td>\n",
       "      <td>1001.31</td>\n",
       "      <td>1.495884</td>\n",
       "      <td>1.200038</td>\n",
       "    </tr>\n",
       "    <tr>\n",
       "      <th>2018-12-11</th>\n",
       "      <td>158.313406</td>\n",
       "      <td>160.03</td>\n",
       "      <td>1001.750545</td>\n",
       "      <td>1004.84</td>\n",
       "      <td>3.089455</td>\n",
       "      <td>1.716594</td>\n",
       "    </tr>\n",
       "    <tr>\n",
       "      <th>2018-12-12</th>\n",
       "      <td>158.635203</td>\n",
       "      <td>159.76</td>\n",
       "      <td>999.538361</td>\n",
       "      <td>1000.72</td>\n",
       "      <td>1.181639</td>\n",
       "      <td>1.124797</td>\n",
       "    </tr>\n",
       "    <tr>\n",
       "      <th>2018-12-13</th>\n",
       "      <td>158.373672</td>\n",
       "      <td>160.36</td>\n",
       "      <td>999.241369</td>\n",
       "      <td>1000.40</td>\n",
       "      <td>1.158631</td>\n",
       "      <td>1.986328</td>\n",
       "    </tr>\n",
       "    <tr>\n",
       "      <th>2018-12-14</th>\n",
       "      <td>158.135251</td>\n",
       "      <td>160.01</td>\n",
       "      <td>999.091262</td>\n",
       "      <td>1000.23</td>\n",
       "      <td>1.138738</td>\n",
       "      <td>1.874749</td>\n",
       "    </tr>\n",
       "    <tr>\n",
       "      <th>2018-12-15</th>\n",
       "      <td>158.406912</td>\n",
       "      <td>159.48</td>\n",
       "      <td>1000.277230</td>\n",
       "      <td>1003.16</td>\n",
       "      <td>2.882770</td>\n",
       "      <td>1.073088</td>\n",
       "    </tr>\n",
       "    <tr>\n",
       "      <th>2018-12-16</th>\n",
       "      <td>158.215858</td>\n",
       "      <td>159.37</td>\n",
       "      <td>999.235209</td>\n",
       "      <td>1001.26</td>\n",
       "      <td>2.024791</td>\n",
       "      <td>1.154142</td>\n",
       "    </tr>\n",
       "    <tr>\n",
       "      <th>2018-12-17</th>\n",
       "      <td>158.902686</td>\n",
       "      <td>160.90</td>\n",
       "      <td>1001.500747</td>\n",
       "      <td>1003.50</td>\n",
       "      <td>1.999253</td>\n",
       "      <td>1.997314</td>\n",
       "    </tr>\n",
       "    <tr>\n",
       "      <th>2018-12-18</th>\n",
       "      <td>158.424258</td>\n",
       "      <td>159.67</td>\n",
       "      <td>1001.926319</td>\n",
       "      <td>1003.39</td>\n",
       "      <td>1.463681</td>\n",
       "      <td>1.245742</td>\n",
       "    </tr>\n",
       "    <tr>\n",
       "      <th>2018-12-19</th>\n",
       "      <td>158.821701</td>\n",
       "      <td>160.47</td>\n",
       "      <td>1001.119156</td>\n",
       "      <td>1003.96</td>\n",
       "      <td>2.840844</td>\n",
       "      <td>1.648299</td>\n",
       "    </tr>\n",
       "    <tr>\n",
       "      <th>2018-12-20</th>\n",
       "      <td>158.289112</td>\n",
       "      <td>160.04</td>\n",
       "      <td>999.122162</td>\n",
       "      <td>1000.86</td>\n",
       "      <td>1.737838</td>\n",
       "      <td>1.750888</td>\n",
       "    </tr>\n",
       "    <tr>\n",
       "      <th>2018-12-21</th>\n",
       "      <td>158.872964</td>\n",
       "      <td>160.27</td>\n",
       "      <td>999.822928</td>\n",
       "      <td>1003.29</td>\n",
       "      <td>3.467072</td>\n",
       "      <td>1.397036</td>\n",
       "    </tr>\n",
       "    <tr>\n",
       "      <th>2018-12-22</th>\n",
       "      <td>158.785705</td>\n",
       "      <td>160.72</td>\n",
       "      <td>999.608242</td>\n",
       "      <td>1001.39</td>\n",
       "      <td>1.781758</td>\n",
       "      <td>1.934295</td>\n",
       "    </tr>\n",
       "    <tr>\n",
       "      <th>2018-12-23</th>\n",
       "      <td>158.707868</td>\n",
       "      <td>160.18</td>\n",
       "      <td>1001.449018</td>\n",
       "      <td>1003.34</td>\n",
       "      <td>1.890982</td>\n",
       "      <td>1.472132</td>\n",
       "    </tr>\n",
       "    <tr>\n",
       "      <th>2018-12-24</th>\n",
       "      <td>158.260618</td>\n",
       "      <td>159.46</td>\n",
       "      <td>999.110639</td>\n",
       "      <td>1002.09</td>\n",
       "      <td>2.979361</td>\n",
       "      <td>1.199382</td>\n",
       "    </tr>\n",
       "  </tbody>\n",
       "</table>\n",
       "</div>"
      ],
      "text/plain": [
       "             AAPL Open  AAPL Close    GOOG Open  GOOG Close  GOOG Diff  \\\n",
       "Date                                                                     \n",
       "2018-11-25  158.086578      159.42  1000.068966     1001.14   1.071034   \n",
       "2018-11-26  158.861892      159.91  1000.436653     1002.99   2.553347   \n",
       "2018-11-27  158.744276      160.28   999.784424     1002.45   2.665576   \n",
       "2018-11-28  158.912185      160.09  1001.096353     1002.64   1.543647   \n",
       "2018-11-29  158.251492      159.51   999.680920     1002.67   2.989080   \n",
       "2018-11-30  158.689255      160.23  1000.242952     1004.00   3.757048   \n",
       "2018-12-01  158.472305      159.73  1000.891235     1002.10   1.208765   \n",
       "2018-12-02  158.161158      159.71  1001.079926     1002.66   1.580074   \n",
       "2018-12-03  158.144717      159.39  1000.980042     1003.94   2.959958   \n",
       "2018-12-04  158.182346      159.85  1000.928038     1004.22   3.291962   \n",
       "2018-12-05  158.829444      160.51  1001.680707     1003.56   1.879293   \n",
       "2018-12-06  158.919585      159.94  1000.338942     1003.89   3.551058   \n",
       "2018-12-07  158.404707      159.62  1001.534442     1004.87   3.335558   \n",
       "2018-12-08  158.492147      160.47   999.080491     1002.04   2.959509   \n",
       "2018-12-09  158.605630      159.66  1000.606572     1002.95   2.343428   \n",
       "2018-12-10  158.589962      159.79   999.814116     1001.31   1.495884   \n",
       "2018-12-11  158.313406      160.03  1001.750545     1004.84   3.089455   \n",
       "2018-12-12  158.635203      159.76   999.538361     1000.72   1.181639   \n",
       "2018-12-13  158.373672      160.36   999.241369     1000.40   1.158631   \n",
       "2018-12-14  158.135251      160.01   999.091262     1000.23   1.138738   \n",
       "2018-12-15  158.406912      159.48  1000.277230     1003.16   2.882770   \n",
       "2018-12-16  158.215858      159.37   999.235209     1001.26   2.024791   \n",
       "2018-12-17  158.902686      160.90  1001.500747     1003.50   1.999253   \n",
       "2018-12-18  158.424258      159.67  1001.926319     1003.39   1.463681   \n",
       "2018-12-19  158.821701      160.47  1001.119156     1003.96   2.840844   \n",
       "2018-12-20  158.289112      160.04   999.122162     1000.86   1.737838   \n",
       "2018-12-21  158.872964      160.27   999.822928     1003.29   3.467072   \n",
       "2018-12-22  158.785705      160.72   999.608242     1001.39   1.781758   \n",
       "2018-12-23  158.707868      160.18  1001.449018     1003.34   1.890982   \n",
       "2018-12-24  158.260618      159.46   999.110639     1002.09   2.979361   \n",
       "\n",
       "            AAPL Diff  \n",
       "Date                   \n",
       "2018-11-25   1.333422  \n",
       "2018-11-26   1.048108  \n",
       "2018-11-27   1.535724  \n",
       "2018-11-28   1.177815  \n",
       "2018-11-29   1.258508  \n",
       "2018-11-30   1.540745  \n",
       "2018-12-01   1.257695  \n",
       "2018-12-02   1.548842  \n",
       "2018-12-03   1.245283  \n",
       "2018-12-04   1.667654  \n",
       "2018-12-05   1.680556  \n",
       "2018-12-06   1.020415  \n",
       "2018-12-07   1.215293  \n",
       "2018-12-08   1.977853  \n",
       "2018-12-09   1.054370  \n",
       "2018-12-10   1.200038  \n",
       "2018-12-11   1.716594  \n",
       "2018-12-12   1.124797  \n",
       "2018-12-13   1.986328  \n",
       "2018-12-14   1.874749  \n",
       "2018-12-15   1.073088  \n",
       "2018-12-16   1.154142  \n",
       "2018-12-17   1.997314  \n",
       "2018-12-18   1.245742  \n",
       "2018-12-19   1.648299  \n",
       "2018-12-20   1.750888  \n",
       "2018-12-21   1.397036  \n",
       "2018-12-22   1.934295  \n",
       "2018-12-23   1.472132  \n",
       "2018-12-24   1.199382  "
      ]
     },
     "execution_count": 33,
     "metadata": {},
     "output_type": "execute_result"
    }
   ],
   "source": [
    "stock_df = pd.read_csv('../data/stock_data.csv')\n",
    "stock_df.set_index('Unnamed: 0',inplace=True)\n",
    "stock_df.index.names = ['Date']\n",
    "stock_df"
   ]
  },
  {
   "cell_type": "markdown",
   "metadata": {},
   "source": [
    "But we have a problem.  As shown below, when I read in the csv file, the index type is a string.  If we're working with time series data, we really need to change this to a DateTime python object. "
   ]
  },
  {
   "cell_type": "code",
   "execution_count": 38,
   "metadata": {},
   "outputs": [
    {
     "data": {
      "text/plain": [
       "str"
      ]
     },
     "execution_count": 38,
     "metadata": {},
     "output_type": "execute_result"
    }
   ],
   "source": [
    "type (stock_df.index[0])"
   ]
  },
  {
   "cell_type": "code",
   "execution_count": 39,
   "metadata": {},
   "outputs": [
    {
     "data": {
      "text/plain": [
       "pandas._libs.tslib.Timestamp"
      ]
     },
     "execution_count": 39,
     "metadata": {},
     "output_type": "execute_result"
    }
   ],
   "source": [
    "stock_df.index = pd.to_datetime(stock_df.index)\n",
    "type(stock_df.index[0])"
   ]
  },
  {
   "cell_type": "code",
   "execution_count": 40,
   "metadata": {},
   "outputs": [
    {
     "data": {
      "text/html": [
       "<div>\n",
       "<style scoped>\n",
       "    .dataframe tbody tr th:only-of-type {\n",
       "        vertical-align: middle;\n",
       "    }\n",
       "\n",
       "    .dataframe tbody tr th {\n",
       "        vertical-align: top;\n",
       "    }\n",
       "\n",
       "    .dataframe thead th {\n",
       "        text-align: right;\n",
       "    }\n",
       "</style>\n",
       "<table border=\"1\" class=\"dataframe\">\n",
       "  <thead>\n",
       "    <tr style=\"text-align: right;\">\n",
       "      <th></th>\n",
       "      <th>AAPL Open</th>\n",
       "      <th>AAPL Close</th>\n",
       "      <th>GOOG Open</th>\n",
       "      <th>GOOG Close</th>\n",
       "      <th>GOOG Diff</th>\n",
       "      <th>AAPL Diff</th>\n",
       "    </tr>\n",
       "    <tr>\n",
       "      <th>Date</th>\n",
       "      <th></th>\n",
       "      <th></th>\n",
       "      <th></th>\n",
       "      <th></th>\n",
       "      <th></th>\n",
       "      <th></th>\n",
       "    </tr>\n",
       "  </thead>\n",
       "  <tbody>\n",
       "    <tr>\n",
       "      <th>2018-11-25</th>\n",
       "      <td>158.086578</td>\n",
       "      <td>159.42</td>\n",
       "      <td>1000.068966</td>\n",
       "      <td>1001.14</td>\n",
       "      <td>1.071034</td>\n",
       "      <td>1.333422</td>\n",
       "    </tr>\n",
       "    <tr>\n",
       "      <th>2018-11-26</th>\n",
       "      <td>158.861892</td>\n",
       "      <td>159.91</td>\n",
       "      <td>1000.436653</td>\n",
       "      <td>1002.99</td>\n",
       "      <td>2.553347</td>\n",
       "      <td>1.048108</td>\n",
       "    </tr>\n",
       "    <tr>\n",
       "      <th>2018-11-27</th>\n",
       "      <td>158.744276</td>\n",
       "      <td>160.28</td>\n",
       "      <td>999.784424</td>\n",
       "      <td>1002.45</td>\n",
       "      <td>2.665576</td>\n",
       "      <td>1.535724</td>\n",
       "    </tr>\n",
       "    <tr>\n",
       "      <th>2018-11-28</th>\n",
       "      <td>158.912185</td>\n",
       "      <td>160.09</td>\n",
       "      <td>1001.096353</td>\n",
       "      <td>1002.64</td>\n",
       "      <td>1.543647</td>\n",
       "      <td>1.177815</td>\n",
       "    </tr>\n",
       "    <tr>\n",
       "      <th>2018-11-29</th>\n",
       "      <td>158.251492</td>\n",
       "      <td>159.51</td>\n",
       "      <td>999.680920</td>\n",
       "      <td>1002.67</td>\n",
       "      <td>2.989080</td>\n",
       "      <td>1.258508</td>\n",
       "    </tr>\n",
       "  </tbody>\n",
       "</table>\n",
       "</div>"
      ],
      "text/plain": [
       "             AAPL Open  AAPL Close    GOOG Open  GOOG Close  GOOG Diff  \\\n",
       "Date                                                                     \n",
       "2018-11-25  158.086578      159.42  1000.068966     1001.14   1.071034   \n",
       "2018-11-26  158.861892      159.91  1000.436653     1002.99   2.553347   \n",
       "2018-11-27  158.744276      160.28   999.784424     1002.45   2.665576   \n",
       "2018-11-28  158.912185      160.09  1001.096353     1002.64   1.543647   \n",
       "2018-11-29  158.251492      159.51   999.680920     1002.67   2.989080   \n",
       "\n",
       "            AAPL Diff  \n",
       "Date                   \n",
       "2018-11-25   1.333422  \n",
       "2018-11-26   1.048108  \n",
       "2018-11-27   1.535724  \n",
       "2018-11-28   1.177815  \n",
       "2018-11-29   1.258508  "
      ]
     },
     "execution_count": 40,
     "metadata": {},
     "output_type": "execute_result"
    }
   ],
   "source": [
    "stock_df.head()"
   ]
  },
  {
   "cell_type": "markdown",
   "metadata": {},
   "source": [
    "Note that an index is not accessible as column data.  What if I want both?   The date as the index as well as a separate column?\n",
    "\n",
    "Here's the quick solution"
   ]
  },
  {
   "cell_type": "code",
   "execution_count": null,
   "metadata": {},
   "outputs": [],
   "source": [
    "stock_df = pd.read_csv('../data/stock_data.csv')\n",
    "stock_df.set_index('Unnamed: 0',inplace = True, drop = False)\n",
    "stock_df.columns = ['Date', 'AAPL Open', 'AAPL Close','GOOG Open','GOOG Close','AAPL Diff','GOOG Diff']\n",
    "stock_df.index.names = ['Date']\n",
    "stock_df.index = pd.to_datetime(stock_df.index)\n",
    "stock_df['Date'] = pd.to_datetime(stock_df['Date'])\n",
    "stock_df.head(6)"
   ]
  },
  {
   "cell_type": "markdown",
   "metadata": {},
   "source": [
    "### Filling holes in Dataframes"
   ]
  },
  {
   "cell_type": "code",
   "execution_count": 7,
   "metadata": {},
   "outputs": [
    {
     "data": {
      "text/html": [
       "<div>\n",
       "<style scoped>\n",
       "    .dataframe tbody tr th:only-of-type {\n",
       "        vertical-align: middle;\n",
       "    }\n",
       "\n",
       "    .dataframe tbody tr th {\n",
       "        vertical-align: top;\n",
       "    }\n",
       "\n",
       "    .dataframe thead th {\n",
       "        text-align: right;\n",
       "    }\n",
       "</style>\n",
       "<table border=\"1\" class=\"dataframe\">\n",
       "  <thead>\n",
       "    <tr style=\"text-align: right;\">\n",
       "      <th></th>\n",
       "      <th>0</th>\n",
       "      <th>1</th>\n",
       "      <th>2</th>\n",
       "    </tr>\n",
       "  </thead>\n",
       "  <tbody>\n",
       "    <tr>\n",
       "      <th>0</th>\n",
       "      <td>NaN</td>\n",
       "      <td>4.0</td>\n",
       "      <td>5.0</td>\n",
       "    </tr>\n",
       "    <tr>\n",
       "      <th>1</th>\n",
       "      <td>1.0</td>\n",
       "      <td>NaN</td>\n",
       "      <td>NaN</td>\n",
       "    </tr>\n",
       "    <tr>\n",
       "      <th>2</th>\n",
       "      <td>10.0</td>\n",
       "      <td>14.0</td>\n",
       "      <td>NaN</td>\n",
       "    </tr>\n",
       "  </tbody>\n",
       "</table>\n",
       "</div>"
      ],
      "text/plain": [
       "      0     1    2\n",
       "0   NaN   4.0  5.0\n",
       "1   1.0   NaN  NaN\n",
       "2  10.0  14.0  NaN"
      ]
     },
     "execution_count": 7,
     "metadata": {},
     "output_type": "execute_result"
    }
   ],
   "source": [
    "import numpy as np\n",
    "import pandas as pd\n",
    "df = pd.DataFrame([[np.nan,4,5],[1,np.nan,np.nan], [10,14,np.nan]])\n",
    "df"
   ]
  },
  {
   "cell_type": "code",
   "execution_count": 18,
   "metadata": {},
   "outputs": [
    {
     "data": {
      "text/plain": [
       "0    1\n",
       "1    2\n",
       "2    1\n",
       "dtype: int64"
      ]
     },
     "execution_count": 18,
     "metadata": {},
     "output_type": "execute_result"
    }
   ],
   "source": [
    "df.isnull().sum(axis=1)"
   ]
  },
  {
   "cell_type": "code",
   "execution_count": 8,
   "metadata": {},
   "outputs": [
    {
     "data": {
      "text/html": [
       "<div>\n",
       "<style scoped>\n",
       "    .dataframe tbody tr th:only-of-type {\n",
       "        vertical-align: middle;\n",
       "    }\n",
       "\n",
       "    .dataframe tbody tr th {\n",
       "        vertical-align: top;\n",
       "    }\n",
       "\n",
       "    .dataframe thead th {\n",
       "        text-align: right;\n",
       "    }\n",
       "</style>\n",
       "<table border=\"1\" class=\"dataframe\">\n",
       "  <thead>\n",
       "    <tr style=\"text-align: right;\">\n",
       "      <th></th>\n",
       "      <th>0</th>\n",
       "      <th>1</th>\n",
       "      <th>2</th>\n",
       "    </tr>\n",
       "  </thead>\n",
       "  <tbody>\n",
       "    <tr>\n",
       "      <th>0</th>\n",
       "      <td>True</td>\n",
       "      <td>False</td>\n",
       "      <td>False</td>\n",
       "    </tr>\n",
       "    <tr>\n",
       "      <th>1</th>\n",
       "      <td>False</td>\n",
       "      <td>True</td>\n",
       "      <td>True</td>\n",
       "    </tr>\n",
       "    <tr>\n",
       "      <th>2</th>\n",
       "      <td>False</td>\n",
       "      <td>False</td>\n",
       "      <td>True</td>\n",
       "    </tr>\n",
       "  </tbody>\n",
       "</table>\n",
       "</div>"
      ],
      "text/plain": [
       "       0      1      2\n",
       "0   True  False  False\n",
       "1  False   True   True\n",
       "2  False  False   True"
      ]
     },
     "execution_count": 8,
     "metadata": {},
     "output_type": "execute_result"
    }
   ],
   "source": [
    "df.isnull()"
   ]
  },
  {
   "cell_type": "code",
   "execution_count": 10,
   "metadata": {},
   "outputs": [
    {
     "data": {
      "text/html": [
       "<div>\n",
       "<style scoped>\n",
       "    .dataframe tbody tr th:only-of-type {\n",
       "        vertical-align: middle;\n",
       "    }\n",
       "\n",
       "    .dataframe tbody tr th {\n",
       "        vertical-align: top;\n",
       "    }\n",
       "\n",
       "    .dataframe thead th {\n",
       "        text-align: right;\n",
       "    }\n",
       "</style>\n",
       "<table border=\"1\" class=\"dataframe\">\n",
       "  <thead>\n",
       "    <tr style=\"text-align: right;\">\n",
       "      <th></th>\n",
       "      <th>0</th>\n",
       "      <th>1</th>\n",
       "      <th>2</th>\n",
       "    </tr>\n",
       "  </thead>\n",
       "  <tbody>\n",
       "    <tr>\n",
       "      <th>0</th>\n",
       "      <td>False</td>\n",
       "      <td>True</td>\n",
       "      <td>True</td>\n",
       "    </tr>\n",
       "    <tr>\n",
       "      <th>1</th>\n",
       "      <td>True</td>\n",
       "      <td>False</td>\n",
       "      <td>False</td>\n",
       "    </tr>\n",
       "    <tr>\n",
       "      <th>2</th>\n",
       "      <td>True</td>\n",
       "      <td>True</td>\n",
       "      <td>False</td>\n",
       "    </tr>\n",
       "  </tbody>\n",
       "</table>\n",
       "</div>"
      ],
      "text/plain": [
       "       0      1      2\n",
       "0  False   True   True\n",
       "1   True  False  False\n",
       "2   True   True  False"
      ]
     },
     "execution_count": 10,
     "metadata": {},
     "output_type": "execute_result"
    }
   ],
   "source": [
    "df.notnull()"
   ]
  },
  {
   "cell_type": "code",
   "execution_count": 52,
   "metadata": {},
   "outputs": [
    {
     "data": {
      "text/html": [
       "<div>\n",
       "<style scoped>\n",
       "    .dataframe tbody tr th:only-of-type {\n",
       "        vertical-align: middle;\n",
       "    }\n",
       "\n",
       "    .dataframe tbody tr th {\n",
       "        vertical-align: top;\n",
       "    }\n",
       "\n",
       "    .dataframe thead th {\n",
       "        text-align: right;\n",
       "    }\n",
       "</style>\n",
       "<table border=\"1\" class=\"dataframe\">\n",
       "  <thead>\n",
       "    <tr style=\"text-align: right;\">\n",
       "      <th></th>\n",
       "      <th>born</th>\n",
       "      <th>name</th>\n",
       "      <th>toy</th>\n",
       "    </tr>\n",
       "  </thead>\n",
       "  <tbody>\n",
       "    <tr>\n",
       "      <th>0</th>\n",
       "      <td>NaT</td>\n",
       "      <td>Alfred</td>\n",
       "      <td>NaN</td>\n",
       "    </tr>\n",
       "    <tr>\n",
       "      <th>1</th>\n",
       "      <td>1940-04-25</td>\n",
       "      <td>Batman</td>\n",
       "      <td>Batmobile</td>\n",
       "    </tr>\n",
       "    <tr>\n",
       "      <th>2</th>\n",
       "      <td>NaT</td>\n",
       "      <td>Catwoman</td>\n",
       "      <td>Bullwhip</td>\n",
       "    </tr>\n",
       "  </tbody>\n",
       "</table>\n",
       "</div>"
      ],
      "text/plain": [
       "        born      name        toy\n",
       "0        NaT    Alfred        NaN\n",
       "1 1940-04-25    Batman  Batmobile\n",
       "2        NaT  Catwoman   Bullwhip"
      ]
     },
     "execution_count": 52,
     "metadata": {},
     "output_type": "execute_result"
    }
   ],
   "source": [
    "df = pd.DataFrame({\"name\": ['Alfred', 'Batman', 'Catwoman'],\n",
    "                   \"toy\": [np.nan, 'Batmobile', 'Bullwhip'],\n",
    "                    \"born\": [pd.NaT, pd.Timestamp(\"1940-04-25\"),\n",
    "                             pd.NaT]})\n",
    "df"
   ]
  },
  {
   "cell_type": "code",
   "execution_count": 53,
   "metadata": {},
   "outputs": [
    {
     "data": {
      "text/html": [
       "<div>\n",
       "<style scoped>\n",
       "    .dataframe tbody tr th:only-of-type {\n",
       "        vertical-align: middle;\n",
       "    }\n",
       "\n",
       "    .dataframe tbody tr th {\n",
       "        vertical-align: top;\n",
       "    }\n",
       "\n",
       "    .dataframe thead th {\n",
       "        text-align: right;\n",
       "    }\n",
       "</style>\n",
       "<table border=\"1\" class=\"dataframe\">\n",
       "  <thead>\n",
       "    <tr style=\"text-align: right;\">\n",
       "      <th></th>\n",
       "      <th>born</th>\n",
       "      <th>name</th>\n",
       "      <th>toy</th>\n",
       "    </tr>\n",
       "  </thead>\n",
       "  <tbody>\n",
       "    <tr>\n",
       "      <th>1</th>\n",
       "      <td>1940-04-25</td>\n",
       "      <td>Batman</td>\n",
       "      <td>Batmobile</td>\n",
       "    </tr>\n",
       "  </tbody>\n",
       "</table>\n",
       "</div>"
      ],
      "text/plain": [
       "        born    name        toy\n",
       "1 1940-04-25  Batman  Batmobile"
      ]
     },
     "execution_count": 53,
     "metadata": {},
     "output_type": "execute_result"
    }
   ],
   "source": [
    "df.dropna()"
   ]
  },
  {
   "cell_type": "code",
   "execution_count": 50,
   "metadata": {},
   "outputs": [
    {
     "data": {
      "text/html": [
       "<div>\n",
       "<style scoped>\n",
       "    .dataframe tbody tr th:only-of-type {\n",
       "        vertical-align: middle;\n",
       "    }\n",
       "\n",
       "    .dataframe tbody tr th {\n",
       "        vertical-align: top;\n",
       "    }\n",
       "\n",
       "    .dataframe thead th {\n",
       "        text-align: right;\n",
       "    }\n",
       "</style>\n",
       "<table border=\"1\" class=\"dataframe\">\n",
       "  <thead>\n",
       "    <tr style=\"text-align: right;\">\n",
       "      <th></th>\n",
       "      <th>A</th>\n",
       "      <th>B</th>\n",
       "      <th>C</th>\n",
       "      <th>D</th>\n",
       "    </tr>\n",
       "  </thead>\n",
       "  <tbody>\n",
       "    <tr>\n",
       "      <th>0</th>\n",
       "      <td>NaN</td>\n",
       "      <td>2.0</td>\n",
       "      <td>NaN</td>\n",
       "      <td>0</td>\n",
       "    </tr>\n",
       "    <tr>\n",
       "      <th>1</th>\n",
       "      <td>3.0</td>\n",
       "      <td>4.0</td>\n",
       "      <td>NaN</td>\n",
       "      <td>1</td>\n",
       "    </tr>\n",
       "    <tr>\n",
       "      <th>2</th>\n",
       "      <td>NaN</td>\n",
       "      <td>NaN</td>\n",
       "      <td>NaN</td>\n",
       "      <td>5</td>\n",
       "    </tr>\n",
       "    <tr>\n",
       "      <th>3</th>\n",
       "      <td>NaN</td>\n",
       "      <td>3.0</td>\n",
       "      <td>NaN</td>\n",
       "      <td>4</td>\n",
       "    </tr>\n",
       "  </tbody>\n",
       "</table>\n",
       "</div>"
      ],
      "text/plain": [
       "     A    B   C  D\n",
       "0  NaN  2.0 NaN  0\n",
       "1  3.0  4.0 NaN  1\n",
       "2  NaN  NaN NaN  5\n",
       "3  NaN  3.0 NaN  4"
      ]
     },
     "execution_count": 50,
     "metadata": {},
     "output_type": "execute_result"
    }
   ],
   "source": [
    "import pandas as pd\n",
    "import numpy as np\n",
    "df = pd.DataFrame([[np.nan, 2, np.nan, 0],\n",
    "                    [3, 4, np.nan, 1],\n",
    "                   [np.nan, np.nan, np.nan, 5],\n",
    "                  [np.nan, 3, np.nan, 4]],\n",
    "                 columns=list('ABCD'))\n",
    "df"
   ]
  },
  {
   "cell_type": "code",
   "execution_count": 43,
   "metadata": {},
   "outputs": [
    {
     "data": {
      "text/html": [
       "<div>\n",
       "<style scoped>\n",
       "    .dataframe tbody tr th:only-of-type {\n",
       "        vertical-align: middle;\n",
       "    }\n",
       "\n",
       "    .dataframe tbody tr th {\n",
       "        vertical-align: top;\n",
       "    }\n",
       "\n",
       "    .dataframe thead th {\n",
       "        text-align: right;\n",
       "    }\n",
       "</style>\n",
       "<table border=\"1\" class=\"dataframe\">\n",
       "  <thead>\n",
       "    <tr style=\"text-align: right;\">\n",
       "      <th></th>\n",
       "      <th>A</th>\n",
       "      <th>B</th>\n",
       "      <th>C</th>\n",
       "      <th>D</th>\n",
       "    </tr>\n",
       "  </thead>\n",
       "  <tbody>\n",
       "  </tbody>\n",
       "</table>\n",
       "</div>"
      ],
      "text/plain": [
       "Empty DataFrame\n",
       "Columns: [A, B, C, D]\n",
       "Index: []"
      ]
     },
     "execution_count": 43,
     "metadata": {},
     "output_type": "execute_result"
    }
   ],
   "source": [
    "df.dropna()"
   ]
  },
  {
   "cell_type": "code",
   "execution_count": 44,
   "metadata": {},
   "outputs": [
    {
     "data": {
      "text/html": [
       "<div>\n",
       "<style scoped>\n",
       "    .dataframe tbody tr th:only-of-type {\n",
       "        vertical-align: middle;\n",
       "    }\n",
       "\n",
       "    .dataframe tbody tr th {\n",
       "        vertical-align: top;\n",
       "    }\n",
       "\n",
       "    .dataframe thead th {\n",
       "        text-align: right;\n",
       "    }\n",
       "</style>\n",
       "<table border=\"1\" class=\"dataframe\">\n",
       "  <thead>\n",
       "    <tr style=\"text-align: right;\">\n",
       "      <th></th>\n",
       "      <th>A</th>\n",
       "      <th>B</th>\n",
       "      <th>C</th>\n",
       "      <th>D</th>\n",
       "    </tr>\n",
       "  </thead>\n",
       "  <tbody>\n",
       "    <tr>\n",
       "      <th>0</th>\n",
       "      <td>0.0</td>\n",
       "      <td>2.0</td>\n",
       "      <td>0.0</td>\n",
       "      <td>0</td>\n",
       "    </tr>\n",
       "    <tr>\n",
       "      <th>1</th>\n",
       "      <td>3.0</td>\n",
       "      <td>4.0</td>\n",
       "      <td>0.0</td>\n",
       "      <td>1</td>\n",
       "    </tr>\n",
       "    <tr>\n",
       "      <th>2</th>\n",
       "      <td>0.0</td>\n",
       "      <td>0.0</td>\n",
       "      <td>0.0</td>\n",
       "      <td>5</td>\n",
       "    </tr>\n",
       "    <tr>\n",
       "      <th>3</th>\n",
       "      <td>0.0</td>\n",
       "      <td>3.0</td>\n",
       "      <td>0.0</td>\n",
       "      <td>4</td>\n",
       "    </tr>\n",
       "  </tbody>\n",
       "</table>\n",
       "</div>"
      ],
      "text/plain": [
       "     A    B    C  D\n",
       "0  0.0  2.0  0.0  0\n",
       "1  3.0  4.0  0.0  1\n",
       "2  0.0  0.0  0.0  5\n",
       "3  0.0  3.0  0.0  4"
      ]
     },
     "execution_count": 44,
     "metadata": {},
     "output_type": "execute_result"
    }
   ],
   "source": [
    "df.fillna(0)"
   ]
  },
  {
   "cell_type": "code",
   "execution_count": 51,
   "metadata": {},
   "outputs": [
    {
     "data": {
      "text/html": [
       "<div>\n",
       "<style scoped>\n",
       "    .dataframe tbody tr th:only-of-type {\n",
       "        vertical-align: middle;\n",
       "    }\n",
       "\n",
       "    .dataframe tbody tr th {\n",
       "        vertical-align: top;\n",
       "    }\n",
       "\n",
       "    .dataframe thead th {\n",
       "        text-align: right;\n",
       "    }\n",
       "</style>\n",
       "<table border=\"1\" class=\"dataframe\">\n",
       "  <thead>\n",
       "    <tr style=\"text-align: right;\">\n",
       "      <th></th>\n",
       "      <th>A</th>\n",
       "      <th>B</th>\n",
       "      <th>C</th>\n",
       "      <th>D</th>\n",
       "    </tr>\n",
       "  </thead>\n",
       "  <tbody>\n",
       "    <tr>\n",
       "      <th>0</th>\n",
       "      <td>NaN</td>\n",
       "      <td>2.0</td>\n",
       "      <td>NaN</td>\n",
       "      <td>0</td>\n",
       "    </tr>\n",
       "    <tr>\n",
       "      <th>1</th>\n",
       "      <td>3.0</td>\n",
       "      <td>4.0</td>\n",
       "      <td>NaN</td>\n",
       "      <td>1</td>\n",
       "    </tr>\n",
       "    <tr>\n",
       "      <th>2</th>\n",
       "      <td>3.0</td>\n",
       "      <td>4.0</td>\n",
       "      <td>NaN</td>\n",
       "      <td>5</td>\n",
       "    </tr>\n",
       "    <tr>\n",
       "      <th>3</th>\n",
       "      <td>3.0</td>\n",
       "      <td>3.0</td>\n",
       "      <td>NaN</td>\n",
       "      <td>4</td>\n",
       "    </tr>\n",
       "  </tbody>\n",
       "</table>\n",
       "</div>"
      ],
      "text/plain": [
       "     A    B   C  D\n",
       "0  NaN  2.0 NaN  0\n",
       "1  3.0  4.0 NaN  1\n",
       "2  3.0  4.0 NaN  5\n",
       "3  3.0  3.0 NaN  4"
      ]
     },
     "execution_count": 51,
     "metadata": {},
     "output_type": "execute_result"
    }
   ],
   "source": [
    "df.fillna(method='ffill')"
   ]
  },
  {
   "cell_type": "code",
   "execution_count": 46,
   "metadata": {},
   "outputs": [
    {
     "data": {
      "text/html": [
       "<div>\n",
       "<style scoped>\n",
       "    .dataframe tbody tr th:only-of-type {\n",
       "        vertical-align: middle;\n",
       "    }\n",
       "\n",
       "    .dataframe tbody tr th {\n",
       "        vertical-align: top;\n",
       "    }\n",
       "\n",
       "    .dataframe thead th {\n",
       "        text-align: right;\n",
       "    }\n",
       "</style>\n",
       "<table border=\"1\" class=\"dataframe\">\n",
       "  <thead>\n",
       "    <tr style=\"text-align: right;\">\n",
       "      <th></th>\n",
       "      <th>A</th>\n",
       "      <th>B</th>\n",
       "      <th>C</th>\n",
       "      <th>D</th>\n",
       "    </tr>\n",
       "  </thead>\n",
       "  <tbody>\n",
       "    <tr>\n",
       "      <th>0</th>\n",
       "      <td>0.0</td>\n",
       "      <td>2.0</td>\n",
       "      <td>2.0</td>\n",
       "      <td>0</td>\n",
       "    </tr>\n",
       "    <tr>\n",
       "      <th>1</th>\n",
       "      <td>3.0</td>\n",
       "      <td>4.0</td>\n",
       "      <td>2.0</td>\n",
       "      <td>1</td>\n",
       "    </tr>\n",
       "    <tr>\n",
       "      <th>2</th>\n",
       "      <td>0.0</td>\n",
       "      <td>1.0</td>\n",
       "      <td>2.0</td>\n",
       "      <td>5</td>\n",
       "    </tr>\n",
       "    <tr>\n",
       "      <th>3</th>\n",
       "      <td>0.0</td>\n",
       "      <td>3.0</td>\n",
       "      <td>2.0</td>\n",
       "      <td>4</td>\n",
       "    </tr>\n",
       "  </tbody>\n",
       "</table>\n",
       "</div>"
      ],
      "text/plain": [
       "     A    B    C  D\n",
       "0  0.0  2.0  2.0  0\n",
       "1  3.0  4.0  2.0  1\n",
       "2  0.0  1.0  2.0  5\n",
       "3  0.0  3.0  2.0  4"
      ]
     },
     "execution_count": 46,
     "metadata": {},
     "output_type": "execute_result"
    }
   ],
   "source": [
    "values = {'A': 0, 'B': 1, 'C': 2, 'D': 3}\n",
    "df.fillna(value=values)"
   ]
  },
  {
   "cell_type": "code",
   "execution_count": 50,
   "metadata": {},
   "outputs": [
    {
     "data": {
      "text/html": [
       "<div>\n",
       "<style scoped>\n",
       "    .dataframe tbody tr th:only-of-type {\n",
       "        vertical-align: middle;\n",
       "    }\n",
       "\n",
       "    .dataframe tbody tr th {\n",
       "        vertical-align: top;\n",
       "    }\n",
       "\n",
       "    .dataframe thead th {\n",
       "        text-align: right;\n",
       "    }\n",
       "</style>\n",
       "<table border=\"1\" class=\"dataframe\">\n",
       "  <thead>\n",
       "    <tr style=\"text-align: right;\">\n",
       "      <th></th>\n",
       "      <th>A</th>\n",
       "      <th>B</th>\n",
       "      <th>C</th>\n",
       "      <th>D</th>\n",
       "    </tr>\n",
       "  </thead>\n",
       "  <tbody>\n",
       "    <tr>\n",
       "      <th>0</th>\n",
       "      <td>0.0</td>\n",
       "      <td>2.0</td>\n",
       "      <td>2.0</td>\n",
       "      <td>0</td>\n",
       "    </tr>\n",
       "    <tr>\n",
       "      <th>1</th>\n",
       "      <td>3.0</td>\n",
       "      <td>4.0</td>\n",
       "      <td>NaN</td>\n",
       "      <td>1</td>\n",
       "    </tr>\n",
       "    <tr>\n",
       "      <th>2</th>\n",
       "      <td>NaN</td>\n",
       "      <td>1.0</td>\n",
       "      <td>NaN</td>\n",
       "      <td>5</td>\n",
       "    </tr>\n",
       "    <tr>\n",
       "      <th>3</th>\n",
       "      <td>NaN</td>\n",
       "      <td>3.0</td>\n",
       "      <td>NaN</td>\n",
       "      <td>4</td>\n",
       "    </tr>\n",
       "  </tbody>\n",
       "</table>\n",
       "</div>"
      ],
      "text/plain": [
       "     A    B    C  D\n",
       "0  0.0  2.0  2.0  0\n",
       "1  3.0  4.0  NaN  1\n",
       "2  NaN  1.0  NaN  5\n",
       "3  NaN  3.0  NaN  4"
      ]
     },
     "execution_count": 50,
     "metadata": {},
     "output_type": "execute_result"
    }
   ],
   "source": [
    "df.fillna(value=values, limit=1)"
   ]
  },
  {
   "cell_type": "markdown",
   "metadata": {},
   "source": [
    "### Date and Time stamps in Pandas\n",
    "\n",
    "In Numpy, date and time stamps are represented by an eight byte number. \n",
    "You can create them by instantiating a datetime64 object.\n",
    "\n",
    "In Pandas, Datetime stamps represent a 600 year period from 1700-2300 A.D. \n",
    "Finest granularity are nanoseconds. \n",
    "Nanoseconds are important in time series databases such as KDB and some others. \n"
   ]
  },
  {
   "cell_type": "code",
   "execution_count": 30,
   "metadata": {},
   "outputs": [
    {
     "data": {
      "text/plain": [
       "array(['2019-04-14T00:00:00.000000', '2019-04-15T00:00:00.000000',\n",
       "       '2019-04-16T00:00:00.000000', '2019-04-17T00:00:00.000000'],\n",
       "      dtype='datetime64[us]')"
      ]
     },
     "execution_count": 30,
     "metadata": {},
     "output_type": "execute_result"
    }
   ],
   "source": [
    "import numpy as np\n",
    "from datetime import datetime, timedelta\n",
    "time_array = np.arange(datetime(2019,4,14),datetime(2019,4,18),timedelta (days=1))\n",
    "time_array"
   ]
  },
  {
   "cell_type": "markdown",
   "metadata": {},
   "source": [
    "In Pandas, we can create datetime indexes.  All of the scalar values from the datetime index are timestamps. \n",
    "\n",
    "Pandas also supports duplicate timestamps. "
   ]
  },
  {
   "cell_type": "markdown",
   "metadata": {},
   "source": [
    "Pandas timestamps inherit from the datetime.datetime class in Python.\n",
    "We can create our own timestamps using Pandas.  For example:"
   ]
  },
  {
   "cell_type": "code",
   "execution_count": 31,
   "metadata": {},
   "outputs": [
    {
     "data": {
      "text/plain": [
       "Timestamp('2018-03-01 14:01:43')"
      ]
     },
     "execution_count": 31,
     "metadata": {},
     "output_type": "execute_result"
    }
   ],
   "source": [
    "import pandas as pd\n",
    "from datetime import datetime\n",
    "pd.Timestamp('03/01/2018 14:01:43')"
   ]
  },
  {
   "cell_type": "code",
   "execution_count": 32,
   "metadata": {},
   "outputs": [
    {
     "data": {
      "text/plain": [
       "1519912903000000000"
      ]
     },
     "execution_count": 32,
     "metadata": {},
     "output_type": "execute_result"
    }
   ],
   "source": [
    "stamp = pd.Timestamp('03/01/2018 14:01:43')\n",
    "stamp.value # Value in Nanoseconds. "
   ]
  },
  {
   "cell_type": "markdown",
   "metadata": {},
   "source": [
    "Here we can convert a list of dates into an index in a series. Note we use the pd.to_datetime() method to convert the strings into timestamps.  Using isinstance shows that, in fact, converted strings to datetime time stamps. "
   ]
  },
  {
   "cell_type": "code",
   "execution_count": 21,
   "metadata": {},
   "outputs": [
    {
     "data": {
      "text/plain": [
       "['2018-12-25', '2019-01-01', '2019-01-02', '2019-01-03']"
      ]
     },
     "execution_count": 21,
     "metadata": {},
     "output_type": "execute_result"
    }
   ],
   "source": [
    "dates = ['2018-12-25', '2019-01-01', '2019-01-02', '2019-01-03']\n",
    "dates"
   ]
  },
  {
   "cell_type": "code",
   "execution_count": 22,
   "metadata": {},
   "outputs": [
    {
     "data": {
      "text/plain": [
       "2018-12-25    0\n",
       "2019-01-01    1\n",
       "2019-01-02    2\n",
       "2019-01-03    3\n",
       "dtype: int64"
      ]
     },
     "execution_count": 22,
     "metadata": {},
     "output_type": "execute_result"
    }
   ],
   "source": [
    "ts = pd.Series(range(4), index=pd.to_datetime(dates))\n",
    "ts"
   ]
  },
  {
   "cell_type": "code",
   "execution_count": 23,
   "metadata": {},
   "outputs": [
    {
     "data": {
      "text/plain": [
       "True"
      ]
     },
     "execution_count": 23,
     "metadata": {},
     "output_type": "execute_result"
    }
   ],
   "source": [
    "isinstance(ts.index[0],datetime)"
   ]
  },
  {
   "cell_type": "markdown",
   "metadata": {},
   "source": [
    "### More on timeseries indexing. \n",
    "Here we'll create a range of dates."
   ]
  },
  {
   "cell_type": "code",
   "execution_count": 56,
   "metadata": {},
   "outputs": [
    {
     "data": {
      "text/plain": [
       "DatetimeIndex(['2015-01-01', '2015-01-02', '2015-01-03', '2015-01-04',\n",
       "               '2015-01-05', '2015-01-06', '2015-01-07', '2015-01-08',\n",
       "               '2015-01-09', '2015-01-10',\n",
       "               ...\n",
       "               '2017-09-17', '2017-09-18', '2017-09-19', '2017-09-20',\n",
       "               '2017-09-21', '2017-09-22', '2017-09-23', '2017-09-24',\n",
       "               '2017-09-25', '2017-09-26'],\n",
       "              dtype='datetime64[ns]', length=1000, freq='D')"
      ]
     },
     "execution_count": 56,
     "metadata": {},
     "output_type": "execute_result"
    }
   ],
   "source": [
    "from datetime import datetime\n",
    "date_range = pd.date_range('2015-01-01', periods=1000)\n",
    "date_range"
   ]
  },
  {
   "cell_type": "markdown",
   "metadata": {},
   "source": [
    "Note that date_range is a list of datetime objects, with a frequency of 'D', or daily. \n",
    "Now let's create a series with 1000 random numbers. "
   ]
  },
  {
   "cell_type": "code",
   "execution_count": 57,
   "metadata": {},
   "outputs": [
    {
     "data": {
      "text/plain": [
       "2015-01-01      0\n",
       "2015-01-02      1\n",
       "2015-01-03      2\n",
       "2015-01-04      3\n",
       "2015-01-05      4\n",
       "2015-01-06      5\n",
       "2015-01-07      6\n",
       "2015-01-08      7\n",
       "2015-01-09      8\n",
       "2015-01-10      9\n",
       "2015-01-11     10\n",
       "2015-01-12     11\n",
       "2015-01-13     12\n",
       "2015-01-14     13\n",
       "2015-01-15     14\n",
       "2015-01-16     15\n",
       "2015-01-17     16\n",
       "2015-01-18     17\n",
       "2015-01-19     18\n",
       "2015-01-20     19\n",
       "2015-01-21     20\n",
       "2015-01-22     21\n",
       "2015-01-23     22\n",
       "2015-01-24     23\n",
       "2015-01-25     24\n",
       "2015-01-26     25\n",
       "2015-01-27     26\n",
       "2015-01-28     27\n",
       "2015-01-29     28\n",
       "2015-01-30     29\n",
       "             ... \n",
       "2017-08-28    970\n",
       "2017-08-29    971\n",
       "2017-08-30    972\n",
       "2017-08-31    973\n",
       "2017-09-01    974\n",
       "2017-09-02    975\n",
       "2017-09-03    976\n",
       "2017-09-04    977\n",
       "2017-09-05    978\n",
       "2017-09-06    979\n",
       "2017-09-07    980\n",
       "2017-09-08    981\n",
       "2017-09-09    982\n",
       "2017-09-10    983\n",
       "2017-09-11    984\n",
       "2017-09-12    985\n",
       "2017-09-13    986\n",
       "2017-09-14    987\n",
       "2017-09-15    988\n",
       "2017-09-16    989\n",
       "2017-09-17    990\n",
       "2017-09-18    991\n",
       "2017-09-19    992\n",
       "2017-09-20    993\n",
       "2017-09-21    994\n",
       "2017-09-22    995\n",
       "2017-09-23    996\n",
       "2017-09-24    997\n",
       "2017-09-25    998\n",
       "2017-09-26    999\n",
       "Freq: D, Length: 1000, dtype: int64"
      ]
     },
     "execution_count": 57,
     "metadata": {},
     "output_type": "execute_result"
    }
   ],
   "source": [
    "import numpy as np\n",
    "ts  = pd.Series(np.arange(1000), index = date_range)\n",
    "ts"
   ]
  },
  {
   "cell_type": "markdown",
   "metadata": {},
   "source": [
    "We can now access elements of the series via the datetime index.  There are many ways to specify this.  We can specify this by passing in a datetime object. "
   ]
  },
  {
   "cell_type": "code",
   "execution_count": 58,
   "metadata": {},
   "outputs": [
    {
     "data": {
      "text/plain": [
       "643"
      ]
     },
     "execution_count": 58,
     "metadata": {},
     "output_type": "execute_result"
    }
   ],
   "source": [
    "from datetime import datetime\n",
    "ts[datetime(2016,10,5)]"
   ]
  },
  {
   "cell_type": "markdown",
   "metadata": {},
   "source": [
    "We can specify it by passing in the datetime as a string. "
   ]
  },
  {
   "cell_type": "code",
   "execution_count": 59,
   "metadata": {},
   "outputs": [
    {
     "data": {
      "text/plain": [
       "643"
      ]
     },
     "execution_count": 59,
     "metadata": {},
     "output_type": "execute_result"
    }
   ],
   "source": [
    "ts['2016-10-5']"
   ]
  },
  {
   "cell_type": "markdown",
   "metadata": {},
   "source": [
    "We can also pass in the column value related to the index. "
   ]
  },
  {
   "cell_type": "code",
   "execution_count": 60,
   "metadata": {},
   "outputs": [
    {
     "data": {
      "text/plain": [
       "643"
      ]
     },
     "execution_count": 60,
     "metadata": {},
     "output_type": "execute_result"
    }
   ],
   "source": [
    "ts[643]"
   ]
  },
  {
   "cell_type": "markdown",
   "metadata": {},
   "source": [
    "We can slice the time series by dates. "
   ]
  },
  {
   "cell_type": "code",
   "execution_count": 61,
   "metadata": {},
   "outputs": [
    {
     "data": {
      "text/plain": [
       "2016-10-05    643\n",
       "2016-10-06    644\n",
       "2016-10-07    645\n",
       "2016-10-08    646\n",
       "2016-10-09    647\n",
       "2016-10-10    648\n",
       "2016-10-11    649\n",
       "2016-10-12    650\n",
       "2016-10-13    651\n",
       "2016-10-14    652\n",
       "2016-10-15    653\n",
       "2016-10-16    654\n",
       "2016-10-17    655\n",
       "2016-10-18    656\n",
       "2016-10-19    657\n",
       "2016-10-20    658\n",
       "2016-10-21    659\n",
       "2016-10-22    660\n",
       "2016-10-23    661\n",
       "2016-10-24    662\n",
       "2016-10-25    663\n",
       "2016-10-26    664\n",
       "2016-10-27    665\n",
       "2016-10-28    666\n",
       "2016-10-29    667\n",
       "2016-10-30    668\n",
       "2016-10-31    669\n",
       "2016-11-01    670\n",
       "2016-11-02    671\n",
       "2016-11-03    672\n",
       "             ... \n",
       "2017-08-28    970\n",
       "2017-08-29    971\n",
       "2017-08-30    972\n",
       "2017-08-31    973\n",
       "2017-09-01    974\n",
       "2017-09-02    975\n",
       "2017-09-03    976\n",
       "2017-09-04    977\n",
       "2017-09-05    978\n",
       "2017-09-06    979\n",
       "2017-09-07    980\n",
       "2017-09-08    981\n",
       "2017-09-09    982\n",
       "2017-09-10    983\n",
       "2017-09-11    984\n",
       "2017-09-12    985\n",
       "2017-09-13    986\n",
       "2017-09-14    987\n",
       "2017-09-15    988\n",
       "2017-09-16    989\n",
       "2017-09-17    990\n",
       "2017-09-18    991\n",
       "2017-09-19    992\n",
       "2017-09-20    993\n",
       "2017-09-21    994\n",
       "2017-09-22    995\n",
       "2017-09-23    996\n",
       "2017-09-24    997\n",
       "2017-09-25    998\n",
       "2017-09-26    999\n",
       "Freq: D, Length: 357, dtype: int64"
      ]
     },
     "execution_count": 61,
     "metadata": {},
     "output_type": "execute_result"
    }
   ],
   "source": [
    "ts['2016-10-5':]"
   ]
  },
  {
   "cell_type": "code",
   "execution_count": 30,
   "metadata": {},
   "outputs": [
    {
     "data": {
      "text/plain": [
       "2016-10-05    643\n",
       "2016-10-06    644\n",
       "2016-10-07    645\n",
       "2016-10-08    646\n",
       "2016-10-09    647\n",
       "2016-10-10    648\n",
       "2016-10-11    649\n",
       "2016-10-12    650\n",
       "2016-10-13    651\n",
       "2016-10-14    652\n",
       "2016-10-15    653\n",
       "2016-10-16    654\n",
       "2016-10-17    655\n",
       "2016-10-18    656\n",
       "2016-10-19    657\n",
       "2016-10-20    658\n",
       "2016-10-21    659\n",
       "2016-10-22    660\n",
       "2016-10-23    661\n",
       "2016-10-24    662\n",
       "2016-10-25    663\n",
       "2016-10-26    664\n",
       "2016-10-27    665\n",
       "2016-10-28    666\n",
       "2016-10-29    667\n",
       "2016-10-30    668\n",
       "2016-10-31    669\n",
       "2016-11-01    670\n",
       "2016-11-02    671\n",
       "2016-11-03    672\n",
       "             ... \n",
       "2016-12-03    702\n",
       "2016-12-04    703\n",
       "2016-12-05    704\n",
       "2016-12-06    705\n",
       "2016-12-07    706\n",
       "2016-12-08    707\n",
       "2016-12-09    708\n",
       "2016-12-10    709\n",
       "2016-12-11    710\n",
       "2016-12-12    711\n",
       "2016-12-13    712\n",
       "2016-12-14    713\n",
       "2016-12-15    714\n",
       "2016-12-16    715\n",
       "2016-12-17    716\n",
       "2016-12-18    717\n",
       "2016-12-19    718\n",
       "2016-12-20    719\n",
       "2016-12-21    720\n",
       "2016-12-22    721\n",
       "2016-12-23    722\n",
       "2016-12-24    723\n",
       "2016-12-25    724\n",
       "2016-12-26    725\n",
       "2016-12-27    726\n",
       "2016-12-28    727\n",
       "2016-12-29    728\n",
       "2016-12-30    729\n",
       "2016-12-31    730\n",
       "2017-01-01    731\n",
       "Freq: D, Length: 89, dtype: int64"
      ]
     },
     "execution_count": 30,
     "metadata": {},
     "output_type": "execute_result"
    }
   ],
   "source": [
    "ts['2016-10-5':'2017-01-01']"
   ]
  },
  {
   "cell_type": "markdown",
   "metadata": {},
   "source": [
    "Let's shuffle the time stamps in some random fashion. "
   ]
  },
  {
   "cell_type": "code",
   "execution_count": 31,
   "metadata": {},
   "outputs": [
    {
     "data": {
      "text/plain": [
       "2016-07-25    571\n",
       "2015-08-27    238\n",
       "2017-02-05    766\n",
       "2015-04-11    100\n",
       "2016-08-20    597\n",
       "2016-12-31    730\n",
       "2015-08-17    228\n",
       "2016-04-25    480\n",
       "2017-04-11    831\n",
       "2017-09-20    993\n",
       "2015-12-10    343\n",
       "2017-01-17    747\n",
       "2016-03-16    440\n",
       "2015-08-06    217\n",
       "2016-03-03    427\n",
       "2016-02-12    407\n",
       "2015-02-16     46\n",
       "2016-11-01    670\n",
       "2015-01-29     28\n",
       "2015-08-01    212\n",
       "2015-12-26    359\n",
       "2017-07-01    912\n",
       "2016-10-15    653\n",
       "2016-01-22    386\n",
       "2016-06-07    523\n",
       "2015-03-14     72\n",
       "2015-07-03    183\n",
       "2017-06-18    899\n",
       "2016-12-28    727\n",
       "2017-07-08    919\n",
       "             ... \n",
       "2015-07-04    184\n",
       "2016-06-25    541\n",
       "2015-06-16    166\n",
       "2016-09-21    629\n",
       "2017-06-19    900\n",
       "2016-05-08    493\n",
       "2015-07-28    208\n",
       "2016-06-15    531\n",
       "2016-08-31    608\n",
       "2015-12-29    362\n",
       "2016-10-04    642\n",
       "2015-05-25    144\n",
       "2016-08-28    605\n",
       "2015-04-14    103\n",
       "2015-03-02     60\n",
       "2016-07-02    548\n",
       "2015-06-08    158\n",
       "2015-04-16    105\n",
       "2015-03-08     66\n",
       "2015-11-22    325\n",
       "2015-10-21    293\n",
       "2017-02-25    786\n",
       "2015-10-04    276\n",
       "2015-08-02    213\n",
       "2017-05-22    872\n",
       "2017-07-27    938\n",
       "2017-03-05    794\n",
       "2017-02-08    769\n",
       "2015-09-19    261\n",
       "2016-08-15    592\n",
       "Length: 1000, dtype: int64"
      ]
     },
     "execution_count": 31,
     "metadata": {},
     "output_type": "execute_result"
    }
   ],
   "source": [
    "ts2 = ts.take(np.random.permutation(len(ts)))\n",
    "ts2"
   ]
  },
  {
   "cell_type": "markdown",
   "metadata": {},
   "source": [
    "Note that if we slice on this, originally Pandas would throw a TimeSeriesIndex error, but now it does its best to return values within the range of the slice indices. "
   ]
  },
  {
   "cell_type": "code",
   "execution_count": 33,
   "metadata": {},
   "outputs": [
    {
     "data": {
      "text/plain": [
       "2015-08-27    238\n",
       "2015-04-11    100\n",
       "2015-08-17    228\n",
       "2015-12-10    343\n",
       "2015-08-06    217\n",
       "2015-02-16     46\n",
       "2015-01-29     28\n",
       "2015-08-01    212\n",
       "2015-12-26    359\n",
       "2015-03-14     72\n",
       "2015-07-03    183\n",
       "2015-10-31    303\n",
       "2015-11-12    315\n",
       "2015-05-16    135\n",
       "2015-05-01    120\n",
       "2015-07-29    209\n",
       "2015-02-17     47\n",
       "2015-04-02     91\n",
       "2015-07-08    188\n",
       "2015-04-12    101\n",
       "2015-06-30    180\n",
       "2015-02-05     35\n",
       "2015-11-28    331\n",
       "2015-06-14    164\n",
       "2015-10-24    296\n",
       "2015-01-23     22\n",
       "2015-01-04      3\n",
       "2015-01-22     21\n",
       "2015-12-23    356\n",
       "2015-01-06      5\n",
       "             ... \n",
       "2015-06-27    177\n",
       "2015-08-12    223\n",
       "2015-04-07     96\n",
       "2015-02-11     41\n",
       "2015-06-05    155\n",
       "2015-08-14    225\n",
       "2015-05-28    147\n",
       "2015-04-28    117\n",
       "2015-09-02    244\n",
       "2015-03-10     68\n",
       "2015-05-13    132\n",
       "2015-07-12    192\n",
       "2015-01-27     26\n",
       "2015-09-09    251\n",
       "2015-11-14    317\n",
       "2015-07-04    184\n",
       "2015-06-16    166\n",
       "2015-07-28    208\n",
       "2015-12-29    362\n",
       "2015-05-25    144\n",
       "2015-04-14    103\n",
       "2015-03-02     60\n",
       "2015-06-08    158\n",
       "2015-04-16    105\n",
       "2015-03-08     66\n",
       "2015-11-22    325\n",
       "2015-10-21    293\n",
       "2015-10-04    276\n",
       "2015-08-02    213\n",
       "2015-09-19    261\n",
       "Length: 366, dtype: int64"
      ]
     },
     "execution_count": 33,
     "metadata": {},
     "output_type": "execute_result"
    }
   ],
   "source": [
    "ts2['2015-01-01':'2016-01-01']"
   ]
  },
  {
   "cell_type": "markdown",
   "metadata": {},
   "source": [
    "Note that we can select by just year and month and pandas will return all days in that range.  For example:"
   ]
  },
  {
   "cell_type": "code",
   "execution_count": 35,
   "metadata": {},
   "outputs": [
    {
     "data": {
      "text/plain": [
       "2016-01-01    365\n",
       "2016-01-02    366\n",
       "2016-01-03    367\n",
       "2016-01-04    368\n",
       "2016-01-05    369\n",
       "2016-01-06    370\n",
       "2016-01-07    371\n",
       "2016-01-08    372\n",
       "2016-01-09    373\n",
       "2016-01-10    374\n",
       "2016-01-11    375\n",
       "2016-01-12    376\n",
       "2016-01-13    377\n",
       "2016-01-14    378\n",
       "2016-01-15    379\n",
       "2016-01-16    380\n",
       "2016-01-17    381\n",
       "2016-01-18    382\n",
       "2016-01-19    383\n",
       "2016-01-20    384\n",
       "2016-01-21    385\n",
       "2016-01-22    386\n",
       "2016-01-23    387\n",
       "2016-01-24    388\n",
       "2016-01-25    389\n",
       "2016-01-26    390\n",
       "2016-01-27    391\n",
       "2016-01-28    392\n",
       "2016-01-29    393\n",
       "2016-01-30    394\n",
       "2016-01-31    395\n",
       "Freq: D, dtype: int64"
      ]
     },
     "execution_count": 35,
     "metadata": {},
     "output_type": "execute_result"
    }
   ],
   "source": [
    "ts['2016-01']"
   ]
  },
  {
   "cell_type": "markdown",
   "metadata": {},
   "source": [
    "Or, we can slice on multiple months."
   ]
  },
  {
   "cell_type": "code",
   "execution_count": 36,
   "metadata": {},
   "outputs": [
    {
     "data": {
      "text/plain": [
       "2016-01-01    365\n",
       "2016-01-02    366\n",
       "2016-01-03    367\n",
       "2016-01-04    368\n",
       "2016-01-05    369\n",
       "2016-01-06    370\n",
       "2016-01-07    371\n",
       "2016-01-08    372\n",
       "2016-01-09    373\n",
       "2016-01-10    374\n",
       "2016-01-11    375\n",
       "2016-01-12    376\n",
       "2016-01-13    377\n",
       "2016-01-14    378\n",
       "2016-01-15    379\n",
       "2016-01-16    380\n",
       "2016-01-17    381\n",
       "2016-01-18    382\n",
       "2016-01-19    383\n",
       "2016-01-20    384\n",
       "2016-01-21    385\n",
       "2016-01-22    386\n",
       "2016-01-23    387\n",
       "2016-01-24    388\n",
       "2016-01-25    389\n",
       "2016-01-26    390\n",
       "2016-01-27    391\n",
       "2016-01-28    392\n",
       "2016-01-29    393\n",
       "2016-01-30    394\n",
       "             ... \n",
       "2016-03-02    426\n",
       "2016-03-03    427\n",
       "2016-03-04    428\n",
       "2016-03-05    429\n",
       "2016-03-06    430\n",
       "2016-03-07    431\n",
       "2016-03-08    432\n",
       "2016-03-09    433\n",
       "2016-03-10    434\n",
       "2016-03-11    435\n",
       "2016-03-12    436\n",
       "2016-03-13    437\n",
       "2016-03-14    438\n",
       "2016-03-15    439\n",
       "2016-03-16    440\n",
       "2016-03-17    441\n",
       "2016-03-18    442\n",
       "2016-03-19    443\n",
       "2016-03-20    444\n",
       "2016-03-21    445\n",
       "2016-03-22    446\n",
       "2016-03-23    447\n",
       "2016-03-24    448\n",
       "2016-03-25    449\n",
       "2016-03-26    450\n",
       "2016-03-27    451\n",
       "2016-03-28    452\n",
       "2016-03-29    453\n",
       "2016-03-30    454\n",
       "2016-03-31    455\n",
       "Freq: D, Length: 91, dtype: int64"
      ]
     },
     "execution_count": 36,
     "metadata": {},
     "output_type": "execute_result"
    }
   ],
   "source": [
    "ts['2016-01':'2016-03']"
   ]
  },
  {
   "cell_type": "markdown",
   "metadata": {},
   "source": [
    "We can also use the loc() and iloc() methods to select rows in the dataframe (Note that the ix() method has been deprecated in Pandas since version 0.20.)\n",
    "Let's create a new dataframe with four columns and a timestamp index. \n",
    "Each column will be a stock symbol generated with random values between 100.01 USD and 103.90 USD. \n"
   ]
  },
  {
   "cell_type": "code",
   "execution_count": 81,
   "metadata": {},
   "outputs": [
    {
     "data": {
      "text/html": [
       "<div>\n",
       "<style scoped>\n",
       "    .dataframe tbody tr th:only-of-type {\n",
       "        vertical-align: middle;\n",
       "    }\n",
       "\n",
       "    .dataframe tbody tr th {\n",
       "        vertical-align: top;\n",
       "    }\n",
       "\n",
       "    .dataframe thead th {\n",
       "        text-align: right;\n",
       "    }\n",
       "</style>\n",
       "<table border=\"1\" class=\"dataframe\">\n",
       "  <thead>\n",
       "    <tr style=\"text-align: right;\">\n",
       "      <th></th>\n",
       "      <th>AAPL</th>\n",
       "      <th>GOOG</th>\n",
       "      <th>IBM</th>\n",
       "      <th>FB</th>\n",
       "    </tr>\n",
       "  </thead>\n",
       "  <tbody>\n",
       "    <tr>\n",
       "      <th>2015-01-01</th>\n",
       "      <td>101.98</td>\n",
       "      <td>103.50</td>\n",
       "      <td>100.12</td>\n",
       "      <td>103.14</td>\n",
       "    </tr>\n",
       "    <tr>\n",
       "      <th>2015-01-02</th>\n",
       "      <td>100.52</td>\n",
       "      <td>102.77</td>\n",
       "      <td>103.14</td>\n",
       "      <td>102.00</td>\n",
       "    </tr>\n",
       "    <tr>\n",
       "      <th>2015-01-03</th>\n",
       "      <td>103.60</td>\n",
       "      <td>101.13</td>\n",
       "      <td>102.69</td>\n",
       "      <td>100.18</td>\n",
       "    </tr>\n",
       "    <tr>\n",
       "      <th>2015-01-04</th>\n",
       "      <td>100.89</td>\n",
       "      <td>100.83</td>\n",
       "      <td>102.23</td>\n",
       "      <td>103.07</td>\n",
       "    </tr>\n",
       "    <tr>\n",
       "      <th>2015-01-05</th>\n",
       "      <td>103.15</td>\n",
       "      <td>101.01</td>\n",
       "      <td>100.26</td>\n",
       "      <td>101.96</td>\n",
       "    </tr>\n",
       "  </tbody>\n",
       "</table>\n",
       "</div>"
      ],
      "text/plain": [
       "              AAPL    GOOG     IBM      FB\n",
       "2015-01-01  101.98  103.50  100.12  103.14\n",
       "2015-01-02  100.52  102.77  103.14  102.00\n",
       "2015-01-03  103.60  101.13  102.69  100.18\n",
       "2015-01-04  100.89  100.83  102.23  103.07\n",
       "2015-01-05  103.15  101.01  100.26  101.96"
      ]
     },
     "execution_count": 81,
     "metadata": {},
     "output_type": "execute_result"
    }
   ],
   "source": [
    "import random\n",
    "rng =  pd.date_range('2015-01-01',periods=1000)\n",
    "symbols=['AAPL','GOOG','IBM','FB']\n",
    "df  = pd.DataFrame(np.arange(4000).reshape(1000,4),index=rng,columns=symbols)\n",
    "df[symbols] = df[symbols].applymap(lambda v: round(random.uniform(100.01,103.90),2))\n",
    "df.head()"
   ]
  },
  {
   "cell_type": "markdown",
   "metadata": {},
   "source": [
    "Now let's use the loc and iloc methods to select values in the dataframe from the timeseries index."
   ]
  },
  {
   "cell_type": "code",
   "execution_count": 51,
   "metadata": {},
   "outputs": [
    {
     "data": {
      "text/html": [
       "<div>\n",
       "<style scoped>\n",
       "    .dataframe tbody tr th:only-of-type {\n",
       "        vertical-align: middle;\n",
       "    }\n",
       "\n",
       "    .dataframe tbody tr th {\n",
       "        vertical-align: top;\n",
       "    }\n",
       "\n",
       "    .dataframe thead th {\n",
       "        text-align: right;\n",
       "    }\n",
       "</style>\n",
       "<table border=\"1\" class=\"dataframe\">\n",
       "  <thead>\n",
       "    <tr style=\"text-align: right;\">\n",
       "      <th></th>\n",
       "      <th>AAPL</th>\n",
       "      <th>GOOG</th>\n",
       "      <th>IBM</th>\n",
       "      <th>FB</th>\n",
       "    </tr>\n",
       "  </thead>\n",
       "  <tbody>\n",
       "    <tr>\n",
       "      <th>2015-01-01</th>\n",
       "      <td>100.46</td>\n",
       "      <td>103.49</td>\n",
       "      <td>100.30</td>\n",
       "      <td>100.57</td>\n",
       "    </tr>\n",
       "    <tr>\n",
       "      <th>2015-01-02</th>\n",
       "      <td>103.12</td>\n",
       "      <td>102.13</td>\n",
       "      <td>102.60</td>\n",
       "      <td>102.34</td>\n",
       "    </tr>\n",
       "    <tr>\n",
       "      <th>2015-01-03</th>\n",
       "      <td>100.33</td>\n",
       "      <td>101.93</td>\n",
       "      <td>101.53</td>\n",
       "      <td>102.49</td>\n",
       "    </tr>\n",
       "    <tr>\n",
       "      <th>2015-01-04</th>\n",
       "      <td>101.16</td>\n",
       "      <td>100.86</td>\n",
       "      <td>101.42</td>\n",
       "      <td>100.39</td>\n",
       "    </tr>\n",
       "    <tr>\n",
       "      <th>2015-01-05</th>\n",
       "      <td>100.82</td>\n",
       "      <td>102.96</td>\n",
       "      <td>100.82</td>\n",
       "      <td>103.48</td>\n",
       "    </tr>\n",
       "    <tr>\n",
       "      <th>2015-01-06</th>\n",
       "      <td>101.62</td>\n",
       "      <td>102.66</td>\n",
       "      <td>103.89</td>\n",
       "      <td>102.78</td>\n",
       "    </tr>\n",
       "    <tr>\n",
       "      <th>2015-01-07</th>\n",
       "      <td>102.56</td>\n",
       "      <td>102.08</td>\n",
       "      <td>101.05</td>\n",
       "      <td>100.14</td>\n",
       "    </tr>\n",
       "    <tr>\n",
       "      <th>2015-01-08</th>\n",
       "      <td>103.60</td>\n",
       "      <td>101.34</td>\n",
       "      <td>100.97</td>\n",
       "      <td>100.97</td>\n",
       "    </tr>\n",
       "    <tr>\n",
       "      <th>2015-01-09</th>\n",
       "      <td>101.89</td>\n",
       "      <td>100.50</td>\n",
       "      <td>101.73</td>\n",
       "      <td>100.78</td>\n",
       "    </tr>\n",
       "    <tr>\n",
       "      <th>2015-01-10</th>\n",
       "      <td>101.98</td>\n",
       "      <td>102.94</td>\n",
       "      <td>101.48</td>\n",
       "      <td>100.34</td>\n",
       "    </tr>\n",
       "  </tbody>\n",
       "</table>\n",
       "</div>"
      ],
      "text/plain": [
       "              AAPL    GOOG     IBM      FB\n",
       "2015-01-01  100.46  103.49  100.30  100.57\n",
       "2015-01-02  103.12  102.13  102.60  102.34\n",
       "2015-01-03  100.33  101.93  101.53  102.49\n",
       "2015-01-04  101.16  100.86  101.42  100.39\n",
       "2015-01-05  100.82  102.96  100.82  103.48\n",
       "2015-01-06  101.62  102.66  103.89  102.78\n",
       "2015-01-07  102.56  102.08  101.05  100.14\n",
       "2015-01-08  103.60  101.34  100.97  100.97\n",
       "2015-01-09  101.89  100.50  101.73  100.78\n",
       "2015-01-10  101.98  102.94  101.48  100.34"
      ]
     },
     "execution_count": 51,
     "metadata": {},
     "output_type": "execute_result"
    }
   ],
   "source": [
    "df.iloc[0:10]"
   ]
  },
  {
   "cell_type": "code",
   "execution_count": 52,
   "metadata": {},
   "outputs": [
    {
     "data": {
      "text/html": [
       "<div>\n",
       "<style scoped>\n",
       "    .dataframe tbody tr th:only-of-type {\n",
       "        vertical-align: middle;\n",
       "    }\n",
       "\n",
       "    .dataframe tbody tr th {\n",
       "        vertical-align: top;\n",
       "    }\n",
       "\n",
       "    .dataframe thead th {\n",
       "        text-align: right;\n",
       "    }\n",
       "</style>\n",
       "<table border=\"1\" class=\"dataframe\">\n",
       "  <thead>\n",
       "    <tr style=\"text-align: right;\">\n",
       "      <th></th>\n",
       "      <th>AAPL</th>\n",
       "      <th>GOOG</th>\n",
       "      <th>IBM</th>\n",
       "      <th>FB</th>\n",
       "    </tr>\n",
       "  </thead>\n",
       "  <tbody>\n",
       "    <tr>\n",
       "      <th>2015-01-01</th>\n",
       "      <td>100.46</td>\n",
       "      <td>103.49</td>\n",
       "      <td>100.30</td>\n",
       "      <td>100.57</td>\n",
       "    </tr>\n",
       "    <tr>\n",
       "      <th>2015-01-02</th>\n",
       "      <td>103.12</td>\n",
       "      <td>102.13</td>\n",
       "      <td>102.60</td>\n",
       "      <td>102.34</td>\n",
       "    </tr>\n",
       "    <tr>\n",
       "      <th>2015-01-03</th>\n",
       "      <td>100.33</td>\n",
       "      <td>101.93</td>\n",
       "      <td>101.53</td>\n",
       "      <td>102.49</td>\n",
       "    </tr>\n",
       "    <tr>\n",
       "      <th>2015-01-04</th>\n",
       "      <td>101.16</td>\n",
       "      <td>100.86</td>\n",
       "      <td>101.42</td>\n",
       "      <td>100.39</td>\n",
       "    </tr>\n",
       "    <tr>\n",
       "      <th>2015-01-05</th>\n",
       "      <td>100.82</td>\n",
       "      <td>102.96</td>\n",
       "      <td>100.82</td>\n",
       "      <td>103.48</td>\n",
       "    </tr>\n",
       "    <tr>\n",
       "      <th>2015-01-06</th>\n",
       "      <td>101.62</td>\n",
       "      <td>102.66</td>\n",
       "      <td>103.89</td>\n",
       "      <td>102.78</td>\n",
       "    </tr>\n",
       "    <tr>\n",
       "      <th>2015-01-07</th>\n",
       "      <td>102.56</td>\n",
       "      <td>102.08</td>\n",
       "      <td>101.05</td>\n",
       "      <td>100.14</td>\n",
       "    </tr>\n",
       "    <tr>\n",
       "      <th>2015-01-08</th>\n",
       "      <td>103.60</td>\n",
       "      <td>101.34</td>\n",
       "      <td>100.97</td>\n",
       "      <td>100.97</td>\n",
       "    </tr>\n",
       "    <tr>\n",
       "      <th>2015-01-09</th>\n",
       "      <td>101.89</td>\n",
       "      <td>100.50</td>\n",
       "      <td>101.73</td>\n",
       "      <td>100.78</td>\n",
       "    </tr>\n",
       "    <tr>\n",
       "      <th>2015-01-10</th>\n",
       "      <td>101.98</td>\n",
       "      <td>102.94</td>\n",
       "      <td>101.48</td>\n",
       "      <td>100.34</td>\n",
       "    </tr>\n",
       "  </tbody>\n",
       "</table>\n",
       "</div>"
      ],
      "text/plain": [
       "              AAPL    GOOG     IBM      FB\n",
       "2015-01-01  100.46  103.49  100.30  100.57\n",
       "2015-01-02  103.12  102.13  102.60  102.34\n",
       "2015-01-03  100.33  101.93  101.53  102.49\n",
       "2015-01-04  101.16  100.86  101.42  100.39\n",
       "2015-01-05  100.82  102.96  100.82  103.48\n",
       "2015-01-06  101.62  102.66  103.89  102.78\n",
       "2015-01-07  102.56  102.08  101.05  100.14\n",
       "2015-01-08  103.60  101.34  100.97  100.97\n",
       "2015-01-09  101.89  100.50  101.73  100.78\n",
       "2015-01-10  101.98  102.94  101.48  100.34"
      ]
     },
     "execution_count": 52,
     "metadata": {},
     "output_type": "execute_result"
    }
   ],
   "source": [
    "df.loc['2015-01-01':'2015-01-10']"
   ]
  },
  {
   "cell_type": "markdown",
   "metadata": {},
   "source": [
    "Note that we don't have to use loc and iloc.  We can select rows by a number of different methods. \n",
    "For example, using the datetime method to convert strings into datetime objects and then slicing on them. "
   ]
  },
  {
   "cell_type": "code",
   "execution_count": 53,
   "metadata": {},
   "outputs": [
    {
     "data": {
      "text/html": [
       "<div>\n",
       "<style scoped>\n",
       "    .dataframe tbody tr th:only-of-type {\n",
       "        vertical-align: middle;\n",
       "    }\n",
       "\n",
       "    .dataframe tbody tr th {\n",
       "        vertical-align: top;\n",
       "    }\n",
       "\n",
       "    .dataframe thead th {\n",
       "        text-align: right;\n",
       "    }\n",
       "</style>\n",
       "<table border=\"1\" class=\"dataframe\">\n",
       "  <thead>\n",
       "    <tr style=\"text-align: right;\">\n",
       "      <th></th>\n",
       "      <th>AAPL</th>\n",
       "      <th>GOOG</th>\n",
       "      <th>IBM</th>\n",
       "      <th>FB</th>\n",
       "    </tr>\n",
       "  </thead>\n",
       "  <tbody>\n",
       "    <tr>\n",
       "      <th>2015-01-01</th>\n",
       "      <td>100.46</td>\n",
       "      <td>103.49</td>\n",
       "      <td>100.30</td>\n",
       "      <td>100.57</td>\n",
       "    </tr>\n",
       "    <tr>\n",
       "      <th>2015-01-02</th>\n",
       "      <td>103.12</td>\n",
       "      <td>102.13</td>\n",
       "      <td>102.60</td>\n",
       "      <td>102.34</td>\n",
       "    </tr>\n",
       "    <tr>\n",
       "      <th>2015-01-03</th>\n",
       "      <td>100.33</td>\n",
       "      <td>101.93</td>\n",
       "      <td>101.53</td>\n",
       "      <td>102.49</td>\n",
       "    </tr>\n",
       "    <tr>\n",
       "      <th>2015-01-04</th>\n",
       "      <td>101.16</td>\n",
       "      <td>100.86</td>\n",
       "      <td>101.42</td>\n",
       "      <td>100.39</td>\n",
       "    </tr>\n",
       "    <tr>\n",
       "      <th>2015-01-05</th>\n",
       "      <td>100.82</td>\n",
       "      <td>102.96</td>\n",
       "      <td>100.82</td>\n",
       "      <td>103.48</td>\n",
       "    </tr>\n",
       "    <tr>\n",
       "      <th>2015-01-06</th>\n",
       "      <td>101.62</td>\n",
       "      <td>102.66</td>\n",
       "      <td>103.89</td>\n",
       "      <td>102.78</td>\n",
       "    </tr>\n",
       "    <tr>\n",
       "      <th>2015-01-07</th>\n",
       "      <td>102.56</td>\n",
       "      <td>102.08</td>\n",
       "      <td>101.05</td>\n",
       "      <td>100.14</td>\n",
       "    </tr>\n",
       "    <tr>\n",
       "      <th>2015-01-08</th>\n",
       "      <td>103.60</td>\n",
       "      <td>101.34</td>\n",
       "      <td>100.97</td>\n",
       "      <td>100.97</td>\n",
       "    </tr>\n",
       "    <tr>\n",
       "      <th>2015-01-09</th>\n",
       "      <td>101.89</td>\n",
       "      <td>100.50</td>\n",
       "      <td>101.73</td>\n",
       "      <td>100.78</td>\n",
       "    </tr>\n",
       "    <tr>\n",
       "      <th>2015-01-10</th>\n",
       "      <td>101.98</td>\n",
       "      <td>102.94</td>\n",
       "      <td>101.48</td>\n",
       "      <td>100.34</td>\n",
       "    </tr>\n",
       "  </tbody>\n",
       "</table>\n",
       "</div>"
      ],
      "text/plain": [
       "              AAPL    GOOG     IBM      FB\n",
       "2015-01-01  100.46  103.49  100.30  100.57\n",
       "2015-01-02  103.12  102.13  102.60  102.34\n",
       "2015-01-03  100.33  101.93  101.53  102.49\n",
       "2015-01-04  101.16  100.86  101.42  100.39\n",
       "2015-01-05  100.82  102.96  100.82  103.48\n",
       "2015-01-06  101.62  102.66  103.89  102.78\n",
       "2015-01-07  102.56  102.08  101.05  100.14\n",
       "2015-01-08  103.60  101.34  100.97  100.97\n",
       "2015-01-09  101.89  100.50  101.73  100.78\n",
       "2015-01-10  101.98  102.94  101.48  100.34"
      ]
     },
     "execution_count": 53,
     "metadata": {},
     "output_type": "execute_result"
    }
   ],
   "source": [
    "df[datetime(2015,1,1):datetime(2015,1,10)]"
   ]
  },
  {
   "cell_type": "markdown",
   "metadata": {},
   "source": [
    "### Time Series Frequencies"
   ]
  },
  {
   "cell_type": "markdown",
   "metadata": {},
   "source": [
    "Up until now, all of our time series ranges have been on a fixed frequency.  However, it is often the case that we will want a frequency that isn't strictly linear or consecutive.  For example with time series asset data, we will only want time periods that are on a business week cycle rather than a strict calendar cycle. "
   ]
  },
  {
   "cell_type": "markdown",
   "metadata": {},
   "source": [
    "In our first example, let's generate time periods that are monthly, rather than daily. "
   ]
  },
  {
   "cell_type": "code",
   "execution_count": 58,
   "metadata": {},
   "outputs": [
    {
     "data": {
      "text/plain": [
       "DatetimeIndex(['2015-01-31', '2015-02-28', '2015-03-31', '2015-04-30',\n",
       "               '2015-05-31', '2015-06-30', '2015-07-31', '2015-08-31',\n",
       "               '2015-09-30', '2015-10-31', '2015-11-30', '2015-12-31'],\n",
       "              dtype='datetime64[ns]', freq='M')"
      ]
     },
     "execution_count": 58,
     "metadata": {},
     "output_type": "execute_result"
    }
   ],
   "source": [
    "rng = pd.date_range(datetime(2015,1,1),datetime(2015,12,31), period=12, freq = 'M ')\n",
    "rng"
   ]
  },
  {
   "cell_type": "markdown",
   "metadata": {},
   "source": [
    "Note that in the previous example, it generates appropriate month end dates. "
   ]
  },
  {
   "cell_type": "markdown",
   "metadata": {},
   "source": [
    "We can also do the start of the month rather than the end of the month. "
   ]
  },
  {
   "cell_type": "code",
   "execution_count": 34,
   "metadata": {},
   "outputs": [
    {
     "data": {
      "text/plain": [
       "[Timestamp('2015-01-01 00:00:00', freq='MS'),\n",
       " Timestamp('2015-02-01 00:00:00', freq='MS'),\n",
       " Timestamp('2015-03-01 00:00:00', freq='MS'),\n",
       " Timestamp('2015-04-01 00:00:00', freq='MS'),\n",
       " Timestamp('2015-05-01 00:00:00', freq='MS'),\n",
       " Timestamp('2015-06-01 00:00:00', freq='MS'),\n",
       " Timestamp('2015-07-01 00:00:00', freq='MS'),\n",
       " Timestamp('2015-08-01 00:00:00', freq='MS'),\n",
       " Timestamp('2015-09-01 00:00:00', freq='MS'),\n",
       " Timestamp('2015-10-01 00:00:00', freq='MS'),\n",
       " Timestamp('2015-11-01 00:00:00', freq='MS'),\n",
       " Timestamp('2015-12-01 00:00:00', freq='MS')]"
      ]
     },
     "execution_count": 34,
     "metadata": {},
     "output_type": "execute_result"
    }
   ],
   "source": [
    "rng = pd.date_range(datetime(2015,1,1),datetime(2015,12,31), freq = 'MS')\n",
    "list(rng)"
   ]
  },
  {
   "cell_type": "code",
   "execution_count": 35,
   "metadata": {},
   "outputs": [
    {
     "data": {
      "text/plain": [
       "[Timestamp('2015-01-15 00:00:00', freq='SM-15'),\n",
       " Timestamp('2015-01-31 00:00:00', freq='SM-15'),\n",
       " Timestamp('2015-02-15 00:00:00', freq='SM-15'),\n",
       " Timestamp('2015-02-28 00:00:00', freq='SM-15'),\n",
       " Timestamp('2015-03-15 00:00:00', freq='SM-15'),\n",
       " Timestamp('2015-03-31 00:00:00', freq='SM-15'),\n",
       " Timestamp('2015-04-15 00:00:00', freq='SM-15'),\n",
       " Timestamp('2015-04-30 00:00:00', freq='SM-15'),\n",
       " Timestamp('2015-05-15 00:00:00', freq='SM-15'),\n",
       " Timestamp('2015-05-31 00:00:00', freq='SM-15'),\n",
       " Timestamp('2015-06-15 00:00:00', freq='SM-15'),\n",
       " Timestamp('2015-06-30 00:00:00', freq='SM-15'),\n",
       " Timestamp('2015-07-15 00:00:00', freq='SM-15'),\n",
       " Timestamp('2015-07-31 00:00:00', freq='SM-15'),\n",
       " Timestamp('2015-08-15 00:00:00', freq='SM-15'),\n",
       " Timestamp('2015-08-31 00:00:00', freq='SM-15'),\n",
       " Timestamp('2015-09-15 00:00:00', freq='SM-15'),\n",
       " Timestamp('2015-09-30 00:00:00', freq='SM-15'),\n",
       " Timestamp('2015-10-15 00:00:00', freq='SM-15'),\n",
       " Timestamp('2015-10-31 00:00:00', freq='SM-15'),\n",
       " Timestamp('2015-11-15 00:00:00', freq='SM-15'),\n",
       " Timestamp('2015-11-30 00:00:00', freq='SM-15'),\n",
       " Timestamp('2015-12-15 00:00:00', freq='SM-15'),\n",
       " Timestamp('2015-12-31 00:00:00', freq='SM-15')]"
      ]
     },
     "execution_count": 35,
     "metadata": {},
     "output_type": "execute_result"
    }
   ],
   "source": [
    "rng = pd.date_range(datetime(2015,1,1),datetime(2015,12,31), freq = 'SM')\n",
    "list(rng)"
   ]
  },
  {
   "cell_type": "markdown",
   "metadata": {},
   "source": [
    "We can also do periods by weekdays. i.e. normal business days. "
   ]
  },
  {
   "cell_type": "code",
   "execution_count": 36,
   "metadata": {},
   "outputs": [
    {
     "data": {
      "text/plain": [
       "DatetimeIndex(['2015-01-30', '2015-02-27', '2015-03-31', '2015-04-30',\n",
       "               '2015-05-29', '2015-06-30', '2015-07-31', '2015-08-31',\n",
       "               '2015-09-30', '2015-10-30', '2015-11-30', '2015-12-31'],\n",
       "              dtype='datetime64[ns]', freq='BM')"
      ]
     },
     "execution_count": 36,
     "metadata": {},
     "output_type": "execute_result"
    }
   ],
   "source": [
    "rng = pd.date_range(datetime(2015,1,1),datetime(2015,12,31),  freq = 'BM ')\n",
    "rng"
   ]
  },
  {
   "cell_type": "markdown",
   "metadata": {},
   "source": [
    "Or, we can also do business start of the month."
   ]
  },
  {
   "cell_type": "code",
   "execution_count": 37,
   "metadata": {},
   "outputs": [
    {
     "data": {
      "text/plain": [
       "DatetimeIndex(['2015-01-01', '2015-02-02', '2015-03-02', '2015-04-01',\n",
       "               '2015-05-01', '2015-06-01', '2015-07-01', '2015-08-03',\n",
       "               '2015-09-01', '2015-10-01', '2015-11-02', '2015-12-01'],\n",
       "              dtype='datetime64[ns]', freq='BMS')"
      ]
     },
     "execution_count": 37,
     "metadata": {},
     "output_type": "execute_result"
    }
   ],
   "source": [
    "rng = pd.date_range(datetime(2015,1,1),datetime(2015,12,31), freq = 'BMS')\n",
    "rng"
   ]
  },
  {
   "cell_type": "markdown",
   "metadata": {},
   "source": [
    "Note that if you want to check for holidays, it's a bit more involved since each country has its own, specific holidays.  In the following example, we can import the United States federal holiday calendar. \n",
    "Once we've done that, we can use it to do boolean searches and modify our dataframe to exclude specific days. "
   ]
  },
  {
   "cell_type": "code",
   "execution_count": 43,
   "metadata": {},
   "outputs": [
    {
     "data": {
      "text/plain": [
       "['ABCSeries',\n",
       " 'AmbiguousTimeError',\n",
       " 'DateOffset',\n",
       " 'Day',\n",
       " 'Hour',\n",
       " 'MONTH_ALIASES',\n",
       " 'Micro',\n",
       " 'Milli',\n",
       " 'Minute',\n",
       " 'Nano',\n",
       " 'Resolution',\n",
       " 'Second',\n",
       " 'Timedelta',\n",
       " 'Timestamp',\n",
       " 'UTC',\n",
       " '_FrequencyInferer',\n",
       " '_ONE_DAY',\n",
       " '_ONE_HOUR',\n",
       " '_ONE_MICRO',\n",
       " '_ONE_MILLI',\n",
       " '_ONE_MINUTE',\n",
       " '_ONE_SECOND',\n",
       " '_TimedeltaFrequencyInferer',\n",
       " '__builtins__',\n",
       " '__cached__',\n",
       " '__doc__',\n",
       " '__file__',\n",
       " '__loader__',\n",
       " '__name__',\n",
       " '__package__',\n",
       " '__spec__',\n",
       " '_is_multiple',\n",
       " '_maybe_add_count',\n",
       " '_name_to_offset_map',\n",
       " '_offset_map',\n",
       " '_offset_to_period_map',\n",
       " 'build_field_sarray',\n",
       " 'cache_readonly',\n",
       " 'compat',\n",
       " 'get_offset',\n",
       " 'get_period_alias',\n",
       " 'infer_freq',\n",
       " 'int_to_weekday',\n",
       " 'is_datetime64_dtype',\n",
       " 'is_period_arraylike',\n",
       " 'is_timedelta64_dtype',\n",
       " 'libfreqs',\n",
       " 'libresolution',\n",
       " 'np',\n",
       " 'prefix_mapping',\n",
       " 're',\n",
       " 'timedelta',\n",
       " 'to_offset',\n",
       " 'tz_convert',\n",
       " 'unique',\n",
       " 'unique_deltas',\n",
       " 'zip']"
      ]
     },
     "execution_count": 43,
     "metadata": {},
     "output_type": "execute_result"
    }
   ],
   "source": [
    "import pandas\n",
    "dir(pandas.tseries.frequencies\n",
    "   )"
   ]
  },
  {
   "cell_type": "code",
   "execution_count": null,
   "metadata": {},
   "outputs": [],
   "source": [
    "from pandas.tseries.holiday import USFederalHolidayCalendar as calendar\n",
    "rng =  pd.date_range('2015-01-01',periods=1000)\n",
    "symbols=['AAPL','GOOG','IBM','FB']\n",
    "cal = calendar()\n",
    "df  = pd.DataFrame(np.arange(4000).reshape(1000,4),index=rng,columns=symbols)\n",
    "df[symbols] = df[symbols].applymap(lambda v: round(random.uniform(100.01,103.90),2))\n",
    "holidays = cal.holidays(start=df.index.min(), end=df.index.max())\n",
    "df.drop(df[df.index.isin(holidays)].index,inplace=True)\n",
    "df.head(30)"
   ]
  },
  {
   "cell_type": "markdown",
   "metadata": {},
   "source": [
    "Note that in the above output, the date '01-01-2015' isn't displayed as it is a holiday. Also notice that January 19th is also ommitted as that day was designated a US federal holiday (Martin Luther King day). "
   ]
  },
  {
   "cell_type": "markdown",
   "metadata": {},
   "source": [
    "### Resampling data"
   ]
  },
  {
   "cell_type": "markdown",
   "metadata": {},
   "source": [
    "Often times, we'll get time series data, in, for example, a day periodicity, and we'd like to take that data and sample it weekly or monthly.  This is called *resampling.*  Here we see how to do that in Pandas. "
   ]
  },
  {
   "cell_type": "markdown",
   "metadata": {},
   "source": [
    "Lets take our example of Apple and Google stock prices that has 1000 entries in it.  "
   ]
  },
  {
   "cell_type": "code",
   "execution_count": 47,
   "metadata": {},
   "outputs": [],
   "source": [
    "%matplotlib inline\n",
    "import random\n",
    "import pandas as pd\n",
    "import numpy as np\n",
    "import random\n",
    "goog_price = 998.02\n",
    "aapl_price = 157.02\n",
    "# Create 30 days of stock prices for GOOG and AAPL. \n",
    "goog_open_prices = [ round(goog_price + random.uniform(1,1.5),2) for _ in range(1000) ]\n",
    "aapl_open_prices = [ round(aapl_price + random.uniform (1,1.5),2) for _ in range(1000) ]\n",
    "# Add a random shift to the open price to mock a close price.  Values are random numbers between\n",
    "# 1and 1.5.\n",
    "goog_close_prices = [ round(price + random.uniform(1,4),2) for price in goog_open_prices ]\n",
    "aapl_close_prices = [ round(price +random.uniform(1,2),2) for price in aapl_open_prices]"
   ]
  },
  {
   "cell_type": "code",
   "execution_count": 48,
   "metadata": {},
   "outputs": [],
   "source": [
    "d_range = pd.date_range('2016-01-01',periods=1000)\n",
    "stocks = pd.DataFrame(columns = ['AAPL_OPEN', 'AAPL_CLOSE', 'GOOG_OPEN','GOOG_CLOSE'],index=d_range)\n",
    "stocks['AAPL_OPEN']  = aapl_open_prices\n",
    "stocks['AAPL_CLOSE']  = aapl_close_prices\n",
    "stocks['GOOG_OPEN']  = goog_open_prices\n",
    "stocks['GOOG_CLOSE']  = goog_close_prices"
   ]
  },
  {
   "cell_type": "markdown",
   "metadata": {},
   "source": [
    "Now let's plot the apple and google prices as a line chart. "
   ]
  },
  {
   "cell_type": "code",
   "execution_count": 49,
   "metadata": {},
   "outputs": [
    {
     "data": {
      "text/plain": [
       "<matplotlib.axes._subplots.AxesSubplot at 0x7fdbc7707860>"
      ]
     },
     "execution_count": 49,
     "metadata": {},
     "output_type": "execute_result"
    },
    {
     "data": {
      "image/png": "[encoded data removed]",
      "text/plain": [
       "<Figure size 432x288 with 1 Axes>"
      ]
     },
     "metadata": {
      "needs_background": "light"
     },
     "output_type": "display_data"
    }
   ],
   "source": [
    "stocks[['AAPL_OPEN','AAPL_CLOSE']].plot()"
   ]
  },
  {
   "cell_type": "code",
   "execution_count": 75,
   "metadata": {
    "scrolled": true
   },
   "outputs": [
    {
     "data": {
      "text/plain": [
       "<matplotlib.axes._subplots.AxesSubplot at 0x7fdc49ce1940>"
      ]
     },
     "execution_count": 75,
     "metadata": {},
     "output_type": "execute_result"
    },
    {
     "data": {
      "image/png": "[encoded data removed]",
      "text/plain": [
       "<Figure size 1440x720 with 1 Axes>"
      ]
     },
     "metadata": {},
     "output_type": "display_data"
    }
   ],
   "source": [
    "resample_aapl_open = stocks['AAPL_OPEN'].resample('M').mean()\n",
    "fig= plt.figure(figsize=(20,10))\n",
    "ax1=plt.subplot2grid((1,1),(0,0))\n",
    "#stocks['AAPL_OPEN'].plot(ax=ax1,label='Daily Price')\n",
    "resample_aapl_open.plot(ax=ax1,label = 'Monthly Mean')"
   ]
  },
  {
   "cell_type": "markdown",
   "metadata": {},
   "source": [
    "In the above example, we took some daily time series and resampled it using the resample() method.  In this case, we resampled it to business month end and took the mean value of each of the sample 'buckets'. \n",
    "\n",
    "Generally there are two types of resampling:\n",
    "\n",
    " - Upsampling. Going from a lower frequency to a higher frequency (ex. days to hours)\n",
    " - Downsampling. Going from a higher frequency to a lower frequency (ex. days to months). \n",
    " \n",
    "There are many aggregate functions that can be supplied.  The default in Pandas for resampling is the mean.  However, others can be supplied, such as the median value, or the last value in the sample bin. \n",
    "Also, customized functions can be supplied, for example computing open, high, low and close values for an asset time series.  Here is an example of doing our resampling using the median rather than the mean. \n",
    " \n",
    "\n"
   ]
  },
  {
   "cell_type": "code",
   "execution_count": 76,
   "metadata": {},
   "outputs": [
    {
     "data": {
      "text/plain": [
       "<matplotlib.axes._subplots.AxesSubplot at 0x7fdc49edcd68>"
      ]
     },
     "execution_count": 76,
     "metadata": {},
     "output_type": "execute_result"
    },
    {
     "data": {
      "image/png": "[encoded data removed]",
      "text/plain": [
       "<Figure size 1440x720 with 1 Axes>"
      ]
     },
     "metadata": {},
     "output_type": "display_data"
    }
   ],
   "source": [
    "resample_aapl_open = stocks['AAPL_OPEN'].resample('M').median()\n",
    "fig= plt.figure(figsize=(20,10))\n",
    "ax1=plt.subplot2grid((1,1),(0,0))\n",
    "#stocks['AAPL_OPEN'].plot(ax=ax1,label='Daily Price')\n",
    "resample_aapl_open.plot(ax=ax1,label = 'Monthly Median')"
   ]
  },
  {
   "cell_type": "markdown",
   "metadata": {},
   "source": [
    "Note that if we want to use a custom aggregation function we call the *apply()* method and pass the custom function in as a parameter. "
   ]
  },
  {
   "cell_type": "markdown",
   "metadata": {},
   "source": [
    "It is entirely possible that our resampling will produce uneven counts in either the first or last bin.  Pandas allows us some flexiblity as to which bin we can choose as the one with the uneven count.\n",
    "In the next example, we tell the resample method that we want the uneven bin count to be the last bin in the series, rather than the first as we've 'closed' the first bin. "
   ]
  },
  {
   "cell_type": "code",
   "execution_count": 77,
   "metadata": {},
   "outputs": [
    {
     "data": {
      "text/plain": [
       "<matplotlib.axes._subplots.AxesSubplot at 0x7fdc49e943c8>"
      ]
     },
     "execution_count": 77,
     "metadata": {},
     "output_type": "execute_result"
    },
    {
     "data": {
      "image/png": "[encoded data removed]",
      "text/plain": [
       "<Figure size 1440x720 with 1 Axes>"
      ]
     },
     "metadata": {},
     "output_type": "display_data"
    }
   ],
   "source": [
    "resample_aapl_open = stocks['AAPL_OPEN'].resample('M',closed='left').median()\n",
    "fig= plt.figure(figsize=(20,10))\n",
    "ax1=plt.subplot2grid((1,1),(0,0))\n",
    "#stocks['AAPL_OPEN'].plot(ax=ax1,label='Daily Price')\n",
    "resample_aapl_open.plot(ax=ax1,label = 'Monthly Median')"
   ]
  },
  {
   "cell_type": "markdown",
   "metadata": {},
   "source": [
    "We can also use the *agg()* method to pass multiple aggregate functions which will return a dataframe of the output to us.  For example:"
   ]
  },
  {
   "cell_type": "code",
   "execution_count": 79,
   "metadata": {},
   "outputs": [
    {
     "data": {
      "text/plain": [
       "mean    2016-01-31    158.238333\n",
       "        2016-02-29    158.285172\n",
       "        2016-03-31    158.254194\n",
       "        2016-04-30    158.312667\n",
       "        2016-05-31    158.274194\n",
       "        2016-06-30    158.293000\n",
       "        2016-07-31    158.259032\n",
       "        2016-08-31    158.231613\n",
       "        2016-09-30    158.256000\n",
       "        2016-10-31    158.261935\n",
       "        2016-11-30    158.249333\n",
       "        2016-12-31    158.315806\n",
       "        2017-01-31    158.318065\n",
       "        2017-02-28    158.252143\n",
       "        2017-03-31    158.247419\n",
       "        2017-04-30    158.244333\n",
       "        2017-05-31    158.301290\n",
       "        2017-06-30    158.282000\n",
       "        2017-07-31    158.284194\n",
       "        2017-08-31    158.258387\n",
       "        2017-09-30    158.261333\n",
       "        2017-10-31    158.292581\n",
       "        2017-11-30    158.222667\n",
       "        2017-12-31    158.305161\n",
       "        2018-01-31    158.242581\n",
       "        2018-02-28    158.241071\n",
       "        2018-03-31    158.257097\n",
       "        2018-04-30    158.218667\n",
       "        2018-05-31    158.309032\n",
       "        2018-06-30    158.275333\n",
       "                         ...    \n",
       "median  2016-04-30    158.375000\n",
       "        2016-05-31    158.250000\n",
       "        2016-06-30    158.320000\n",
       "        2016-07-31    158.230000\n",
       "        2016-08-31    158.240000\n",
       "        2016-09-30    158.210000\n",
       "        2016-10-31    158.230000\n",
       "        2016-11-30    158.245000\n",
       "        2016-12-31    158.350000\n",
       "        2017-01-31    158.350000\n",
       "        2017-02-28    158.255000\n",
       "        2017-03-31    158.260000\n",
       "        2017-04-30    158.210000\n",
       "        2017-05-31    158.270000\n",
       "        2017-06-30    158.290000\n",
       "        2017-07-31    158.280000\n",
       "        2017-08-31    158.240000\n",
       "        2017-09-30    158.250000\n",
       "        2017-10-31    158.300000\n",
       "        2017-11-30    158.215000\n",
       "        2017-12-31    158.360000\n",
       "        2018-01-31    158.230000\n",
       "        2018-02-28    158.210000\n",
       "        2018-03-31    158.240000\n",
       "        2018-04-30    158.185000\n",
       "        2018-05-31    158.290000\n",
       "        2018-06-30    158.250000\n",
       "        2018-07-31    158.190000\n",
       "        2018-08-31    158.240000\n",
       "        2018-09-30    158.250000\n",
       "Name: AAPL_OPEN, Length: 66, dtype: float64"
      ]
     },
     "execution_count": 79,
     "metadata": {},
     "output_type": "execute_result"
    }
   ],
   "source": [
    "resample_aapl = stocks['AAPL_OPEN'].resample('M',closed='left').agg({'median': 'median',\n",
    "                                                                                                               'mean':'mean'})\n",
    "type(resample_aapl)\n",
    "#fig= plt.figure(figsize=(20,10))\n",
    "#ax1=plt.subplot2grid((1,1),(0,0))\n",
    "#stocks['AAPL_OPEN'].plot(ax=ax1,label='Daily Price')\n",
    "#resample_aapl['mean'].plot(ax=ax1,label = 'Monthly Median')\n",
    "#type(resample_aapl)\n",
    "#resample_aapl['mean']\n",
    "resample_aapl"
   ]
  },
  {
   "cell_type": "markdown",
   "metadata": {},
   "source": [
    "Note that upsampling will create a number of 'holes' in the resultant dataframe or series.  By default, Pandas will fill those holes with NaN's. We can use previously discussed methods such as *ffill()* and *bfill()* to forward fill or back fill the values. "
   ]
  },
  {
   "cell_type": "markdown",
   "metadata": {},
   "source": [
    "### Period Logic\n",
    "Periods represent timespans vs. points in time. \n",
    "Periods allow for ease of use of calendar arithmetic (i.e. moving aroud the 'time axis')\n",
    "Periods enable special domain logic (ex. fiscal years and quarters). \n",
    "Pandas allows us to create customized periods using the pd.Periods data type. \n",
    "For example, with fiscal years that end in June and start in July. \n",
    "This is difficult and cumbersome to express with timestamps. \n",
    "Let's see an example of Periods. \n"
   ]
  },
  {
   "cell_type": "code",
   "execution_count": 50,
   "metadata": {},
   "outputs": [
    {
     "data": {
      "text/plain": [
       "Period('2016', 'A-JUN')"
      ]
     },
     "execution_count": 50,
     "metadata": {},
     "output_type": "execute_result"
    }
   ],
   "source": [
    "import pandas as pd\n",
    "# Define a period annual ending in June\n",
    "p = pd.Period('2016','A-Jun')\n",
    "p"
   ]
  },
  {
   "cell_type": "markdown",
   "metadata": {},
   "source": [
    "We can convert this period to a monthly frequency using the *asfreq()* method starting in July 2015. "
   ]
  },
  {
   "cell_type": "code",
   "execution_count": 51,
   "metadata": {},
   "outputs": [
    {
     "data": {
      "text/plain": [
       "Period('2015-07', 'M')"
      ]
     },
     "execution_count": 51,
     "metadata": {},
     "output_type": "execute_result"
    }
   ],
   "source": [
    "p.asfreq('M','start')"
   ]
  },
  {
   "cell_type": "code",
   "execution_count": 52,
   "metadata": {},
   "outputs": [
    {
     "data": {
      "text/plain": [
       "Period('2015-07-01', 'D')"
      ]
     },
     "execution_count": 52,
     "metadata": {},
     "output_type": "execute_result"
    }
   ],
   "source": [
    "p.asfreq('D','start')"
   ]
  },
  {
   "cell_type": "markdown",
   "metadata": {},
   "source": [
    "Note that we can also do arithmetic logic with periods. For example the following gives us the third to last business day in the month of August. "
   ]
  },
  {
   "cell_type": "code",
   "execution_count": 5,
   "metadata": {},
   "outputs": [
    {
     "data": {
      "text/plain": [
       "Period('2015-08-27', 'B')"
      ]
     },
     "execution_count": 5,
     "metadata": {},
     "output_type": "execute_result"
    }
   ],
   "source": [
    "(p.asfreq('M','start') + 1).asfreq('B','end') -2"
   ]
  },
  {
   "cell_type": "markdown",
   "metadata": {},
   "source": [
    "## Time Zone Handling\n",
    "    - Localization\n",
    "    - Conversion\n",
    "    - Data Alignment"
   ]
  },
  {
   "cell_type": "markdown",
   "metadata": {},
   "source": [
    "Let;s create a 'naive' timestamp, i.e. no timezone allocated to it. "
   ]
  },
  {
   "cell_type": "code",
   "execution_count": 53,
   "metadata": {},
   "outputs": [
    {
     "data": {
      "text/plain": [
       "Timestamp('2019-04-18 16:21:06.802729')"
      ]
     },
     "execution_count": 53,
     "metadata": {},
     "output_type": "execute_result"
    }
   ],
   "source": [
    "stamp = pd.Timestamp('now')\n",
    "stamp"
   ]
  },
  {
   "cell_type": "markdown",
   "metadata": {},
   "source": [
    "Note that in this particular timestamp, no timezone is associated with it."
   ]
  },
  {
   "cell_type": "code",
   "execution_count": 54,
   "metadata": {},
   "outputs": [],
   "source": [
    "stamp.tz"
   ]
  },
  {
   "cell_type": "markdown",
   "metadata": {},
   "source": [
    "Let's re-define stamp and set the timezone for Greenwich Mean Time."
   ]
  },
  {
   "cell_type": "code",
   "execution_count": 59,
   "metadata": {},
   "outputs": [
    {
     "data": {
      "text/plain": [
       "Timestamp('2019-04-18 16:24:05.523998+0100', tz='Etc/GMT-1')"
      ]
     },
     "execution_count": 59,
     "metadata": {},
     "output_type": "execute_result"
    }
   ],
   "source": [
    "stamp = pd.Timestamp('now', tz='etc/GMT-1')\n",
    "stamp"
   ]
  },
  {
   "cell_type": "markdown",
   "metadata": {},
   "source": [
    "Let's now create a second, naive timestamp, without initializing a timezone. "
   ]
  },
  {
   "cell_type": "code",
   "execution_count": 64,
   "metadata": {},
   "outputs": [
    {
     "data": {
      "text/plain": [
       "Timestamp('2017-01-01 12:00:00')"
      ]
     },
     "execution_count": 64,
     "metadata": {},
     "output_type": "execute_result"
    }
   ],
   "source": [
    "stamp2 = pd.Timestamp('2017-01-01 12:00')\n",
    "stamp2"
   ]
  },
  {
   "cell_type": "markdown",
   "metadata": {},
   "source": [
    "We manually set the timezone for the timestamp by using the *tz_localize()* method like so:"
   ]
  },
  {
   "cell_type": "code",
   "execution_count": 65,
   "metadata": {},
   "outputs": [
    {
     "data": {
      "text/plain": [
       "Timestamp('2017-01-01 12:00:00-0800', tz='US/Pacific')"
      ]
     },
     "execution_count": 65,
     "metadata": {},
     "output_type": "execute_result"
    }
   ],
   "source": [
    "stamp2 = stamp2.tz_localize('US/Pacific')\n",
    "stamp2"
   ]
  },
  {
   "cell_type": "markdown",
   "metadata": {},
   "source": [
    "We can also convert timestamp timezones using the *tz_convert()* method. "
   ]
  },
  {
   "cell_type": "code",
   "execution_count": 68,
   "metadata": {},
   "outputs": [
    {
     "data": {
      "text/plain": [
       "Timestamp('2017-01-02 04:00:00+0800', tz='Asia/Shanghai')"
      ]
     },
     "execution_count": 68,
     "metadata": {},
     "output_type": "execute_result"
    }
   ],
   "source": [
    "stamp3 = stamp2.tz_convert('Asia/Shanghai')\n",
    "stamp3"
   ]
  },
  {
   "cell_type": "markdown",
   "metadata": {},
   "source": [
    "Note, however, that the value of the timestamp doesn't change, even with a timezone conversion"
   ]
  },
  {
   "cell_type": "code",
   "execution_count": 66,
   "metadata": {},
   "outputs": [
    {
     "data": {
      "text/plain": [
       "1483300800000000000"
      ]
     },
     "execution_count": 66,
     "metadata": {},
     "output_type": "execute_result"
    }
   ],
   "source": [
    "stamp2.value"
   ]
  },
  {
   "cell_type": "code",
   "execution_count": 69,
   "metadata": {},
   "outputs": [
    {
     "data": {
      "text/plain": [
       "1483300800000000000"
      ]
     },
     "execution_count": 69,
     "metadata": {},
     "output_type": "execute_result"
    }
   ],
   "source": [
    "stamp3.value"
   ]
  },
  {
   "cell_type": "markdown",
   "metadata": {},
   "source": [
    "Additionally, the equality boolean operator returns True when comparing the two timestamps. "
   ]
  },
  {
   "cell_type": "code",
   "execution_count": 43,
   "metadata": {},
   "outputs": [
    {
     "data": {
      "text/plain": [
       "True"
      ]
     },
     "execution_count": 43,
     "metadata": {},
     "output_type": "execute_result"
    }
   ],
   "source": [
    "stamp2 == stamp3"
   ]
  },
  {
   "cell_type": "markdown",
   "metadata": {},
   "source": [
    "## Multiindexing\n",
    "\n",
    "Pandas' multiindex DataFrames extend traditional Pandas DataFrames by enabling effective storage and manipulation of arbitrarily high dimension data in a 2-dimensional tabular structure. \n",
    "\n",
    "While the displayed version of a multiindexed DataFrame doesn't appear to be much more than a prettily-organized regular DataFrame, it's actually a pretty powerful structure if the data warrants its use."
   ]
  },
  {
   "cell_type": "markdown",
   "metadata": {},
   "source": [
    "## When should you use one?\n",
    "When a single column’s value isn’t enough to uniquely identify a row (e.g. multiple records on the same date means date alone isn’t a good index).\n",
    "When data is logically hierarchical - meaning that it has multiple dimensions or “levels.”\n",
    "Besides structure, multiindexes offer relatively easy in-memory retreival of complex data."
   ]
  },
  {
   "cell_type": "code",
   "execution_count": 38,
   "metadata": {},
   "outputs": [
    {
     "data": {
      "text/html": [
       "<div>\n",
       "<style scoped>\n",
       "    .dataframe tbody tr th:only-of-type {\n",
       "        vertical-align: middle;\n",
       "    }\n",
       "\n",
       "    .dataframe tbody tr th {\n",
       "        vertical-align: top;\n",
       "    }\n",
       "\n",
       "    .dataframe thead th {\n",
       "        text-align: right;\n",
       "    }\n",
       "</style>\n",
       "<table border=\"1\" class=\"dataframe\">\n",
       "  <thead>\n",
       "    <tr style=\"text-align: right;\">\n",
       "      <th></th>\n",
       "      <th>Date</th>\n",
       "      <th>Store</th>\n",
       "      <th>Category</th>\n",
       "      <th>Subcategory</th>\n",
       "      <th>UPC EAN</th>\n",
       "      <th>Description</th>\n",
       "      <th>Dollars</th>\n",
       "      <th>Units</th>\n",
       "    </tr>\n",
       "  </thead>\n",
       "  <tbody>\n",
       "    <tr>\n",
       "      <th>0</th>\n",
       "      <td>2018-07-11</td>\n",
       "      <td>Store 3</td>\n",
       "      <td>Beer</td>\n",
       "      <td>Ales</td>\n",
       "      <td>736920111112</td>\n",
       "      <td>Goose Island - Honkers Ale - 6 Pack</td>\n",
       "      <td>35.68</td>\n",
       "      <td>4</td>\n",
       "    </tr>\n",
       "    <tr>\n",
       "      <th>1</th>\n",
       "      <td>2018-07-11</td>\n",
       "      <td>Store 2</td>\n",
       "      <td>Beer</td>\n",
       "      <td>Ales</td>\n",
       "      <td>736920111112</td>\n",
       "      <td>Goose Island - Honkers Ale - 6 Pack</td>\n",
       "      <td>166.74</td>\n",
       "      <td>14</td>\n",
       "    </tr>\n",
       "    <tr>\n",
       "      <th>2</th>\n",
       "      <td>2018-07-10</td>\n",
       "      <td>Store 3</td>\n",
       "      <td>Beer</td>\n",
       "      <td>Ales</td>\n",
       "      <td>736920111112</td>\n",
       "      <td>Goose Island - Honkers Ale - 6 Pack</td>\n",
       "      <td>67.36</td>\n",
       "      <td>8</td>\n",
       "    </tr>\n",
       "    <tr>\n",
       "      <th>3</th>\n",
       "      <td>2018-07-10</td>\n",
       "      <td>Store 2</td>\n",
       "      <td>Beer</td>\n",
       "      <td>Ales</td>\n",
       "      <td>736920111112</td>\n",
       "      <td>Goose Island - Honkers Ale - 6 Pack</td>\n",
       "      <td>80.01</td>\n",
       "      <td>9</td>\n",
       "    </tr>\n",
       "    <tr>\n",
       "      <th>4</th>\n",
       "      <td>2018-07-12</td>\n",
       "      <td>Store 3</td>\n",
       "      <td>Beer</td>\n",
       "      <td>Ales</td>\n",
       "      <td>736920111112</td>\n",
       "      <td>Goose Island - Honkers Ale - 6 Pack</td>\n",
       "      <td>78.30</td>\n",
       "      <td>10</td>\n",
       "    </tr>\n",
       "  </tbody>\n",
       "</table>\n",
       "</div>"
      ],
      "text/plain": [
       "        Date    Store Category Subcategory       UPC EAN  \\\n",
       "0 2018-07-11  Store 3     Beer        Ales  736920111112   \n",
       "1 2018-07-11  Store 2     Beer        Ales  736920111112   \n",
       "2 2018-07-10  Store 3     Beer        Ales  736920111112   \n",
       "3 2018-07-10  Store 2     Beer        Ales  736920111112   \n",
       "4 2018-07-12  Store 3     Beer        Ales  736920111112   \n",
       "\n",
       "                           Description  Dollars  Units  \n",
       "0  Goose Island - Honkers Ale - 6 Pack    35.68      4  \n",
       "1  Goose Island - Honkers Ale - 6 Pack   166.74     14  \n",
       "2  Goose Island - Honkers Ale - 6 Pack    67.36      8  \n",
       "3  Goose Island - Honkers Ale - 6 Pack    80.01      9  \n",
       "4  Goose Island - Honkers Ale - 6 Pack    78.30     10  "
      ]
     },
     "execution_count": 38,
     "metadata": {},
     "output_type": "execute_result"
    }
   ],
   "source": [
    "df = pd.read_csv('../data/grocery_data.csv', parse_dates=['Date'])\n",
    "df.head()"
   ]
  },
  {
   "cell_type": "code",
   "execution_count": 40,
   "metadata": {},
   "outputs": [
    {
     "data": {
      "text/html": [
       "<div>\n",
       "<style scoped>\n",
       "    .dataframe tbody tr th:only-of-type {\n",
       "        vertical-align: middle;\n",
       "    }\n",
       "\n",
       "    .dataframe tbody tr th {\n",
       "        vertical-align: top;\n",
       "    }\n",
       "\n",
       "    .dataframe thead th {\n",
       "        text-align: right;\n",
       "    }\n",
       "</style>\n",
       "<table border=\"1\" class=\"dataframe\">\n",
       "  <thead>\n",
       "    <tr style=\"text-align: right;\">\n",
       "      <th></th>\n",
       "      <th>Date</th>\n",
       "      <th>Store</th>\n",
       "      <th>Category</th>\n",
       "      <th>Subcategory</th>\n",
       "      <th>UPC EAN</th>\n",
       "      <th>Description</th>\n",
       "      <th>Dollars</th>\n",
       "      <th>Units</th>\n",
       "    </tr>\n",
       "  </thead>\n",
       "  <tbody>\n",
       "    <tr>\n",
       "      <th>38</th>\n",
       "      <td>2018-07-10</td>\n",
       "      <td>Store 2</td>\n",
       "      <td>Beer</td>\n",
       "      <td>Ales</td>\n",
       "      <td>702770082018</td>\n",
       "      <td>Omission Pale Ale - Gluten Free Pale Ale - 6 Pack</td>\n",
       "      <td>89.76</td>\n",
       "      <td>6</td>\n",
       "    </tr>\n",
       "    <tr>\n",
       "      <th>51</th>\n",
       "      <td>2018-07-11</td>\n",
       "      <td>Store 3</td>\n",
       "      <td>Beer</td>\n",
       "      <td>Malts</td>\n",
       "      <td>71250000140</td>\n",
       "      <td>Colt 45 - Malt Liquor - 6 Pack</td>\n",
       "      <td>107.58</td>\n",
       "      <td>11</td>\n",
       "    </tr>\n",
       "    <tr>\n",
       "      <th>119</th>\n",
       "      <td>2018-07-15</td>\n",
       "      <td>Store 2</td>\n",
       "      <td>Alcohol</td>\n",
       "      <td>Liquor</td>\n",
       "      <td>674545000001</td>\n",
       "      <td>Don Julio - Tequila Blanco - 750 mL Bottle</td>\n",
       "      <td>177.00</td>\n",
       "      <td>6</td>\n",
       "    </tr>\n",
       "    <tr>\n",
       "      <th>4</th>\n",
       "      <td>2018-07-12</td>\n",
       "      <td>Store 3</td>\n",
       "      <td>Beer</td>\n",
       "      <td>Ales</td>\n",
       "      <td>736920111112</td>\n",
       "      <td>Goose Island - Honkers Ale - 6 Pack</td>\n",
       "      <td>78.30</td>\n",
       "      <td>10</td>\n",
       "    </tr>\n",
       "    <tr>\n",
       "      <th>122</th>\n",
       "      <td>2018-07-13</td>\n",
       "      <td>Store 2</td>\n",
       "      <td>Alcohol</td>\n",
       "      <td>Liquor</td>\n",
       "      <td>80432400630</td>\n",
       "      <td>Glenlivet - 12 Year Scotch Whisky - 750 mL Bottle</td>\n",
       "      <td>432.74</td>\n",
       "      <td>11</td>\n",
       "    </tr>\n",
       "    <tr>\n",
       "      <th>111</th>\n",
       "      <td>2018-07-12</td>\n",
       "      <td>Store 2</td>\n",
       "      <td>Alcohol</td>\n",
       "      <td>Liquor</td>\n",
       "      <td>674545000001</td>\n",
       "      <td>Don Julio - Tequila Blanco - 750 mL Bottle</td>\n",
       "      <td>410.88</td>\n",
       "      <td>12</td>\n",
       "    </tr>\n",
       "    <tr>\n",
       "      <th>109</th>\n",
       "      <td>2018-07-16</td>\n",
       "      <td>Store 3</td>\n",
       "      <td>Alcohol</td>\n",
       "      <td>Liqour</td>\n",
       "      <td>80480280024</td>\n",
       "      <td>Grey Goose - Imported Vodka - 750 mL Bottle</td>\n",
       "      <td>126.66</td>\n",
       "      <td>6</td>\n",
       "    </tr>\n",
       "    <tr>\n",
       "      <th>15</th>\n",
       "      <td>2018-07-14</td>\n",
       "      <td>Store 3</td>\n",
       "      <td>Beer</td>\n",
       "      <td>Ales</td>\n",
       "      <td>94922755711</td>\n",
       "      <td>Bowser Beer - Beefy Brown Ale - 6 Pack</td>\n",
       "      <td>113.68</td>\n",
       "      <td>14</td>\n",
       "    </tr>\n",
       "    <tr>\n",
       "      <th>89</th>\n",
       "      <td>2018-07-14</td>\n",
       "      <td>Store 2</td>\n",
       "      <td>Wine</td>\n",
       "      <td>White</td>\n",
       "      <td>81248501095</td>\n",
       "      <td>Curious Beasts - Chardonnay - 750 mL Bottle</td>\n",
       "      <td>281.96</td>\n",
       "      <td>14</td>\n",
       "    </tr>\n",
       "    <tr>\n",
       "      <th>114</th>\n",
       "      <td>2018-07-10</td>\n",
       "      <td>Store 3</td>\n",
       "      <td>Alcohol</td>\n",
       "      <td>Liquor</td>\n",
       "      <td>674545000001</td>\n",
       "      <td>Don Julio - Tequila Blanco - 750 mL Bottle</td>\n",
       "      <td>204.12</td>\n",
       "      <td>7</td>\n",
       "    </tr>\n",
       "  </tbody>\n",
       "</table>\n",
       "</div>"
      ],
      "text/plain": [
       "          Date    Store Category Subcategory       UPC EAN  \\\n",
       "38  2018-07-10  Store 2     Beer        Ales  702770082018   \n",
       "51  2018-07-11  Store 3     Beer       Malts   71250000140   \n",
       "119 2018-07-15  Store 2  Alcohol      Liquor  674545000001   \n",
       "4   2018-07-12  Store 3     Beer        Ales  736920111112   \n",
       "122 2018-07-13  Store 2  Alcohol      Liquor   80432400630   \n",
       "111 2018-07-12  Store 2  Alcohol      Liquor  674545000001   \n",
       "109 2018-07-16  Store 3  Alcohol      Liqour   80480280024   \n",
       "15  2018-07-14  Store 3     Beer        Ales   94922755711   \n",
       "89  2018-07-14  Store 2     Wine       White   81248501095   \n",
       "114 2018-07-10  Store 3  Alcohol      Liquor  674545000001   \n",
       "\n",
       "                                           Description  Dollars  Units  \n",
       "38   Omission Pale Ale - Gluten Free Pale Ale - 6 Pack    89.76      6  \n",
       "51                      Colt 45 - Malt Liquor - 6 Pack   107.58     11  \n",
       "119         Don Julio - Tequila Blanco - 750 mL Bottle   177.00      6  \n",
       "4                  Goose Island - Honkers Ale - 6 Pack    78.30     10  \n",
       "122  Glenlivet - 12 Year Scotch Whisky - 750 mL Bottle   432.74     11  \n",
       "111         Don Julio - Tequila Blanco - 750 mL Bottle   410.88     12  \n",
       "109        Grey Goose - Imported Vodka - 750 mL Bottle   126.66      6  \n",
       "15              Bowser Beer - Beefy Brown Ale - 6 Pack   113.68     14  \n",
       "89         Curious Beasts - Chardonnay - 750 mL Bottle   281.96     14  \n",
       "114         Don Julio - Tequila Blanco - 750 mL Bottle   204.12      7  "
      ]
     },
     "execution_count": 40,
     "metadata": {},
     "output_type": "execute_result"
    }
   ],
   "source": [
    "df.sample(10)"
   ]
  },
  {
   "cell_type": "markdown",
   "metadata": {},
   "source": [
    "Each row of data represents a sale of an item, but how do we set our index meaningfully? A numeric ID for each transaction would be fine, but it wouldn't tell us terribly much. Even the date of a transaction isn't useful by itself, since it's common for such a company to have many transactions on a given date (even at the same time).\n",
    "\n",
    "Instead, we will have to look at a combination of the available metadata to create a unique and meaningful index. At first glance, a combination of the date, the store, and the hierarchy of each item (Category > Subcategory > UPC) look like they might be enough to get us a unique index."
   ]
  },
  {
   "cell_type": "markdown",
   "metadata": {},
   "source": [
    "## Setting and Manipulating MultiIndexes\n",
    "So let's take a look at how we can create our multiindex from our DataFrame. We'll walk through the basics of setting, reordering, and resetting indexes, along with some useful tips/tricks. Then we can begin investigating our transaction data to learn about our sales and trends."
   ]
  },
  {
   "cell_type": "code",
   "execution_count": 41,
   "metadata": {},
   "outputs": [
    {
     "data": {
      "text/html": [
       "<div>\n",
       "<style scoped>\n",
       "    .dataframe tbody tr th:only-of-type {\n",
       "        vertical-align: middle;\n",
       "    }\n",
       "\n",
       "    .dataframe tbody tr th {\n",
       "        vertical-align: top;\n",
       "    }\n",
       "\n",
       "    .dataframe thead th {\n",
       "        text-align: right;\n",
       "    }\n",
       "</style>\n",
       "<table border=\"1\" class=\"dataframe\">\n",
       "  <thead>\n",
       "    <tr style=\"text-align: right;\">\n",
       "      <th></th>\n",
       "      <th></th>\n",
       "      <th></th>\n",
       "      <th></th>\n",
       "      <th></th>\n",
       "      <th>UPC EAN</th>\n",
       "      <th>Dollars</th>\n",
       "      <th>Units</th>\n",
       "    </tr>\n",
       "    <tr>\n",
       "      <th>Date</th>\n",
       "      <th>Store</th>\n",
       "      <th>Category</th>\n",
       "      <th>Subcategory</th>\n",
       "      <th>Description</th>\n",
       "      <th></th>\n",
       "      <th></th>\n",
       "      <th></th>\n",
       "    </tr>\n",
       "  </thead>\n",
       "  <tbody>\n",
       "    <tr>\n",
       "      <th rowspan=\"2\" valign=\"top\">2018-07-11</th>\n",
       "      <th>Store 3</th>\n",
       "      <th>Beer</th>\n",
       "      <th>Ales</th>\n",
       "      <th>Goose Island - Honkers Ale - 6 Pack</th>\n",
       "      <td>736920111112</td>\n",
       "      <td>35.68</td>\n",
       "      <td>4</td>\n",
       "    </tr>\n",
       "    <tr>\n",
       "      <th>Store 2</th>\n",
       "      <th>Beer</th>\n",
       "      <th>Ales</th>\n",
       "      <th>Goose Island - Honkers Ale - 6 Pack</th>\n",
       "      <td>736920111112</td>\n",
       "      <td>166.74</td>\n",
       "      <td>14</td>\n",
       "    </tr>\n",
       "    <tr>\n",
       "      <th>2018-07-10</th>\n",
       "      <th>Store 3</th>\n",
       "      <th>Beer</th>\n",
       "      <th>Ales</th>\n",
       "      <th>Goose Island - Honkers Ale - 6 Pack</th>\n",
       "      <td>736920111112</td>\n",
       "      <td>67.36</td>\n",
       "      <td>8</td>\n",
       "    </tr>\n",
       "  </tbody>\n",
       "</table>\n",
       "</div>"
      ],
      "text/plain": [
       "                                                                                  UPC EAN  \\\n",
       "Date       Store   Category Subcategory Description                                         \n",
       "2018-07-11 Store 3 Beer     Ales        Goose Island - Honkers Ale - 6 Pack  736920111112   \n",
       "           Store 2 Beer     Ales        Goose Island - Honkers Ale - 6 Pack  736920111112   \n",
       "2018-07-10 Store 3 Beer     Ales        Goose Island - Honkers Ale - 6 Pack  736920111112   \n",
       "\n",
       "                                                                             Dollars  \\\n",
       "Date       Store   Category Subcategory Description                                    \n",
       "2018-07-11 Store 3 Beer     Ales        Goose Island - Honkers Ale - 6 Pack    35.68   \n",
       "           Store 2 Beer     Ales        Goose Island - Honkers Ale - 6 Pack   166.74   \n",
       "2018-07-10 Store 3 Beer     Ales        Goose Island - Honkers Ale - 6 Pack    67.36   \n",
       "\n",
       "                                                                             Units  \n",
       "Date       Store   Category Subcategory Description                                 \n",
       "2018-07-11 Store 3 Beer     Ales        Goose Island - Honkers Ale - 6 Pack      4  \n",
       "           Store 2 Beer     Ales        Goose Island - Honkers Ale - 6 Pack     14  \n",
       "2018-07-10 Store 3 Beer     Ales        Goose Island - Honkers Ale - 6 Pack      8  "
      ]
     },
     "execution_count": 41,
     "metadata": {},
     "output_type": "execute_result"
    }
   ],
   "source": [
    "# Set just like the index for a DataFrame...\n",
    "# ...except we give a list of column names instead of a single string column name\n",
    "df.set_index(['Date', 'Store', 'Category', 'Subcategory', 'Description'], inplace=True)\n",
    "df.head(3)"
   ]
  },
  {
   "cell_type": "markdown",
   "metadata": {},
   "source": [
    "If we forget to add a column to our index, we can easily fix that by appending the new column."
   ]
  },
  {
   "cell_type": "code",
   "execution_count": 42,
   "metadata": {},
   "outputs": [
    {
     "data": {
      "text/html": [
       "<div>\n",
       "<style scoped>\n",
       "    .dataframe tbody tr th:only-of-type {\n",
       "        vertical-align: middle;\n",
       "    }\n",
       "\n",
       "    .dataframe tbody tr th {\n",
       "        vertical-align: top;\n",
       "    }\n",
       "\n",
       "    .dataframe thead th {\n",
       "        text-align: right;\n",
       "    }\n",
       "</style>\n",
       "<table border=\"1\" class=\"dataframe\">\n",
       "  <thead>\n",
       "    <tr style=\"text-align: right;\">\n",
       "      <th></th>\n",
       "      <th></th>\n",
       "      <th></th>\n",
       "      <th></th>\n",
       "      <th></th>\n",
       "      <th></th>\n",
       "      <th>Dollars</th>\n",
       "      <th>Units</th>\n",
       "    </tr>\n",
       "    <tr>\n",
       "      <th>Date</th>\n",
       "      <th>Store</th>\n",
       "      <th>Category</th>\n",
       "      <th>Subcategory</th>\n",
       "      <th>Description</th>\n",
       "      <th>UPC EAN</th>\n",
       "      <th></th>\n",
       "      <th></th>\n",
       "    </tr>\n",
       "  </thead>\n",
       "  <tbody>\n",
       "    <tr>\n",
       "      <th rowspan=\"2\" valign=\"top\">2018-07-11</th>\n",
       "      <th>Store 3</th>\n",
       "      <th>Beer</th>\n",
       "      <th>Ales</th>\n",
       "      <th>Goose Island - Honkers Ale - 6 Pack</th>\n",
       "      <th>736920111112</th>\n",
       "      <td>35.68</td>\n",
       "      <td>4</td>\n",
       "    </tr>\n",
       "    <tr>\n",
       "      <th>Store 2</th>\n",
       "      <th>Beer</th>\n",
       "      <th>Ales</th>\n",
       "      <th>Goose Island - Honkers Ale - 6 Pack</th>\n",
       "      <th>736920111112</th>\n",
       "      <td>166.74</td>\n",
       "      <td>14</td>\n",
       "    </tr>\n",
       "    <tr>\n",
       "      <th>2018-07-10</th>\n",
       "      <th>Store 3</th>\n",
       "      <th>Beer</th>\n",
       "      <th>Ales</th>\n",
       "      <th>Goose Island - Honkers Ale - 6 Pack</th>\n",
       "      <th>736920111112</th>\n",
       "      <td>67.36</td>\n",
       "      <td>8</td>\n",
       "    </tr>\n",
       "  </tbody>\n",
       "</table>\n",
       "</div>"
      ],
      "text/plain": [
       "                                                                                          Dollars  \\\n",
       "Date       Store   Category Subcategory Description                         UPC EAN                 \n",
       "2018-07-11 Store 3 Beer     Ales        Goose Island - Honkers Ale - 6 Pack 736920111112    35.68   \n",
       "           Store 2 Beer     Ales        Goose Island - Honkers Ale - 6 Pack 736920111112   166.74   \n",
       "2018-07-10 Store 3 Beer     Ales        Goose Island - Honkers Ale - 6 Pack 736920111112    67.36   \n",
       "\n",
       "                                                                                          Units  \n",
       "Date       Store   Category Subcategory Description                         UPC EAN              \n",
       "2018-07-11 Store 3 Beer     Ales        Goose Island - Honkers Ale - 6 Pack 736920111112      4  \n",
       "           Store 2 Beer     Ales        Goose Island - Honkers Ale - 6 Pack 736920111112     14  \n",
       "2018-07-10 Store 3 Beer     Ales        Goose Island - Honkers Ale - 6 Pack 736920111112      8  "
      ]
     },
     "execution_count": 42,
     "metadata": {},
     "output_type": "execute_result"
    }
   ],
   "source": [
    "# We can append a column to our existing index\n",
    "df.set_index('UPC EAN', append=True, inplace=True)\n",
    "df.head(3)"
   ]
  },
  {
   "cell_type": "markdown",
   "metadata": {},
   "source": [
    "We can also re-order our index, i.e. swap index columns."
   ]
  },
  {
   "cell_type": "code",
   "execution_count": 43,
   "metadata": {},
   "outputs": [
    {
     "data": {
      "text/html": [
       "<div>\n",
       "<style scoped>\n",
       "    .dataframe tbody tr th:only-of-type {\n",
       "        vertical-align: middle;\n",
       "    }\n",
       "\n",
       "    .dataframe tbody tr th {\n",
       "        vertical-align: top;\n",
       "    }\n",
       "\n",
       "    .dataframe thead th {\n",
       "        text-align: right;\n",
       "    }\n",
       "</style>\n",
       "<table border=\"1\" class=\"dataframe\">\n",
       "  <thead>\n",
       "    <tr style=\"text-align: right;\">\n",
       "      <th></th>\n",
       "      <th></th>\n",
       "      <th></th>\n",
       "      <th></th>\n",
       "      <th></th>\n",
       "      <th></th>\n",
       "      <th>Dollars</th>\n",
       "      <th>Units</th>\n",
       "    </tr>\n",
       "    <tr>\n",
       "      <th>Date</th>\n",
       "      <th>Store</th>\n",
       "      <th>Category</th>\n",
       "      <th>Subcategory</th>\n",
       "      <th>UPC EAN</th>\n",
       "      <th>Description</th>\n",
       "      <th></th>\n",
       "      <th></th>\n",
       "    </tr>\n",
       "  </thead>\n",
       "  <tbody>\n",
       "    <tr>\n",
       "      <th rowspan=\"2\" valign=\"top\">2018-07-11</th>\n",
       "      <th>Store 3</th>\n",
       "      <th>Beer</th>\n",
       "      <th>Ales</th>\n",
       "      <th>736920111112</th>\n",
       "      <th>Goose Island - Honkers Ale - 6 Pack</th>\n",
       "      <td>35.68</td>\n",
       "      <td>4</td>\n",
       "    </tr>\n",
       "    <tr>\n",
       "      <th>Store 2</th>\n",
       "      <th>Beer</th>\n",
       "      <th>Ales</th>\n",
       "      <th>736920111112</th>\n",
       "      <th>Goose Island - Honkers Ale - 6 Pack</th>\n",
       "      <td>166.74</td>\n",
       "      <td>14</td>\n",
       "    </tr>\n",
       "    <tr>\n",
       "      <th>2018-07-10</th>\n",
       "      <th>Store 3</th>\n",
       "      <th>Beer</th>\n",
       "      <th>Ales</th>\n",
       "      <th>736920111112</th>\n",
       "      <th>Goose Island - Honkers Ale - 6 Pack</th>\n",
       "      <td>67.36</td>\n",
       "      <td>8</td>\n",
       "    </tr>\n",
       "  </tbody>\n",
       "</table>\n",
       "</div>"
      ],
      "text/plain": [
       "                                                                                          Dollars  \\\n",
       "Date       Store   Category Subcategory UPC EAN      Description                                    \n",
       "2018-07-11 Store 3 Beer     Ales        736920111112 Goose Island - Honkers Ale - 6 Pack    35.68   \n",
       "           Store 2 Beer     Ales        736920111112 Goose Island - Honkers Ale - 6 Pack   166.74   \n",
       "2018-07-10 Store 3 Beer     Ales        736920111112 Goose Island - Honkers Ale - 6 Pack    67.36   \n",
       "\n",
       "                                                                                          Units  \n",
       "Date       Store   Category Subcategory UPC EAN      Description                                 \n",
       "2018-07-11 Store 3 Beer     Ales        736920111112 Goose Island - Honkers Ale - 6 Pack      4  \n",
       "           Store 2 Beer     Ales        736920111112 Goose Island - Honkers Ale - 6 Pack     14  \n",
       "2018-07-10 Store 3 Beer     Ales        736920111112 Goose Island - Honkers Ale - 6 Pack      8  "
      ]
     },
     "execution_count": 43,
     "metadata": {},
     "output_type": "execute_result"
    }
   ],
   "source": [
    "# Option 1 is the generalized solution to reorder the index levels\n",
    "# Note: We're not making an inplace change in this cell,\n",
    "#       but it's worth noting that this method doesn't have an inplace parameter.\n",
    "df.reorder_levels(order=['Date', 'Store', 'Category', 'Subcategory', 'UPC EAN', 'Description']).head(3)"
   ]
  },
  {
   "cell_type": "markdown",
   "metadata": {},
   "source": [
    "reorder_levels() is useful,however, to use it, we have to re=type in all of the column names in order to switch the two we want.  This becomes problematic when we have a very large index set.  A less verbose option is given below."
   ]
  },
  {
   "cell_type": "code",
   "execution_count": 44,
   "metadata": {},
   "outputs": [
    {
     "data": {
      "text/html": [
       "<div>\n",
       "<style scoped>\n",
       "    .dataframe tbody tr th:only-of-type {\n",
       "        vertical-align: middle;\n",
       "    }\n",
       "\n",
       "    .dataframe tbody tr th {\n",
       "        vertical-align: top;\n",
       "    }\n",
       "\n",
       "    .dataframe thead th {\n",
       "        text-align: right;\n",
       "    }\n",
       "</style>\n",
       "<table border=\"1\" class=\"dataframe\">\n",
       "  <thead>\n",
       "    <tr style=\"text-align: right;\">\n",
       "      <th></th>\n",
       "      <th></th>\n",
       "      <th></th>\n",
       "      <th></th>\n",
       "      <th></th>\n",
       "      <th></th>\n",
       "      <th>Dollars</th>\n",
       "      <th>Units</th>\n",
       "    </tr>\n",
       "    <tr>\n",
       "      <th>Date</th>\n",
       "      <th>Store</th>\n",
       "      <th>Category</th>\n",
       "      <th>Subcategory</th>\n",
       "      <th>UPC EAN</th>\n",
       "      <th>Description</th>\n",
       "      <th></th>\n",
       "      <th></th>\n",
       "    </tr>\n",
       "  </thead>\n",
       "  <tbody>\n",
       "    <tr>\n",
       "      <th rowspan=\"2\" valign=\"top\">2018-07-11</th>\n",
       "      <th>Store 3</th>\n",
       "      <th>Beer</th>\n",
       "      <th>Ales</th>\n",
       "      <th>736920111112</th>\n",
       "      <th>Goose Island - Honkers Ale - 6 Pack</th>\n",
       "      <td>35.68</td>\n",
       "      <td>4</td>\n",
       "    </tr>\n",
       "    <tr>\n",
       "      <th>Store 2</th>\n",
       "      <th>Beer</th>\n",
       "      <th>Ales</th>\n",
       "      <th>736920111112</th>\n",
       "      <th>Goose Island - Honkers Ale - 6 Pack</th>\n",
       "      <td>166.74</td>\n",
       "      <td>14</td>\n",
       "    </tr>\n",
       "    <tr>\n",
       "      <th>2018-07-10</th>\n",
       "      <th>Store 3</th>\n",
       "      <th>Beer</th>\n",
       "      <th>Ales</th>\n",
       "      <th>736920111112</th>\n",
       "      <th>Goose Island - Honkers Ale - 6 Pack</th>\n",
       "      <td>67.36</td>\n",
       "      <td>8</td>\n",
       "    </tr>\n",
       "  </tbody>\n",
       "</table>\n",
       "</div>"
      ],
      "text/plain": [
       "                                                                                          Dollars  \\\n",
       "Date       Store   Category Subcategory UPC EAN      Description                                    \n",
       "2018-07-11 Store 3 Beer     Ales        736920111112 Goose Island - Honkers Ale - 6 Pack    35.68   \n",
       "           Store 2 Beer     Ales        736920111112 Goose Island - Honkers Ale - 6 Pack   166.74   \n",
       "2018-07-10 Store 3 Beer     Ales        736920111112 Goose Island - Honkers Ale - 6 Pack    67.36   \n",
       "\n",
       "                                                                                          Units  \n",
       "Date       Store   Category Subcategory UPC EAN      Description                                 \n",
       "2018-07-11 Store 3 Beer     Ales        736920111112 Goose Island - Honkers Ale - 6 Pack      4  \n",
       "           Store 2 Beer     Ales        736920111112 Goose Island - Honkers Ale - 6 Pack     14  \n",
       "2018-07-10 Store 3 Beer     Ales        736920111112 Goose Island - Honkers Ale - 6 Pack      8  "
      ]
     },
     "execution_count": 44,
     "metadata": {},
     "output_type": "execute_result"
    }
   ],
   "source": [
    "# Option 2 just switches two index levels (a more common need than you'd think)\n",
    "# Note: This time we're doing an inplace change, but there's no parameter for this method either.\n",
    "df = df.swaplevel('Description', 'UPC EAN')\n",
    "df.head(3)"
   ]
  },
  {
   "cell_type": "code",
   "execution_count": null,
   "metadata": {},
   "outputs": [],
   "source": []
  },
  {
   "cell_type": "markdown",
   "metadata": {},
   "source": [
    "## Reshaping in Pandas with Pivot, pivot-table, stack and unstack"
   ]
  },
  {
   "cell_type": "markdown",
   "metadata": {},
   "source": [
    "In Pandas data reshaping means the transformation of the structure of a table or vector (i.e. DataFrame or Series) to make it suitable for further analysis. Some of Pandas reshaping capabilities do not readily exist in other environments (e.g. SQL or bare bone R) and can be tricky for a beginner."
   ]
  },
  {
   "cell_type": "markdown",
   "metadata": {},
   "source": [
    "### Pivot\n",
    "The pivot function is used to create a new derived table out of a given one. Pivot takes 3 arguments with the following names: index, columns, and values. \n",
    "As a value for each of these parameters you need to specify a column name in the original table. Then the pivot function will create a new table, whose row and column indices are the unique values of the respective parameters. The cell values of the new table are taken from column given as the values parameter."
   ]
  },
  {
   "cell_type": "markdown",
   "metadata": {},
   "source": [
    "Let's take a look at an example. "
   ]
  },
  {
   "cell_type": "code",
   "execution_count": 2,
   "metadata": {},
   "outputs": [
    {
     "data": {
      "text/html": [
       "<div>\n",
       "<style scoped>\n",
       "    .dataframe tbody tr th:only-of-type {\n",
       "        vertical-align: middle;\n",
       "    }\n",
       "\n",
       "    .dataframe tbody tr th {\n",
       "        vertical-align: top;\n",
       "    }\n",
       "\n",
       "    .dataframe thead th {\n",
       "        text-align: right;\n",
       "    }\n",
       "</style>\n",
       "<table border=\"1\" class=\"dataframe\">\n",
       "  <thead>\n",
       "    <tr style=\"text-align: right;\">\n",
       "      <th></th>\n",
       "      <th>Item</th>\n",
       "      <th>CType</th>\n",
       "      <th>USD</th>\n",
       "      <th>EU</th>\n",
       "    </tr>\n",
       "  </thead>\n",
       "  <tbody>\n",
       "    <tr>\n",
       "      <th>0</th>\n",
       "      <td>Item0</td>\n",
       "      <td>Gold</td>\n",
       "      <td>1$</td>\n",
       "      <td>1€</td>\n",
       "    </tr>\n",
       "    <tr>\n",
       "      <th>1</th>\n",
       "      <td>Item0</td>\n",
       "      <td>Bronze</td>\n",
       "      <td>2$</td>\n",
       "      <td>2€</td>\n",
       "    </tr>\n",
       "    <tr>\n",
       "      <th>2</th>\n",
       "      <td>Item1</td>\n",
       "      <td>Gold</td>\n",
       "      <td>3$</td>\n",
       "      <td>3€</td>\n",
       "    </tr>\n",
       "    <tr>\n",
       "      <th>3</th>\n",
       "      <td>Item1</td>\n",
       "      <td>Silver</td>\n",
       "      <td>4$</td>\n",
       "      <td>4€</td>\n",
       "    </tr>\n",
       "  </tbody>\n",
       "</table>\n",
       "</div>"
      ],
      "text/plain": [
       "    Item   CType USD  EU\n",
       "0  Item0    Gold  1$  1€\n",
       "1  Item0  Bronze  2$  2€\n",
       "2  Item1    Gold  3$  3€\n",
       "3  Item1  Silver  4$  4€"
      ]
     },
     "execution_count": 2,
     "metadata": {},
     "output_type": "execute_result"
    }
   ],
   "source": [
    "from collections import OrderedDict\n",
    "from pandas import DataFrame\n",
    "import pandas as pd\n",
    "import numpy as np\n",
    "\n",
    "table = OrderedDict((\n",
    "    (\"Item\", ['Item0', 'Item0', 'Item1', 'Item1']),\n",
    "    ('CType',['Gold', 'Bronze', 'Gold', 'Silver']),\n",
    "    ('USD',  ['1$', '2$', '3$', '4$']),\n",
    "    ('EU',   ['1€', '2€', '3€', '4€'])\n",
    "))\n",
    "d = pd.DataFrame(table)\n",
    "d"
   ]
  },
  {
   "cell_type": "markdown",
   "metadata": {},
   "source": [
    "In such a table, it is not easy to see how the USD price varies over different customer types. We may like to reshape/pivot the table so that all USD prices for an item are on the row to compare more easily. With Pandas, we can do so with a single line:"
   ]
  },
  {
   "cell_type": "code",
   "execution_count": 3,
   "metadata": {
    "scrolled": true
   },
   "outputs": [
    {
     "data": {
      "text/html": [
       "<div>\n",
       "<style scoped>\n",
       "    .dataframe tbody tr th:only-of-type {\n",
       "        vertical-align: middle;\n",
       "    }\n",
       "\n",
       "    .dataframe tbody tr th {\n",
       "        vertical-align: top;\n",
       "    }\n",
       "\n",
       "    .dataframe thead th {\n",
       "        text-align: right;\n",
       "    }\n",
       "</style>\n",
       "<table border=\"1\" class=\"dataframe\">\n",
       "  <thead>\n",
       "    <tr style=\"text-align: right;\">\n",
       "      <th>CType</th>\n",
       "      <th>Bronze</th>\n",
       "      <th>Gold</th>\n",
       "      <th>Silver</th>\n",
       "    </tr>\n",
       "    <tr>\n",
       "      <th>Item</th>\n",
       "      <th></th>\n",
       "      <th></th>\n",
       "      <th></th>\n",
       "    </tr>\n",
       "  </thead>\n",
       "  <tbody>\n",
       "    <tr>\n",
       "      <th>Item0</th>\n",
       "      <td>2$</td>\n",
       "      <td>1$</td>\n",
       "      <td>NaN</td>\n",
       "    </tr>\n",
       "    <tr>\n",
       "      <th>Item1</th>\n",
       "      <td>NaN</td>\n",
       "      <td>3$</td>\n",
       "      <td>4$</td>\n",
       "    </tr>\n",
       "  </tbody>\n",
       "</table>\n",
       "</div>"
      ],
      "text/plain": [
       "CType Bronze Gold Silver\n",
       "Item                    \n",
       "Item0     2$   1$    NaN\n",
       "Item1    NaN   3$     4$"
      ]
     },
     "execution_count": 3,
     "metadata": {},
     "output_type": "execute_result"
    }
   ],
   "source": [
    "p = d.pivot(index='Item', columns='CType', values='USD')\n",
    "p"
   ]
  },
  {
   "cell_type": "markdown",
   "metadata": {},
   "source": [
    "This invocation creates a new table/DataFrame whose columns are the unique values in d.CType and whose rows are indexed with the unique values of d.Item."
   ]
  },
  {
   "cell_type": "markdown",
   "metadata": {},
   "source": [
    "As an example the following lines perform equivalent queries on the original and pivoted tables.\n",
    "Note that the query on the pivot table is substantially reduced in complexity. "
   ]
  },
  {
   "cell_type": "code",
   "execution_count": 4,
   "metadata": {},
   "outputs": [
    {
     "name": "stdout",
     "output_type": "stream",
     "text": [
      "['1$']\n",
      "['1$']\n"
     ]
    }
   ],
   "source": [
    "# Original DataFrame: Access the USD cost of Item0 for Gold customers\n",
    "print (d[(d.Item=='Item0') & (d.CType=='Gold')].USD.values)\n",
    "\n",
    "# Pivoted DataFrame: Access the USD cost of Item0 for Gold customers\n",
    "print (p[p.index=='Item0'].Gold.values)"
   ]
  },
  {
   "cell_type": "markdown",
   "metadata": {},
   "source": [
    "### Pivoting on multiple columns\n",
    "Now what if we want to extend the previous example to have the EU cost for each item on its row as well? This is actually easy - we just have to omit the values parameter as follows:"
   ]
  },
  {
   "cell_type": "code",
   "execution_count": 5,
   "metadata": {},
   "outputs": [
    {
     "data": {
      "text/html": [
       "<div>\n",
       "<style scoped>\n",
       "    .dataframe tbody tr th:only-of-type {\n",
       "        vertical-align: middle;\n",
       "    }\n",
       "\n",
       "    .dataframe tbody tr th {\n",
       "        vertical-align: top;\n",
       "    }\n",
       "\n",
       "    .dataframe thead tr th {\n",
       "        text-align: left;\n",
       "    }\n",
       "\n",
       "    .dataframe thead tr:last-of-type th {\n",
       "        text-align: right;\n",
       "    }\n",
       "</style>\n",
       "<table border=\"1\" class=\"dataframe\">\n",
       "  <thead>\n",
       "    <tr>\n",
       "      <th></th>\n",
       "      <th colspan=\"3\" halign=\"left\">USD</th>\n",
       "      <th colspan=\"3\" halign=\"left\">EU</th>\n",
       "    </tr>\n",
       "    <tr>\n",
       "      <th>CType</th>\n",
       "      <th>Bronze</th>\n",
       "      <th>Gold</th>\n",
       "      <th>Silver</th>\n",
       "      <th>Bronze</th>\n",
       "      <th>Gold</th>\n",
       "      <th>Silver</th>\n",
       "    </tr>\n",
       "    <tr>\n",
       "      <th>Item</th>\n",
       "      <th></th>\n",
       "      <th></th>\n",
       "      <th></th>\n",
       "      <th></th>\n",
       "      <th></th>\n",
       "      <th></th>\n",
       "    </tr>\n",
       "  </thead>\n",
       "  <tbody>\n",
       "    <tr>\n",
       "      <th>Item0</th>\n",
       "      <td>2$</td>\n",
       "      <td>1$</td>\n",
       "      <td>NaN</td>\n",
       "      <td>2€</td>\n",
       "      <td>1€</td>\n",
       "      <td>NaN</td>\n",
       "    </tr>\n",
       "    <tr>\n",
       "      <th>Item1</th>\n",
       "      <td>NaN</td>\n",
       "      <td>3$</td>\n",
       "      <td>4$</td>\n",
       "      <td>NaN</td>\n",
       "      <td>3€</td>\n",
       "      <td>4€</td>\n",
       "    </tr>\n",
       "  </tbody>\n",
       "</table>\n",
       "</div>"
      ],
      "text/plain": [
       "         USD                 EU            \n",
       "CType Bronze Gold Silver Bronze Gold Silver\n",
       "Item                                       \n",
       "Item0     2$   1$    NaN     2€   1€    NaN\n",
       "Item1    NaN   3$     4$    NaN   3€     4€"
      ]
     },
     "execution_count": 5,
     "metadata": {},
     "output_type": "execute_result"
    }
   ],
   "source": [
    "p = d.pivot(index='Item', columns='CType')\n",
    "p"
   ]
  },
  {
   "cell_type": "markdown",
   "metadata": {},
   "source": [
    "We can use this hierarchical column index to filter the values of a single column from the original table. For example p.USD returns a pivoted DataFrame with the USD values only and it is equivalent to the pivoted DataFrame from the previous section."
   ]
  },
  {
   "cell_type": "code",
   "execution_count": 6,
   "metadata": {},
   "outputs": [
    {
     "data": {
      "text/html": [
       "<div>\n",
       "<style scoped>\n",
       "    .dataframe tbody tr th:only-of-type {\n",
       "        vertical-align: middle;\n",
       "    }\n",
       "\n",
       "    .dataframe tbody tr th {\n",
       "        vertical-align: top;\n",
       "    }\n",
       "\n",
       "    .dataframe thead th {\n",
       "        text-align: right;\n",
       "    }\n",
       "</style>\n",
       "<table border=\"1\" class=\"dataframe\">\n",
       "  <thead>\n",
       "    <tr style=\"text-align: right;\">\n",
       "      <th>CType</th>\n",
       "      <th>Bronze</th>\n",
       "      <th>Gold</th>\n",
       "      <th>Silver</th>\n",
       "    </tr>\n",
       "    <tr>\n",
       "      <th>Item</th>\n",
       "      <th></th>\n",
       "      <th></th>\n",
       "      <th></th>\n",
       "    </tr>\n",
       "  </thead>\n",
       "  <tbody>\n",
       "    <tr>\n",
       "      <th>Item0</th>\n",
       "      <td>2$</td>\n",
       "      <td>1$</td>\n",
       "      <td>NaN</td>\n",
       "    </tr>\n",
       "    <tr>\n",
       "      <th>Item1</th>\n",
       "      <td>NaN</td>\n",
       "      <td>3$</td>\n",
       "      <td>4$</td>\n",
       "    </tr>\n",
       "  </tbody>\n",
       "</table>\n",
       "</div>"
      ],
      "text/plain": [
       "CType Bronze Gold Silver\n",
       "Item                    \n",
       "Item0     2$   1$    NaN\n",
       "Item1    NaN   3$     4$"
      ]
     },
     "execution_count": 6,
     "metadata": {},
     "output_type": "execute_result"
    }
   ],
   "source": [
    "p.USD"
   ]
  },
  {
   "cell_type": "code",
   "execution_count": 7,
   "metadata": {},
   "outputs": [
    {
     "data": {
      "text/html": [
       "<div>\n",
       "<style scoped>\n",
       "    .dataframe tbody tr th:only-of-type {\n",
       "        vertical-align: middle;\n",
       "    }\n",
       "\n",
       "    .dataframe tbody tr th {\n",
       "        vertical-align: top;\n",
       "    }\n",
       "\n",
       "    .dataframe thead th {\n",
       "        text-align: right;\n",
       "    }\n",
       "</style>\n",
       "<table border=\"1\" class=\"dataframe\">\n",
       "  <thead>\n",
       "    <tr style=\"text-align: right;\">\n",
       "      <th>CType</th>\n",
       "      <th>Bronze</th>\n",
       "      <th>Gold</th>\n",
       "      <th>Silver</th>\n",
       "    </tr>\n",
       "    <tr>\n",
       "      <th>Item</th>\n",
       "      <th></th>\n",
       "      <th></th>\n",
       "      <th></th>\n",
       "    </tr>\n",
       "  </thead>\n",
       "  <tbody>\n",
       "    <tr>\n",
       "      <th>Item0</th>\n",
       "      <td>2€</td>\n",
       "      <td>1€</td>\n",
       "      <td>NaN</td>\n",
       "    </tr>\n",
       "    <tr>\n",
       "      <th>Item1</th>\n",
       "      <td>NaN</td>\n",
       "      <td>3€</td>\n",
       "      <td>4€</td>\n",
       "    </tr>\n",
       "  </tbody>\n",
       "</table>\n",
       "</div>"
      ],
      "text/plain": [
       "CType Bronze Gold Silver\n",
       "Item                    \n",
       "Item0     2€   1€    NaN\n",
       "Item1    NaN   3€     4€"
      ]
     },
     "execution_count": 7,
     "metadata": {},
     "output_type": "execute_result"
    }
   ],
   "source": [
    "p.EU"
   ]
  },
  {
   "cell_type": "markdown",
   "metadata": {},
   "source": [
    "As a further example the following queries on the original and pivoted tables are equivalent:"
   ]
  },
  {
   "cell_type": "code",
   "execution_count": 10,
   "metadata": {},
   "outputs": [
    {
     "name": "stdout",
     "output_type": "stream",
     "text": [
      "['1$']\n",
      "['1$']\n"
     ]
    }
   ],
   "source": [
    "# Original DataFrame: Access the USD cost of Item0 for Gold customers\n",
    "print(d[(d.Item=='Item0') & (d.CType=='Gold')].USD.values)\n",
    "\n",
    "# Pivoted DataFrame: p.USD gives a \"sub-DataFrame\" with the USD values only\n",
    "print(p.USD[p.USD.index=='Item0'].Gold.values)\n"
   ]
  },
  {
   "cell_type": "markdown",
   "metadata": {},
   "source": [
    "### Common mistakes in pivoting. \n",
    "As we saw the pivot method takes at least 2 column names as parameters - the index and the columns named parameters. What will happen if we have multiple rows with the same values for these columns? How will the pivot method determine the value of the corresponding cell in the pivoted table? The following diagram depicts the problem:"
   ]
  },
  {
   "cell_type": "markdown",
   "metadata": {},
   "source": [
    "<img src = 'graphics/pivoting_simple_error.png'>"
   ]
  },
  {
   "cell_type": "markdown",
   "metadata": {},
   "source": [
    "In this example we have two rows with the same values (“Item0” and “Gold”) for the Item and CType columns. The pivot method can not know what should be the value of the corresponding value in the pivoted table. It will therefore throw a ValueError like so:"
   ]
  },
  {
   "cell_type": "code",
   "execution_count": 8,
   "metadata": {},
   "outputs": [
    {
     "ename": "ValueError",
     "evalue": "Index contains duplicate entries, cannot reshape",
     "output_type": "error",
     "traceback": [
      "\u001b[0;31m---------------------------------------------------------------------------\u001b[0m",
      "\u001b[0;31mValueError\u001b[0m                                Traceback (most recent call last)",
      "\u001b[0;32m<ipython-input-8-ece751f2464a>\u001b[0m in \u001b[0;36m<module>\u001b[0;34m\u001b[0m\n\u001b[1;32m      6\u001b[0m ))\n\u001b[1;32m      7\u001b[0m \u001b[0md\u001b[0m \u001b[0;34m=\u001b[0m \u001b[0mDataFrame\u001b[0m\u001b[0;34m(\u001b[0m\u001b[0mtable\u001b[0m\u001b[0;34m)\u001b[0m\u001b[0;34m\u001b[0m\u001b[0;34m\u001b[0m\u001b[0m\n\u001b[0;32m----> 8\u001b[0;31m \u001b[0mp\u001b[0m \u001b[0;34m=\u001b[0m \u001b[0md\u001b[0m\u001b[0;34m.\u001b[0m\u001b[0mpivot\u001b[0m\u001b[0;34m(\u001b[0m\u001b[0mindex\u001b[0m\u001b[0;34m=\u001b[0m\u001b[0;34m'Item'\u001b[0m\u001b[0;34m,\u001b[0m \u001b[0mcolumns\u001b[0m\u001b[0;34m=\u001b[0m\u001b[0;34m'CType'\u001b[0m\u001b[0;34m,\u001b[0m \u001b[0mvalues\u001b[0m\u001b[0;34m=\u001b[0m\u001b[0;34m'USD'\u001b[0m\u001b[0;34m)\u001b[0m\u001b[0;34m\u001b[0m\u001b[0;34m\u001b[0m\u001b[0m\n\u001b[0m",
      "\u001b[0;32m~/.local/lib/python3.6/site-packages/pandas/core/frame.py\u001b[0m in \u001b[0;36mpivot\u001b[0;34m(self, index, columns, values)\u001b[0m\n\u001b[1;32m   5626\u001b[0m     \u001b[0;32mdef\u001b[0m \u001b[0mpivot\u001b[0m\u001b[0;34m(\u001b[0m\u001b[0mself\u001b[0m\u001b[0;34m,\u001b[0m \u001b[0mindex\u001b[0m\u001b[0;34m=\u001b[0m\u001b[0;32mNone\u001b[0m\u001b[0;34m,\u001b[0m \u001b[0mcolumns\u001b[0m\u001b[0;34m=\u001b[0m\u001b[0;32mNone\u001b[0m\u001b[0;34m,\u001b[0m \u001b[0mvalues\u001b[0m\u001b[0;34m=\u001b[0m\u001b[0;32mNone\u001b[0m\u001b[0;34m)\u001b[0m\u001b[0;34m:\u001b[0m\u001b[0;34m\u001b[0m\u001b[0;34m\u001b[0m\u001b[0m\n\u001b[1;32m   5627\u001b[0m         \u001b[0;32mfrom\u001b[0m \u001b[0mpandas\u001b[0m\u001b[0;34m.\u001b[0m\u001b[0mcore\u001b[0m\u001b[0;34m.\u001b[0m\u001b[0mreshape\u001b[0m\u001b[0;34m.\u001b[0m\u001b[0mpivot\u001b[0m \u001b[0;32mimport\u001b[0m \u001b[0mpivot\u001b[0m\u001b[0;34m\u001b[0m\u001b[0;34m\u001b[0m\u001b[0m\n\u001b[0;32m-> 5628\u001b[0;31m         \u001b[0;32mreturn\u001b[0m \u001b[0mpivot\u001b[0m\u001b[0;34m(\u001b[0m\u001b[0mself\u001b[0m\u001b[0;34m,\u001b[0m \u001b[0mindex\u001b[0m\u001b[0;34m=\u001b[0m\u001b[0mindex\u001b[0m\u001b[0;34m,\u001b[0m \u001b[0mcolumns\u001b[0m\u001b[0;34m=\u001b[0m\u001b[0mcolumns\u001b[0m\u001b[0;34m,\u001b[0m \u001b[0mvalues\u001b[0m\u001b[0;34m=\u001b[0m\u001b[0mvalues\u001b[0m\u001b[0;34m)\u001b[0m\u001b[0;34m\u001b[0m\u001b[0;34m\u001b[0m\u001b[0m\n\u001b[0m\u001b[1;32m   5629\u001b[0m \u001b[0;34m\u001b[0m\u001b[0m\n\u001b[1;32m   5630\u001b[0m     _shared_docs['pivot_table'] = \"\"\"\n",
      "\u001b[0;32m~/.local/lib/python3.6/site-packages/pandas/core/reshape/pivot.py\u001b[0m in \u001b[0;36mpivot\u001b[0;34m(data, index, columns, values)\u001b[0m\n\u001b[1;32m    386\u001b[0m             indexed = data._constructor_sliced(data[values].values,\n\u001b[1;32m    387\u001b[0m                                                index=index)\n\u001b[0;32m--> 388\u001b[0;31m     \u001b[0;32mreturn\u001b[0m \u001b[0mindexed\u001b[0m\u001b[0;34m.\u001b[0m\u001b[0munstack\u001b[0m\u001b[0;34m(\u001b[0m\u001b[0mcolumns\u001b[0m\u001b[0;34m)\u001b[0m\u001b[0;34m\u001b[0m\u001b[0;34m\u001b[0m\u001b[0m\n\u001b[0m\u001b[1;32m    389\u001b[0m \u001b[0;34m\u001b[0m\u001b[0m\n\u001b[1;32m    390\u001b[0m \u001b[0;34m\u001b[0m\u001b[0m\n",
      "\u001b[0;32m~/.local/lib/python3.6/site-packages/pandas/core/series.py\u001b[0m in \u001b[0;36munstack\u001b[0;34m(self, level, fill_value)\u001b[0m\n\u001b[1;32m   3299\u001b[0m         \"\"\"\n\u001b[1;32m   3300\u001b[0m         \u001b[0;32mfrom\u001b[0m \u001b[0mpandas\u001b[0m\u001b[0;34m.\u001b[0m\u001b[0mcore\u001b[0m\u001b[0;34m.\u001b[0m\u001b[0mreshape\u001b[0m\u001b[0;34m.\u001b[0m\u001b[0mreshape\u001b[0m \u001b[0;32mimport\u001b[0m \u001b[0munstack\u001b[0m\u001b[0;34m\u001b[0m\u001b[0;34m\u001b[0m\u001b[0m\n\u001b[0;32m-> 3301\u001b[0;31m         \u001b[0;32mreturn\u001b[0m \u001b[0munstack\u001b[0m\u001b[0;34m(\u001b[0m\u001b[0mself\u001b[0m\u001b[0;34m,\u001b[0m \u001b[0mlevel\u001b[0m\u001b[0;34m,\u001b[0m \u001b[0mfill_value\u001b[0m\u001b[0;34m)\u001b[0m\u001b[0;34m\u001b[0m\u001b[0;34m\u001b[0m\u001b[0m\n\u001b[0m\u001b[1;32m   3302\u001b[0m \u001b[0;34m\u001b[0m\u001b[0m\n\u001b[1;32m   3303\u001b[0m     \u001b[0;31m# ----------------------------------------------------------------------\u001b[0m\u001b[0;34m\u001b[0m\u001b[0;34m\u001b[0m\u001b[0;34m\u001b[0m\u001b[0m\n",
      "\u001b[0;32m~/.local/lib/python3.6/site-packages/pandas/core/reshape/reshape.py\u001b[0m in \u001b[0;36munstack\u001b[0;34m(obj, level, fill_value)\u001b[0m\n\u001b[1;32m    394\u001b[0m         unstacker = _Unstacker(obj.values, obj.index, level=level,\n\u001b[1;32m    395\u001b[0m                                \u001b[0mfill_value\u001b[0m\u001b[0;34m=\u001b[0m\u001b[0mfill_value\u001b[0m\u001b[0;34m,\u001b[0m\u001b[0;34m\u001b[0m\u001b[0;34m\u001b[0m\u001b[0m\n\u001b[0;32m--> 396\u001b[0;31m                                constructor=obj._constructor_expanddim)\n\u001b[0m\u001b[1;32m    397\u001b[0m         \u001b[0;32mreturn\u001b[0m \u001b[0munstacker\u001b[0m\u001b[0;34m.\u001b[0m\u001b[0mget_result\u001b[0m\u001b[0;34m(\u001b[0m\u001b[0;34m)\u001b[0m\u001b[0;34m\u001b[0m\u001b[0;34m\u001b[0m\u001b[0m\n\u001b[1;32m    398\u001b[0m \u001b[0;34m\u001b[0m\u001b[0m\n",
      "\u001b[0;32m~/.local/lib/python3.6/site-packages/pandas/core/reshape/reshape.py\u001b[0m in \u001b[0;36m__init__\u001b[0;34m(self, values, index, level, value_columns, fill_value, constructor)\u001b[0m\n\u001b[1;32m    126\u001b[0m \u001b[0;34m\u001b[0m\u001b[0m\n\u001b[1;32m    127\u001b[0m         \u001b[0mself\u001b[0m\u001b[0;34m.\u001b[0m\u001b[0m_make_sorted_values_labels\u001b[0m\u001b[0;34m(\u001b[0m\u001b[0;34m)\u001b[0m\u001b[0;34m\u001b[0m\u001b[0;34m\u001b[0m\u001b[0m\n\u001b[0;32m--> 128\u001b[0;31m         \u001b[0mself\u001b[0m\u001b[0;34m.\u001b[0m\u001b[0m_make_selectors\u001b[0m\u001b[0;34m(\u001b[0m\u001b[0;34m)\u001b[0m\u001b[0;34m\u001b[0m\u001b[0;34m\u001b[0m\u001b[0m\n\u001b[0m\u001b[1;32m    129\u001b[0m \u001b[0;34m\u001b[0m\u001b[0m\n\u001b[1;32m    130\u001b[0m     \u001b[0;32mdef\u001b[0m \u001b[0m_make_sorted_values_labels\u001b[0m\u001b[0;34m(\u001b[0m\u001b[0mself\u001b[0m\u001b[0;34m)\u001b[0m\u001b[0;34m:\u001b[0m\u001b[0;34m\u001b[0m\u001b[0;34m\u001b[0m\u001b[0m\n",
      "\u001b[0;32m~/.local/lib/python3.6/site-packages/pandas/core/reshape/reshape.py\u001b[0m in \u001b[0;36m_make_selectors\u001b[0;34m(self)\u001b[0m\n\u001b[1;32m    164\u001b[0m \u001b[0;34m\u001b[0m\u001b[0m\n\u001b[1;32m    165\u001b[0m         \u001b[0;32mif\u001b[0m \u001b[0mmask\u001b[0m\u001b[0;34m.\u001b[0m\u001b[0msum\u001b[0m\u001b[0;34m(\u001b[0m\u001b[0;34m)\u001b[0m \u001b[0;34m<\u001b[0m \u001b[0mlen\u001b[0m\u001b[0;34m(\u001b[0m\u001b[0mself\u001b[0m\u001b[0;34m.\u001b[0m\u001b[0mindex\u001b[0m\u001b[0;34m)\u001b[0m\u001b[0;34m:\u001b[0m\u001b[0;34m\u001b[0m\u001b[0;34m\u001b[0m\u001b[0m\n\u001b[0;32m--> 166\u001b[0;31m             raise ValueError('Index contains duplicate entries, '\n\u001b[0m\u001b[1;32m    167\u001b[0m                              'cannot reshape')\n\u001b[1;32m    168\u001b[0m \u001b[0;34m\u001b[0m\u001b[0m\n",
      "\u001b[0;31mValueError\u001b[0m: Index contains duplicate entries, cannot reshape"
     ]
    }
   ],
   "source": [
    "table = OrderedDict((\n",
    "    (\"Item\", ['Item0', 'Item0', 'Item0', 'Item1']),\n",
    "    ('CType',['Gold', 'Bronze', 'Gold', 'Silver']),\n",
    "    ('USD',  ['1',  '2',  '3',  '4']),\n",
    "    ('EU',   ['1€', '2€', '3€', '4€'])\n",
    "))\n",
    "d = DataFrame(table)\n",
    "p = d.pivot(index='Item', columns='CType', values='USD')"
   ]
  },
  {
   "cell_type": "markdown",
   "metadata": {},
   "source": [
    "Hence, before calling pivot we need to ensure that our data does not have rows with duplicate values for the specified columns. If we can’t ensure this we may have to use the pivot_table method instead."
   ]
  },
  {
   "cell_type": "markdown",
   "metadata": {},
   "source": [
    "### Pivot Table\n",
    "The pivot_table method comes to solve this problem. It works like pivot, but it aggregates the values from rows with duplicate entries for the specified columns. In other words, in the previous example we could have used the mean, the median or another aggregation function to compute a single value from the conflicting entries. This is depicted in the example below."
   ]
  },
  {
   "cell_type": "code",
   "execution_count": null,
   "metadata": {},
   "outputs": [],
   "source": [
    "table = OrderedDict((\n",
    "    (\"Item\", ['Item0', 'Item0', 'Item0', 'Item1']),\n",
    "    ('CType',['Gold', 'Bronze', 'Gold', 'Silver']),\n",
    "    ('USD',  [1, 2, 3, 4]),\n",
    "    ('EU',   [1.1, 2.2, 3.3, 4.4])\n",
    "))\n",
    "d = DataFrame(table)\n",
    "p = d.pivot_table(index='Item', columns='CType', values='USD', aggfunc=np.min)\n",
    "p"
   ]
  },
  {
   "cell_type": "markdown",
   "metadata": {},
   "source": [
    "### Stacking and Unstacking\n",
    "In fact pivoting a table is a special case of stacking a DataFrame. \n",
    "Let us assume we have a DataFrame with MultiIndices on the rows and columns. \n",
    "Stacking a DataFrame means moving (also rotating or pivoting) the innermost column index to become the innermost row index. \n",
    "The inverse operation is called unstacking. It means moving the innermost row index to become the innermost column index. \n"
   ]
  },
  {
   "cell_type": "markdown",
   "metadata": {},
   "source": [
    "In the following example, we look at a DataFrame with 2-level hierarchical indices on both axes. Stacking takes the most-inner column index (i.e. c00, c01, c10), makes it the most inner row index and reshuffles the cell values accordingly. Inversely, unstacking moves the inner row indices (i.e. r00, r01) to the columns.\n",
    "\n",
    "Typically, stacking makes the DataFrame taller, as it is “stacking” data in fewer columns and more rows. Similarly, unstacking usually makes it shorter and wider or broader. "
   ]
  },
  {
   "cell_type": "markdown",
   "metadata": {},
   "source": [
    "<img src = \"graphics/stack.png\"/>"
   ]
  },
  {
   "cell_type": "code",
   "execution_count": 9,
   "metadata": {},
   "outputs": [
    {
     "data": {
      "text/plain": [
       "[(1, 'red'), (2, 'green'), (3, 'blue')]"
      ]
     },
     "execution_count": 9,
     "metadata": {},
     "output_type": "execute_result"
    }
   ],
   "source": [
    "list1 = [1,2,3]\n",
    "list2 = ['red','green','blue']\n",
    "list3 = list(zip(list1,list2))\n",
    "list3"
   ]
  },
  {
   "cell_type": "markdown",
   "metadata": {},
   "source": [
    "The following reproduces the example:"
   ]
  },
  {
   "cell_type": "code",
   "execution_count": 3,
   "metadata": {},
   "outputs": [
    {
     "data": {
      "text/html": [
       "<div>\n",
       "<style scoped>\n",
       "    .dataframe tbody tr th:only-of-type {\n",
       "        vertical-align: middle;\n",
       "    }\n",
       "\n",
       "    .dataframe tbody tr th {\n",
       "        vertical-align: top;\n",
       "    }\n",
       "\n",
       "    .dataframe thead tr th {\n",
       "        text-align: left;\n",
       "    }\n",
       "</style>\n",
       "<table border=\"1\" class=\"dataframe\">\n",
       "  <thead>\n",
       "    <tr>\n",
       "      <th></th>\n",
       "      <th></th>\n",
       "      <th colspan=\"2\" halign=\"left\">c0</th>\n",
       "      <th>c1</th>\n",
       "    </tr>\n",
       "    <tr>\n",
       "      <th></th>\n",
       "      <th></th>\n",
       "      <th>c-00</th>\n",
       "      <th>c-01</th>\n",
       "      <th>c-10</th>\n",
       "    </tr>\n",
       "  </thead>\n",
       "  <tbody>\n",
       "    <tr>\n",
       "      <th rowspan=\"2\" valign=\"top\">r0</th>\n",
       "      <th>r-00</th>\n",
       "      <td>(0, 0)</td>\n",
       "      <td>(0, 1)</td>\n",
       "      <td>(0, 2)</td>\n",
       "    </tr>\n",
       "    <tr>\n",
       "      <th>r-01</th>\n",
       "      <td>(1, 0)</td>\n",
       "      <td>(1, 1)</td>\n",
       "      <td>(1, 2)</td>\n",
       "    </tr>\n",
       "  </tbody>\n",
       "</table>\n",
       "</div>"
      ],
      "text/plain": [
       "             c0              c1\n",
       "           c-00    c-01    c-10\n",
       "r0 r-00  (0, 0)  (0, 1)  (0, 2)\n",
       "   r-01  (1, 0)  (1, 1)  (1, 2)"
      ]
     },
     "execution_count": 3,
     "metadata": {},
     "output_type": "execute_result"
    }
   ],
   "source": [
    "import pandas as pd\n",
    "import numpy as np\n",
    "# Row Multi-Index\n",
    "row_idx_arr = list(zip(['r0', 'r0'], ['r-00', 'r-01']))\n",
    "row_idx = pd.MultiIndex.from_tuples(row_idx_arr)\n",
    "\n",
    "# Column Multi-Index\n",
    "col_idx_arr = list(zip(['c0', 'c0', 'c1'], ['c-00', 'c-01', 'c-10']))\n",
    "col_idx = pd.MultiIndex.from_tuples(col_idx_arr)\n",
    "\n",
    "# Create the DataFrame\n",
    "d = pd.DataFrame(np.arange(6).reshape(2,3), index=row_idx, columns=col_idx)\n",
    "d = d.applymap(lambda x: (x // 3, x % 3))\n",
    "\n",
    "# Stack/Unstack\n",
    "s = d.stack()\n",
    "u = d.unstack()\n",
    "d"
   ]
  },
  {
   "cell_type": "code",
   "execution_count": 16,
   "metadata": {},
   "outputs": [
    {
     "data": {
      "text/html": [
       "<div>\n",
       "<style scoped>\n",
       "    .dataframe tbody tr th:only-of-type {\n",
       "        vertical-align: middle;\n",
       "    }\n",
       "\n",
       "    .dataframe tbody tr th {\n",
       "        vertical-align: top;\n",
       "    }\n",
       "\n",
       "    .dataframe thead th {\n",
       "        text-align: right;\n",
       "    }\n",
       "</style>\n",
       "<table border=\"1\" class=\"dataframe\">\n",
       "  <thead>\n",
       "    <tr style=\"text-align: right;\">\n",
       "      <th></th>\n",
       "      <th></th>\n",
       "      <th></th>\n",
       "      <th>c0</th>\n",
       "      <th>c1</th>\n",
       "    </tr>\n",
       "  </thead>\n",
       "  <tbody>\n",
       "    <tr>\n",
       "      <th rowspan=\"6\" valign=\"top\">r0</th>\n",
       "      <th rowspan=\"3\" valign=\"top\">r-00</th>\n",
       "      <th>c-00</th>\n",
       "      <td>(0, 0)</td>\n",
       "      <td>NaN</td>\n",
       "    </tr>\n",
       "    <tr>\n",
       "      <th>c-01</th>\n",
       "      <td>(0, 1)</td>\n",
       "      <td>NaN</td>\n",
       "    </tr>\n",
       "    <tr>\n",
       "      <th>c-10</th>\n",
       "      <td>NaN</td>\n",
       "      <td>(0, 2)</td>\n",
       "    </tr>\n",
       "    <tr>\n",
       "      <th rowspan=\"3\" valign=\"top\">r-01</th>\n",
       "      <th>c-00</th>\n",
       "      <td>(1, 0)</td>\n",
       "      <td>NaN</td>\n",
       "    </tr>\n",
       "    <tr>\n",
       "      <th>c-01</th>\n",
       "      <td>(1, 1)</td>\n",
       "      <td>NaN</td>\n",
       "    </tr>\n",
       "    <tr>\n",
       "      <th>c-10</th>\n",
       "      <td>NaN</td>\n",
       "      <td>(1, 2)</td>\n",
       "    </tr>\n",
       "  </tbody>\n",
       "</table>\n",
       "</div>"
      ],
      "text/plain": [
       "                  c0      c1\n",
       "r0 r-00 c-00  (0, 0)     NaN\n",
       "        c-01  (0, 1)     NaN\n",
       "        c-10     NaN  (0, 2)\n",
       "   r-01 c-00  (1, 0)     NaN\n",
       "        c-01  (1, 1)     NaN\n",
       "        c-10     NaN  (1, 2)"
      ]
     },
     "execution_count": 16,
     "metadata": {},
     "output_type": "execute_result"
    }
   ],
   "source": [
    "s"
   ]
  },
  {
   "cell_type": "code",
   "execution_count": 17,
   "metadata": {},
   "outputs": [
    {
     "data": {
      "text/html": [
       "<div>\n",
       "<style scoped>\n",
       "    .dataframe tbody tr th:only-of-type {\n",
       "        vertical-align: middle;\n",
       "    }\n",
       "\n",
       "    .dataframe tbody tr th {\n",
       "        vertical-align: top;\n",
       "    }\n",
       "\n",
       "    .dataframe thead tr th {\n",
       "        text-align: left;\n",
       "    }\n",
       "</style>\n",
       "<table border=\"1\" class=\"dataframe\">\n",
       "  <thead>\n",
       "    <tr>\n",
       "      <th></th>\n",
       "      <th colspan=\"4\" halign=\"left\">c0</th>\n",
       "      <th colspan=\"2\" halign=\"left\">c1</th>\n",
       "    </tr>\n",
       "    <tr>\n",
       "      <th></th>\n",
       "      <th colspan=\"2\" halign=\"left\">c-00</th>\n",
       "      <th colspan=\"2\" halign=\"left\">c-01</th>\n",
       "      <th colspan=\"2\" halign=\"left\">c-10</th>\n",
       "    </tr>\n",
       "    <tr>\n",
       "      <th></th>\n",
       "      <th>r-00</th>\n",
       "      <th>r-01</th>\n",
       "      <th>r-00</th>\n",
       "      <th>r-01</th>\n",
       "      <th>r-00</th>\n",
       "      <th>r-01</th>\n",
       "    </tr>\n",
       "  </thead>\n",
       "  <tbody>\n",
       "    <tr>\n",
       "      <th>r0</th>\n",
       "      <td>(0, 0)</td>\n",
       "      <td>(1, 0)</td>\n",
       "      <td>(0, 1)</td>\n",
       "      <td>(1, 1)</td>\n",
       "      <td>(0, 2)</td>\n",
       "      <td>(1, 2)</td>\n",
       "    </tr>\n",
       "  </tbody>\n",
       "</table>\n",
       "</div>"
      ],
      "text/plain": [
       "        c0                              c1        \n",
       "      c-00            c-01            c-10        \n",
       "      r-00    r-01    r-00    r-01    r-00    r-01\n",
       "r0  (0, 0)  (1, 0)  (0, 1)  (1, 1)  (0, 2)  (1, 2)"
      ]
     },
     "execution_count": 17,
     "metadata": {},
     "output_type": "execute_result"
    }
   ],
   "source": [
    "u"
   ]
  }
 ],
 "metadata": {
  "kernelspec": {
   "display_name": "Python 3",
   "language": "python",
   "name": "python3"
  },
  "language_info": {
   "codemirror_mode": {
    "name": "ipython",
    "version": 3
   },
   "file_extension": ".py",
   "mimetype": "text/x-python",
   "name": "python",
   "nbconvert_exporter": "python",
   "pygments_lexer": "ipython3",
   "version": "3.7.3"
  },
  "toc": {
   "base_numbering": 1,
   "nav_menu": {},
   "number_sections": true,
   "sideBar": true,
   "skip_h1_title": false,
   "title_cell": "Table of Contents",
   "title_sidebar": "Contents",
   "toc_cell": false,
   "toc_position": {},
   "toc_section_display": true,
   "toc_window_display": false
  }
 },
 "nbformat": 4,
 "nbformat_minor": 2
}
