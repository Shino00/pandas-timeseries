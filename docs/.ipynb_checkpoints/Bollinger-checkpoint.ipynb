{
 "cells": [
  {
   "cell_type": "markdown",
   "metadata": {},
   "source": [
    "\n",
    "# Part 1\n",
    "Calculate the Bollinger Band for\n",
    "\n",
    "    the month moving average of its Adjusted Closing price for AAPL\n",
    "\n",
    "##  Import the libraries¶\n"
   ]
  },
  {
   "cell_type": "code",
   "execution_count": null,
   "metadata": {},
   "outputs": [],
   "source": [
    "import pandas as pd\n",
    "import numpy as np\n",
    "import matplotlib.pyplot as plt"
   ]
  },
  {
   "cell_type": "markdown",
   "metadata": {},
   "source": [
    "\n",
    "##  Load the data into a DataFrame\n",
    "\n",
    "Here I am using pandas.read_csv(...) to read in a csv file into a pandas DataFrame\n",
    "\n",
    "filepath_or_buffer\n",
    "\n",
    "    the file being read in\n",
    "\n",
    "index_col\n",
    "\n",
    "    the column of the csv file we want to use as the index of our DataFrame\n",
    "\n",
    "parse_dates\n",
    "\n",
    "    instruct the read_csv function to convert anything that looks like a date into a python date\n",
    "\n"
   ]
  },
  {
   "cell_type": "code",
   "execution_count": null,
   "metadata": {},
   "outputs": [],
   "source": [
    "date\n",
    "df = pd.read_csv(filepath_or_buffer='../data/AAPL.csv', \n",
    "                 index_col='Date', \n",
    "                 parse_dates=True)\n",
    "\n"
   ]
  },
  {
   "cell_type": "markdown",
   "metadata": {},
   "source": [
    "\n",
    "## Check what has been imported into the DataFrame\n",
    "\n",
    "    Have a quick look at what we have read in\n",
    "    No right or wrong way to do this\n",
    "    Depends on your style, personal preferences, type of data being read in etc\n",
    "    A few examples\n",
    "\n",
    "        df.tail() df.head() df.describe()\n",
    "\n",
    "IMPORTANT\n",
    "\n",
    "    When working with DataFrames that have Dates as an index, make sure the date values are sorted in an ascending manner\n",
    "\n"
   ]
  },
  {
   "cell_type": "code",
   "execution_count": null,
   "metadata": {},
   "outputs": [],
   "source": [
    "df.head()"
   ]
  },
  {
   "cell_type": "markdown",
   "metadata": {},
   "source": [
    "\n",
    "## Calculate the Bollinger Bands for the Adj. Close\n",
    "\n",
    "    - Middle Band = Monthly moving average\n",
    "    - Upper Band = Monthly moving average + (Monthly standard deviation of price x 2)\n",
    "    - Lower Band = Monthly moving average - (Monthly standard deviation of price x 2)\n",
    "\n"
   ]
  },
  {
   "cell_type": "code",
   "execution_count": null,
   "metadata": {},
   "outputs": [],
   "source": [
    "# 21 days is a good approximation of a single month\n",
    "df['30d mavg'] = df['Adj. Close'].rolling(window=21).mean()\n",
    "df['30d std'] = df['Adj. Close'].rolling(window=21).std()\n",
    "df['Upper Band'] = df['30d mavg'] + (df['30d std'] * 2)\n",
    "df['Lower Band'] = df['30d mavg'] - (df['30d std'] * 2)"
   ]
  },
  {
   "cell_type": "markdown",
   "metadata": {},
   "source": [
    "\n",
    "## Plot the results\n",
    "\n",
    "Use the matplot lib defaults\n",
    "\n",
    "A plot of the entire series of value"
   ]
  },
  {
   "cell_type": "code",
   "execution_count": null,
   "metadata": {},
   "outputs": [],
   "source": [
    "# create a list of the column names we are interested in plotting\n",
    "cols = ['30d mavg','Upper Band','Lower Band', 'Adj. Close']\n",
    "df[cols].plot()"
   ]
  },
  {
   "cell_type": "markdown",
   "metadata": {},
   "source": [
    "\n",
    "## Plot the results\n",
    "\n",
    "    of all data from the start of 2016 to the end of the series\n",
    "\n",
    "Here use Slice from '2016 to the end\n"
   ]
  },
  {
   "cell_type": "code",
   "execution_count": null,
   "metadata": {},
   "outputs": [],
   "source": [
    "df['2016':][cols].plot()"
   ]
  },
  {
   "cell_type": "markdown",
   "metadata": {},
   "source": [
    "\n",
    "# Part 2\n",
    "Improve the presentation of the chart\n",
    "\n",
    "Here I am\n",
    "\n",
    "    'shading' in the regions between the upper and lower bands\n",
    "    adding a title, a legend and some labels\n",
    "\n",
    "The important parts of the python code are\n",
    "\n",
    "    style - fivethirtyeight\n",
    "    figsize - dimensions of plot in inches. This is an approximation for computer screens but is \n",
    "    more accurate for printing plots\n",
    "    fill_between - shades in areas betrween 2 lines\n",
    "\n"
   ]
  },
  {
   "cell_type": "code",
   "execution_count": null,
   "metadata": {},
   "outputs": [],
   "source": [
    "# set style, empty figure and axes\n",
    "plt.style.use('fivethirtyeight')\n",
    "fig = plt.figure(figsize=(12,6))\n",
    "ax = fig.add_subplot(111)\n",
    "\n",
    "# Get index values for the X axis for the DataFrame\n",
    "x_axis = df['2016':].index.get_level_values(0)\n",
    "\n",
    "# Plot shaded 21 Day Bollinger Band for Facebook\n",
    "ax.fill_between(x_axis, df['2016':]['Upper Band'], df['2016':]['Lower Band'], color='grey')\n",
    "\n",
    "ax.plot(x_axis, df['2016':]['Adj. Close'], color='blue', lw=2)\n",
    "ax.plot(x_axis, df['2016':]['30d mavg'], color='black', lw=2)\n",
    "\n",
    "# Set Title & Show the Image\n",
    "ax.set_title('30 Day Bollinger Band For Apple')\n",
    "ax.set_xlabel('Date (Year/Month)')\n",
    "ax.set_ylabel('Price(USD)')\n",
    "ax.legend()\n",
    "plt.show();\n",
    "\n"
   ]
  },
  {
   "cell_type": "markdown",
   "metadata": {},
   "source": [
    "\n",
    "# Part 3\n",
    "## Make your code more resuable by converting it to a function\n",
    "\n",
    "Here I am\n",
    "\n",
    "    'shading' in the regions between the upper and lower bands\n",
    "    adding a title, a legend and some labels\n",
    "\n",
    "The important parts of the python code are\n",
    "\n",
    "    style - fivethirtyeight\n",
    "    figsize - dimensions of plot in inches. This is an approximation for computer screens but is more accurate for printing plots\n",
    "    fill_between - shades in areas betrween 2 lines\n",
    "\n"
   ]
  },
  {
   "cell_type": "code",
   "execution_count": null,
   "metadata": {},
   "outputs": [],
   "source": [
    "def plotBollBand(file, securityName, attribute = 'Adj. Close', window = 21, start=None, end=None):\n",
    "    \n",
    "    \n",
    "    df = pd.read_csv(filepath_or_buffer=file, \n",
    "                 index_col='Date', \n",
    "                 parse_dates=True)\n",
    "\n",
    "    mavgCol = str(window) + \"d mavg\"\n",
    "    stdCol = str(window) + \"d std\"\n",
    "    \n",
    "    df[mavgCol] = df[attribute].rolling(window=window).mean()\n",
    "    df[stdCol] = df[attribute].rolling(window=window).std()\n",
    "    df['Upper Band'] = df[mavgCol] + (df[stdCol] * 2)\n",
    "    df['Lower Band'] = df[mavgCol] - (df[stdCol] * 2)\n",
    "       \n",
    "    # set style, empty figure and axes\n",
    "    plt.style.use('fivethirtyeight')\n",
    "    fig = plt.figure(figsize=(12,6))\n",
    "    ax = fig.add_subplot(111)\n",
    "\n",
    "    # Get index values for the X axis for the DataFrame\n",
    "    x_axis = df[start:end].index.get_level_values(0)\n",
    "\n",
    "    # Plot shaded 21 Day Bollinger Band for Facebook\n",
    "    ax.fill_between(x_axis, df[start:end]['Upper Band'], df[start:end]['Lower Band'], color='grey')\n",
    "\n",
    "    ax.plot(x_axis, df[start:end][attribute], color='blue', lw=2)\n",
    "    ax.plot(x_axis, df[start:end][mavgCol], color='black', lw=2)\n",
    "\n",
    "    # Set Title & Show the Image\n",
    "    title = str(window) + ' Day Bollinger Band For ' + securityName\n",
    "    ax.set_title(title)\n",
    "    ax.set_xlabel('Date (Year/Month)')\n",
    "    ax.set_ylabel('Price(USD)')\n",
    "    ax.legend()\n",
    "    plt.show();"
   ]
  },
  {
   "cell_type": "markdown",
   "metadata": {},
   "source": [
    "\n",
    "## Test with Google\n",
    "\n",
    "For example use the data for google but leave all other inputs as default\n"
   ]
  },
  {
   "cell_type": "code",
   "execution_count": null,
   "metadata": {},
   "outputs": [],
   "source": [
    "plotBollBand(file='../data/GOOGL.csv', securityName='Google')"
   ]
  },
  {
   "cell_type": "markdown",
   "metadata": {},
   "source": [
    "\n",
    "## Test with IBM\n",
    "\n",
    "For example use the data for IBM but only for the period 2014 to 2016\n"
   ]
  },
  {
   "cell_type": "code",
   "execution_count": null,
   "metadata": {},
   "outputs": [],
   "source": [
    "plotBollBand(file='../data/IBM.csv', \n",
    "             securityName='IBM', \n",
    "             start='2014', \n",
    "             end = '2016')"
   ]
  },
  {
   "cell_type": "markdown",
   "metadata": {},
   "source": [
    "\n",
    "## Test with Facebook\n",
    "\n",
    "For example use the data for Facebook but with the following parameters\n",
    "\n",
    "    start 2014\n",
    "    end - default\n",
    "    a 42 day rolling average\n",
    "    use the Adjusted Volume colum\n",
    "\n"
   ]
  },
  {
   "cell_type": "code",
   "execution_count": null,
   "metadata": {},
   "outputs": [],
   "source": [
    "plotBollBand(file='../data/FB.csv', \n",
    "             securityName='JP Morgan', \n",
    "             start='2014', \n",
    "             window=42,\n",
    "             attribute = 'Adj. Volume'"
   ]
  }
 ],
 "metadata": {
  "kernelspec": {
   "display_name": "Python 3",
   "language": "python",
   "name": "python3"
  },
  "language_info": {
   "codemirror_mode": {
    "name": "ipython",
    "version": 3
   },
   "file_extension": ".py",
   "mimetype": "text/x-python",
   "name": "python",
   "nbconvert_exporter": "python",
   "pygments_lexer": "ipython3",
   "version": "3.6.7"
  },
  "toc": {
   "base_numbering": 1,
   "nav_menu": {},
   "number_sections": true,
   "sideBar": true,
   "skip_h1_title": false,
   "title_cell": "Table of Contents",
   "title_sidebar": "Contents",
   "toc_cell": false,
   "toc_position": {},
   "toc_section_display": true,
   "toc_window_display": false
  }
 },
 "nbformat": 4,
 "nbformat_minor": 2
}
